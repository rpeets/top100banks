{
 "cells": [
  {
   "cell_type": "markdown",
   "metadata": {},
   "source": [
    "## Create a single list(or dictionary) from multiple JSON File."
   ]
  },
  {
   "cell_type": "code",
   "execution_count": 1,
   "metadata": {},
   "outputs": [],
   "source": [
    "import json\n",
    "\n",
    "fulllist = []\n",
    "years = range(2008, 2020)\n",
    "for year in years:\n",
    "    file_name = f\"top100banks{year}.json\"\n",
    "    with open(file_name, 'r') as jf:\n",
    "        banks = json.load(jf)\n",
    "        for bank in banks:\n",
    "            bank['year'] = year\n",
    "            fulllist.append(bank)\n",
    "    \n",
    "#print(json.dumps(fulllist, indent=4))\n",
    "with open('top100banks-2008-2019.json', 'w') as jfile:\n",
    "    json.dump(fulllist, jfile)"
   ]
  },
  {
   "cell_type": "markdown",
   "metadata": {},
   "source": [
    "## Create Pandas DataFrame."
   ]
  },
  {
   "cell_type": "code",
   "execution_count": 2,
   "metadata": {},
   "outputs": [
    {
     "data": {
      "text/html": [
       "<div>\n",
       "<style scoped>\n",
       "    .dataframe tbody tr th:only-of-type {\n",
       "        vertical-align: middle;\n",
       "    }\n",
       "\n",
       "    .dataframe tbody tr th {\n",
       "        vertical-align: top;\n",
       "    }\n",
       "\n",
       "    .dataframe thead th {\n",
       "        text-align: right;\n",
       "    }\n",
       "</style>\n",
       "<table border=\"1\" class=\"dataframe\">\n",
       "  <thead>\n",
       "    <tr style=\"text-align: right;\">\n",
       "      <th></th>\n",
       "      <th>name</th>\n",
       "      <th>rank</th>\n",
       "      <th>previous_rank</th>\n",
       "      <th>value</th>\n",
       "      <th>previous_value</th>\n",
       "      <th>rating</th>\n",
       "      <th>previous_rating</th>\n",
       "      <th>country</th>\n",
       "      <th>year</th>\n",
       "    </tr>\n",
       "  </thead>\n",
       "  <tbody>\n",
       "    <tr>\n",
       "      <th>0</th>\n",
       "      <td>HSBC</td>\n",
       "      <td>1</td>\n",
       "      <td>2</td>\n",
       "      <td>35455.88</td>\n",
       "      <td>33494.71</td>\n",
       "      <td>AAA</td>\n",
       "      <td>AAA</td>\n",
       "      <td>United Kingdom</td>\n",
       "      <td>2008</td>\n",
       "    </tr>\n",
       "    <tr>\n",
       "      <th>1</th>\n",
       "      <td>Citi</td>\n",
       "      <td>2</td>\n",
       "      <td>1</td>\n",
       "      <td>27817.32</td>\n",
       "      <td>35147.91</td>\n",
       "      <td>AA</td>\n",
       "      <td>AA+</td>\n",
       "      <td>United States</td>\n",
       "      <td>2008</td>\n",
       "    </tr>\n",
       "    <tr>\n",
       "      <th>2</th>\n",
       "      <td>Bank of America</td>\n",
       "      <td>3</td>\n",
       "      <td>3</td>\n",
       "      <td>25417.05</td>\n",
       "      <td>31425.53</td>\n",
       "      <td>AA+</td>\n",
       "      <td>AA+</td>\n",
       "      <td>United States</td>\n",
       "      <td>2008</td>\n",
       "    </tr>\n",
       "    <tr>\n",
       "      <th>3</th>\n",
       "      <td>Santander</td>\n",
       "      <td>4</td>\n",
       "      <td>5</td>\n",
       "      <td>20717.69</td>\n",
       "      <td>17063.23</td>\n",
       "      <td>AA-</td>\n",
       "      <td>AA-</td>\n",
       "      <td>Spain</td>\n",
       "      <td>2008</td>\n",
       "    </tr>\n",
       "    <tr>\n",
       "      <th>4</th>\n",
       "      <td>American Express</td>\n",
       "      <td>5</td>\n",
       "      <td>4</td>\n",
       "      <td>16183.16</td>\n",
       "      <td>18109.43</td>\n",
       "      <td>AAA</td>\n",
       "      <td>AAA-</td>\n",
       "      <td>United States</td>\n",
       "      <td>2008</td>\n",
       "    </tr>\n",
       "    <tr>\n",
       "      <th>...</th>\n",
       "      <td>...</td>\n",
       "      <td>...</td>\n",
       "      <td>...</td>\n",
       "      <td>...</td>\n",
       "      <td>...</td>\n",
       "      <td>...</td>\n",
       "      <td>...</td>\n",
       "      <td>...</td>\n",
       "      <td>...</td>\n",
       "    </tr>\n",
       "    <tr>\n",
       "      <th>1195</th>\n",
       "      <td>Bank of Shanghai</td>\n",
       "      <td>96</td>\n",
       "      <td>97</td>\n",
       "      <td>2890.95</td>\n",
       "      <td>2410.40</td>\n",
       "      <td>AA-</td>\n",
       "      <td>AA-</td>\n",
       "      <td>China</td>\n",
       "      <td>2019</td>\n",
       "    </tr>\n",
       "    <tr>\n",
       "      <th>1196</th>\n",
       "      <td>Erste Group</td>\n",
       "      <td>97</td>\n",
       "      <td>100</td>\n",
       "      <td>2794.19</td>\n",
       "      <td>2379.32</td>\n",
       "      <td>A+</td>\n",
       "      <td>AA-</td>\n",
       "      <td>Austria</td>\n",
       "      <td>2019</td>\n",
       "    </tr>\n",
       "    <tr>\n",
       "      <th>1197</th>\n",
       "      <td>Macquarie</td>\n",
       "      <td>98</td>\n",
       "      <td>88</td>\n",
       "      <td>2735.30</td>\n",
       "      <td>2844.29</td>\n",
       "      <td>AA-</td>\n",
       "      <td>AA-</td>\n",
       "      <td>Australia</td>\n",
       "      <td>2019</td>\n",
       "    </tr>\n",
       "    <tr>\n",
       "      <th>1198</th>\n",
       "      <td>Allied Irish Banks (AIB)</td>\n",
       "      <td>99</td>\n",
       "      <td>104</td>\n",
       "      <td>2693.34</td>\n",
       "      <td>2262.45</td>\n",
       "      <td>AA+</td>\n",
       "      <td>AA-</td>\n",
       "      <td>Ireland</td>\n",
       "      <td>2019</td>\n",
       "    </tr>\n",
       "    <tr>\n",
       "      <th>1199</th>\n",
       "      <td>BCA</td>\n",
       "      <td>100</td>\n",
       "      <td>101</td>\n",
       "      <td>2644.13</td>\n",
       "      <td>2349.06</td>\n",
       "      <td>AAA+</td>\n",
       "      <td>AAA</td>\n",
       "      <td>Indonesia</td>\n",
       "      <td>2019</td>\n",
       "    </tr>\n",
       "  </tbody>\n",
       "</table>\n",
       "<p>1200 rows × 9 columns</p>\n",
       "</div>"
      ],
      "text/plain": [
       "                          name rank previous_rank     value previous_value  \\\n",
       "0                         HSBC    1             2  35455.88       33494.71   \n",
       "1                         Citi    2             1  27817.32       35147.91   \n",
       "2              Bank of America    3             3  25417.05       31425.53   \n",
       "3                    Santander    4             5  20717.69       17063.23   \n",
       "4             American Express    5             4  16183.16       18109.43   \n",
       "...                        ...  ...           ...       ...            ...   \n",
       "1195          Bank of Shanghai   96            97   2890.95        2410.40   \n",
       "1196               Erste Group   97           100   2794.19        2379.32   \n",
       "1197                 Macquarie   98            88   2735.30        2844.29   \n",
       "1198  Allied Irish Banks (AIB)   99           104   2693.34        2262.45   \n",
       "1199                       BCA  100           101   2644.13        2349.06   \n",
       "\n",
       "     rating previous_rating         country  year  \n",
       "0       AAA             AAA  United Kingdom  2008  \n",
       "1        AA             AA+   United States  2008  \n",
       "2       AA+             AA+   United States  2008  \n",
       "3       AA-             AA-           Spain  2008  \n",
       "4       AAA            AAA-   United States  2008  \n",
       "...     ...             ...             ...   ...  \n",
       "1195    AA-             AA-           China  2019  \n",
       "1196     A+             AA-         Austria  2019  \n",
       "1197    AA-             AA-       Australia  2019  \n",
       "1198    AA+             AA-         Ireland  2019  \n",
       "1199   AAA+             AAA       Indonesia  2019  \n",
       "\n",
       "[1200 rows x 9 columns]"
      ]
     },
     "execution_count": 2,
     "metadata": {},
     "output_type": "execute_result"
    }
   ],
   "source": [
    "import pandas as pd\n",
    "\n",
    "df = pd.DataFrame(fulllist)\n",
    "df['value'] = df['value'].astype(float)\n",
    "df.fillna(0, inplace=True)\n",
    "df"
   ]
  },
  {
   "cell_type": "markdown",
   "metadata": {},
   "source": [
    "## Plotly Scatter with animation based on Year."
   ]
  },
  {
   "cell_type": "code",
   "execution_count": 4,
   "metadata": {},
   "outputs": [
    {
     "data": {
      "application/vnd.plotly.v1+json": {
       "config": {
        "plotlyServerURL": "https://plot.ly"
       },
       "data": [
        {
         "customdata": [
          [
           "HSBC"
          ],
          [
           "Barclays"
          ],
          [
           "JPMorgan"
          ],
          [
           "NATWEST"
          ],
          [
           "Standard Chartered"
          ],
          [
           "RBS"
          ],
          [
           "LLOYDS TSB"
          ],
          [
           "HALIFAX"
          ],
          [
           "BANK OF SCOTLAND"
          ],
          [
           "Citizens Bank"
          ]
         ],
         "hoverlabel": {
          "namelength": 0
         },
         "hovertemplate": "country=United Kingdom<br>year=2008<br>rank=%{x}<br>value=%{marker.size}<br>name=%{customdata[0]}",
         "legendgroup": "country=United Kingdom",
         "marker": {
          "color": "#636efa",
          "size": [
           35455.88,
           11582.17,
           9064.33,
           7258.86,
           6270,
           6116.79,
           5843.5,
           4233.55,
           3024.11,
           2007.28
          ],
          "sizemode": "area",
          "sizeref": 199.5566,
          "symbol": "circle"
         },
         "mode": "markers",
         "name": "country=United Kingdom",
         "showlegend": true,
         "type": "scatter",
         "x": [
          "1",
          "11",
          "14",
          "21",
          "25",
          "26",
          "29",
          "40",
          "59",
          "80"
         ],
         "xaxis": "x",
         "y": [
          35455.88,
          11582.17,
          9064.33,
          7258.86,
          6270,
          6116.79,
          5843.5,
          4233.55,
          3024.11,
          2007.28
         ],
         "yaxis": "y"
        },
        {
         "customdata": [
          [
           "Citi"
          ],
          [
           "Bank of America"
          ],
          [
           "American Express"
          ],
          [
           "Chase"
          ],
          [
           "Wells Fargo"
          ],
          [
           "Goldman Sachs"
          ],
          [
           "WACHOVIA CORP"
          ],
          [
           "Morgan Stanley"
          ],
          [
           "Merrill Lynch"
          ],
          [
           "The Bank of New York Mellon"
          ],
          [
           "MBNA"
          ],
          [
           "Capital One"
          ],
          [
           "U.S. Bank"
          ],
          [
           "Lehman Bros"
          ],
          [
           "WASHINGTON MUTUAL"
          ],
          [
           "FANNIE MAE"
          ],
          [
           "MasterCard"
          ],
          [
           "State Street"
          ],
          [
           "Smith Barney"
          ],
          [
           "SunTrust"
          ],
          [
           "Freddie Mac"
          ],
          [
           "PNC"
          ],
          [
           "Discover"
          ],
          [
           "National City"
          ],
          [
           "Charles Schwab"
          ]
         ],
         "hoverlabel": {
          "namelength": 0
         },
         "hovertemplate": "country=United States<br>year=2008<br>rank=%{x}<br>value=%{marker.size}<br>name=%{customdata[0]}",
         "legendgroup": "country=United States",
         "marker": {
          "color": "#EF553B",
          "size": [
           27817.32,
           25417.05,
           16183.16,
           14797.61,
           13130.16,
           12519.9,
           8686.33,
           7129.32,
           5702.03,
           4756.91,
           4367.38,
           4320.84,
           4271.26,
           4014.79,
           3754.73,
           3159.02,
           2599.99,
           2185.98,
           2068.22,
           1989.44,
           1974.7,
           1903.64,
           1863.71,
           1719.25,
           1662.72
          ],
          "sizemode": "area",
          "sizeref": 199.5566,
          "symbol": "circle"
         },
         "mode": "markers",
         "name": "country=United States",
         "showlegend": true,
         "type": "scatter",
         "x": [
          "2",
          "3",
          "5",
          "6",
          "8",
          "9",
          "15",
          "23",
          "30",
          "32",
          "36",
          "38",
          "39",
          "44",
          "47",
          "58",
          "65",
          "76",
          "79",
          "82",
          "83",
          "86",
          "90",
          "95",
          "97"
         ],
         "xaxis": "x",
         "y": [
          27817.32,
          25417.05,
          16183.16,
          14797.61,
          13130.16,
          12519.9,
          8686.33,
          7129.32,
          5702.03,
          4756.91,
          4367.38,
          4320.84,
          4271.26,
          4014.79,
          3754.73,
          3159.02,
          2599.99,
          2185.98,
          2068.22,
          1989.44,
          1974.7,
          1903.64,
          1863.71,
          1719.25,
          1662.72
         ],
         "yaxis": "y"
        },
        {
         "customdata": [
          [
           "Santander"
          ],
          [
           "BBVA"
          ],
          [
           "Abbey"
          ]
         ],
         "hoverlabel": {
          "namelength": 0
         },
         "hovertemplate": "country=Spain<br>year=2008<br>rank=%{x}<br>value=%{marker.size}<br>name=%{customdata[0]}",
         "legendgroup": "country=Spain",
         "marker": {
          "color": "#00cc96",
          "size": [
           20717.69,
           8410.73,
           1792.09
          ],
          "sizemode": "area",
          "sizeref": 199.5566,
          "symbol": "circle"
         },
         "mode": "markers",
         "name": "country=Spain",
         "showlegend": true,
         "type": "scatter",
         "x": [
          "4",
          "18",
          "93"
         ],
         "xaxis": "x",
         "y": [
          20717.69,
          8410.73,
          1792.09
         ],
         "yaxis": "y"
        },
        {
         "customdata": [
          [
           "BNP Paribas"
          ],
          [
           "Société Générale"
          ],
          [
           "Credit Agricole"
          ],
          [
           "Natixis"
          ],
          [
           "CIC"
          ]
         ],
         "hoverlabel": {
          "namelength": 0
         },
         "hovertemplate": "country=France<br>year=2008<br>rank=%{x}<br>value=%{marker.size}<br>name=%{customdata[0]}",
         "legendgroup": "country=France",
         "marker": {
          "color": "#ab63fa",
          "size": [
           14636.97,
           7196.8,
           5926.53,
           2311.58,
           1671.33
          ],
          "sizemode": "area",
          "sizeref": 199.5566,
          "symbol": "circle"
         },
         "mode": "markers",
         "name": "country=France",
         "showlegend": true,
         "type": "scatter",
         "x": [
          "7",
          "22",
          "28",
          "73",
          "96"
         ],
         "xaxis": "x",
         "y": [
          14636.97,
          7196.8,
          5926.53,
          2311.58,
          1671.33
         ],
         "yaxis": "y"
        },
        {
         "customdata": [
          [
           "Credit Suisse"
          ],
          [
           "UBS"
          ]
         ],
         "hoverlabel": {
          "namelength": 0
         },
         "hovertemplate": "country=Switzerland<br>year=2008<br>rank=%{x}<br>value=%{marker.size}<br>name=%{customdata[0]}",
         "legendgroup": "country=Switzerland",
         "marker": {
          "color": "#FFA15A",
          "size": [
           12139.77,
           11338.71
          ],
          "sizemode": "area",
          "sizeref": 199.5566,
          "symbol": "circle"
         },
         "mode": "markers",
         "name": "country=Switzerland",
         "showlegend": true,
         "type": "scatter",
         "x": [
          "10",
          "12"
         ],
         "xaxis": "x",
         "y": [
          12139.77,
          11338.71
         ],
         "yaxis": "y"
        },
        {
         "customdata": [
          [
           "ING"
          ],
          [
           "ABN AMRO"
          ]
         ],
         "hoverlabel": {
          "namelength": 0
         },
         "hovertemplate": "country=Netherlands<br>year=2008<br>rank=%{x}<br>value=%{marker.size}<br>name=%{customdata[0]}",
         "legendgroup": "country=Netherlands",
         "marker": {
          "color": "#19d3f3",
          "size": [
           10046,
           4733.94
          ],
          "sizemode": "area",
          "sizeref": 199.5566,
          "symbol": "circle"
         },
         "mode": "markers",
         "name": "country=Netherlands",
         "showlegend": true,
         "type": "scatter",
         "x": [
          "13",
          "33"
         ],
         "xaxis": "x",
         "y": [
          10046,
          4733.94
         ],
         "yaxis": "y"
        },
        {
         "customdata": [
          [
           "Deutsche Bank"
          ],
          [
           "Commerzbank"
          ],
          [
           "HypoVereinsbank"
          ],
          [
           "Postbank"
          ]
         ],
         "hoverlabel": {
          "namelength": 0
         },
         "hovertemplate": "country=Germany<br>year=2008<br>rank=%{x}<br>value=%{marker.size}<br>name=%{customdata[0]}",
         "legendgroup": "country=Germany",
         "marker": {
          "color": "#FF6692",
          "size": [
           8585.34,
           3559.88,
           3465.39,
           1892.78
          ],
          "sizemode": "area",
          "sizeref": 199.5566,
          "symbol": "circle"
         },
         "mode": "markers",
         "name": "country=Germany",
         "showlegend": true,
         "type": "scatter",
         "x": [
          "16",
          "49",
          "55",
          "87"
         ],
         "xaxis": "x",
         "y": [
          8585.34,
          3559.88,
          3465.39,
          1892.78
         ],
         "yaxis": "y"
        },
        {
         "customdata": [
          [
           "ICBC"
          ],
          [
           "China Construction Bank"
          ],
          [
           "Bank of China"
          ],
          [
           "Bank of Communications"
          ],
          [
           "China Merchants Bank"
          ]
         ],
         "hoverlabel": {
          "namelength": 0
         },
         "hovertemplate": "country=China<br>year=2008<br>rank=%{x}<br>value=%{marker.size}<br>name=%{customdata[0]}",
         "legendgroup": "country=China",
         "marker": {
          "color": "#B6E880",
          "size": [
           8426.72,
           7785.56,
           6741.22,
           2663.82,
           1794.08
          ],
          "sizemode": "area",
          "sizeref": 199.5566,
          "symbol": "circle"
         },
         "mode": "markers",
         "name": "country=China",
         "showlegend": true,
         "type": "scatter",
         "x": [
          "17",
          "19",
          "24",
          "63",
          "92"
         ],
         "xaxis": "x",
         "y": [
          8426.72,
          7785.56,
          6741.22,
          2663.82,
          1794.08
         ],
         "yaxis": "y"
        },
        {
         "customdata": [
          [
           "Intesa Sanpaolo"
          ],
          [
           "UniCredit"
          ],
          [
           "Capitalia"
          ]
         ],
         "hoverlabel": {
          "namelength": 0
         },
         "hovertemplate": "country=Italy<br>year=2008<br>rank=%{x}<br>value=%{marker.size}<br>name=%{customdata[0]}",
         "legendgroup": "country=Italy",
         "marker": {
          "color": "#FF97FF",
          "size": [
           7779.42,
           4627.32,
           1870.64
          ],
          "sizemode": "area",
          "sizeref": 199.5566,
          "symbol": "circle"
         },
         "mode": "markers",
         "name": "country=Italy",
         "showlegend": true,
         "type": "scatter",
         "x": [
          "20",
          "34",
          "89"
         ],
         "xaxis": "x",
         "y": [
          7779.42,
          4627.32,
          1870.64
         ],
         "yaxis": "y"
        },
        {
         "customdata": [
          [
           "National Australia Bank"
          ],
          [
           "Commonwealth Bank of Australia"
          ],
          [
           "ANZ"
          ],
          [
           "Westpac"
          ],
          [
           "St George Bank"
          ],
          [
           "Macquarie"
          ],
          [
           "SUNCORP METWAY"
          ]
         ],
         "hoverlabel": {
          "namelength": 0
         },
         "hovertemplate": "country=Australia<br>year=2008<br>rank=%{x}<br>value=%{marker.size}<br>name=%{customdata[0]}",
         "legendgroup": "country=Australia",
         "marker": {
          "color": "#FECB52",
          "size": [
           6102.12,
           4348.79,
           3559.01,
           3228.78,
           2141.82,
           2103.28,
           1574.88
          ],
          "sizemode": "area",
          "sizeref": 199.5566,
          "symbol": "circle"
         },
         "mode": "markers",
         "name": "country=Australia",
         "showlegend": true,
         "type": "scatter",
         "x": [
          "27",
          "37",
          "50",
          "57",
          "77",
          "78",
          "100"
         ],
         "xaxis": "x",
         "y": [
          6102.12,
          4348.79,
          3559.01,
          3228.78,
          2141.82,
          2103.28,
          1574.88
         ],
         "yaxis": "y"
        },
        {
         "customdata": [
          [
           "RBC"
          ],
          [
           "TD"
          ],
          [
           "CIBC"
          ],
          [
           "Scotiabank"
          ],
          [
           "Bank of Montreal"
          ]
         ],
         "hoverlabel": {
          "namelength": 0
         },
         "hovertemplate": "country=Canada<br>year=2008<br>rank=%{x}<br>value=%{marker.size}<br>name=%{customdata[0]}",
         "legendgroup": "country=Canada",
         "marker": {
          "color": "#636efa",
          "size": [
           5235.47,
           4041.16,
           3756.1,
           3552.26,
           2555.35
          ],
          "sizemode": "area",
          "sizeref": 199.5566,
          "symbol": "circle"
         },
         "mode": "markers",
         "name": "country=Canada",
         "showlegend": true,
         "type": "scatter",
         "x": [
          "31",
          "43",
          "46",
          "51",
          "66"
         ],
         "xaxis": "x",
         "y": [
          5235.47,
          4041.16,
          3756.1,
          3552.26,
          2555.35
         ],
         "yaxis": "y"
        },
        {
         "customdata": [
          [
           "FORTIS"
          ],
          [
           "KBC"
          ],
          [
           "Dexia"
          ]
         ],
         "hoverlabel": {
          "namelength": 0
         },
         "hovertemplate": "country=Belgium<br>year=2008<br>rank=%{x}<br>value=%{marker.size}<br>name=%{customdata[0]}",
         "legendgroup": "country=Belgium",
         "marker": {
          "color": "#EF553B",
          "size": [
           4400.28,
           2223.66,
           1936.75
          ],
          "sizemode": "area",
          "sizeref": 199.5566,
          "symbol": "circle"
         },
         "mode": "markers",
         "name": "country=Belgium",
         "showlegend": true,
         "type": "scatter",
         "x": [
          "35",
          "75",
          "84"
         ],
         "xaxis": "x",
         "y": [
          4400.28,
          2223.66,
          1936.75
         ],
         "yaxis": "y"
        },
        {
         "customdata": [
          [
           "Mizuho Bank"
          ],
          [
           "MUFG"
          ],
          [
           "SMBC"
          ],
          [
           "ORIX"
          ],
          [
           "BANK OF TOKYO-MITSUBISHI UFJ"
          ]
         ],
         "hoverlabel": {
          "namelength": 0
         },
         "hovertemplate": "country=Japan<br>year=2008<br>rank=%{x}<br>value=%{marker.size}<br>name=%{customdata[0]}",
         "legendgroup": "country=Japan",
         "marker": {
          "color": "#00cc96",
          "size": [
           4150.97,
           3539.94,
           3528.55,
           2698.51,
           1613.11
          ],
          "sizemode": "area",
          "sizeref": 199.5566,
          "symbol": "circle"
         },
         "mode": "markers",
         "name": "country=Japan",
         "showlegend": true,
         "type": "scatter",
         "x": [
          "41",
          "52",
          "53",
          "62",
          "98"
         ],
         "xaxis": "x",
         "y": [
          4150.97,
          3539.94,
          3528.55,
          2698.51,
          1613.11
         ],
         "yaxis": "y"
        },
        {
         "customdata": [
          [
           "Bradesco"
          ],
          [
           "Banco do Brasil"
          ],
          [
           "Itaú"
          ]
         ],
         "hoverlabel": {
          "namelength": 0
         },
         "hovertemplate": "country=Brazil<br>year=2008<br>rank=%{x}<br>value=%{marker.size}<br>name=%{customdata[0]}",
         "legendgroup": "country=Brazil",
         "marker": {
          "color": "#ab63fa",
          "size": [
           4105.58,
           4008.45,
           3499.63
          ],
          "sizemode": "area",
          "sizeref": 199.5566,
          "symbol": "circle"
         },
         "mode": "markers",
         "name": "country=Brazil",
         "showlegend": true,
         "type": "scatter",
         "x": [
          "42",
          "45",
          "54"
         ],
         "xaxis": "x",
         "y": [
          4105.58,
          4008.45,
          3499.63
         ],
         "yaxis": "y"
        },
        {
         "customdata": [
          [
           "Nordea"
          ],
          [
           "Swedbank"
          ]
         ],
         "hoverlabel": {
          "namelength": 0
         },
         "hovertemplate": "country=Sweden<br>year=2008<br>rank=%{x}<br>value=%{marker.size}<br>name=%{customdata[0]}",
         "legendgroup": "country=Sweden",
         "marker": {
          "color": "#FFA15A",
          "size": [
           3605.43,
           1783.25
          ],
          "sizemode": "area",
          "sizeref": 199.5566,
          "symbol": "circle"
         },
         "mode": "markers",
         "name": "country=Sweden",
         "showlegend": true,
         "type": "scatter",
         "x": [
          "48",
          "94"
         ],
         "xaxis": "x",
         "y": [
          3605.43,
          1783.25
         ],
         "yaxis": "y"
        },
        {
         "customdata": [
          [
           "Sberbank"
          ]
         ],
         "hoverlabel": {
          "namelength": 0
         },
         "hovertemplate": "country=Russia<br>year=2008<br>rank=%{x}<br>value=%{marker.size}<br>name=%{customdata[0]}",
         "legendgroup": "country=Russia",
         "marker": {
          "color": "#19d3f3",
          "size": [
           3417.72
          ],
          "sizemode": "area",
          "sizeref": 199.5566,
          "symbol": "circle"
         },
         "mode": "markers",
         "name": "country=Russia",
         "showlegend": true,
         "type": "scatter",
         "x": [
          "56"
         ],
         "xaxis": "x",
         "y": [
          3417.72
         ],
         "yaxis": "y"
        },
        {
         "customdata": [
          [
           "State Bank of India"
          ],
          [
           "ICICI Bank"
          ]
         ],
         "hoverlabel": {
          "namelength": 0
         },
         "hovertemplate": "country=India<br>year=2008<br>rank=%{x}<br>value=%{marker.size}<br>name=%{customdata[0]}",
         "legendgroup": "country=India",
         "marker": {
          "color": "#FF6692",
          "size": [
           2852.34,
           2602.8
          ],
          "sizemode": "area",
          "sizeref": 199.5566,
          "symbol": "circle"
         },
         "mode": "markers",
         "name": "country=India",
         "showlegend": true,
         "type": "scatter",
         "x": [
          "60",
          "64"
         ],
         "xaxis": "x",
         "y": [
          2852.34,
          2602.8
         ],
         "yaxis": "y"
        },
        {
         "customdata": [
          [
           "BANK OF IRELAND"
          ],
          [
           "AIB"
          ]
         ],
         "hoverlabel": {
          "namelength": 0
         },
         "hovertemplate": "country=Ireland<br>year=2008<br>rank=%{x}<br>value=%{marker.size}<br>name=%{customdata[0]}",
         "legendgroup": "country=Ireland",
         "marker": {
          "color": "#B6E880",
          "size": [
           2765.14,
           2472.72
          ],
          "sizemode": "area",
          "sizeref": 199.5566,
          "symbol": "circle"
         },
         "mode": "markers",
         "name": "country=Ireland",
         "showlegend": true,
         "type": "scatter",
         "x": [
          "61",
          "69"
         ],
         "xaxis": "x",
         "y": [
          2765.14,
          2472.72
         ],
         "yaxis": "y"
        },
        {
         "customdata": [
          [
           "OTP Bank"
          ]
         ],
         "hoverlabel": {
          "namelength": 0
         },
         "hovertemplate": "country=Hungary<br>year=2008<br>rank=%{x}<br>value=%{marker.size}<br>name=%{customdata[0]}",
         "legendgroup": "country=Hungary",
         "marker": {
          "color": "#FF97FF",
          "size": [
           2496.11
          ],
          "sizemode": "area",
          "sizeref": 199.5566,
          "symbol": "circle"
         },
         "mode": "markers",
         "name": "country=Hungary",
         "showlegend": true,
         "type": "scatter",
         "x": [
          "67"
         ],
         "xaxis": "x",
         "y": [
          2496.11
         ],
         "yaxis": "y"
        },
        {
         "customdata": [
          [
           "Bank Austria"
          ],
          [
           "Erste Bank"
          ]
         ],
         "hoverlabel": {
          "namelength": 0
         },
         "hovertemplate": "country=Austria<br>year=2008<br>rank=%{x}<br>value=%{marker.size}<br>name=%{customdata[0]}",
         "legendgroup": "country=Austria",
         "marker": {
          "color": "#FECB52",
          "size": [
           2478.26,
           2371.01
          ],
          "sizemode": "area",
          "sizeref": 199.5566,
          "symbol": "circle"
         },
         "mode": "markers",
         "name": "country=Austria",
         "showlegend": true,
         "type": "scatter",
         "x": [
          "68",
          "71"
         ],
         "xaxis": "x",
         "y": [
          2478.26,
          2371.01
         ],
         "yaxis": "y"
        },
        {
         "customdata": [
          [
           "Sampo"
          ]
         ],
         "hoverlabel": {
          "namelength": 0
         },
         "hovertemplate": "country=Finland<br>year=2008<br>rank=%{x}<br>value=%{marker.size}<br>name=%{customdata[0]}",
         "legendgroup": "country=Finland",
         "marker": {
          "color": "#636efa",
          "size": [
           2437.37
          ],
          "sizemode": "area",
          "sizeref": 199.5566,
          "symbol": "circle"
         },
         "mode": "markers",
         "name": "country=Finland",
         "showlegend": true,
         "type": "scatter",
         "x": [
          "70"
         ],
         "xaxis": "x",
         "y": [
          2437.37
         ],
         "yaxis": "y"
        },
        {
         "customdata": [
          [
           "First National Bank"
          ],
          [
           "Standard Bank"
          ],
          [
           "ABSA"
          ]
         ],
         "hoverlabel": {
          "namelength": 0
         },
         "hovertemplate": "country=South Africa<br>year=2008<br>rank=%{x}<br>value=%{marker.size}<br>name=%{customdata[0]}",
         "legendgroup": "country=South Africa",
         "marker": {
          "color": "#EF553B",
          "size": [
           2357.57,
           2238.56,
           1996.25
          ],
          "sizemode": "area",
          "sizeref": 199.5566,
          "symbol": "circle"
         },
         "mode": "markers",
         "name": "country=South Africa",
         "showlegend": true,
         "type": "scatter",
         "x": [
          "72",
          "74",
          "81"
         ],
         "xaxis": "x",
         "y": [
          2357.57,
          2238.56,
          1996.25
         ],
         "yaxis": "y"
        },
        {
         "customdata": [
          [
           "National Bank of Greece"
          ]
         ],
         "hoverlabel": {
          "namelength": 0
         },
         "hovertemplate": "country=Greece<br>year=2008<br>rank=%{x}<br>value=%{marker.size}<br>name=%{customdata[0]}",
         "legendgroup": "country=Greece",
         "marker": {
          "color": "#00cc96",
          "size": [
           1915.84
          ],
          "sizemode": "area",
          "sizeref": 199.5566,
          "symbol": "circle"
         },
         "mode": "markers",
         "name": "country=Greece",
         "showlegend": true,
         "type": "scatter",
         "x": [
          "85"
         ],
         "xaxis": "x",
         "y": [
          1915.84
         ],
         "yaxis": "y"
        },
        {
         "customdata": [
          [
           "KB Kookmin Bank"
          ],
          [
           "Shinhan Financial Group"
          ]
         ],
         "hoverlabel": {
          "namelength": 0
         },
         "hovertemplate": "country=South Korea<br>year=2008<br>rank=%{x}<br>value=%{marker.size}<br>name=%{customdata[0]}",
         "legendgroup": "country=South Korea",
         "marker": {
          "color": "#ab63fa",
          "size": [
           1880.99,
           1800.31
          ],
          "sizemode": "area",
          "sizeref": 199.5566,
          "symbol": "circle"
         },
         "mode": "markers",
         "name": "country=South Korea",
         "showlegend": true,
         "type": "scatter",
         "x": [
          "88",
          "91"
         ],
         "xaxis": "x",
         "y": [
          1880.99,
          1800.31
         ],
         "yaxis": "y"
        },
        {
         "customdata": [
          [
           "FUBON FINANCIAL"
          ]
         ],
         "hoverlabel": {
          "namelength": 0
         },
         "hovertemplate": "country=China (Taiwan)<br>year=2008<br>rank=%{x}<br>value=%{marker.size}<br>name=%{customdata[0]}",
         "legendgroup": "country=China (Taiwan)",
         "marker": {
          "color": "#FFA15A",
          "size": [
           1610.6
          ],
          "sizemode": "area",
          "sizeref": 199.5566,
          "symbol": "circle"
         },
         "mode": "markers",
         "name": "country=China (Taiwan)",
         "showlegend": true,
         "type": "scatter",
         "x": [
          "99"
         ],
         "xaxis": "x",
         "y": [
          1610.6
         ],
         "yaxis": "y"
        }
       ],
       "frames": [
        {
         "data": [
          {
           "customdata": [
            [
             "HSBC"
            ],
            [
             "Barclays"
            ],
            [
             "JPMorgan"
            ],
            [
             "NATWEST"
            ],
            [
             "Standard Chartered"
            ],
            [
             "RBS"
            ],
            [
             "LLOYDS TSB"
            ],
            [
             "HALIFAX"
            ],
            [
             "BANK OF SCOTLAND"
            ],
            [
             "Citizens Bank"
            ]
           ],
           "hoverlabel": {
            "namelength": 0
           },
           "hovertemplate": "country=United Kingdom<br>year=2008<br>rank=%{x}<br>value=%{marker.size}<br>name=%{customdata[0]}",
           "legendgroup": "country=United Kingdom",
           "marker": {
            "color": "#636efa",
            "size": [
             35455.88,
             11582.17,
             9064.33,
             7258.86,
             6270,
             6116.79,
             5843.5,
             4233.55,
             3024.11,
             2007.28
            ],
            "sizemode": "area",
            "sizeref": 199.5566,
            "symbol": "circle"
           },
           "mode": "markers",
           "name": "country=United Kingdom",
           "showlegend": true,
           "type": "scatter",
           "x": [
            "1",
            "11",
            "14",
            "21",
            "25",
            "26",
            "29",
            "40",
            "59",
            "80"
           ],
           "xaxis": "x",
           "y": [
            35455.88,
            11582.17,
            9064.33,
            7258.86,
            6270,
            6116.79,
            5843.5,
            4233.55,
            3024.11,
            2007.28
           ],
           "yaxis": "y"
          },
          {
           "customdata": [
            [
             "Citi"
            ],
            [
             "Bank of America"
            ],
            [
             "American Express"
            ],
            [
             "Chase"
            ],
            [
             "Wells Fargo"
            ],
            [
             "Goldman Sachs"
            ],
            [
             "WACHOVIA CORP"
            ],
            [
             "Morgan Stanley"
            ],
            [
             "Merrill Lynch"
            ],
            [
             "The Bank of New York Mellon"
            ],
            [
             "MBNA"
            ],
            [
             "Capital One"
            ],
            [
             "U.S. Bank"
            ],
            [
             "Lehman Bros"
            ],
            [
             "WASHINGTON MUTUAL"
            ],
            [
             "FANNIE MAE"
            ],
            [
             "MasterCard"
            ],
            [
             "State Street"
            ],
            [
             "Smith Barney"
            ],
            [
             "SunTrust"
            ],
            [
             "Freddie Mac"
            ],
            [
             "PNC"
            ],
            [
             "Discover"
            ],
            [
             "National City"
            ],
            [
             "Charles Schwab"
            ]
           ],
           "hoverlabel": {
            "namelength": 0
           },
           "hovertemplate": "country=United States<br>year=2008<br>rank=%{x}<br>value=%{marker.size}<br>name=%{customdata[0]}",
           "legendgroup": "country=United States",
           "marker": {
            "color": "#EF553B",
            "size": [
             27817.32,
             25417.05,
             16183.16,
             14797.61,
             13130.16,
             12519.9,
             8686.33,
             7129.32,
             5702.03,
             4756.91,
             4367.38,
             4320.84,
             4271.26,
             4014.79,
             3754.73,
             3159.02,
             2599.99,
             2185.98,
             2068.22,
             1989.44,
             1974.7,
             1903.64,
             1863.71,
             1719.25,
             1662.72
            ],
            "sizemode": "area",
            "sizeref": 199.5566,
            "symbol": "circle"
           },
           "mode": "markers",
           "name": "country=United States",
           "showlegend": true,
           "type": "scatter",
           "x": [
            "2",
            "3",
            "5",
            "6",
            "8",
            "9",
            "15",
            "23",
            "30",
            "32",
            "36",
            "38",
            "39",
            "44",
            "47",
            "58",
            "65",
            "76",
            "79",
            "82",
            "83",
            "86",
            "90",
            "95",
            "97"
           ],
           "xaxis": "x",
           "y": [
            27817.32,
            25417.05,
            16183.16,
            14797.61,
            13130.16,
            12519.9,
            8686.33,
            7129.32,
            5702.03,
            4756.91,
            4367.38,
            4320.84,
            4271.26,
            4014.79,
            3754.73,
            3159.02,
            2599.99,
            2185.98,
            2068.22,
            1989.44,
            1974.7,
            1903.64,
            1863.71,
            1719.25,
            1662.72
           ],
           "yaxis": "y"
          },
          {
           "customdata": [
            [
             "Santander"
            ],
            [
             "BBVA"
            ],
            [
             "Abbey"
            ]
           ],
           "hoverlabel": {
            "namelength": 0
           },
           "hovertemplate": "country=Spain<br>year=2008<br>rank=%{x}<br>value=%{marker.size}<br>name=%{customdata[0]}",
           "legendgroup": "country=Spain",
           "marker": {
            "color": "#00cc96",
            "size": [
             20717.69,
             8410.73,
             1792.09
            ],
            "sizemode": "area",
            "sizeref": 199.5566,
            "symbol": "circle"
           },
           "mode": "markers",
           "name": "country=Spain",
           "showlegend": true,
           "type": "scatter",
           "x": [
            "4",
            "18",
            "93"
           ],
           "xaxis": "x",
           "y": [
            20717.69,
            8410.73,
            1792.09
           ],
           "yaxis": "y"
          },
          {
           "customdata": [
            [
             "BNP Paribas"
            ],
            [
             "Société Générale"
            ],
            [
             "Credit Agricole"
            ],
            [
             "Natixis"
            ],
            [
             "CIC"
            ]
           ],
           "hoverlabel": {
            "namelength": 0
           },
           "hovertemplate": "country=France<br>year=2008<br>rank=%{x}<br>value=%{marker.size}<br>name=%{customdata[0]}",
           "legendgroup": "country=France",
           "marker": {
            "color": "#ab63fa",
            "size": [
             14636.97,
             7196.8,
             5926.53,
             2311.58,
             1671.33
            ],
            "sizemode": "area",
            "sizeref": 199.5566,
            "symbol": "circle"
           },
           "mode": "markers",
           "name": "country=France",
           "showlegend": true,
           "type": "scatter",
           "x": [
            "7",
            "22",
            "28",
            "73",
            "96"
           ],
           "xaxis": "x",
           "y": [
            14636.97,
            7196.8,
            5926.53,
            2311.58,
            1671.33
           ],
           "yaxis": "y"
          },
          {
           "customdata": [
            [
             "Credit Suisse"
            ],
            [
             "UBS"
            ]
           ],
           "hoverlabel": {
            "namelength": 0
           },
           "hovertemplate": "country=Switzerland<br>year=2008<br>rank=%{x}<br>value=%{marker.size}<br>name=%{customdata[0]}",
           "legendgroup": "country=Switzerland",
           "marker": {
            "color": "#FFA15A",
            "size": [
             12139.77,
             11338.71
            ],
            "sizemode": "area",
            "sizeref": 199.5566,
            "symbol": "circle"
           },
           "mode": "markers",
           "name": "country=Switzerland",
           "showlegend": true,
           "type": "scatter",
           "x": [
            "10",
            "12"
           ],
           "xaxis": "x",
           "y": [
            12139.77,
            11338.71
           ],
           "yaxis": "y"
          },
          {
           "customdata": [
            [
             "ING"
            ],
            [
             "ABN AMRO"
            ]
           ],
           "hoverlabel": {
            "namelength": 0
           },
           "hovertemplate": "country=Netherlands<br>year=2008<br>rank=%{x}<br>value=%{marker.size}<br>name=%{customdata[0]}",
           "legendgroup": "country=Netherlands",
           "marker": {
            "color": "#19d3f3",
            "size": [
             10046,
             4733.94
            ],
            "sizemode": "area",
            "sizeref": 199.5566,
            "symbol": "circle"
           },
           "mode": "markers",
           "name": "country=Netherlands",
           "showlegend": true,
           "type": "scatter",
           "x": [
            "13",
            "33"
           ],
           "xaxis": "x",
           "y": [
            10046,
            4733.94
           ],
           "yaxis": "y"
          },
          {
           "customdata": [
            [
             "Deutsche Bank"
            ],
            [
             "Commerzbank"
            ],
            [
             "HypoVereinsbank"
            ],
            [
             "Postbank"
            ]
           ],
           "hoverlabel": {
            "namelength": 0
           },
           "hovertemplate": "country=Germany<br>year=2008<br>rank=%{x}<br>value=%{marker.size}<br>name=%{customdata[0]}",
           "legendgroup": "country=Germany",
           "marker": {
            "color": "#FF6692",
            "size": [
             8585.34,
             3559.88,
             3465.39,
             1892.78
            ],
            "sizemode": "area",
            "sizeref": 199.5566,
            "symbol": "circle"
           },
           "mode": "markers",
           "name": "country=Germany",
           "showlegend": true,
           "type": "scatter",
           "x": [
            "16",
            "49",
            "55",
            "87"
           ],
           "xaxis": "x",
           "y": [
            8585.34,
            3559.88,
            3465.39,
            1892.78
           ],
           "yaxis": "y"
          },
          {
           "customdata": [
            [
             "ICBC"
            ],
            [
             "China Construction Bank"
            ],
            [
             "Bank of China"
            ],
            [
             "Bank of Communications"
            ],
            [
             "China Merchants Bank"
            ]
           ],
           "hoverlabel": {
            "namelength": 0
           },
           "hovertemplate": "country=China<br>year=2008<br>rank=%{x}<br>value=%{marker.size}<br>name=%{customdata[0]}",
           "legendgroup": "country=China",
           "marker": {
            "color": "#B6E880",
            "size": [
             8426.72,
             7785.56,
             6741.22,
             2663.82,
             1794.08
            ],
            "sizemode": "area",
            "sizeref": 199.5566,
            "symbol": "circle"
           },
           "mode": "markers",
           "name": "country=China",
           "showlegend": true,
           "type": "scatter",
           "x": [
            "17",
            "19",
            "24",
            "63",
            "92"
           ],
           "xaxis": "x",
           "y": [
            8426.72,
            7785.56,
            6741.22,
            2663.82,
            1794.08
           ],
           "yaxis": "y"
          },
          {
           "customdata": [
            [
             "Intesa Sanpaolo"
            ],
            [
             "UniCredit"
            ],
            [
             "Capitalia"
            ]
           ],
           "hoverlabel": {
            "namelength": 0
           },
           "hovertemplate": "country=Italy<br>year=2008<br>rank=%{x}<br>value=%{marker.size}<br>name=%{customdata[0]}",
           "legendgroup": "country=Italy",
           "marker": {
            "color": "#FF97FF",
            "size": [
             7779.42,
             4627.32,
             1870.64
            ],
            "sizemode": "area",
            "sizeref": 199.5566,
            "symbol": "circle"
           },
           "mode": "markers",
           "name": "country=Italy",
           "showlegend": true,
           "type": "scatter",
           "x": [
            "20",
            "34",
            "89"
           ],
           "xaxis": "x",
           "y": [
            7779.42,
            4627.32,
            1870.64
           ],
           "yaxis": "y"
          },
          {
           "customdata": [
            [
             "National Australia Bank"
            ],
            [
             "Commonwealth Bank of Australia"
            ],
            [
             "ANZ"
            ],
            [
             "Westpac"
            ],
            [
             "St George Bank"
            ],
            [
             "Macquarie"
            ],
            [
             "SUNCORP METWAY"
            ]
           ],
           "hoverlabel": {
            "namelength": 0
           },
           "hovertemplate": "country=Australia<br>year=2008<br>rank=%{x}<br>value=%{marker.size}<br>name=%{customdata[0]}",
           "legendgroup": "country=Australia",
           "marker": {
            "color": "#FECB52",
            "size": [
             6102.12,
             4348.79,
             3559.01,
             3228.78,
             2141.82,
             2103.28,
             1574.88
            ],
            "sizemode": "area",
            "sizeref": 199.5566,
            "symbol": "circle"
           },
           "mode": "markers",
           "name": "country=Australia",
           "showlegend": true,
           "type": "scatter",
           "x": [
            "27",
            "37",
            "50",
            "57",
            "77",
            "78",
            "100"
           ],
           "xaxis": "x",
           "y": [
            6102.12,
            4348.79,
            3559.01,
            3228.78,
            2141.82,
            2103.28,
            1574.88
           ],
           "yaxis": "y"
          },
          {
           "customdata": [
            [
             "RBC"
            ],
            [
             "TD"
            ],
            [
             "CIBC"
            ],
            [
             "Scotiabank"
            ],
            [
             "Bank of Montreal"
            ]
           ],
           "hoverlabel": {
            "namelength": 0
           },
           "hovertemplate": "country=Canada<br>year=2008<br>rank=%{x}<br>value=%{marker.size}<br>name=%{customdata[0]}",
           "legendgroup": "country=Canada",
           "marker": {
            "color": "#636efa",
            "size": [
             5235.47,
             4041.16,
             3756.1,
             3552.26,
             2555.35
            ],
            "sizemode": "area",
            "sizeref": 199.5566,
            "symbol": "circle"
           },
           "mode": "markers",
           "name": "country=Canada",
           "showlegend": true,
           "type": "scatter",
           "x": [
            "31",
            "43",
            "46",
            "51",
            "66"
           ],
           "xaxis": "x",
           "y": [
            5235.47,
            4041.16,
            3756.1,
            3552.26,
            2555.35
           ],
           "yaxis": "y"
          },
          {
           "customdata": [
            [
             "FORTIS"
            ],
            [
             "KBC"
            ],
            [
             "Dexia"
            ]
           ],
           "hoverlabel": {
            "namelength": 0
           },
           "hovertemplate": "country=Belgium<br>year=2008<br>rank=%{x}<br>value=%{marker.size}<br>name=%{customdata[0]}",
           "legendgroup": "country=Belgium",
           "marker": {
            "color": "#EF553B",
            "size": [
             4400.28,
             2223.66,
             1936.75
            ],
            "sizemode": "area",
            "sizeref": 199.5566,
            "symbol": "circle"
           },
           "mode": "markers",
           "name": "country=Belgium",
           "showlegend": true,
           "type": "scatter",
           "x": [
            "35",
            "75",
            "84"
           ],
           "xaxis": "x",
           "y": [
            4400.28,
            2223.66,
            1936.75
           ],
           "yaxis": "y"
          },
          {
           "customdata": [
            [
             "Mizuho Bank"
            ],
            [
             "MUFG"
            ],
            [
             "SMBC"
            ],
            [
             "ORIX"
            ],
            [
             "BANK OF TOKYO-MITSUBISHI UFJ"
            ]
           ],
           "hoverlabel": {
            "namelength": 0
           },
           "hovertemplate": "country=Japan<br>year=2008<br>rank=%{x}<br>value=%{marker.size}<br>name=%{customdata[0]}",
           "legendgroup": "country=Japan",
           "marker": {
            "color": "#00cc96",
            "size": [
             4150.97,
             3539.94,
             3528.55,
             2698.51,
             1613.11
            ],
            "sizemode": "area",
            "sizeref": 199.5566,
            "symbol": "circle"
           },
           "mode": "markers",
           "name": "country=Japan",
           "showlegend": true,
           "type": "scatter",
           "x": [
            "41",
            "52",
            "53",
            "62",
            "98"
           ],
           "xaxis": "x",
           "y": [
            4150.97,
            3539.94,
            3528.55,
            2698.51,
            1613.11
           ],
           "yaxis": "y"
          },
          {
           "customdata": [
            [
             "Bradesco"
            ],
            [
             "Banco do Brasil"
            ],
            [
             "Itaú"
            ]
           ],
           "hoverlabel": {
            "namelength": 0
           },
           "hovertemplate": "country=Brazil<br>year=2008<br>rank=%{x}<br>value=%{marker.size}<br>name=%{customdata[0]}",
           "legendgroup": "country=Brazil",
           "marker": {
            "color": "#ab63fa",
            "size": [
             4105.58,
             4008.45,
             3499.63
            ],
            "sizemode": "area",
            "sizeref": 199.5566,
            "symbol": "circle"
           },
           "mode": "markers",
           "name": "country=Brazil",
           "showlegend": true,
           "type": "scatter",
           "x": [
            "42",
            "45",
            "54"
           ],
           "xaxis": "x",
           "y": [
            4105.58,
            4008.45,
            3499.63
           ],
           "yaxis": "y"
          },
          {
           "customdata": [
            [
             "Nordea"
            ],
            [
             "Swedbank"
            ]
           ],
           "hoverlabel": {
            "namelength": 0
           },
           "hovertemplate": "country=Sweden<br>year=2008<br>rank=%{x}<br>value=%{marker.size}<br>name=%{customdata[0]}",
           "legendgroup": "country=Sweden",
           "marker": {
            "color": "#FFA15A",
            "size": [
             3605.43,
             1783.25
            ],
            "sizemode": "area",
            "sizeref": 199.5566,
            "symbol": "circle"
           },
           "mode": "markers",
           "name": "country=Sweden",
           "showlegend": true,
           "type": "scatter",
           "x": [
            "48",
            "94"
           ],
           "xaxis": "x",
           "y": [
            3605.43,
            1783.25
           ],
           "yaxis": "y"
          },
          {
           "customdata": [
            [
             "Sberbank"
            ]
           ],
           "hoverlabel": {
            "namelength": 0
           },
           "hovertemplate": "country=Russia<br>year=2008<br>rank=%{x}<br>value=%{marker.size}<br>name=%{customdata[0]}",
           "legendgroup": "country=Russia",
           "marker": {
            "color": "#19d3f3",
            "size": [
             3417.72
            ],
            "sizemode": "area",
            "sizeref": 199.5566,
            "symbol": "circle"
           },
           "mode": "markers",
           "name": "country=Russia",
           "showlegend": true,
           "type": "scatter",
           "x": [
            "56"
           ],
           "xaxis": "x",
           "y": [
            3417.72
           ],
           "yaxis": "y"
          },
          {
           "customdata": [
            [
             "State Bank of India"
            ],
            [
             "ICICI Bank"
            ]
           ],
           "hoverlabel": {
            "namelength": 0
           },
           "hovertemplate": "country=India<br>year=2008<br>rank=%{x}<br>value=%{marker.size}<br>name=%{customdata[0]}",
           "legendgroup": "country=India",
           "marker": {
            "color": "#FF6692",
            "size": [
             2852.34,
             2602.8
            ],
            "sizemode": "area",
            "sizeref": 199.5566,
            "symbol": "circle"
           },
           "mode": "markers",
           "name": "country=India",
           "showlegend": true,
           "type": "scatter",
           "x": [
            "60",
            "64"
           ],
           "xaxis": "x",
           "y": [
            2852.34,
            2602.8
           ],
           "yaxis": "y"
          },
          {
           "customdata": [
            [
             "BANK OF IRELAND"
            ],
            [
             "AIB"
            ]
           ],
           "hoverlabel": {
            "namelength": 0
           },
           "hovertemplate": "country=Ireland<br>year=2008<br>rank=%{x}<br>value=%{marker.size}<br>name=%{customdata[0]}",
           "legendgroup": "country=Ireland",
           "marker": {
            "color": "#B6E880",
            "size": [
             2765.14,
             2472.72
            ],
            "sizemode": "area",
            "sizeref": 199.5566,
            "symbol": "circle"
           },
           "mode": "markers",
           "name": "country=Ireland",
           "showlegend": true,
           "type": "scatter",
           "x": [
            "61",
            "69"
           ],
           "xaxis": "x",
           "y": [
            2765.14,
            2472.72
           ],
           "yaxis": "y"
          },
          {
           "customdata": [
            [
             "OTP Bank"
            ]
           ],
           "hoverlabel": {
            "namelength": 0
           },
           "hovertemplate": "country=Hungary<br>year=2008<br>rank=%{x}<br>value=%{marker.size}<br>name=%{customdata[0]}",
           "legendgroup": "country=Hungary",
           "marker": {
            "color": "#FF97FF",
            "size": [
             2496.11
            ],
            "sizemode": "area",
            "sizeref": 199.5566,
            "symbol": "circle"
           },
           "mode": "markers",
           "name": "country=Hungary",
           "showlegend": true,
           "type": "scatter",
           "x": [
            "67"
           ],
           "xaxis": "x",
           "y": [
            2496.11
           ],
           "yaxis": "y"
          },
          {
           "customdata": [
            [
             "Bank Austria"
            ],
            [
             "Erste Bank"
            ]
           ],
           "hoverlabel": {
            "namelength": 0
           },
           "hovertemplate": "country=Austria<br>year=2008<br>rank=%{x}<br>value=%{marker.size}<br>name=%{customdata[0]}",
           "legendgroup": "country=Austria",
           "marker": {
            "color": "#FECB52",
            "size": [
             2478.26,
             2371.01
            ],
            "sizemode": "area",
            "sizeref": 199.5566,
            "symbol": "circle"
           },
           "mode": "markers",
           "name": "country=Austria",
           "showlegend": true,
           "type": "scatter",
           "x": [
            "68",
            "71"
           ],
           "xaxis": "x",
           "y": [
            2478.26,
            2371.01
           ],
           "yaxis": "y"
          },
          {
           "customdata": [
            [
             "Sampo"
            ]
           ],
           "hoverlabel": {
            "namelength": 0
           },
           "hovertemplate": "country=Finland<br>year=2008<br>rank=%{x}<br>value=%{marker.size}<br>name=%{customdata[0]}",
           "legendgroup": "country=Finland",
           "marker": {
            "color": "#636efa",
            "size": [
             2437.37
            ],
            "sizemode": "area",
            "sizeref": 199.5566,
            "symbol": "circle"
           },
           "mode": "markers",
           "name": "country=Finland",
           "showlegend": true,
           "type": "scatter",
           "x": [
            "70"
           ],
           "xaxis": "x",
           "y": [
            2437.37
           ],
           "yaxis": "y"
          },
          {
           "customdata": [
            [
             "First National Bank"
            ],
            [
             "Standard Bank"
            ],
            [
             "ABSA"
            ]
           ],
           "hoverlabel": {
            "namelength": 0
           },
           "hovertemplate": "country=South Africa<br>year=2008<br>rank=%{x}<br>value=%{marker.size}<br>name=%{customdata[0]}",
           "legendgroup": "country=South Africa",
           "marker": {
            "color": "#EF553B",
            "size": [
             2357.57,
             2238.56,
             1996.25
            ],
            "sizemode": "area",
            "sizeref": 199.5566,
            "symbol": "circle"
           },
           "mode": "markers",
           "name": "country=South Africa",
           "showlegend": true,
           "type": "scatter",
           "x": [
            "72",
            "74",
            "81"
           ],
           "xaxis": "x",
           "y": [
            2357.57,
            2238.56,
            1996.25
           ],
           "yaxis": "y"
          },
          {
           "customdata": [
            [
             "National Bank of Greece"
            ]
           ],
           "hoverlabel": {
            "namelength": 0
           },
           "hovertemplate": "country=Greece<br>year=2008<br>rank=%{x}<br>value=%{marker.size}<br>name=%{customdata[0]}",
           "legendgroup": "country=Greece",
           "marker": {
            "color": "#00cc96",
            "size": [
             1915.84
            ],
            "sizemode": "area",
            "sizeref": 199.5566,
            "symbol": "circle"
           },
           "mode": "markers",
           "name": "country=Greece",
           "showlegend": true,
           "type": "scatter",
           "x": [
            "85"
           ],
           "xaxis": "x",
           "y": [
            1915.84
           ],
           "yaxis": "y"
          },
          {
           "customdata": [
            [
             "KB Kookmin Bank"
            ],
            [
             "Shinhan Financial Group"
            ]
           ],
           "hoverlabel": {
            "namelength": 0
           },
           "hovertemplate": "country=South Korea<br>year=2008<br>rank=%{x}<br>value=%{marker.size}<br>name=%{customdata[0]}",
           "legendgroup": "country=South Korea",
           "marker": {
            "color": "#ab63fa",
            "size": [
             1880.99,
             1800.31
            ],
            "sizemode": "area",
            "sizeref": 199.5566,
            "symbol": "circle"
           },
           "mode": "markers",
           "name": "country=South Korea",
           "showlegend": true,
           "type": "scatter",
           "x": [
            "88",
            "91"
           ],
           "xaxis": "x",
           "y": [
            1880.99,
            1800.31
           ],
           "yaxis": "y"
          },
          {
           "customdata": [
            [
             "FUBON FINANCIAL"
            ]
           ],
           "hoverlabel": {
            "namelength": 0
           },
           "hovertemplate": "country=China (Taiwan)<br>year=2008<br>rank=%{x}<br>value=%{marker.size}<br>name=%{customdata[0]}",
           "legendgroup": "country=China (Taiwan)",
           "marker": {
            "color": "#FFA15A",
            "size": [
             1610.6
            ],
            "sizemode": "area",
            "sizeref": 199.5566,
            "symbol": "circle"
           },
           "mode": "markers",
           "name": "country=China (Taiwan)",
           "showlegend": true,
           "type": "scatter",
           "x": [
            "99"
           ],
           "xaxis": "x",
           "y": [
            1610.6
           ],
           "yaxis": "y"
          }
         ],
         "name": "2008"
        },
        {
         "data": [
          {
           "customdata": [
            [
             "HSBC"
            ],
            [
             "Barclays"
            ],
            [
             "Standard Chartered"
            ],
            [
             "Lloyds TSB"
            ],
            [
             "Royal Bank of Scotland"
            ],
            [
             "Halifax"
            ],
            [
             "NatWest"
            ],
            [
             "Scottish Widows"
            ],
            [
             "Bank of Scotland"
            ]
           ],
           "hoverlabel": {
            "namelength": 0
           },
           "hovertemplate": "country=United Kingdom<br>year=2009<br>rank=%{x}<br>value=%{marker.size}<br>name=%{customdata[0]}",
           "legendgroup": "country=United Kingdom",
           "marker": {
            "color": "#636efa",
            "size": [
             25364.17,
             7582.58,
             4779.99,
             2646.32,
             2584.24,
             1299.18,
             1262.65,
             1188.91,
             1075.02
            ],
            "sizemode": "area",
            "sizeref": 199.5566,
            "symbol": "circle"
           },
           "mode": "markers",
           "name": "country=United Kingdom",
           "showlegend": true,
           "type": "scatter",
           "x": [
            "1",
            "14",
            "24",
            "40",
            "42",
            "80",
            "83",
            "88",
            "97"
           ],
           "xaxis": "x",
           "y": [
            25364.17,
            7582.58,
            4779.99,
            2646.32,
            2584.24,
            1299.18,
            1262.65,
            1188.91,
            1075.02
           ],
           "yaxis": "y"
          },
          {
           "customdata": [
            [
             "Bank of America"
            ],
            [
             "Wells Fargo"
            ],
            [
             "American Express"
            ],
            [
             "Citi"
            ],
            [
             "Chase"
            ],
            [
             "JPMorgan"
            ],
            [
             "Goldman Sachs"
            ],
            [
             "Morgan Stanley"
            ],
            [
             "U.S. Bank"
            ],
            [
             "Capital One"
            ],
            [
             "VISA"
            ],
            [
             "The Bank of New York Mellon"
            ],
            [
             "MasterCard"
            ],
            [
             "State Street"
            ],
            [
             "PNC"
            ],
            [
             "SunTrust"
            ],
            [
             "Merrill Lynch"
            ],
            [
             "LaSalle"
            ],
            [
             "BB&T"
            ],
            [
             "JPMorganChase"
            ],
            [
             "Wachovia"
            ],
            [
             "Regions"
            ],
            [
             "Blackstone"
            ],
            [
             "National City"
            ],
            [
             "Ameriprise Financial"
            ],
            [
             "Western Union"
            ],
            [
             "Discover"
            ]
           ],
           "hoverlabel": {
            "namelength": 0
           },
           "hovertemplate": "country=United States<br>year=2009<br>rank=%{x}<br>value=%{marker.size}<br>name=%{customdata[0]}",
           "legendgroup": "country=United States",
           "marker": {
            "color": "#EF553B",
            "size": [
             21017.43,
             14507.95,
             9944.48,
             9809.59,
             8746.5,
             8071.69,
             6752.7,
             4775.17,
             2932.55,
             2913.27,
             2874.58,
             2114.6,
             2055.9,
             1952.89,
             1752.14,
             1721.07,
             1682.48,
             1583.94,
             1546.49,
             1537.91,
             1319.16,
             1190.69,
             1155.25,
             1140.47,
             1081.97,
             1052.89,
             1043.3
            ],
            "sizemode": "area",
            "sizeref": 199.5566,
            "symbol": "circle"
           },
           "mode": "markers",
           "name": "country=United States",
           "showlegend": true,
           "type": "scatter",
           "x": [
            "2",
            "3",
            "6",
            "7",
            "10",
            "11",
            "17",
            "25",
            "33",
            "34",
            "35",
            "49",
            "50",
            "52",
            "60",
            "62",
            "63",
            "65",
            "66",
            "67",
            "77",
            "87",
            "91",
            "92",
            "96",
            "99",
            "100"
           ],
           "xaxis": "x",
           "y": [
            21017.43,
            14507.95,
            9944.48,
            9809.59,
            8746.5,
            8071.69,
            6752.7,
            4775.17,
            2932.55,
            2913.27,
            2874.58,
            2114.6,
            2055.9,
            1952.89,
            1752.14,
            1721.07,
            1682.48,
            1583.94,
            1546.49,
            1537.91,
            1319.16,
            1190.69,
            1155.25,
            1140.47,
            1081.97,
            1052.89,
            1043.3
           ],
           "yaxis": "y"
          },
          {
           "customdata": [
            [
             "Santander"
            ],
            [
             "BBVA"
            ],
            [
             "\"la Caixa\""
            ]
           ],
           "hoverlabel": {
            "namelength": 0
           },
           "hovertemplate": "country=Spain<br>year=2009<br>rank=%{x}<br>value=%{marker.size}<br>name=%{customdata[0]}",
           "legendgroup": "country=Spain",
           "marker": {
            "color": "#00cc96",
            "size": [
             10839.71,
             6007.54,
             1777.69
            ],
            "sizemode": "area",
            "sizeref": 199.5566,
            "symbol": "circle"
           },
           "mode": "markers",
           "name": "country=Spain",
           "showlegend": true,
           "type": "scatter",
           "x": [
            "4",
            "19",
            "58"
           ],
           "xaxis": "x",
           "y": [
            10839.71,
            6007.54,
            1777.69
           ],
           "yaxis": "y"
          },
          {
           "customdata": [
            [
             "BNP Paribas"
            ],
            [
             "Société Générale"
            ],
            [
             "Crédit Mutuel"
            ],
            [
             "Crédit Agricole"
            ],
            [
             "Groupe Caisse d'Epargne"
            ],
            [
             "Banque Populaire"
            ],
            [
             "Natixis"
            ],
            [
             "CIC"
            ],
            [
             "LCL (Credit Lyonnais)"
            ]
           ],
           "hoverlabel": {
            "namelength": 0
           },
           "hovertemplate": "country=France<br>year=2009<br>rank=%{x}<br>value=%{marker.size}<br>name=%{customdata[0]}",
           "legendgroup": "country=France",
           "marker": {
            "color": "#ab63fa",
            "size": [
             9360.48,
             5852.23,
             2788.88,
             2742.77,
             2446,
             2012.52,
             1753.49,
             1226.27,
             1161.06
            ],
            "sizemode": "area",
            "sizeref": 199.5566,
            "symbol": "circle"
           },
           "mode": "markers",
           "name": "country=France",
           "showlegend": true,
           "type": "scatter",
           "x": [
            "8",
            "20",
            "37",
            "38",
            "44",
            "51",
            "59",
            "85",
            "90"
           ],
           "xaxis": "x",
           "y": [
            9360.48,
            5852.23,
            2788.88,
            2742.77,
            2446,
            2012.52,
            1753.49,
            1226.27,
            1161.06
           ],
           "yaxis": "y"
          },
          {
           "customdata": [
            [
             "Credit Suisse"
            ],
            [
             "UBS"
            ]
           ],
           "hoverlabel": {
            "namelength": 0
           },
           "hovertemplate": "country=Switzerland<br>year=2009<br>rank=%{x}<br>value=%{marker.size}<br>name=%{customdata[0]}",
           "legendgroup": "country=Switzerland",
           "marker": {
            "color": "#FFA15A",
            "size": [
             7668.2,
             7568
            ],
            "sizemode": "area",
            "sizeref": 199.5566,
            "symbol": "circle"
           },
           "mode": "markers",
           "name": "country=Switzerland",
           "showlegend": true,
           "type": "scatter",
           "x": [
            "13",
            "15"
           ],
           "xaxis": "x",
           "y": [
            7668.2,
            7568
           ],
           "yaxis": "y"
          },
          {
           "customdata": [
            [
             "Rabobank"
            ]
           ],
           "hoverlabel": {
            "namelength": 0
           },
           "hovertemplate": "country=Netherlands<br>year=2009<br>rank=%{x}<br>value=%{marker.size}<br>name=%{customdata[0]}",
           "legendgroup": "country=Netherlands",
           "marker": {
            "color": "#19d3f3",
            "size": [
             2623.82
            ],
            "sizemode": "area",
            "sizeref": 199.5566,
            "symbol": "circle"
           },
           "mode": "markers",
           "name": "country=Netherlands",
           "showlegend": true,
           "type": "scatter",
           "x": [
            "41"
           ],
           "xaxis": "x",
           "y": [
            2623.82
           ],
           "yaxis": "y"
          },
          {
           "customdata": [
            [
             "Deutsche Bank"
            ],
            [
             "DZ BANK"
            ],
            [
             "Commerzbank"
            ],
            [
             "Dresdner Bank"
            ]
           ],
           "hoverlabel": {
            "namelength": 0
           },
           "hovertemplate": "country=Germany<br>year=2009<br>rank=%{x}<br>value=%{marker.size}<br>name=%{customdata[0]}",
           "legendgroup": "country=Germany",
           "marker": {
            "color": "#FF6692",
            "size": [
             6702.5,
             4474.75,
             1737.79,
             1172.1
            ],
            "sizemode": "area",
            "sizeref": 199.5566,
            "symbol": "circle"
           },
           "mode": "markers",
           "name": "country=Germany",
           "showlegend": true,
           "type": "scatter",
           "x": [
            "18",
            "27",
            "61",
            "89"
           ],
           "xaxis": "x",
           "y": [
            6702.5,
            4474.75,
            1737.79,
            1172.1
           ],
           "yaxis": "y"
          },
          {
           "customdata": [
            [
             "ICBC"
            ],
            [
             "China Construction Bank"
            ],
            [
             "Bank of China"
            ],
            [
             "Bank of Communications"
            ],
            [
             "China Merchants Bank"
            ]
           ],
           "hoverlabel": {
            "namelength": 0
           },
           "hovertemplate": "country=China<br>year=2009<br>rank=%{x}<br>value=%{marker.size}<br>name=%{customdata[0]}",
           "legendgroup": "country=China",
           "marker": {
            "color": "#B6E880",
            "size": [
             10030.96,
             9023.65,
             7052.78,
             2297.1,
             1361.51
            ],
            "sizemode": "area",
            "sizeref": 199.5566,
            "symbol": "circle"
           },
           "mode": "markers",
           "name": "country=China",
           "showlegend": true,
           "type": "scatter",
           "x": [
            "5",
            "9",
            "16",
            "47",
            "74"
           ],
           "xaxis": "x",
           "y": [
            10030.96,
            9023.65,
            7052.78,
            2297.1,
            1361.51
           ],
           "yaxis": "y"
          },
          {
           "customdata": [
            [
             "Intesa Sanpaolo"
            ],
            [
             "UniCredit"
            ]
           ],
           "hoverlabel": {
            "namelength": 0
           },
           "hovertemplate": "country=Italy<br>year=2009<br>rank=%{x}<br>value=%{marker.size}<br>name=%{customdata[0]}",
           "legendgroup": "country=Italy",
           "marker": {
            "color": "#FF97FF",
            "size": [
             5759.72,
             3102.87
            ],
            "sizemode": "area",
            "sizeref": 199.5566,
            "symbol": "circle"
           },
           "mode": "markers",
           "name": "country=Italy",
           "showlegend": true,
           "type": "scatter",
           "x": [
            "21",
            "31"
           ],
           "xaxis": "x",
           "y": [
            5759.72,
            3102.87
           ],
           "yaxis": "y"
          },
          {
           "customdata": [
            [
             "National Australia Bank"
            ],
            [
             "Commonwealth Bank of Australia"
            ],
            [
             "Westpac"
            ],
            [
             "ANZ"
            ],
            [
             "St George Bank"
            ]
           ],
           "hoverlabel": {
            "namelength": 0
           },
           "hovertemplate": "country=Australia<br>year=2009<br>rank=%{x}<br>value=%{marker.size}<br>name=%{customdata[0]}",
           "legendgroup": "country=Australia",
           "marker": {
            "color": "#FECB52",
            "size": [
             2673.41,
             2381.03,
             1935.96,
             1883,
             1069.4
            ],
            "sizemode": "area",
            "sizeref": 199.5566,
            "symbol": "circle"
           },
           "mode": "markers",
           "name": "country=Australia",
           "showlegend": true,
           "type": "scatter",
           "x": [
            "39",
            "45",
            "53",
            "56",
            "98"
           ],
           "xaxis": "x",
           "y": [
            2673.41,
            2381.03,
            1935.96,
            1883,
            1069.4
           ],
           "yaxis": "y"
          },
          {
           "customdata": [
            [
             "RBC"
            ],
            [
             "TD Bank"
            ],
            [
             "Scotiabank"
            ],
            [
             "BMO"
            ],
            [
             "CIBC"
            ]
           ],
           "hoverlabel": {
            "namelength": 0
           },
           "hovertemplate": "country=Canada<br>year=2009<br>rank=%{x}<br>value=%{marker.size}<br>name=%{customdata[0]}",
           "legendgroup": "country=Canada",
           "marker": {
            "color": "#636efa",
            "size": [
             4370.36,
             3257.23,
             2321.05,
             1929.89,
             1890.62
            ],
            "sizemode": "area",
            "sizeref": 199.5566,
            "symbol": "circle"
           },
           "mode": "markers",
           "name": "country=Canada",
           "showlegend": true,
           "type": "scatter",
           "x": [
            "28",
            "30",
            "46",
            "54",
            "55"
           ],
           "xaxis": "x",
           "y": [
            4370.36,
            3257.23,
            2321.05,
            1929.89,
            1890.62
           ],
           "yaxis": "y"
          },
          {
           "customdata": [
            [
             "KBC"
            ],
            [
             "Dexia"
            ]
           ],
           "hoverlabel": {
            "namelength": 0
           },
           "hovertemplate": "country=Belgium<br>year=2009<br>rank=%{x}<br>value=%{marker.size}<br>name=%{customdata[0]}",
           "legendgroup": "country=Belgium",
           "marker": {
            "color": "#EF553B",
            "size": [
             1657.93,
             1448.12
            ],
            "sizemode": "area",
            "sizeref": 199.5566,
            "symbol": "circle"
           },
           "mode": "markers",
           "name": "country=Belgium",
           "showlegend": true,
           "type": "scatter",
           "x": [
            "64",
            "69"
           ],
           "xaxis": "x",
           "y": [
            1657.93,
            1448.12
           ],
           "yaxis": "y"
          },
          {
           "customdata": [
            [
             "MUFG"
            ],
            [
             "SMFG"
            ],
            [
             "Mizuho"
            ],
            [
             "Resona Bank"
            ]
           ],
           "hoverlabel": {
            "namelength": 0
           },
           "hovertemplate": "country=Japan<br>year=2009<br>rank=%{x}<br>value=%{marker.size}<br>name=%{customdata[0]}",
           "legendgroup": "country=Japan",
           "marker": {
            "color": "#00cc96",
            "size": [
             5444.54,
             3427.83,
             3065.08,
             1338.29
            ],
            "sizemode": "area",
            "sizeref": 199.5566,
            "symbol": "circle"
           },
           "mode": "markers",
           "name": "country=Japan",
           "showlegend": true,
           "type": "scatter",
           "x": [
            "23",
            "29",
            "32",
            "75"
           ],
           "xaxis": "x",
           "y": [
            5444.54,
            3427.83,
            3065.08,
            1338.29
           ],
           "yaxis": "y"
          },
          {
           "customdata": [
            [
             "Bradesco"
            ],
            [
             "Banco Itaú"
            ],
            [
             "Banco do Brasil"
            ],
            [
             "Unibanco"
            ]
           ],
           "hoverlabel": {
            "namelength": 0
           },
           "hovertemplate": "country=Brazil<br>year=2009<br>rank=%{x}<br>value=%{marker.size}<br>name=%{customdata[0]}",
           "legendgroup": "country=Brazil",
           "marker": {
            "color": "#ab63fa",
            "size": [
             7698.39,
             5592.72,
             2864.05,
             1519.51
            ],
            "sizemode": "area",
            "sizeref": 199.5566,
            "symbol": "circle"
           },
           "mode": "markers",
           "name": "country=Brazil",
           "showlegend": true,
           "type": "scatter",
           "x": [
            "12",
            "22",
            "36",
            "68"
           ],
           "xaxis": "x",
           "y": [
            7698.39,
            5592.72,
            2864.05,
            1519.51
           ],
           "yaxis": "y"
          },
          {
           "customdata": [
            [
             "Nordea"
            ],
            [
             "SEB"
            ]
           ],
           "hoverlabel": {
            "namelength": 0
           },
           "hovertemplate": "country=Sweden<br>year=2009<br>rank=%{x}<br>value=%{marker.size}<br>name=%{customdata[0]}",
           "legendgroup": "country=Sweden",
           "marker": {
            "color": "#FFA15A",
            "size": [
             2528.09,
             1125.06
            ],
            "sizemode": "area",
            "sizeref": 199.5566,
            "symbol": "circle"
           },
           "mode": "markers",
           "name": "country=Sweden",
           "showlegend": true,
           "type": "scatter",
           "x": [
            "43",
            "93"
           ],
           "xaxis": "x",
           "y": [
            2528.09,
            1125.06
           ],
           "yaxis": "y"
          },
          {
           "customdata": [
            [
             "Sberbank"
            ],
            [
             "VTB"
            ]
           ],
           "hoverlabel": {
            "namelength": 0
           },
           "hovertemplate": "country=Russia<br>year=2009<br>rank=%{x}<br>value=%{marker.size}<br>name=%{customdata[0]}",
           "legendgroup": "country=Russia",
           "marker": {
            "color": "#19d3f3",
            "size": [
             4530.63,
             1329.22
            ],
            "sizemode": "area",
            "sizeref": 199.5566,
            "symbol": "circle"
           },
           "mode": "markers",
           "name": "country=Russia",
           "showlegend": true,
           "type": "scatter",
           "x": [
            "26",
            "76"
           ],
           "xaxis": "x",
           "y": [
            4530.63,
            1329.22
           ],
           "yaxis": "y"
          },
          {
           "customdata": [
            [
             "State Bank of India"
            ]
           ],
           "hoverlabel": {
            "namelength": 0
           },
           "hovertemplate": "country=India<br>year=2009<br>rank=%{x}<br>value=%{marker.size}<br>name=%{customdata[0]}",
           "legendgroup": "country=India",
           "marker": {
            "color": "#FF6692",
            "size": [
             1447.74
            ],
            "sizemode": "area",
            "sizeref": 199.5566,
            "symbol": "circle"
           },
           "mode": "markers",
           "name": "country=India",
           "showlegend": true,
           "type": "scatter",
           "x": [
            "70"
           ],
           "xaxis": "x",
           "y": [
            1447.74
           ],
           "yaxis": "y"
          },
          {
           "customdata": [
            [
             "ERSTE"
            ],
            [
             "Raiffeisen Bank"
            ]
           ],
           "hoverlabel": {
            "namelength": 0
           },
           "hovertemplate": "country=Austria<br>year=2009<br>rank=%{x}<br>value=%{marker.size}<br>name=%{customdata[0]}",
           "legendgroup": "country=Austria",
           "marker": {
            "color": "#FECB52",
            "size": [
             1869.59,
             1303.19
            ],
            "sizemode": "area",
            "sizeref": 199.5566,
            "symbol": "circle"
           },
           "mode": "markers",
           "name": "country=Austria",
           "showlegend": true,
           "type": "scatter",
           "x": [
            "57",
            "78"
           ],
           "xaxis": "x",
           "y": [
            1869.59,
            1303.19
           ],
           "yaxis": "y"
          },
          {
           "customdata": [
            [
             "FNB"
            ],
            [
             "Standard Bank"
            ],
            [
             "ABSA"
            ]
           ],
           "hoverlabel": {
            "namelength": 0
           },
           "hovertemplate": "country=South Africa<br>year=2009<br>rank=%{x}<br>value=%{marker.size}<br>name=%{customdata[0]}",
           "legendgroup": "country=South Africa",
           "marker": {
            "color": "#EF553B",
            "size": [
             1368.92,
             1282.26,
             1102.45
            ],
            "sizemode": "area",
            "sizeref": 199.5566,
            "symbol": "circle"
           },
           "mode": "markers",
           "name": "country=South Africa",
           "showlegend": true,
           "type": "scatter",
           "x": [
            "72",
            "82",
            "95"
           ],
           "xaxis": "x",
           "y": [
            1368.92,
            1282.26,
            1102.45
           ],
           "yaxis": "y"
          },
          {
           "customdata": [
            [
             "National Bank of Greece"
            ]
           ],
           "hoverlabel": {
            "namelength": 0
           },
           "hovertemplate": "country=Greece<br>year=2009<br>rank=%{x}<br>value=%{marker.size}<br>name=%{customdata[0]}",
           "legendgroup": "country=Greece",
           "marker": {
            "color": "#00cc96",
            "size": [
             1243.71
            ],
            "sizemode": "area",
            "sizeref": 199.5566,
            "symbol": "circle"
           },
           "mode": "markers",
           "name": "country=Greece",
           "showlegend": true,
           "type": "scatter",
           "x": [
            "84"
           ],
           "xaxis": "x",
           "y": [
            1243.71
           ],
           "yaxis": "y"
          },
          {
           "customdata": [
            [
             "Shinhan Bank"
            ]
           ],
           "hoverlabel": {
            "namelength": 0
           },
           "hovertemplate": "country=South Korea<br>year=2009<br>rank=%{x}<br>value=%{marker.size}<br>name=%{customdata[0]}",
           "legendgroup": "country=South Korea",
           "marker": {
            "color": "#ab63fa",
            "size": [
             2225.66
            ],
            "sizemode": "area",
            "sizeref": 199.5566,
            "symbol": "circle"
           },
           "mode": "markers",
           "name": "country=South Korea",
           "showlegend": true,
           "type": "scatter",
           "x": [
            "48"
           ],
           "xaxis": "x",
           "y": [
            2225.66
           ],
           "yaxis": "y"
          },
          {
           "customdata": [
            [
             "Danske Bank"
            ]
           ],
           "hoverlabel": {
            "namelength": 0
           },
           "hovertemplate": "country=Denmark<br>year=2009<br>rank=%{x}<br>value=%{marker.size}<br>name=%{customdata[0]}",
           "legendgroup": "country=Denmark",
           "marker": {
            "color": "#19d3f3",
            "size": [
             1412.26
            ],
            "sizemode": "area",
            "sizeref": 199.5566,
            "symbol": "circle"
           },
           "mode": "markers",
           "name": "country=Denmark",
           "showlegend": true,
           "type": "scatter",
           "x": [
            "71"
           ],
           "xaxis": "x",
           "y": [
            1412.26
           ],
           "yaxis": "y"
          },
          {
           "customdata": [
            [
             "DBS"
            ]
           ],
           "hoverlabel": {
            "namelength": 0
           },
           "hovertemplate": "country=Singapore<br>year=2009<br>rank=%{x}<br>value=%{marker.size}<br>name=%{customdata[0]}",
           "legendgroup": "country=Singapore",
           "marker": {
            "color": "#FF6692",
            "size": [
             1362.43
            ],
            "sizemode": "area",
            "sizeref": 199.5566,
            "symbol": "circle"
           },
           "mode": "markers",
           "name": "country=Singapore",
           "showlegend": true,
           "type": "scatter",
           "x": [
            "73"
           ],
           "xaxis": "x",
           "y": [
            1362.43
           ],
           "yaxis": "y"
          },
          {
           "customdata": [
            [
             "Caixa Geral de Depósitos"
            ]
           ],
           "hoverlabel": {
            "namelength": 0
           },
           "hovertemplate": "country=Portugal<br>year=2009<br>rank=%{x}<br>value=%{marker.size}<br>name=%{customdata[0]}",
           "legendgroup": "country=Portugal",
           "marker": {
            "color": "#B6E880",
            "size": [
             1300.4
            ],
            "sizemode": "area",
            "sizeref": 199.5566,
            "symbol": "circle"
           },
           "mode": "markers",
           "name": "country=Portugal",
           "showlegend": true,
           "type": "scatter",
           "x": [
            "79"
           ],
           "xaxis": "x",
           "y": [
            1300.4
           ],
           "yaxis": "y"
          },
          {
           "customdata": [
            [
             "Bank of China (Hong Kong)"
            ],
            [
             "Hang Seng Bank"
            ]
           ],
           "hoverlabel": {
            "namelength": 0
           },
           "hovertemplate": "country=China (Hong Kong)<br>year=2009<br>rank=%{x}<br>value=%{marker.size}<br>name=%{customdata[0]}",
           "legendgroup": "country=China (Hong Kong)",
           "marker": {
            "color": "#FF97FF",
            "size": [
             1289.84,
             1104.24
            ],
            "sizemode": "area",
            "sizeref": 199.5566,
            "symbol": "circle"
           },
           "mode": "markers",
           "name": "country=China (Hong Kong)",
           "showlegend": true,
           "type": "scatter",
           "x": [
            "81",
            "94"
           ],
           "xaxis": "x",
           "y": [
            1289.84,
            1104.24
           ],
           "yaxis": "y"
          },
          {
           "customdata": [
            [
             "Isbank"
            ]
           ],
           "hoverlabel": {
            "namelength": 0
           },
           "hovertemplate": "country=Turkey<br>year=2009<br>rank=%{x}<br>value=%{marker.size}<br>name=%{customdata[0]}",
           "legendgroup": "country=Turkey",
           "marker": {
            "color": "#FECB52",
            "size": [
             1208.07
            ],
            "sizemode": "area",
            "sizeref": 199.5566,
            "symbol": "circle"
           },
           "mode": "markers",
           "name": "country=Turkey",
           "showlegend": true,
           "type": "scatter",
           "x": [
            "86"
           ],
           "xaxis": "x",
           "y": [
            1208.07
           ],
           "yaxis": "y"
          }
         ],
         "name": "2009"
        },
        {
         "data": [
          {
           "customdata": [
            [
             "HSBC"
            ],
            [
             "Barclays"
            ],
            [
             "Standard Chartered"
            ],
            [
             "Royal Bank of Scotland"
            ],
            [
             "Lloyds"
            ],
            [
             "Halifax"
            ]
           ],
           "hoverlabel": {
            "namelength": 0
           },
           "hovertemplate": "country=United Kingdom<br>year=2010<br>rank=%{x}<br>value=%{marker.size}<br>name=%{customdata[0]}",
           "legendgroup": "country=United Kingdom",
           "marker": {
            "color": "#636efa",
            "size": [
             28472.15,
             13133.71,
             7332.49,
             2837.69,
             2594.84,
             1737.64
            ],
            "sizemode": "area",
            "sizeref": 199.5566,
            "symbol": "circle"
           },
           "mode": "markers",
           "name": "country=United Kingdom",
           "showlegend": true,
           "type": "scatter",
           "x": [
            "1",
            "10",
            "24",
            "54",
            "61",
            "83"
           ],
           "xaxis": "x",
           "y": [
            28472.15,
            13133.71,
            7332.49,
            2837.69,
            2594.84,
            1737.64
           ],
           "yaxis": "y"
          },
          {
           "customdata": [
            [
             "Bank of America"
            ],
            [
             "WELLS FARGO"
            ],
            [
             "Citi"
            ],
            [
             "Goldman Sachs"
            ],
            [
             "Chase"
            ],
            [
             "American Express"
            ],
            [
             "JP Morgan"
            ],
            [
             "Morgan Stanley"
            ],
            [
             "VISA"
            ],
            [
             "U.S. Bank"
            ],
            [
             "PNC"
            ],
            [
             "MasterCard"
            ],
            [
             "Capital One"
            ],
            [
             "Merrill Lynch"
            ],
            [
             "State Street"
            ],
            [
             "The Bank of New York Mellon"
            ],
            [
             "BB&T"
            ],
            [
             "Blackstone"
            ],
            [
             "Franklin Templeton Investments"
            ],
            [
             "SunTrust"
            ],
            [
             "Discover"
            ],
            [
             "JPMorganChase"
            ],
            [
             "BlackRock"
            ],
            [
             "Western Union"
            ],
            [
             "Ameriprise Financial"
            ]
           ],
           "hoverlabel": {
            "namelength": 0
           },
           "hovertemplate": "country=United States<br>year=2010<br>rank=%{x}<br>value=%{marker.size}<br>name=%{customdata[0]}",
           "legendgroup": "country=United States",
           "marker": {
            "color": "#EF553B",
            "size": [
             26046.91,
             21915.51,
             14362.35,
             13886.94,
             13399.83,
             12737.04,
             11732.33,
             7907.13,
             5036.82,
             3777.37,
             3382.88,
             3185.74,
             2757.96,
             2693.84,
             2598.17,
             2476.54,
             2056.16,
             1996.8,
             1908.1,
             1723.62,
             1689.82,
             1606.92,
             1579.67,
             1542.21,
             1497.61
            ],
            "sizemode": "area",
            "sizeref": 199.5566,
            "symbol": "circle"
           },
           "mode": "markers",
           "name": "country=United States",
           "showlegend": true,
           "type": "scatter",
           "x": [
            "2",
            "4",
            "5",
            "7",
            "8",
            "11",
            "14",
            "23",
            "33",
            "39",
            "43",
            "48",
            "57",
            "58",
            "60",
            "64",
            "70",
            "72",
            "75",
            "84",
            "87",
            "90",
            "91",
            "93",
            "98"
           ],
           "xaxis": "x",
           "y": [
            26046.91,
            21915.51,
            14362.35,
            13886.94,
            13399.83,
            12737.04,
            11732.33,
            7907.13,
            5036.82,
            3777.37,
            3382.88,
            3185.74,
            2757.96,
            2693.84,
            2598.17,
            2476.54,
            2056.16,
            1996.8,
            1908.1,
            1723.62,
            1689.82,
            1606.92,
            1579.67,
            1542.21,
            1497.61
           ],
           "yaxis": "y"
          },
          {
           "customdata": [
            [
             "Santander"
            ],
            [
             "BBVA"
            ],
            [
             "\"la Caixa\""
            ],
            [
             "Criteria CaixaCorp"
            ]
           ],
           "hoverlabel": {
            "namelength": 0
           },
           "hovertemplate": "country=Spain<br>year=2010<br>rank=%{x}<br>value=%{marker.size}<br>name=%{customdata[0]}",
           "legendgroup": "country=Spain",
           "marker": {
            "color": "#00cc96",
            "size": [
             25576.48,
             10727.47,
             3189,
             1691.6
            ],
            "sizemode": "area",
            "sizeref": 199.5566,
            "symbol": "circle"
           },
           "mode": "markers",
           "name": "country=Spain",
           "showlegend": true,
           "type": "scatter",
           "x": [
            "3",
            "17",
            "47",
            "86"
           ],
           "xaxis": "x",
           "y": [
            25576.48,
            10727.47,
            3189,
            1691.6
           ],
           "yaxis": "y"
          },
          {
           "customdata": [
            [
             "BNP Paribas"
            ],
            [
             "Société Générale"
            ],
            [
             "Crédit Agricole"
            ],
            [
             "Groupe Banque Populaire"
            ],
            [
             "Groupe Caisse d'Epargne"
            ],
            [
             "Crédit mutuel"
            ],
            [
             "Natixis"
            ],
            [
             "LCL"
            ],
            [
             "CLSA"
            ],
            [
             "CIC"
            ],
            [
             "Calyon"
            ]
           ],
           "hoverlabel": {
            "namelength": 0
           },
           "hovertemplate": "country=France<br>year=2010<br>rank=%{x}<br>value=%{marker.size}<br>name=%{customdata[0]}",
           "legendgroup": "country=France",
           "marker": {
            "color": "#ab63fa",
            "size": [
             14059.82,
             11580.24,
             4616.78,
             2998.29,
             2996.07,
             2955.46,
             2614.94,
             1718.33,
             1523.47,
             1500.79,
             1478.25
            ],
            "sizemode": "area",
            "sizeref": 199.5566,
            "symbol": "circle"
           },
           "mode": "markers",
           "name": "country=France",
           "showlegend": true,
           "type": "scatter",
           "x": [
            "6",
            "16",
            "35",
            "49",
            "50",
            "51",
            "59",
            "85",
            "94",
            "97",
            "100"
           ],
           "xaxis": "x",
           "y": [
            14059.82,
            11580.24,
            4616.78,
            2998.29,
            2996.07,
            2955.46,
            2614.94,
            1718.33,
            1523.47,
            1500.79,
            1478.25
           ],
           "yaxis": "y"
          },
          {
           "customdata": [
            [
             "Credit Suisse"
            ],
            [
             "UBS"
            ]
           ],
           "hoverlabel": {
            "namelength": 0
           },
           "hovertemplate": "country=Switzerland<br>year=2010<br>rank=%{x}<br>value=%{marker.size}<br>name=%{customdata[0]}",
           "legendgroup": "country=Switzerland",
           "marker": {
            "color": "#FFA15A",
            "size": [
             8430.03,
             8261.11
            ],
            "sizemode": "area",
            "sizeref": 199.5566,
            "symbol": "circle"
           },
           "mode": "markers",
           "name": "country=Switzerland",
           "showlegend": true,
           "type": "scatter",
           "x": [
            "20",
            "22"
           ],
           "xaxis": "x",
           "y": [
            8430.03,
            8261.11
           ],
           "yaxis": "y"
          },
          {
           "customdata": [
            [
             "Rabobank"
            ]
           ],
           "hoverlabel": {
            "namelength": 0
           },
           "hovertemplate": "country=Netherlands<br>year=2010<br>rank=%{x}<br>value=%{marker.size}<br>name=%{customdata[0]}",
           "legendgroup": "country=Netherlands",
           "marker": {
            "color": "#19d3f3",
            "size": [
             5627.14
            ],
            "sizemode": "area",
            "sizeref": 199.5566,
            "symbol": "circle"
           },
           "mode": "markers",
           "name": "country=Netherlands",
           "showlegend": true,
           "type": "scatter",
           "x": [
            "29"
           ],
           "xaxis": "x",
           "y": [
            5627.14
           ],
           "yaxis": "y"
          },
          {
           "customdata": [
            [
             "Deutsche Bank"
            ],
            [
             "DZ BANK"
            ],
            [
             "Commerzbank"
            ]
           ],
           "hoverlabel": {
            "namelength": 0
           },
           "hovertemplate": "country=Germany<br>year=2010<br>rank=%{x}<br>value=%{marker.size}<br>name=%{customdata[0]}",
           "legendgroup": "country=Germany",
           "marker": {
            "color": "#FF6692",
            "size": [
             9862.18,
             4953.16,
             3520.8
            ],
            "sizemode": "area",
            "sizeref": 199.5566,
            "symbol": "circle"
           },
           "mode": "markers",
           "name": "country=Germany",
           "showlegend": true,
           "type": "scatter",
           "x": [
            "18",
            "34",
            "40"
           ],
           "xaxis": "x",
           "y": [
            9862.18,
            4953.16,
            3520.8
           ],
           "yaxis": "y"
          },
          {
           "customdata": [
            [
             "ICBC"
            ],
            [
             "China Construction Bank"
            ],
            [
             "Bank of China"
            ],
            [
             "Agricultural Bank of China"
            ],
            [
             "Bank of Communications"
            ],
            [
             "China Merchants Bank"
            ],
            [
             "Shanghai Pudong Development Bank"
            ],
            [
             "China CITIC Bank"
            ]
           ],
           "hoverlabel": {
            "namelength": 0
           },
           "hovertemplate": "country=China<br>year=2010<br>rank=%{x}<br>value=%{marker.size}<br>name=%{customdata[0]}",
           "legendgroup": "country=China",
           "marker": {
            "color": "#B6E880",
            "size": [
             12082.77,
             12076.47,
             9615.32,
             6031.94,
             3268.52,
             2212.03,
             1961.82,
             1865.86
            ],
            "sizemode": "area",
            "sizeref": 199.5566,
            "symbol": "circle"
           },
           "mode": "markers",
           "name": "country=China",
           "showlegend": true,
           "type": "scatter",
           "x": [
            "12",
            "13",
            "19",
            "28",
            "45",
            "68",
            "74",
            "76"
           ],
           "xaxis": "x",
           "y": [
            12082.77,
            12076.47,
            9615.32,
            6031.94,
            3268.52,
            2212.03,
            1961.82,
            1865.86
           ],
           "yaxis": "y"
          },
          {
           "customdata": [
            [
             "UniCredit"
            ],
            [
             "Intesa Sanpaolo"
            ],
            [
             "Hypo Vereinsbank"
            ]
           ],
           "hoverlabel": {
            "namelength": 0
           },
           "hovertemplate": "country=Italy<br>year=2010<br>rank=%{x}<br>value=%{marker.size}<br>name=%{customdata[0]}",
           "legendgroup": "country=Italy",
           "marker": {
            "color": "#FF97FF",
            "size": [
             8341.95,
             5505.83,
             2433.52
            ],
            "sizemode": "area",
            "sizeref": 199.5566,
            "symbol": "circle"
           },
           "mode": "markers",
           "name": "country=Italy",
           "showlegend": true,
           "type": "scatter",
           "x": [
            "21",
            "30",
            "65"
           ],
           "xaxis": "x",
           "y": [
            8341.95,
            5505.83,
            2433.52
           ],
           "yaxis": "y"
          },
          {
           "customdata": [
            [
             "National Australia Bank"
            ],
            [
             "Commonwealth Bank"
            ],
            [
             "Westpac"
            ],
            [
             "ANZ"
            ],
            [
             "St George Bank"
            ],
            [
             "Macquarie"
            ]
           ],
           "hoverlabel": {
            "namelength": 0
           },
           "hovertemplate": "country=Australia<br>year=2010<br>rank=%{x}<br>value=%{marker.size}<br>name=%{customdata[0]}",
           "legendgroup": "country=Australia",
           "marker": {
            "color": "#FECB52",
            "size": [
             4073.25,
             3475.13,
             3279.94,
             2873.18,
             1863.57,
             1854.01
            ],
            "sizemode": "area",
            "sizeref": 199.5566,
            "symbol": "circle"
           },
           "mode": "markers",
           "name": "country=Australia",
           "showlegend": true,
           "type": "scatter",
           "x": [
            "38",
            "41",
            "44",
            "52",
            "77",
            "79"
           ],
           "xaxis": "x",
           "y": [
            4073.25,
            3475.13,
            3279.94,
            2873.18,
            1863.57,
            1854.01
           ],
           "yaxis": "y"
          },
          {
           "customdata": [
            [
             "TD"
            ],
            [
             "RBC"
            ],
            [
             "Bank of Montreal"
            ],
            [
             "Scotiabank"
            ],
            [
             "CIBC"
            ]
           ],
           "hoverlabel": {
            "namelength": 0
           },
           "hovertemplate": "country=Canada<br>year=2010<br>rank=%{x}<br>value=%{marker.size}<br>name=%{customdata[0]}",
           "legendgroup": "country=Canada",
           "marker": {
            "color": "#636efa",
            "size": [
             5178.6,
             5169.84,
             2767.22,
             2579.16,
             2254.61
            ],
            "sizemode": "area",
            "sizeref": 199.5566,
            "symbol": "circle"
           },
           "mode": "markers",
           "name": "country=Canada",
           "showlegend": true,
           "type": "scatter",
           "x": [
            "31",
            "32",
            "56",
            "62",
            "67"
           ],
           "xaxis": "x",
           "y": [
            5178.6,
            5169.84,
            2767.22,
            2579.16,
            2254.61
           ],
           "yaxis": "y"
          },
          {
           "customdata": [
            [
             "KBC"
            ],
            [
             "Dexia"
            ]
           ],
           "hoverlabel": {
            "namelength": 0
           },
           "hovertemplate": "country=Belgium<br>year=2010<br>rank=%{x}<br>value=%{marker.size}<br>name=%{customdata[0]}",
           "legendgroup": "country=Belgium",
           "marker": {
            "color": "#EF553B",
            "size": [
             2863.63,
             1679.2
            ],
            "sizemode": "area",
            "sizeref": 199.5566,
            "symbol": "circle"
           },
           "mode": "markers",
           "name": "country=Belgium",
           "showlegend": true,
           "type": "scatter",
           "x": [
            "53",
            "88"
           ],
           "xaxis": "x",
           "y": [
            2863.63,
            1679.2
           ],
           "yaxis": "y"
          },
          {
           "customdata": [
            [
             "MUFG"
            ],
            [
             "SMFG"
            ],
            [
             "Mizuho Group"
            ],
            [
             "Nomura"
            ]
           ],
           "hoverlabel": {
            "namelength": 0
           },
           "hovertemplate": "country=Japan<br>year=2010<br>rank=%{x}<br>value=%{marker.size}<br>name=%{customdata[0]}",
           "legendgroup": "country=Japan",
           "marker": {
            "color": "#00cc96",
            "size": [
             6392.83,
             3461.71,
             2507.9,
             1766.81
            ],
            "sizemode": "area",
            "sizeref": 199.5566,
            "symbol": "circle"
           },
           "mode": "markers",
           "name": "country=Japan",
           "showlegend": true,
           "type": "scatter",
           "x": [
            "27",
            "42",
            "63",
            "82"
           ],
           "xaxis": "x",
           "y": [
            6392.83,
            3461.71,
            2507.9,
            1766.81
           ],
           "yaxis": "y"
          },
          {
           "customdata": [
            [
             "Bradesco"
            ],
            [
             "Itaú"
            ],
            [
             "Banco do Brasil"
            ],
            [
             "Unibanco"
            ]
           ],
           "hoverlabel": {
            "namelength": 0
           },
           "hovertemplate": "country=Brazil<br>year=2010<br>rank=%{x}<br>value=%{marker.size}<br>name=%{customdata[0]}",
           "legendgroup": "country=Brazil",
           "marker": {
            "color": "#ab63fa",
            "size": [
             13298.9,
             6910.55,
             6662.27,
             1859.48
            ],
            "sizemode": "area",
            "sizeref": 199.5566,
            "symbol": "circle"
           },
           "mode": "markers",
           "name": "country=Brazil",
           "showlegend": true,
           "type": "scatter",
           "x": [
            "9",
            "25",
            "26",
            "78"
           ],
           "xaxis": "x",
           "y": [
            13298.9,
            6910.55,
            6662.27,
            1859.48
           ],
           "yaxis": "y"
          },
          {
           "customdata": [
            [
             "Nordea"
            ],
            [
             "SEB"
            ]
           ],
           "hoverlabel": {
            "namelength": 0
           },
           "hovertemplate": "country=Sweden<br>year=2010<br>rank=%{x}<br>value=%{marker.size}<br>name=%{customdata[0]}",
           "legendgroup": "country=Sweden",
           "marker": {
            "color": "#FFA15A",
            "size": [
             4509.12,
             2039.09
            ],
            "sizemode": "area",
            "sizeref": 199.5566,
            "symbol": "circle"
           },
           "mode": "markers",
           "name": "country=Sweden",
           "showlegend": true,
           "type": "scatter",
           "x": [
            "37",
            "71"
           ],
           "xaxis": "x",
           "y": [
            4509.12,
            2039.09
           ],
           "yaxis": "y"
          },
          {
           "customdata": [
            [
             "Sberbank"
            ],
            [
             "VTB"
            ]
           ],
           "hoverlabel": {
            "namelength": 0
           },
           "hovertemplate": "country=Russia<br>year=2010<br>rank=%{x}<br>value=%{marker.size}<br>name=%{customdata[0]}",
           "legendgroup": "country=Russia",
           "marker": {
            "color": "#19d3f3",
            "size": [
             11729.35,
             1817.6
            ],
            "sizemode": "area",
            "sizeref": 199.5566,
            "symbol": "circle"
           },
           "mode": "markers",
           "name": "country=Russia",
           "showlegend": true,
           "type": "scatter",
           "x": [
            "15",
            "81"
           ],
           "xaxis": "x",
           "y": [
            11729.35,
            1817.6
           ],
           "yaxis": "y"
          },
          {
           "customdata": [
            [
             "State Bank of India"
            ],
            [
             "ICICI Bank"
            ]
           ],
           "hoverlabel": {
            "namelength": 0
           },
           "hovertemplate": "country=India<br>year=2010<br>rank=%{x}<br>value=%{marker.size}<br>name=%{customdata[0]}",
           "legendgroup": "country=India",
           "marker": {
            "color": "#FF6692",
            "size": [
             4550.69,
             2163.7
            ],
            "sizemode": "area",
            "sizeref": 199.5566,
            "symbol": "circle"
           },
           "mode": "markers",
           "name": "country=India",
           "showlegend": true,
           "type": "scatter",
           "x": [
            "36",
            "69"
           ],
           "xaxis": "x",
           "y": [
            4550.69,
            2163.7
           ],
           "yaxis": "y"
          },
          {
           "customdata": [
            [
             "ERSTE"
            ],
            [
             "Raiffeisen Bank"
            ]
           ],
           "hoverlabel": {
            "namelength": 0
           },
           "hovertemplate": "country=Austria<br>year=2010<br>rank=%{x}<br>value=%{marker.size}<br>name=%{customdata[0]}",
           "legendgroup": "country=Austria",
           "marker": {
            "color": "#FECB52",
            "size": [
             3228.65,
             1850.74
            ],
            "sizemode": "area",
            "sizeref": 199.5566,
            "symbol": "circle"
           },
           "mode": "markers",
           "name": "country=Austria",
           "showlegend": true,
           "type": "scatter",
           "x": [
            "46",
            "80"
           ],
           "xaxis": "x",
           "y": [
            3228.65,
            1850.74
           ],
           "yaxis": "y"
          },
          {
           "customdata": [
            [
             "National Bank of Greece"
            ]
           ],
           "hoverlabel": {
            "namelength": 0
           },
           "hovertemplate": "country=Greece<br>year=2010<br>rank=%{x}<br>value=%{marker.size}<br>name=%{customdata[0]}",
           "legendgroup": "country=Greece",
           "marker": {
            "color": "#00cc96",
            "size": [
             2314.31
            ],
            "sizemode": "area",
            "sizeref": 199.5566,
            "symbol": "circle"
           },
           "mode": "markers",
           "name": "country=Greece",
           "showlegend": true,
           "type": "scatter",
           "x": [
            "66"
           ],
           "xaxis": "x",
           "y": [
            2314.31
           ],
           "yaxis": "y"
          },
          {
           "customdata": [
            [
             "Danske Bank"
            ]
           ],
           "hoverlabel": {
            "namelength": 0
           },
           "hovertemplate": "country=Denmark<br>year=2010<br>rank=%{x}<br>value=%{marker.size}<br>name=%{customdata[0]}",
           "legendgroup": "country=Denmark",
           "marker": {
            "color": "#19d3f3",
            "size": [
             2834.99
            ],
            "sizemode": "area",
            "sizeref": 199.5566,
            "symbol": "circle"
           },
           "mode": "markers",
           "name": "country=Denmark",
           "showlegend": true,
           "type": "scatter",
           "x": [
            "55"
           ],
           "xaxis": "x",
           "y": [
            2834.99
           ],
           "yaxis": "y"
          },
          {
           "customdata": [
            [
             "DBS"
            ]
           ],
           "hoverlabel": {
            "namelength": 0
           },
           "hovertemplate": "country=Singapore<br>year=2010<br>rank=%{x}<br>value=%{marker.size}<br>name=%{customdata[0]}",
           "legendgroup": "country=Singapore",
           "marker": {
            "color": "#FF6692",
            "size": [
             1519.83
            ],
            "sizemode": "area",
            "sizeref": 199.5566,
            "symbol": "circle"
           },
           "mode": "markers",
           "name": "country=Singapore",
           "showlegend": true,
           "type": "scatter",
           "x": [
            "95"
           ],
           "xaxis": "x",
           "y": [
            1519.83
           ],
           "yaxis": "y"
          },
          {
           "customdata": [
            [
             "Caixa Geral de Depósitos"
            ]
           ],
           "hoverlabel": {
            "namelength": 0
           },
           "hovertemplate": "country=Portugal<br>year=2010<br>rank=%{x}<br>value=%{marker.size}<br>name=%{customdata[0]}",
           "legendgroup": "country=Portugal",
           "marker": {
            "color": "#B6E880",
            "size": [
             1479.59
            ],
            "sizemode": "area",
            "sizeref": 199.5566,
            "symbol": "circle"
           },
           "mode": "markers",
           "name": "country=Portugal",
           "showlegend": true,
           "type": "scatter",
           "x": [
            "99"
           ],
           "xaxis": "x",
           "y": [
            1479.59
           ],
           "yaxis": "y"
          },
          {
           "customdata": [
            [
             "Bank of China (Hong Kong)"
            ],
            [
             "Hang Seng Bank"
            ]
           ],
           "hoverlabel": {
            "namelength": 0
           },
           "hovertemplate": "country=China (Hong Kong)<br>year=2010<br>rank=%{x}<br>value=%{marker.size}<br>name=%{customdata[0]}",
           "legendgroup": "country=China (Hong Kong)",
           "marker": {
            "color": "#FF97FF",
            "size": [
             1550.15,
             1506.87
            ],
            "sizemode": "area",
            "sizeref": 199.5566,
            "symbol": "circle"
           },
           "mode": "markers",
           "name": "country=China (Hong Kong)",
           "showlegend": true,
           "type": "scatter",
           "x": [
            "92",
            "96"
           ],
           "xaxis": "x",
           "y": [
            1550.15,
            1506.87
           ],
           "yaxis": "y"
          },
          {
           "customdata": [
            [
             "Isbank"
            ]
           ],
           "hoverlabel": {
            "namelength": 0
           },
           "hovertemplate": "country=Turkey<br>year=2010<br>rank=%{x}<br>value=%{marker.size}<br>name=%{customdata[0]}",
           "legendgroup": "country=Turkey",
           "marker": {
            "color": "#FECB52",
            "size": [
             1661.7
            ],
            "sizemode": "area",
            "sizeref": 199.5566,
            "symbol": "circle"
           },
           "mode": "markers",
           "name": "country=Turkey",
           "showlegend": true,
           "type": "scatter",
           "x": [
            "89"
           ],
           "xaxis": "x",
           "y": [
            1661.7
           ],
           "yaxis": "y"
          },
          {
           "customdata": [
            [
             "DnB"
            ]
           ],
           "hoverlabel": {
            "namelength": 0
           },
           "hovertemplate": "country=Norway<br>year=2010<br>rank=%{x}<br>value=%{marker.size}<br>name=%{customdata[0]}",
           "legendgroup": "country=Norway",
           "marker": {
            "color": "#636efa",
            "size": [
             1964.27
            ],
            "sizemode": "area",
            "sizeref": 199.5566,
            "symbol": "circle"
           },
           "mode": "markers",
           "name": "country=Norway",
           "showlegend": true,
           "type": "scatter",
           "x": [
            "73"
           ],
           "xaxis": "x",
           "y": [
            1964.27
           ],
           "yaxis": "y"
          }
         ],
         "name": "2010"
        },
        {
         "data": [
          {
           "customdata": [
            [
             "HSBC"
            ],
            [
             "Barclays"
            ],
            [
             "Standard Chartered"
            ],
            [
             "RBS"
            ],
            [
             "Lloyds TSB"
            ],
            [
             "Halifax"
            ],
            [
             "NatWest"
            ],
            [
             "Bank Of Scotland"
            ],
            [
             "Scottish Widows"
            ]
           ],
           "hoverlabel": {
            "namelength": 0
           },
           "hovertemplate": "country=United Kingdom<br>year=2011<br>rank=%{x}<br>value=%{marker.size}<br>name=%{customdata[0]}",
           "legendgroup": "country=United Kingdom",
           "marker": {
            "color": "#636efa",
            "size": [
             27632.11,
             17357.72,
             7419.25,
             3346.49,
             3331.7,
             2632.39,
             2199.9,
             1893.19,
             1738.45
            ],
            "sizemode": "area",
            "sizeref": 199.5566,
            "symbol": "circle"
           },
           "mode": "markers",
           "name": "country=United Kingdom",
           "showlegend": true,
           "type": "scatter",
           "x": [
            "3",
            "7",
            "26",
            "53",
            "54",
            "65",
            "78",
            "89",
            "97"
           ],
           "xaxis": "x",
           "y": [
            27632.11,
            17357.72,
            7419.25,
            3346.49,
            3331.7,
            2632.39,
            2199.9,
            1893.19,
            1738.45
           ],
           "yaxis": "y"
          },
          {
           "customdata": [
            [
             "Wells Fargo"
            ],
            [
             "Chase"
            ],
            [
             "Citi"
            ],
            [
             "American Express"
            ],
            [
             "Goldman Sachs"
            ],
            [
             "JP Morgan"
            ],
            [
             "Morgan Stanley"
            ],
            [
             "Visa"
            ],
            [
             "U.S. Bank"
            ],
            [
             "PNC"
            ],
            [
             "BNY Mellon"
            ],
            [
             "Mastercard"
            ],
            [
             "Capital One"
            ],
            [
             "State Street"
            ],
            [
             "BB&T"
            ],
            [
             "SunTrust Bank"
            ],
            [
             "BlackRock"
            ],
            [
             "Citibanamex"
            ],
            [
             "Ameriprise Financial"
            ],
            [
             "Charles Schwab"
            ],
            [
             "KKR"
            ],
            [
             "Fifth Third Bancorp"
            ],
            [
             "Franklin Templeton Investments"
            ]
           ],
           "hoverlabel": {
            "namelength": 0
           },
           "hovertemplate": "country=United States<br>year=2011<br>rank=%{x}<br>value=%{marker.size}<br>name=%{customdata[0]}",
           "legendgroup": "country=United States",
           "marker": {
            "color": "#EF553B",
            "size": [
             28944.38,
             19150.03,
             17133.34,
             15530,
             13406.36,
             13240.58,
             6856.82,
             6555.4,
             5415.55,
             4992.72,
             4155.87,
             3930.99,
             3584.01,
             3410.66,
             3067.48,
             2821.28,
             2591.24,
             2405.65,
             2283.28,
             2046.3,
             1832.16,
             1752.02,
             1713.17
            ],
            "sizemode": "area",
            "sizeref": 199.5566,
            "symbol": "circle"
           },
           "mode": "markers",
           "name": "country=United States",
           "showlegend": true,
           "type": "scatter",
           "x": [
            "2",
            "5",
            "9",
            "13",
            "16",
            "18",
            "29",
            "32",
            "37",
            "38",
            "43",
            "45",
            "50",
            "51",
            "57",
            "61",
            "66",
            "72",
            "74",
            "85",
            "92",
            "96",
            "99"
           ],
           "xaxis": "x",
           "y": [
            28944.38,
            19150.03,
            17133.34,
            15530,
            13406.36,
            13240.58,
            6856.82,
            6555.4,
            5415.55,
            4992.72,
            4155.87,
            3930.99,
            3584.01,
            3410.66,
            3067.48,
            2821.28,
            2591.24,
            2405.65,
            2283.28,
            2046.3,
            1832.16,
            1752.02,
            1713.17
           ],
           "yaxis": "y"
          },
          {
           "customdata": [
            [
             "Santander"
            ],
            [
             "Bbva"
            ]
           ],
           "hoverlabel": {
            "namelength": 0
           },
           "hovertemplate": "country=Spain<br>year=2011<br>rank=%{x}<br>value=%{marker.size}<br>name=%{customdata[0]}",
           "legendgroup": "country=Spain",
           "marker": {
            "color": "#00cc96",
            "size": [
             26149.84,
             10719.95
            ],
            "sizemode": "area",
            "sizeref": 199.5566,
            "symbol": "circle"
           },
           "mode": "markers",
           "name": "country=Spain",
           "showlegend": true,
           "type": "scatter",
           "x": [
            "4",
            "20"
           ],
           "xaxis": "x",
           "y": [
            26149.84,
            10719.95
           ],
           "yaxis": "y"
          },
          {
           "customdata": [
            [
             "BNP Paribas"
            ],
            [
             "Société Générale"
            ],
            [
             "Crédit Agricole"
            ],
            [
             "Crédit Mutuel"
            ],
            [
             "CIC"
            ],
            [
             "LCL"
            ],
            [
             "Natixis"
            ]
           ],
           "hoverlabel": {
            "namelength": 0
           },
           "hovertemplate": "country=France<br>year=2011<br>rank=%{x}<br>value=%{marker.size}<br>name=%{customdata[0]}",
           "legendgroup": "country=France",
           "marker": {
            "color": "#ab63fa",
            "size": [
             16643.3,
             8153.28,
             3705.77,
             2676.97,
             2185.14,
             2150.76,
             2062.26
            ],
            "sizemode": "area",
            "sizeref": 199.5566,
            "symbol": "circle"
           },
           "mode": "markers",
           "name": "country=France",
           "showlegend": true,
           "type": "scatter",
           "x": [
            "12",
            "24",
            "48",
            "63",
            "81",
            "82",
            "84"
           ],
           "xaxis": "x",
           "y": [
            16643.3,
            8153.28,
            3705.77,
            2676.97,
            2185.14,
            2150.76,
            2062.26
           ],
           "yaxis": "y"
          },
          {
           "customdata": [
            [
             "Credit Suisse"
            ],
            [
             "UBS"
            ]
           ],
           "hoverlabel": {
            "namelength": 0
           },
           "hovertemplate": "country=Switzerland<br>year=2011<br>rank=%{x}<br>value=%{marker.size}<br>name=%{customdata[0]}",
           "legendgroup": "country=Switzerland",
           "marker": {
            "color": "#FFA15A",
            "size": [
             13497.15,
             9915.41
            ],
            "sizemode": "area",
            "sizeref": 199.5566,
            "symbol": "circle"
           },
           "mode": "markers",
           "name": "country=Switzerland",
           "showlegend": true,
           "type": "scatter",
           "x": [
            "15",
            "21"
           ],
           "xaxis": "x",
           "y": [
            13497.15,
            9915.41
           ],
           "yaxis": "y"
          },
          {
           "customdata": [
            [
             "Rabobank"
            ]
           ],
           "hoverlabel": {
            "namelength": 0
           },
           "hovertemplate": "country=Netherlands<br>year=2011<br>rank=%{x}<br>value=%{marker.size}<br>name=%{customdata[0]}",
           "legendgroup": "country=Netherlands",
           "marker": {
            "color": "#19d3f3",
            "size": [
             7423.4
            ],
            "sizemode": "area",
            "sizeref": 199.5566,
            "symbol": "circle"
           },
           "mode": "markers",
           "name": "country=Netherlands",
           "showlegend": true,
           "type": "scatter",
           "x": [
            "25"
           ],
           "xaxis": "x",
           "y": [
            7423.4
           ],
           "yaxis": "y"
          },
          {
           "customdata": [
            [
             "Deutsche Bank"
            ],
            [
             "DZ Bank"
            ],
            [
             "Commerzbank"
            ],
            [
             "Postbank"
            ]
           ],
           "hoverlabel": {
            "namelength": 0
           },
           "hovertemplate": "country=Germany<br>year=2011<br>rank=%{x}<br>value=%{marker.size}<br>name=%{customdata[0]}",
           "legendgroup": "country=Germany",
           "marker": {
            "color": "#FF6692",
            "size": [
             15169.05,
             4303.36,
             3067.36,
             2506.29
            ],
            "sizemode": "area",
            "sizeref": 199.5566,
            "symbol": "circle"
           },
           "mode": "markers",
           "name": "country=Germany",
           "showlegend": true,
           "type": "scatter",
           "x": [
            "14",
            "40",
            "58",
            "68"
           ],
           "xaxis": "x",
           "y": [
            15169.05,
            4303.36,
            3067.36,
            2506.29
           ],
           "yaxis": "y"
          },
          {
           "customdata": [
            [
             "ICBC"
            ],
            [
             "China Construction Bank"
            ],
            [
             "Agricultural Bank of China"
            ],
            [
             "Bank Of Communications"
            ],
            [
             "China Merchants Bank"
            ],
            [
             "China Citic"
            ],
            [
             "CMBC"
            ],
            [
             "SPD Bank"
            ],
            [
             "Industrial Bank"
            ]
           ],
           "hoverlabel": {
            "namelength": 0
           },
           "hovertemplate": "country=China<br>year=2011<br>rank=%{x}<br>value=%{marker.size}<br>name=%{customdata[0]}",
           "legendgroup": "country=China",
           "marker": {
            "color": "#B6E880",
            "size": [
             17193.81,
             17092.13,
             9283.21,
             5475.55,
             3188.58,
             2341.74,
             1951.04,
             1836.01,
             1705.27
            ],
            "sizemode": "area",
            "sizeref": 199.5566,
            "symbol": "circle"
           },
           "mode": "markers",
           "name": "country=China",
           "showlegend": true,
           "type": "scatter",
           "x": [
            "8",
            "10",
            "23",
            "36",
            "56",
            "73",
            "88",
            "91",
            "100"
           ],
           "xaxis": "x",
           "y": [
            17193.81,
            17092.13,
            9283.21,
            5475.55,
            3188.58,
            2341.74,
            1951.04,
            1836.01,
            1705.27
           ],
           "yaxis": "y"
          },
          {
           "customdata": [
            [
             "UniCredit"
            ],
            [
             "HypoVereinsbank"
            ]
           ],
           "hoverlabel": {
            "namelength": 0
           },
           "hovertemplate": "country=Italy<br>year=2011<br>rank=%{x}<br>value=%{marker.size}<br>name=%{customdata[0]}",
           "legendgroup": "country=Italy",
           "marker": {
            "color": "#FF97FF",
            "size": [
             6620.8,
             2813.31
            ],
            "sizemode": "area",
            "sizeref": 199.5566,
            "symbol": "circle"
           },
           "mode": "markers",
           "name": "country=Italy",
           "showlegend": true,
           "type": "scatter",
           "x": [
            "30",
            "62"
           ],
           "xaxis": "x",
           "y": [
            6620.8,
            2813.31
           ],
           "yaxis": "y"
          },
          {
           "customdata": [
            [
             "National Australia Bank"
            ],
            [
             "Commonwealth Bank"
            ],
            [
             "Westpac"
            ],
            [
             "ANZ"
            ],
            [
             "Macquarie"
            ],
            [
             "St.George"
            ]
           ],
           "hoverlabel": {
            "namelength": 0
           },
           "hovertemplate": "country=Australia<br>year=2011<br>rank=%{x}<br>value=%{marker.size}<br>name=%{customdata[0]}",
           "legendgroup": "country=Australia",
           "marker": {
            "color": "#FECB52",
            "size": [
             4175.59,
             3857.93,
             3383.72,
             2976.89,
             2207.44,
             1722.23
            ],
            "sizemode": "area",
            "sizeref": 199.5566,
            "symbol": "circle"
           },
           "mode": "markers",
           "name": "country=Australia",
           "showlegend": true,
           "type": "scatter",
           "x": [
            "42",
            "46",
            "52",
            "59",
            "77",
            "98"
           ],
           "xaxis": "x",
           "y": [
            4175.59,
            3857.93,
            3383.72,
            2976.89,
            2207.44,
            1722.23
           ],
           "yaxis": "y"
          },
          {
           "customdata": [
            [
             "RBC"
            ],
            [
             "TD"
            ],
            [
             "Scotiabank"
            ],
            [
             "BMO Financial Group"
            ],
            [
             "CIBC"
            ]
           ],
           "hoverlabel": {
            "namelength": 0
           },
           "hovertemplate": "country=Canada<br>year=2011<br>rank=%{x}<br>value=%{marker.size}<br>name=%{customdata[0]}",
           "legendgroup": "country=Canada",
           "marker": {
            "color": "#636efa",
            "size": [
             7068.89,
             6604.01,
             4119.82,
             3796.55,
             3276.34
            ],
            "sizemode": "area",
            "sizeref": 199.5566,
            "symbol": "circle"
           },
           "mode": "markers",
           "name": "country=Canada",
           "showlegend": true,
           "type": "scatter",
           "x": [
            "28",
            "31",
            "44",
            "47",
            "55"
           ],
           "xaxis": "x",
           "y": [
            7068.89,
            6604.01,
            4119.82,
            3796.55,
            3276.34
           ],
           "yaxis": "y"
          },
          {
           "customdata": [
            [
             "KBC"
            ]
           ],
           "hoverlabel": {
            "namelength": 0
           },
           "hovertemplate": "country=Belgium<br>year=2011<br>rank=%{x}<br>value=%{marker.size}<br>name=%{customdata[0]}",
           "legendgroup": "country=Belgium",
           "marker": {
            "color": "#EF553B",
            "size": [
             2465.52
            ],
            "sizemode": "area",
            "sizeref": 199.5566,
            "symbol": "circle"
           },
           "mode": "markers",
           "name": "country=Belgium",
           "showlegend": true,
           "type": "scatter",
           "x": [
            "70"
           ],
           "xaxis": "x",
           "y": [
            2465.52
           ],
           "yaxis": "y"
          },
          {
           "customdata": [
            [
             "MUFG"
            ],
            [
             "Sumitomo Mitsui Financial Group"
            ],
            [
             "Mizuho"
            ],
            [
             "Nomura"
            ]
           ],
           "hoverlabel": {
            "namelength": 0
           },
           "hovertemplate": "country=Japan<br>year=2011<br>rank=%{x}<br>value=%{marker.size}<br>name=%{customdata[0]}",
           "legendgroup": "country=Japan",
           "marker": {
            "color": "#00cc96",
            "size": [
             7336.24,
             5511.82,
             4349.35,
             2650.58
            ],
            "sizemode": "area",
            "sizeref": 199.5566,
            "symbol": "circle"
           },
           "mode": "markers",
           "name": "country=Japan",
           "showlegend": true,
           "type": "scatter",
           "x": [
            "27",
            "35",
            "39",
            "64"
           ],
           "xaxis": "x",
           "y": [
            7336.24,
            5511.82,
            4349.35,
            2650.58
           ],
           "yaxis": "y"
          },
          {
           "customdata": [
            [
             "Bradesco"
            ],
            [
             "Itaú"
            ],
            [
             "Banco do Brasil"
            ]
           ],
           "hoverlabel": {
            "namelength": 0
           },
           "hovertemplate": "country=Brazil<br>year=2011<br>rank=%{x}<br>value=%{marker.size}<br>name=%{customdata[0]}",
           "legendgroup": "country=Brazil",
           "marker": {
            "color": "#ab63fa",
            "size": [
             18677.84,
             16654.89,
             9525.77
            ],
            "sizemode": "area",
            "sizeref": 199.5566,
            "symbol": "circle"
           },
           "mode": "markers",
           "name": "country=Brazil",
           "showlegend": true,
           "type": "scatter",
           "x": [
            "6",
            "11",
            "22"
           ],
           "xaxis": "x",
           "y": [
            18677.84,
            16654.89,
            9525.77
           ],
           "yaxis": "y"
          },
          {
           "customdata": [
            [
             "Nordea"
            ],
            [
             "SEB"
            ],
            [
             "Handelsbanken"
            ]
           ],
           "hoverlabel": {
            "namelength": 0
           },
           "hovertemplate": "country=Sweden<br>year=2011<br>rank=%{x}<br>value=%{marker.size}<br>name=%{customdata[0]}",
           "legendgroup": "country=Sweden",
           "marker": {
            "color": "#FFA15A",
            "size": [
             5741.23,
             2069.07,
             2031.39
            ],
            "sizemode": "area",
            "sizeref": 199.5566,
            "symbol": "circle"
           },
           "mode": "markers",
           "name": "country=Sweden",
           "showlegend": true,
           "type": "scatter",
           "x": [
            "33",
            "83",
            "87"
           ],
           "xaxis": "x",
           "y": [
            5741.23,
            2069.07,
            2031.39
           ],
           "yaxis": "y"
          },
          {
           "customdata": [
            [
             "Sberbank"
            ],
            [
             "VTB"
            ]
           ],
           "hoverlabel": {
            "namelength": 0
           },
           "hovertemplate": "country=Russia<br>year=2011<br>rank=%{x}<br>value=%{marker.size}<br>name=%{customdata[0]}",
           "legendgroup": "country=Russia",
           "marker": {
            "color": "#19d3f3",
            "size": [
             12011.53,
             1785.34
            ],
            "sizemode": "area",
            "sizeref": 199.5566,
            "symbol": "circle"
           },
           "mode": "markers",
           "name": "country=Russia",
           "showlegend": true,
           "type": "scatter",
           "x": [
            "19",
            "93"
           ],
           "xaxis": "x",
           "y": [
            12011.53,
            1785.34
           ],
           "yaxis": "y"
          },
          {
           "customdata": [
            [
             "State Bank of India"
            ],
            [
             "ICICI Bank"
            ]
           ],
           "hoverlabel": {
            "namelength": 0
           },
           "hovertemplate": "country=India<br>year=2011<br>rank=%{x}<br>value=%{marker.size}<br>name=%{customdata[0]}",
           "legendgroup": "country=India",
           "marker": {
            "color": "#FF6692",
            "size": [
             5670.48,
             2501.08
            ],
            "sizemode": "area",
            "sizeref": 199.5566,
            "symbol": "circle"
           },
           "mode": "markers",
           "name": "country=India",
           "showlegend": true,
           "type": "scatter",
           "x": [
            "34",
            "69"
           ],
           "xaxis": "x",
           "y": [
            5670.48,
            2501.08
           ],
           "yaxis": "y"
          },
          {
           "customdata": [
            [
             "Erste"
            ],
            [
             "Raiffeisen Bank International"
            ]
           ],
           "hoverlabel": {
            "namelength": 0
           },
           "hovertemplate": "country=Austria<br>year=2011<br>rank=%{x}<br>value=%{marker.size}<br>name=%{customdata[0]}",
           "legendgroup": "country=Austria",
           "marker": {
            "color": "#FECB52",
            "size": [
             4293.13,
             2574.54
            ],
            "sizemode": "area",
            "sizeref": 199.5566,
            "symbol": "circle"
           },
           "mode": "markers",
           "name": "country=Austria",
           "showlegend": true,
           "type": "scatter",
           "x": [
            "41",
            "67"
           ],
           "xaxis": "x",
           "y": [
            4293.13,
            2574.54
           ],
           "yaxis": "y"
          },
          {
           "customdata": [
            [
             "Standard Bank"
            ],
            [
             "ABSA"
            ]
           ],
           "hoverlabel": {
            "namelength": 0
           },
           "hovertemplate": "country=South Africa<br>year=2011<br>rank=%{x}<br>value=%{marker.size}<br>name=%{customdata[0]}",
           "legendgroup": "country=South Africa",
           "marker": {
            "color": "#EF553B",
            "size": [
             2256.76,
             1876
            ],
            "sizemode": "area",
            "sizeref": 199.5566,
            "symbol": "circle"
           },
           "mode": "markers",
           "name": "country=South Africa",
           "showlegend": true,
           "type": "scatter",
           "x": [
            "76",
            "90"
           ],
           "xaxis": "x",
           "y": [
            2256.76,
            1876
           ],
           "yaxis": "y"
          },
          {
           "customdata": [
            [
             "Kookmin"
            ]
           ],
           "hoverlabel": {
            "namelength": 0
           },
           "hovertemplate": "country=South Korea<br>year=2011<br>rank=%{x}<br>value=%{marker.size}<br>name=%{customdata[0]}",
           "legendgroup": "country=South Korea",
           "marker": {
            "color": "#ab63fa",
            "size": [
             2196.7
            ],
            "sizemode": "area",
            "sizeref": 199.5566,
            "symbol": "circle"
           },
           "mode": "markers",
           "name": "country=South Korea",
           "showlegend": true,
           "type": "scatter",
           "x": [
            "80"
           ],
           "xaxis": "x",
           "y": [
            2196.7
           ],
           "yaxis": "y"
          },
          {
           "customdata": [
            [
             "Danske Bank"
            ]
           ],
           "hoverlabel": {
            "namelength": 0
           },
           "hovertemplate": "country=Denmark<br>year=2011<br>rank=%{x}<br>value=%{marker.size}<br>name=%{customdata[0]}",
           "legendgroup": "country=Denmark",
           "marker": {
            "color": "#19d3f3",
            "size": [
             2948.13
            ],
            "sizemode": "area",
            "sizeref": 199.5566,
            "symbol": "circle"
           },
           "mode": "markers",
           "name": "country=Denmark",
           "showlegend": true,
           "type": "scatter",
           "x": [
            "60"
           ],
           "xaxis": "x",
           "y": [
            2948.13
           ],
           "yaxis": "y"
          },
          {
           "customdata": [
            [
             "DBS"
            ]
           ],
           "hoverlabel": {
            "namelength": 0
           },
           "hovertemplate": "country=Singapore<br>year=2011<br>rank=%{x}<br>value=%{marker.size}<br>name=%{customdata[0]}",
           "legendgroup": "country=Singapore",
           "marker": {
            "color": "#FF6692",
            "size": [
             2040.54
            ],
            "sizemode": "area",
            "sizeref": 199.5566,
            "symbol": "circle"
           },
           "mode": "markers",
           "name": "country=Singapore",
           "showlegend": true,
           "type": "scatter",
           "x": [
            "86"
           ],
           "xaxis": "x",
           "y": [
            2040.54
           ],
           "yaxis": "y"
          },
          {
           "customdata": [
            [
             "Hang Seng Bank"
            ]
           ],
           "hoverlabel": {
            "namelength": 0
           },
           "hovertemplate": "country=China (Hong Kong)<br>year=2011<br>rank=%{x}<br>value=%{marker.size}<br>name=%{customdata[0]}",
           "legendgroup": "country=China (Hong Kong)",
           "marker": {
            "color": "#FF97FF",
            "size": [
             2198.91
            ],
            "sizemode": "area",
            "sizeref": 199.5566,
            "symbol": "circle"
           },
           "mode": "markers",
           "name": "country=China (Hong Kong)",
           "showlegend": true,
           "type": "scatter",
           "x": [
            "79"
           ],
           "xaxis": "x",
           "y": [
            2198.91
           ],
           "yaxis": "y"
          },
          {
           "customdata": [
            [
             "Isbank"
            ],
            [
             "Akbank"
            ],
            [
             "Garanti"
            ]
           ],
           "hoverlabel": {
            "namelength": 0
           },
           "hovertemplate": "country=Turkey<br>year=2011<br>rank=%{x}<br>value=%{marker.size}<br>name=%{customdata[0]}",
           "legendgroup": "country=Turkey",
           "marker": {
            "color": "#FECB52",
            "size": [
             2279.68,
             1779.55,
             1754.45
            ],
            "sizemode": "area",
            "sizeref": 199.5566,
            "symbol": "circle"
           },
           "mode": "markers",
           "name": "country=Turkey",
           "showlegend": true,
           "type": "scatter",
           "x": [
            "75",
            "94",
            "95"
           ],
           "xaxis": "x",
           "y": [
            2279.68,
            1779.55,
            1754.45
           ],
           "yaxis": "y"
          },
          {
           "customdata": [
            [
             "DnB"
            ]
           ],
           "hoverlabel": {
            "namelength": 0
           },
           "hovertemplate": "country=Norway<br>year=2011<br>rank=%{x}<br>value=%{marker.size}<br>name=%{customdata[0]}",
           "legendgroup": "country=Norway",
           "marker": {
            "color": "#636efa",
            "size": [
             2433.12
            ],
            "sizemode": "area",
            "sizeref": 199.5566,
            "symbol": "circle"
           },
           "mode": "markers",
           "name": "country=Norway",
           "showlegend": true,
           "type": "scatter",
           "x": [
            "71"
           ],
           "xaxis": "x",
           "y": [
            2433.12
           ],
           "yaxis": "y"
          },
          {
           "customdata": [
            [
             "Bank of America\n"
            ],
            [
             "Bank of China\n"
            ],
            [
             "Bank of America Merrill Lynch\n"
            ]
           ],
           "hoverlabel": {
            "namelength": 0
           },
           "hovertemplate": "country=0<br>year=2011<br>rank=%{x}<br>value=%{marker.size}<br>name=%{customdata[0]}",
           "legendgroup": "country=0",
           "marker": {
            "color": "#EF553B",
            "size": [
             30618.64,
             13256.55,
             3628.9
            ],
            "sizemode": "area",
            "sizeref": 199.5566,
            "symbol": "circle"
           },
           "mode": "markers",
           "name": "country=0",
           "showlegend": true,
           "type": "scatter",
           "x": [
            "1",
            "17",
            "49"
           ],
           "xaxis": "x",
           "y": [
            30618.64,
            13256.55,
            3628.9
           ],
           "yaxis": "y"
          }
         ],
         "name": "2011"
        },
        {
         "data": [
          {
           "customdata": [
            [
             "HSBC"
            ],
            [
             "Barclays"
            ],
            [
             "Standard Chartered"
            ],
            [
             "RBS"
            ],
            [
             "Lloyds TSB"
            ],
            [
             "Halifax"
            ],
            [
             "Bank of Scotland"
            ],
            [
             "NatWest"
            ]
           ],
           "hoverlabel": {
            "namelength": 0
           },
           "hovertemplate": "country=United Kingdom<br>year=2012<br>rank=%{x}<br>value=%{marker.size}<br>name=%{customdata[0]}",
           "legendgroup": "country=United Kingdom",
           "marker": {
            "color": "#636efa",
            "size": [
             27597.21,
             13551.79,
             7624,
             4055.67,
             2701.12,
             2069.07,
             1801.57,
             1797
            ],
            "sizemode": "area",
            "sizeref": 199.5566,
            "symbol": "circle"
           },
           "mode": "markers",
           "name": "country=United Kingdom",
           "showlegend": true,
           "type": "scatter",
           "x": [
            "1",
            "12",
            "24",
            "45",
            "58",
            "75",
            "86",
            "88"
           ],
           "xaxis": "x",
           "y": [
            27597.21,
            13551.79,
            7624,
            4055.67,
            2701.12,
            2069.07,
            1801.57,
            1797
           ],
           "yaxis": "y"
          },
          {
           "customdata": [
            [
             "Wells Fargo"
            ],
            [
             "Bank of America"
            ],
            [
             "Chase"
            ],
            [
             "Citi"
            ],
            [
             "American Express"
            ],
            [
             "J.P. Morgan"
            ],
            [
             "Goldman Sachs"
            ],
            [
             "Visa"
            ],
            [
             "Morgan Stanley"
            ],
            [
             "Mastercard"
            ],
            [
             "Capital One"
            ],
            [
             "PNC"
            ],
            [
             "U.S. Bancorp"
            ],
            [
             "BNY Mellon"
            ],
            [
             "BB&T"
            ],
            [
             "State Street"
            ],
            [
             "Blackrock"
            ],
            [
             "Ameriprise Financial"
            ],
            [
             "KKR"
            ],
            [
             "Banamex"
            ],
            [
             "SunTrust Banks"
            ],
            [
             "Charles Schwab"
            ],
            [
             "Franklin Templeton Investments"
            ],
            [
             "Fifth Third Bank"
            ]
           ],
           "hoverlabel": {
            "namelength": 0
           },
           "hovertemplate": "country=United States<br>year=2012<br>rank=%{x}<br>value=%{marker.size}<br>name=%{customdata[0]}",
           "legendgroup": "country=United States",
           "marker": {
            "color": "#EF553B",
            "size": [
             23229.19,
             22910,
             18963.79,
             18638.56,
             18230.89,
             11602.32,
             9331.94,
             7087.33,
             6346.58,
             5177.12,
             4947.41,
             4845.35,
             4514,
             4029.25,
             2615.74,
             2517.37,
             2432.93,
             2313.5,
             2291.4,
             2221.63,
             2169.45,
             1808.16,
             1760.17,
             1607.79
            ],
            "sizemode": "area",
            "sizeref": 199.5566,
            "symbol": "circle"
           },
           "mode": "markers",
           "name": "country=United States",
           "showlegend": true,
           "type": "scatter",
           "x": [
            "2",
            "3",
            "5",
            "6",
            "7",
            "16",
            "19",
            "28",
            "29",
            "35",
            "36",
            "37",
            "41",
            "46",
            "59",
            "60",
            "63",
            "68",
            "70",
            "71",
            "72",
            "85",
            "91",
            "95"
           ],
           "xaxis": "x",
           "y": [
            23229.19,
            22910,
            18963.79,
            18638.56,
            18230.89,
            11602.32,
            9331.94,
            7087.33,
            6346.58,
            5177.12,
            4947.41,
            4845.35,
            4514,
            4029.25,
            2615.74,
            2517.37,
            2432.93,
            2313.5,
            2291.4,
            2221.63,
            2169.45,
            1808.16,
            1760.17,
            1607.79
           ],
           "yaxis": "y"
          },
          {
           "customdata": [
            [
             "Santander"
            ],
            [
             "BBVA"
            ]
           ],
           "hoverlabel": {
            "namelength": 0
           },
           "hovertemplate": "country=Spain<br>year=2012<br>rank=%{x}<br>value=%{marker.size}<br>name=%{customdata[0]}",
           "legendgroup": "country=Spain",
           "marker": {
            "color": "#00cc96",
            "size": [
             19969.17,
             7195.46
            ],
            "sizemode": "area",
            "sizeref": 199.5566,
            "symbol": "circle"
           },
           "mode": "markers",
           "name": "country=Spain",
           "showlegend": true,
           "type": "scatter",
           "x": [
            "4",
            "27"
           ],
           "xaxis": "x",
           "y": [
            19969.17,
            7195.46
           ],
           "yaxis": "y"
          },
          {
           "customdata": [
            [
             "BNP Paribas"
            ],
            [
             "Société Générale"
            ],
            [
             "Crédit Agricole"
            ],
            [
             "Crédit Industriel et Commercial"
            ],
            [
             "Crédit Mutuel"
            ]
           ],
           "hoverlabel": {
            "namelength": 0
           },
           "hovertemplate": "country=France<br>year=2012<br>rank=%{x}<br>value=%{marker.size}<br>name=%{customdata[0]}",
           "legendgroup": "country=France",
           "marker": {
            "color": "#ab63fa",
            "size": [
             16808.67,
             4734.17,
             2840.86,
             1987.38,
             1951.47
            ],
            "sizemode": "area",
            "sizeref": 199.5566,
            "symbol": "circle"
           },
           "mode": "markers",
           "name": "country=France",
           "showlegend": true,
           "type": "scatter",
           "x": [
            "8",
            "38",
            "54",
            "77",
            "78"
           ],
           "xaxis": "x",
           "y": [
            16808.67,
            4734.17,
            2840.86,
            1987.38,
            1951.47
           ],
           "yaxis": "y"
          },
          {
           "customdata": [
            [
             "Credit Suisse"
            ],
            [
             "UBS"
            ]
           ],
           "hoverlabel": {
            "namelength": 0
           },
           "hovertemplate": "country=Switzerland<br>year=2012<br>rank=%{x}<br>value=%{marker.size}<br>name=%{customdata[0]}",
           "legendgroup": "country=Switzerland",
           "marker": {
            "color": "#FFA15A",
            "size": [
             8368.45,
             5943.58
            ],
            "sizemode": "area",
            "sizeref": 199.5566,
            "symbol": "circle"
           },
           "mode": "markers",
           "name": "country=Switzerland",
           "showlegend": true,
           "type": "scatter",
           "x": [
            "22",
            "30"
           ],
           "xaxis": "x",
           "y": [
            8368.45,
            5943.58
           ],
           "yaxis": "y"
          },
          {
           "customdata": [
            [
             "Rabobank"
            ],
            [
             "ING (Banking)"
            ]
           ],
           "hoverlabel": {
            "namelength": 0
           },
           "hovertemplate": "country=Netherlands<br>year=2012<br>rank=%{x}<br>value=%{marker.size}<br>name=%{customdata[0]}",
           "legendgroup": "country=Netherlands",
           "marker": {
            "color": "#19d3f3",
            "size": [
             7328.43,
             2844.97
            ],
            "sizemode": "area",
            "sizeref": 199.5566,
            "symbol": "circle"
           },
           "mode": "markers",
           "name": "country=Netherlands",
           "showlegend": true,
           "type": "scatter",
           "x": [
            "25",
            "53"
           ],
           "xaxis": "x",
           "y": [
            7328.43,
            2844.97
           ],
           "yaxis": "y"
          },
          {
           "customdata": [
            [
             "Deutsche Bank"
            ],
            [
             "DZ Bank"
            ],
            [
             "Commerzbank"
            ],
            [
             "Deutsche Postbank"
            ]
           ],
           "hoverlabel": {
            "namelength": 0
           },
           "hovertemplate": "country=Germany<br>year=2012<br>rank=%{x}<br>value=%{marker.size}<br>name=%{customdata[0]}",
           "legendgroup": "country=Germany",
           "marker": {
            "color": "#FF6692",
            "size": [
             12905.52,
             3330.37,
             2327.74,
             1766.54
            ],
            "sizemode": "area",
            "sizeref": 199.5566,
            "symbol": "circle"
           },
           "mode": "markers",
           "name": "country=Germany",
           "showlegend": true,
           "type": "scatter",
           "x": [
            "14",
            "52",
            "66",
            "90"
           ],
           "xaxis": "x",
           "y": [
            12905.52,
            3330.37,
            2327.74,
            1766.54
           ],
           "yaxis": "y"
          },
          {
           "customdata": [
            [
             "China Construction Bank"
            ],
            [
             "ICBC"
            ],
            [
             "Agricultural Bank of China"
            ],
            [
             "Bank Of Communications"
            ],
            [
             "China Merchants Bank"
            ],
            [
             "SPD Bank"
            ],
            [
             "Hang Seng Bank"
            ],
            [
             "China Citic"
            ],
            [
             "CMBC"
            ],
            [
             "Industrial Bank"
            ],
            [
             "China Everbright Bank"
            ]
           ],
           "hoverlabel": {
            "namelength": 0
           },
           "hovertemplate": "country=China<br>year=2012<br>rank=%{x}<br>value=%{marker.size}<br>name=%{customdata[0]}",
           "legendgroup": "country=China",
           "marker": {
            "color": "#B6E880",
            "size": [
             15464.06,
             15163.78,
             9929.25,
             5630.28,
             3979.88,
             2450.48,
             2333.88,
             2294.54,
             2107.06,
             1570.88,
             1560.88
            ],
            "sizemode": "area",
            "sizeref": 199.5566,
            "symbol": "circle"
           },
           "mode": "markers",
           "name": "country=China",
           "showlegend": true,
           "type": "scatter",
           "x": [
            "10",
            "11",
            "18",
            "32",
            "47",
            "62",
            "65",
            "69",
            "74",
            "97",
            "100"
           ],
           "xaxis": "x",
           "y": [
            15464.06,
            15163.78,
            9929.25,
            5630.28,
            3979.88,
            2450.48,
            2333.88,
            2294.54,
            2107.06,
            1570.88,
            1560.88
           ],
           "yaxis": "y"
          },
          {
           "customdata": [
            [
             "UniCredit"
            ],
            [
             "HypoVereinsbank"
            ]
           ],
           "hoverlabel": {
            "namelength": 0
           },
           "hovertemplate": "country=Italy<br>year=2012<br>rank=%{x}<br>value=%{marker.size}<br>name=%{customdata[0]}",
           "legendgroup": "country=Italy",
           "marker": {
            "color": "#FF97FF",
            "size": [
             4139.91,
             1824.67
            ],
            "sizemode": "area",
            "sizeref": 199.5566,
            "symbol": "circle"
           },
           "mode": "markers",
           "name": "country=Italy",
           "showlegend": true,
           "type": "scatter",
           "x": [
            "44",
            "83"
           ],
           "xaxis": "x",
           "y": [
            4139.91,
            1824.67
           ],
           "yaxis": "y"
          },
          {
           "customdata": [
            [
             "Commonwealth Bank"
            ],
            [
             "nab"
            ],
            [
             "Westpac"
            ],
            [
             "ANZ"
            ],
            [
             "Macquarie"
            ]
           ],
           "hoverlabel": {
            "namelength": 0
           },
           "hovertemplate": "country=Australia<br>year=2012<br>rank=%{x}<br>value=%{marker.size}<br>name=%{customdata[0]}",
           "legendgroup": "country=Australia",
           "marker": {
            "color": "#FECB52",
            "size": [
             4243.97,
             4159.84,
             3569.9,
             3433.1,
             1907.28
            ],
            "sizemode": "area",
            "sizeref": 199.5566,
            "symbol": "circle"
           },
           "mode": "markers",
           "name": "country=Australia",
           "showlegend": true,
           "type": "scatter",
           "x": [
            "42",
            "43",
            "49",
            "50",
            "79"
           ],
           "xaxis": "x",
           "y": [
            4243.97,
            4159.84,
            3569.9,
            3433.1,
            1907.28
           ],
           "yaxis": "y"
          },
          {
           "customdata": [
            [
             "Royal Bank Of Canada"
            ],
            [
             "TD Bank Financial Group"
            ],
            [
             "Scotiabank"
            ],
            [
             "Bank of Montreal"
            ],
            [
             "CIBC"
            ],
            [
             "National Bank of Canada"
            ]
           ],
           "hoverlabel": {
            "namelength": 0
           },
           "hovertemplate": "country=Canada<br>year=2012<br>rank=%{x}<br>value=%{marker.size}<br>name=%{customdata[0]}",
           "legendgroup": "country=Canada",
           "marker": {
            "color": "#636efa",
            "size": [
             8646.8,
             8498.54,
             5717.42,
             5359.84,
             4557.3,
             1659.84
            ],
            "sizemode": "area",
            "sizeref": 199.5566,
            "symbol": "circle"
           },
           "mode": "markers",
           "name": "country=Canada",
           "showlegend": true,
           "type": "scatter",
           "x": [
            "20",
            "21",
            "31",
            "33",
            "40",
            "93"
           ],
           "xaxis": "x",
           "y": [
            8646.8,
            8498.54,
            5717.42,
            5359.84,
            4557.3,
            1659.84
           ],
           "yaxis": "y"
          },
          {
           "customdata": [
            [
             "KBC"
            ]
           ],
           "hoverlabel": {
            "namelength": 0
           },
           "hovertemplate": "country=Belgium<br>year=2012<br>rank=%{x}<br>value=%{marker.size}<br>name=%{customdata[0]}",
           "legendgroup": "country=Belgium",
           "marker": {
            "color": "#EF553B",
            "size": [
             1816.08
            ],
            "sizemode": "area",
            "sizeref": 199.5566,
            "symbol": "circle"
           },
           "mode": "markers",
           "name": "country=Belgium",
           "showlegend": true,
           "type": "scatter",
           "x": [
            "84"
           ],
           "xaxis": "x",
           "y": [
            1816.08
           ],
           "yaxis": "y"
          },
          {
           "customdata": [
            [
             "Bank of Tokyo-Mitsubishi UFJ"
            ],
            [
             "Sumitomo Mitsui Financial Group"
            ],
            [
             "Mizuho Financial Group"
            ],
            [
             "Nomura"
            ]
           ],
           "hoverlabel": {
            "namelength": 0
           },
           "hovertemplate": "country=Japan<br>year=2012<br>rank=%{x}<br>value=%{marker.size}<br>name=%{customdata[0]}",
           "legendgroup": "country=Japan",
           "marker": {
            "color": "#00cc96",
            "size": [
             8314.51,
             3848.46,
             3377.03,
             2840.63
            ],
            "sizemode": "area",
            "sizeref": 199.5566,
            "symbol": "circle"
           },
           "mode": "markers",
           "name": "country=Japan",
           "showlegend": true,
           "type": "scatter",
           "x": [
            "23",
            "48",
            "51",
            "55"
           ],
           "xaxis": "x",
           "y": [
            8314.51,
            3848.46,
            3377.03,
            2840.63
           ],
           "yaxis": "y"
          },
          {
           "customdata": [
            [
             "Bradesco"
            ],
            [
             "Itaú"
            ],
            [
             "Banco do Brasil"
            ]
           ],
           "hoverlabel": {
            "namelength": 0
           },
           "hovertemplate": "country=Brazil<br>year=2012<br>rank=%{x}<br>value=%{marker.size}<br>name=%{customdata[0]}",
           "legendgroup": "country=Brazil",
           "marker": {
            "color": "#ab63fa",
            "size": [
             15692.18,
             13171.03,
             7264.48
            ],
            "sizemode": "area",
            "sizeref": 199.5566,
            "symbol": "circle"
           },
           "mode": "markers",
           "name": "country=Brazil",
           "showlegend": true,
           "type": "scatter",
           "x": [
            "9",
            "13",
            "26"
           ],
           "xaxis": "x",
           "y": [
            15692.18,
            13171.03,
            7264.48
           ],
           "yaxis": "y"
          },
          {
           "customdata": [
            [
             "Nordea"
            ],
            [
             "Svenska Handelsbanken"
            ],
            [
             "SEB"
            ]
           ],
           "hoverlabel": {
            "namelength": 0
           },
           "hovertemplate": "country=Sweden<br>year=2012<br>rank=%{x}<br>value=%{marker.size}<br>name=%{customdata[0]}",
           "legendgroup": "country=Sweden",
           "marker": {
            "color": "#FFA15A",
            "size": [
             5252.63,
             1896.92,
             1662.63
            ],
            "sizemode": "area",
            "sizeref": 199.5566,
            "symbol": "circle"
           },
           "mode": "markers",
           "name": "country=Sweden",
           "showlegend": true,
           "type": "scatter",
           "x": [
            "34",
            "80",
            "92"
           ],
           "xaxis": "x",
           "y": [
            5252.63,
            1896.92,
            1662.63
           ],
           "yaxis": "y"
          },
          {
           "customdata": [
            [
             "Sberbank"
            ],
            [
             "VTB Bank"
            ]
           ],
           "hoverlabel": {
            "namelength": 0
           },
           "hovertemplate": "country=Russia<br>year=2012<br>rank=%{x}<br>value=%{marker.size}<br>name=%{customdata[0]}",
           "legendgroup": "country=Russia",
           "marker": {
            "color": "#19d3f3",
            "size": [
             10772.28,
             1797
            ],
            "sizemode": "area",
            "sizeref": 199.5566,
            "symbol": "circle"
           },
           "mode": "markers",
           "name": "country=Russia",
           "showlegend": true,
           "type": "scatter",
           "x": [
            "17",
            "87"
           ],
           "xaxis": "x",
           "y": [
            10772.28,
            1797
           ],
           "yaxis": "y"
          },
          {
           "customdata": [
            [
             "State Bank of India"
            ]
           ],
           "hoverlabel": {
            "namelength": 0
           },
           "hovertemplate": "country=India<br>year=2012<br>rank=%{x}<br>value=%{marker.size}<br>name=%{customdata[0]}",
           "legendgroup": "country=India",
           "marker": {
            "color": "#FF6692",
            "size": [
             4686.55
            ],
            "sizemode": "area",
            "sizeref": 199.5566,
            "symbol": "circle"
           },
           "mode": "markers",
           "name": "country=India",
           "showlegend": true,
           "type": "scatter",
           "x": [
            "39"
           ],
           "xaxis": "x",
           "y": [
            4686.55
           ],
           "yaxis": "y"
          },
          {
           "customdata": [
            [
             "Erste Group"
            ],
            [
             "Raiffeisen Bank"
            ]
           ],
           "hoverlabel": {
            "namelength": 0
           },
           "hovertemplate": "country=Austria<br>year=2012<br>rank=%{x}<br>value=%{marker.size}<br>name=%{customdata[0]}",
           "legendgroup": "country=Austria",
           "marker": {
            "color": "#FECB52",
            "size": [
             2475.9,
             1882.28
            ],
            "sizemode": "area",
            "sizeref": 199.5566,
            "symbol": "circle"
           },
           "mode": "markers",
           "name": "country=Austria",
           "showlegend": true,
           "type": "scatter",
           "x": [
            "61",
            "81"
           ],
           "xaxis": "x",
           "y": [
            2475.9,
            1882.28
           ],
           "yaxis": "y"
          },
          {
           "customdata": [
            [
             "Standard Bank"
            ],
            [
             "ABSA"
            ]
           ],
           "hoverlabel": {
            "namelength": 0
           },
           "hovertemplate": "country=South Africa<br>year=2012<br>rank=%{x}<br>value=%{marker.size}<br>name=%{customdata[0]}",
           "legendgroup": "country=South Africa",
           "marker": {
            "color": "#EF553B",
            "size": [
             2165.47,
             1796.11
            ],
            "sizemode": "area",
            "sizeref": 199.5566,
            "symbol": "circle"
           },
           "mode": "markers",
           "name": "country=South Africa",
           "showlegend": true,
           "type": "scatter",
           "x": [
            "73",
            "89"
           ],
           "xaxis": "x",
           "y": [
            2165.47,
            1796.11
           ],
           "yaxis": "y"
          },
          {
           "customdata": [
            [
             "Shinhan Financial Group"
            ],
            [
             "KB Kookmin Bank"
            ]
           ],
           "hoverlabel": {
            "namelength": 0
           },
           "hovertemplate": "country=South Korea<br>year=2012<br>rank=%{x}<br>value=%{marker.size}<br>name=%{customdata[0]}",
           "legendgroup": "country=South Korea",
           "marker": {
            "color": "#ab63fa",
            "size": [
             2745.89,
             2060.51
            ],
            "sizemode": "area",
            "sizeref": 199.5566,
            "symbol": "circle"
           },
           "mode": "markers",
           "name": "country=South Korea",
           "showlegend": true,
           "type": "scatter",
           "x": [
            "57",
            "76"
           ],
           "xaxis": "x",
           "y": [
            2745.89,
            2060.51
           ],
           "yaxis": "y"
          },
          {
           "customdata": [
            [
             "Danske Bank"
            ]
           ],
           "hoverlabel": {
            "namelength": 0
           },
           "hovertemplate": "country=Denmark<br>year=2012<br>rank=%{x}<br>value=%{marker.size}<br>name=%{customdata[0]}",
           "legendgroup": "country=Denmark",
           "marker": {
            "color": "#19d3f3",
            "size": [
             2791.62
            ],
            "sizemode": "area",
            "sizeref": 199.5566,
            "symbol": "circle"
           },
           "mode": "markers",
           "name": "country=Denmark",
           "showlegend": true,
           "type": "scatter",
           "x": [
            "56"
           ],
           "xaxis": "x",
           "y": [
            2791.62
           ],
           "yaxis": "y"
          },
          {
           "customdata": [
            [
             "DBS"
            ],
            [
             "UOB"
            ]
           ],
           "hoverlabel": {
            "namelength": 0
           },
           "hovertemplate": "country=Singapore<br>year=2012<br>rank=%{x}<br>value=%{marker.size}<br>name=%{customdata[0]}",
           "legendgroup": "country=Singapore",
           "marker": {
            "color": "#FF6692",
            "size": [
             2315.76,
             1637.22
            ],
            "sizemode": "area",
            "sizeref": 199.5566,
            "symbol": "circle"
           },
           "mode": "markers",
           "name": "country=Singapore",
           "showlegend": true,
           "type": "scatter",
           "x": [
            "67",
            "94"
           ],
           "xaxis": "x",
           "y": [
            2315.76,
            1637.22
           ],
           "yaxis": "y"
          },
          {
           "customdata": [
            [
             "Akbank"
            ],
            [
             "Is Bank"
            ]
           ],
           "hoverlabel": {
            "namelength": 0
           },
           "hovertemplate": "country=Turkey<br>year=2012<br>rank=%{x}<br>value=%{marker.size}<br>name=%{customdata[0]}",
           "legendgroup": "country=Turkey",
           "marker": {
            "color": "#FECB52",
            "size": [
             1581.81,
             1569.16
            ],
            "sizemode": "area",
            "sizeref": 199.5566,
            "symbol": "circle"
           },
           "mode": "markers",
           "name": "country=Turkey",
           "showlegend": true,
           "type": "scatter",
           "x": [
            "96",
            "98"
           ],
           "xaxis": "x",
           "y": [
            1581.81,
            1569.16
           ],
           "yaxis": "y"
          },
          {
           "customdata": [
            [
             "DNB"
            ]
           ],
           "hoverlabel": {
            "namelength": 0
           },
           "hovertemplate": "country=Norway<br>year=2012<br>rank=%{x}<br>value=%{marker.size}<br>name=%{customdata[0]}",
           "legendgroup": "country=Norway",
           "marker": {
            "color": "#636efa",
            "size": [
             2395.09
            ],
            "sizemode": "area",
            "sizeref": 199.5566,
            "symbol": "circle"
           },
           "mode": "markers",
           "name": "country=Norway",
           "showlegend": true,
           "type": "scatter",
           "x": [
            "64"
           ],
           "xaxis": "x",
           "y": [
            2395.09
           ],
           "yaxis": "y"
          },
          {
           "customdata": [
            [
             "Bank of China\n"
            ]
           ],
           "hoverlabel": {
            "namelength": 0
           },
           "hovertemplate": "country=0<br>year=2012<br>rank=%{x}<br>value=%{marker.size}<br>name=%{customdata[0]}",
           "legendgroup": "country=0",
           "marker": {
            "color": "#EF553B",
            "size": [
             12857.41
            ],
            "sizemode": "area",
            "sizeref": 199.5566,
            "symbol": "circle"
           },
           "mode": "markers",
           "name": "country=0",
           "showlegend": true,
           "type": "scatter",
           "x": [
            "15"
           ],
           "xaxis": "x",
           "y": [
            12857.41
           ],
           "yaxis": "y"
          },
          {
           "customdata": [
            [
             "CIMB"
            ],
            [
             "Maybank"
            ]
           ],
           "hoverlabel": {
            "namelength": 0
           },
           "hovertemplate": "country=Malaysia<br>year=2012<br>rank=%{x}<br>value=%{marker.size}<br>name=%{customdata[0]}",
           "legendgroup": "country=Malaysia",
           "marker": {
            "color": "#00cc96",
            "size": [
             1841.02,
             1566.44
            ],
            "sizemode": "area",
            "sizeref": 199.5566,
            "symbol": "circle"
           },
           "mode": "markers",
           "name": "country=Malaysia",
           "showlegend": true,
           "type": "scatter",
           "x": [
            "82",
            "99"
           ],
           "xaxis": "x",
           "y": [
            1841.02,
            1566.44
           ],
           "yaxis": "y"
          }
         ],
         "name": "2012"
        },
        {
         "data": [
          {
           "customdata": [
            [
             "HSBC"
            ],
            [
             "Barclays"
            ],
            [
             "Standard Chartered"
            ],
            [
             "Royal Bank of Scotland"
            ],
            [
             "Lloyds TSB"
            ],
            [
             "Halifax"
            ],
            [
             "NatWest"
            ],
            [
             "Bank of Scotland"
            ]
           ],
           "hoverlabel": {
            "namelength": 0
           },
           "hovertemplate": "country=United Kingdom<br>year=2013<br>rank=%{x}<br>value=%{marker.size}<br>name=%{customdata[0]}",
           "legendgroup": "country=United Kingdom",
           "marker": {
            "color": "#636efa",
            "size": [
             22864.55,
             13435.63,
             7021.66,
             5416.37,
             3224.62,
             2372.89,
             2196.48,
             1884.06
            ],
            "sizemode": "area",
            "sizeref": 199.5566,
            "symbol": "circle"
           },
           "mode": "markers",
           "name": "country=United Kingdom",
           "showlegend": true,
           "type": "scatter",
           "x": [
            "3",
            "17",
            "35",
            "45",
            "62",
            "80",
            "86",
            "98"
           ],
           "xaxis": "x",
           "y": [
            22864.55,
            13435.63,
            7021.66,
            5416.37,
            3224.62,
            2372.89,
            2196.48,
            1884.06
           ],
           "yaxis": "y"
          },
          {
           "customdata": [
            [
             "Wells Fargo"
            ],
            [
             "Chase"
            ],
            [
             "Bank of America"
            ],
            [
             "Citi"
            ],
            [
             "American Express"
            ],
            [
             "J.P. Morgan"
            ],
            [
             "Visa"
            ],
            [
             "Morgan Stanley"
            ],
            [
             "Capital One"
            ],
            [
             "Goldman Sachs"
            ],
            [
             "U.S. Bank"
            ],
            [
             "Mastercard"
            ],
            [
             "PNC"
            ],
            [
             "BNY Mellon"
            ],
            [
             "Bank of America Merrill Lynch"
            ],
            [
             "BB&T"
            ],
            [
             "Discover"
            ],
            [
             "Blackrock"
            ],
            [
             "State Street"
            ],
            [
             "Ameriprise Financial"
            ],
            [
             "SunTrust"
            ],
            [
             "Franklin Templeton Investments"
            ]
           ],
           "hoverlabel": {
            "namelength": 0
           },
           "hovertemplate": "country=United States<br>year=2013<br>rank=%{x}<br>value=%{marker.size}<br>name=%{customdata[0]}",
           "legendgroup": "country=United States",
           "marker": {
            "color": "#EF553B",
            "size": [
             26043.6,
             23408.3,
             22397.3,
             21676.6,
             19004.3,
             13775.1,
             7555.11,
             7549.08,
             7455.68,
             7420.81,
             6497.48,
             5417.82,
             4572.11,
             4135.2,
             3702.36,
             2832,
             2736.58,
             2730.09,
             2625.67,
             2555.63,
             2356.96,
             2003.74
            ],
            "sizemode": "area",
            "sizeref": 199.5566,
            "symbol": "circle"
           },
           "mode": "markers",
           "name": "country=United States",
           "showlegend": true,
           "type": "scatter",
           "x": [
            "1",
            "2",
            "4",
            "5",
            "8",
            "15",
            "27",
            "28",
            "29",
            "30",
            "37",
            "44",
            "52",
            "54",
            "57",
            "67",
            "69",
            "70",
            "73",
            "75",
            "81",
            "94"
           ],
           "xaxis": "x",
           "y": [
            26043.6,
            23408.3,
            22397.3,
            21676.6,
            19004.3,
            13775.1,
            7555.11,
            7549.08,
            7455.68,
            7420.81,
            6497.48,
            5417.82,
            4572.11,
            4135.2,
            3702.36,
            2832,
            2736.58,
            2730.09,
            2625.67,
            2555.63,
            2356.96,
            2003.74
           ],
           "yaxis": "y"
          },
          {
           "customdata": [
            [
             "Santander"
            ],
            [
             "BBVA"
            ]
           ],
           "hoverlabel": {
            "namelength": 0
           },
           "hovertemplate": "country=Spain<br>year=2013<br>rank=%{x}<br>value=%{marker.size}<br>name=%{customdata[0]}",
           "legendgroup": "country=Spain",
           "marker": {
            "color": "#00cc96",
            "size": [
             20118.9,
             8327.82
            ],
            "sizemode": "area",
            "sizeref": 199.5566,
            "symbol": "circle"
           },
           "mode": "markers",
           "name": "country=Spain",
           "showlegend": true,
           "type": "scatter",
           "x": [
            "6",
            "26"
           ],
           "xaxis": "x",
           "y": [
            20118.9,
            8327.82
           ],
           "yaxis": "y"
          },
          {
           "customdata": [
            [
             "BNP Paribas"
            ],
            [
             "Société Générale"
            ],
            [
             "Crédit Agricole"
            ],
            [
             "Crédit Mutuel"
            ],
            [
             "Natixis"
            ],
            [
             "LCL"
            ]
           ],
           "hoverlabel": {
            "namelength": 0
           },
           "hovertemplate": "country=France<br>year=2013<br>rank=%{x}<br>value=%{marker.size}<br>name=%{customdata[0]}",
           "legendgroup": "country=France",
           "marker": {
            "color": "#ab63fa",
            "size": [
             18572.99,
             7248.14,
             3150.98,
             2309.32,
             1873,
             1855.45
            ],
            "sizemode": "area",
            "sizeref": 199.5566,
            "symbol": "circle"
           },
           "mode": "markers",
           "name": "country=France",
           "showlegend": true,
           "type": "scatter",
           "x": [
            "9",
            "33",
            "63",
            "83",
            "99",
            "100"
           ],
           "xaxis": "x",
           "y": [
            18572.99,
            7248.14,
            3150.98,
            2309.32,
            1873,
            1855.45
           ],
           "yaxis": "y"
          },
          {
           "customdata": [
            [
             "Credit Suisse"
            ],
            [
             "UBS"
            ]
           ],
           "hoverlabel": {
            "namelength": 0
           },
           "hovertemplate": "country=Switzerland<br>year=2013<br>rank=%{x}<br>value=%{marker.size}<br>name=%{customdata[0]}",
           "legendgroup": "country=Switzerland",
           "marker": {
            "color": "#FFA15A",
            "size": [
             9820.37,
             7289.52
            ],
            "sizemode": "area",
            "sizeref": 199.5566,
            "symbol": "circle"
           },
           "mode": "markers",
           "name": "country=Switzerland",
           "showlegend": true,
           "type": "scatter",
           "x": [
            "25",
            "32"
           ],
           "xaxis": "x",
           "y": [
            9820.37,
            7289.52
           ],
           "yaxis": "y"
          },
          {
           "customdata": [
            [
             "ING (Group)"
            ],
            [
             "Rabobank"
            ],
            [
             "ABN AMRO"
            ]
           ],
           "hoverlabel": {
            "namelength": 0
           },
           "hovertemplate": "country=Netherlands<br>year=2013<br>rank=%{x}<br>value=%{marker.size}<br>name=%{customdata[0]}",
           "legendgroup": "country=Netherlands",
           "marker": {
            "color": "#19d3f3",
            "size": [
             12787,
             7405.78,
             3439.06
            ],
            "sizemode": "area",
            "sizeref": 199.5566,
            "symbol": "circle"
           },
           "mode": "markers",
           "name": "country=Netherlands",
           "showlegend": true,
           "type": "scatter",
           "x": [
            "18",
            "31",
            "61"
           ],
           "xaxis": "x",
           "y": [
            12787,
            7405.78,
            3439.06
           ],
           "yaxis": "y"
          },
          {
           "customdata": [
            [
             "Deutsche Bank"
            ],
            [
             "DZ Bank"
            ],
            [
             "Commerzbank"
            ],
            [
             "Postbank"
            ]
           ],
           "hoverlabel": {
            "namelength": 0
           },
           "hovertemplate": "country=Germany<br>year=2013<br>rank=%{x}<br>value=%{marker.size}<br>name=%{customdata[0]}",
           "legendgroup": "country=Germany",
           "marker": {
            "color": "#FF6692",
            "size": [
             14572.48,
             3699.95,
             2689.26,
             1966.08
            ],
            "sizemode": "area",
            "sizeref": 199.5566,
            "symbol": "circle"
           },
           "mode": "markers",
           "name": "country=Germany",
           "showlegend": true,
           "type": "scatter",
           "x": [
            "12",
            "58",
            "71",
            "96"
           ],
           "xaxis": "x",
           "y": [
            14572.48,
            3699.95,
            2689.26,
            1966.08
           ],
           "yaxis": "y"
          },
          {
           "customdata": [
            [
             "ICBC"
            ],
            [
             "China Construction Bank"
            ],
            [
             "Agricultural Bank of China"
            ],
            [
             "Bank of China"
            ],
            [
             "Bank of Communications"
            ],
            [
             "China Merchants Bank"
            ],
            [
             "China Minsheng Bank"
            ],
            [
             "China CITIC Bank"
            ],
            [
             "Shanghai Pudong Development Bank"
            ],
            [
             "Industrial Bank"
            ]
           ],
           "hoverlabel": {
            "namelength": 0
           },
           "hovertemplate": "country=China<br>year=2013<br>rank=%{x}<br>value=%{marker.size}<br>name=%{customdata[0]}",
           "legendgroup": "country=China",
           "marker": {
            "color": "#B6E880",
            "size": [
             19819.73,
             16948.66,
             15966.61,
             14145.07,
             5802.59,
             4588.78,
             2976.94,
             2664.81,
             2395.18,
             2076.42
            ],
            "sizemode": "area",
            "sizeref": 199.5566,
            "symbol": "circle"
           },
           "mode": "markers",
           "name": "country=China",
           "showlegend": true,
           "type": "scatter",
           "x": [
            "7",
            "10",
            "11",
            "14",
            "42",
            "51",
            "64",
            "72",
            "79",
            "90"
           ],
           "xaxis": "x",
           "y": [
            19819.73,
            16948.66,
            15966.61,
            14145.07,
            5802.59,
            4588.78,
            2976.94,
            2664.81,
            2395.18,
            2076.42
           ],
           "yaxis": "y"
          },
          {
           "customdata": [
            [
             "UniCredit"
            ],
            [
             "HypoVereinsbank"
            ]
           ],
           "hoverlabel": {
            "namelength": 0
           },
           "hovertemplate": "country=Italy<br>year=2013<br>rank=%{x}<br>value=%{marker.size}<br>name=%{customdata[0]}",
           "legendgroup": "country=Italy",
           "marker": {
            "color": "#FF97FF",
            "size": [
             4926.38,
             2609.04
            ],
            "sizemode": "area",
            "sizeref": 199.5566,
            "symbol": "circle"
           },
           "mode": "markers",
           "name": "country=Italy",
           "showlegend": true,
           "type": "scatter",
           "x": [
            "48",
            "74"
           ],
           "xaxis": "x",
           "y": [
            4926.38,
            2609.04
           ],
           "yaxis": "y"
          },
          {
           "customdata": [
            [
             "ANZ"
            ],
            [
             "Commonwealth Bank"
            ],
            [
             "nab"
            ],
            [
             "Westpac"
            ],
            [
             "Macquarie"
            ]
           ],
           "hoverlabel": {
            "namelength": 0
           },
           "hovertemplate": "country=Australia<br>year=2013<br>rank=%{x}<br>value=%{marker.size}<br>name=%{customdata[0]}",
           "legendgroup": "country=Australia",
           "marker": {
            "color": "#FECB52",
            "size": [
             5832.32,
             5295.59,
             4981.87,
             4108.09,
             2272.62
            ],
            "sizemode": "area",
            "sizeref": 199.5566,
            "symbol": "circle"
           },
           "mode": "markers",
           "name": "country=Australia",
           "showlegend": true,
           "type": "scatter",
           "x": [
            "41",
            "46",
            "47",
            "55",
            "85"
           ],
           "xaxis": "x",
           "y": [
            5832.32,
            5295.59,
            4981.87,
            4108.09,
            2272.62
           ],
           "yaxis": "y"
          },
          {
           "customdata": [
            [
             "TD"
            ],
            [
             "RBC"
            ],
            [
             "Scotiabank"
            ],
            [
             "Bank of Montreal"
            ],
            [
             "CIBC"
            ]
           ],
           "hoverlabel": {
            "namelength": 0
           },
           "hovertemplate": "country=Canada<br>year=2013<br>rank=%{x}<br>value=%{marker.size}<br>name=%{customdata[0]}",
           "legendgroup": "country=Canada",
           "marker": {
            "color": "#636efa",
            "size": [
             10400.77,
             10276.71,
             7036.48,
             6491.15,
             4809.44
            ],
            "sizemode": "area",
            "sizeref": 199.5566,
            "symbol": "circle"
           },
           "mode": "markers",
           "name": "country=Canada",
           "showlegend": true,
           "type": "scatter",
           "x": [
            "22",
            "23",
            "34",
            "38",
            "49"
           ],
           "xaxis": "x",
           "y": [
            10400.77,
            10276.71,
            7036.48,
            6491.15,
            4809.44
           ],
           "yaxis": "y"
          },
          {
           "customdata": [
            [
             "KBC"
            ]
           ],
           "hoverlabel": {
            "namelength": 0
           },
           "hovertemplate": "country=Belgium<br>year=2013<br>rank=%{x}<br>value=%{marker.size}<br>name=%{customdata[0]}",
           "legendgroup": "country=Belgium",
           "marker": {
            "color": "#EF553B",
            "size": [
             2477.95
            ],
            "sizemode": "area",
            "sizeref": 199.5566,
            "symbol": "circle"
           },
           "mode": "markers",
           "name": "country=Belgium",
           "showlegend": true,
           "type": "scatter",
           "x": [
            "77"
           ],
           "xaxis": "x",
           "y": [
            2477.95
           ],
           "yaxis": "y"
          },
          {
           "customdata": [
            [
             "Bank of Tokyo-Mitsubishi UFJ"
            ],
            [
             "MUFG"
            ],
            [
             "SMFG"
            ],
            [
             "Mizuho"
            ],
            [
             "Nomura"
            ]
           ],
           "hoverlabel": {
            "namelength": 0
           },
           "hovertemplate": "country=Japan<br>year=2013<br>rank=%{x}<br>value=%{marker.size}<br>name=%{customdata[0]}",
           "legendgroup": "country=Japan",
           "marker": {
            "color": "#00cc96",
            "size": [
             11595.94,
             11595.9,
             5483.77,
             4713.24,
             3519.89
            ],
            "sizemode": "area",
            "sizeref": 199.5566,
            "symbol": "circle"
           },
           "mode": "markers",
           "name": "country=Japan",
           "showlegend": true,
           "type": "scatter",
           "x": [
            "20",
            "21",
            "43",
            "50",
            "59"
           ],
           "xaxis": "x",
           "y": [
            11595.94,
            11595.9,
            5483.77,
            4713.24,
            3519.89
           ],
           "yaxis": "y"
          },
          {
           "customdata": [
            [
             "Bradesco"
            ],
            [
             "Itaú"
            ],
            [
             "Banco do Brasil"
            ],
            [
             "Caixa"
            ],
            [
             "BNDES"
            ]
           ],
           "hoverlabel": {
            "namelength": 0
           },
           "hovertemplate": "country=Brazil<br>year=2013<br>rank=%{x}<br>value=%{marker.size}<br>name=%{customdata[0]}",
           "legendgroup": "country=Brazil",
           "marker": {
            "color": "#ab63fa",
            "size": [
             13610.05,
             12442.18,
             9883.37,
             6349.1,
             2056.79
            ],
            "sizemode": "area",
            "sizeref": 199.5566,
            "symbol": "circle"
           },
           "mode": "markers",
           "name": "country=Brazil",
           "showlegend": true,
           "type": "scatter",
           "x": [
            "16",
            "19",
            "24",
            "39",
            "92"
           ],
           "xaxis": "x",
           "y": [
            13610.05,
            12442.18,
            9883.37,
            6349.1,
            2056.79
           ],
           "yaxis": "y"
          },
          {
           "customdata": [
            [
             "Nordea"
            ],
            [
             "Svenska Handelsbanken"
            ],
            [
             "SEB"
            ],
            [
             "Swedbank"
            ]
           ],
           "hoverlabel": {
            "namelength": 0
           },
           "hovertemplate": "country=Sweden<br>year=2013<br>rank=%{x}<br>value=%{marker.size}<br>name=%{customdata[0]}",
           "legendgroup": "country=Sweden",
           "marker": {
            "color": "#FFA15A",
            "size": [
             6538.07,
             2499.26,
             2303.32,
             2002.53
            ],
            "sizemode": "area",
            "sizeref": 199.5566,
            "symbol": "circle"
           },
           "mode": "markers",
           "name": "country=Sweden",
           "showlegend": true,
           "type": "scatter",
           "x": [
            "36",
            "76",
            "84",
            "95"
           ],
           "xaxis": "x",
           "y": [
            6538.07,
            2499.26,
            2303.32,
            2002.53
           ],
           "yaxis": "y"
          },
          {
           "customdata": [
            [
             "Sberbank"
            ],
            [
             "VTB"
            ]
           ],
           "hoverlabel": {
            "namelength": 0
           },
           "hovertemplate": "country=Russia<br>year=2013<br>rank=%{x}<br>value=%{marker.size}<br>name=%{customdata[0]}",
           "legendgroup": "country=Russia",
           "marker": {
            "color": "#19d3f3",
            "size": [
             14159.6,
             2343.1
            ],
            "sizemode": "area",
            "sizeref": 199.5566,
            "symbol": "circle"
           },
           "mode": "markers",
           "name": "country=Russia",
           "showlegend": true,
           "type": "scatter",
           "x": [
            "13",
            "82"
           ],
           "xaxis": "x",
           "y": [
            14159.6,
            2343.1
           ],
           "yaxis": "y"
          },
          {
           "customdata": [
            [
             "State Bank of India"
            ]
           ],
           "hoverlabel": {
            "namelength": 0
           },
           "hovertemplate": "country=India<br>year=2013<br>rank=%{x}<br>value=%{marker.size}<br>name=%{customdata[0]}",
           "legendgroup": "country=India",
           "marker": {
            "color": "#FF6692",
            "size": [
             5994.98
            ],
            "sizemode": "area",
            "sizeref": 199.5566,
            "symbol": "circle"
           },
           "mode": "markers",
           "name": "country=India",
           "showlegend": true,
           "type": "scatter",
           "x": [
            "40"
           ],
           "xaxis": "x",
           "y": [
            5994.98
           ],
           "yaxis": "y"
          },
          {
           "customdata": [
            [
             "Erste Bank"
            ],
            [
             "Raiffeisen Bank"
            ]
           ],
           "hoverlabel": {
            "namelength": 0
           },
           "hovertemplate": "country=Austria<br>year=2013<br>rank=%{x}<br>value=%{marker.size}<br>name=%{customdata[0]}",
           "legendgroup": "country=Austria",
           "marker": {
            "color": "#FECB52",
            "size": [
             2397.48,
             2130.86
            ],
            "sizemode": "area",
            "sizeref": 199.5566,
            "symbol": "circle"
           },
           "mode": "markers",
           "name": "country=Austria",
           "showlegend": true,
           "type": "scatter",
           "x": [
            "78",
            "87"
           ],
           "xaxis": "x",
           "y": [
            2397.48,
            2130.86
           ],
           "yaxis": "y"
          },
          {
           "customdata": [
            [
             "Shinhan Financial Group"
            ],
            [
             "NongHyup Bank"
            ],
            [
             "KB Financial Group"
            ],
            [
             "Woori Financial Group"
            ]
           ],
           "hoverlabel": {
            "namelength": 0
           },
           "hovertemplate": "country=South Korea<br>year=2013<br>rank=%{x}<br>value=%{marker.size}<br>name=%{customdata[0]}",
           "legendgroup": "country=South Korea",
           "marker": {
            "color": "#ab63fa",
            "size": [
             4185,
             2839.5,
             2758,
             2008
            ],
            "sizemode": "area",
            "sizeref": 199.5566,
            "symbol": "circle"
           },
           "mode": "markers",
           "name": "country=South Korea",
           "showlegend": true,
           "type": "scatter",
           "x": [
            "53",
            "66",
            "68",
            "93"
           ],
           "xaxis": "x",
           "y": [
            4185,
            2839.5,
            2758,
            2008
           ],
           "yaxis": "y"
          },
          {
           "customdata": [
            [
             "Danske Bank"
            ]
           ],
           "hoverlabel": {
            "namelength": 0
           },
           "hovertemplate": "country=Denmark<br>year=2013<br>rank=%{x}<br>value=%{marker.size}<br>name=%{customdata[0]}",
           "legendgroup": "country=Denmark",
           "marker": {
            "color": "#19d3f3",
            "size": [
             3946
            ],
            "sizemode": "area",
            "sizeref": 199.5566,
            "symbol": "circle"
           },
           "mode": "markers",
           "name": "country=Denmark",
           "showlegend": true,
           "type": "scatter",
           "x": [
            "56"
           ],
           "xaxis": "x",
           "y": [
            3946
           ],
           "yaxis": "y"
          },
          {
           "customdata": [
            [
             "DBS"
            ],
            [
             "UOB"
            ]
           ],
           "hoverlabel": {
            "namelength": 0
           },
           "hovertemplate": "country=Singapore<br>year=2013<br>rank=%{x}<br>value=%{marker.size}<br>name=%{customdata[0]}",
           "legendgroup": "country=Singapore",
           "marker": {
            "color": "#FF6692",
            "size": [
             3476.32,
             2115.57
            ],
            "sizemode": "area",
            "sizeref": 199.5566,
            "symbol": "circle"
           },
           "mode": "markers",
           "name": "country=Singapore",
           "showlegend": true,
           "type": "scatter",
           "x": [
            "60",
            "89"
           ],
           "xaxis": "x",
           "y": [
            3476.32,
            2115.57
           ],
           "yaxis": "y"
          },
          {
           "customdata": [
            [
             "Akbank"
            ],
            [
             "Isbank"
            ]
           ],
           "hoverlabel": {
            "namelength": 0
           },
           "hovertemplate": "country=Turkey<br>year=2013<br>rank=%{x}<br>value=%{marker.size}<br>name=%{customdata[0]}",
           "legendgroup": "country=Turkey",
           "marker": {
            "color": "#FECB52",
            "size": [
             2121.44,
             2061.08
            ],
            "sizemode": "area",
            "sizeref": 199.5566,
            "symbol": "circle"
           },
           "mode": "markers",
           "name": "country=Turkey",
           "showlegend": true,
           "type": "scatter",
           "x": [
            "88",
            "91"
           ],
           "xaxis": "x",
           "y": [
            2121.44,
            2061.08
           ],
           "yaxis": "y"
          },
          {
           "customdata": [
            [
             "DNB"
            ]
           ],
           "hoverlabel": {
            "namelength": 0
           },
           "hovertemplate": "country=Norway<br>year=2013<br>rank=%{x}<br>value=%{marker.size}<br>name=%{customdata[0]}",
           "legendgroup": "country=Norway",
           "marker": {
            "color": "#636efa",
            "size": [
             2936.94
            ],
            "sizemode": "area",
            "sizeref": 199.5566,
            "symbol": "circle"
           },
           "mode": "markers",
           "name": "country=Norway",
           "showlegend": true,
           "type": "scatter",
           "x": [
            "65"
           ],
           "xaxis": "x",
           "y": [
            2936.94
           ],
           "yaxis": "y"
          },
          {
           "customdata": [
            [
             "CIMB"
            ]
           ],
           "hoverlabel": {
            "namelength": 0
           },
           "hovertemplate": "country=Malaysia<br>year=2013<br>rank=%{x}<br>value=%{marker.size}<br>name=%{customdata[0]}",
           "legendgroup": "country=Malaysia",
           "marker": {
            "color": "#00cc96",
            "size": [
             1900
            ],
            "sizemode": "area",
            "sizeref": 199.5566,
            "symbol": "circle"
           },
           "mode": "markers",
           "name": "country=Malaysia",
           "showlegend": true,
           "type": "scatter",
           "x": [
            "97"
           ],
           "xaxis": "x",
           "y": [
            1900
           ],
           "yaxis": "y"
          }
         ],
         "name": "2013"
        },
        {
         "data": [
          {
           "customdata": [
            [
             "HSBC"
            ],
            [
             "Barclays"
            ],
            [
             "Standard Chartered"
            ],
            [
             "Royal Bank of Scotland"
            ],
            [
             "NatWest"
            ],
            [
             "Lloyds"
            ],
            [
             "Halifax"
            ],
            [
             "Scottish Widows"
            ],
            [
             "Nationwide Building Society"
            ]
           ],
           "hoverlabel": {
            "namelength": 0
           },
           "hovertemplate": "country=United Kingdom<br>year=2014<br>rank=%{x}<br>value=%{marker.size}<br>name=%{customdata[0]}",
           "legendgroup": "country=United Kingdom",
           "marker": {
            "color": "#636efa",
            "size": [
             26869.85,
             14166.08,
             7147.53,
             3919.11,
             3899.64,
             3678.55,
             3273.21,
             2209,
             2199.43
            ],
            "sizemode": "area",
            "sizeref": 199.5566,
            "symbol": "circle"
           },
           "mode": "markers",
           "name": "country=United Kingdom",
           "showlegend": true,
           "type": "scatter",
           "x": [
            "2",
            "14",
            "35",
            "59",
            "60",
            "62",
            "70",
            "94",
            "95"
           ],
           "xaxis": "x",
           "y": [
            26869.85,
            14166.08,
            7147.53,
            3919.11,
            3899.64,
            3678.55,
            3273.21,
            2209,
            2199.43
           ],
           "yaxis": "y"
          },
          {
           "customdata": [
            [
             "Wells Fargo"
            ],
            [
             "Bank of America"
            ],
            [
             "Citi"
            ],
            [
             "Chase"
            ],
            [
             "American Express"
            ],
            [
             "JP Morgan"
            ],
            [
             "Goldman Sachs"
            ],
            [
             "Capital One"
            ],
            [
             "Visa"
            ],
            [
             "Morgan Stanley"
            ],
            [
             "Mastercard"
            ],
            [
             "U.S. Bank"
            ],
            [
             "BNY Mellon"
            ],
            [
             "PNC"
            ],
            [
             "Bank of America Merrill Lynch"
            ],
            [
             "Discover"
            ],
            [
             "State Street"
            ],
            [
             "Blackrock"
            ],
            [
             "BB&T"
            ],
            [
             "Ameriprise Financial"
            ],
            [
             "SunTrust"
            ]
           ],
           "hoverlabel": {
            "namelength": 0
           },
           "hovertemplate": "country=United States<br>year=2014<br>rank=%{x}<br>value=%{marker.size}<br>name=%{customdata[0]}",
           "legendgroup": "country=United States",
           "marker": {
            "color": "#EF553B",
            "size": [
             30242.01,
             26682.57,
             24517.87,
             23156.87,
             21116.12,
             14038.65,
             10159.65,
             9058.17,
             9057.63,
             8114.5,
             6328.31,
             5564.82,
             4606.79,
             4405.64,
             3803.5,
             3211.67,
             3145.42,
             3140.59,
             2741.23,
             2374.33,
             2187.15
            ],
            "sizemode": "area",
            "sizeref": 199.5566,
            "symbol": "circle"
           },
           "mode": "markers",
           "name": "country=United States",
           "showlegend": true,
           "type": "scatter",
           "x": [
            "1",
            "3",
            "4",
            "5",
            "7",
            "15",
            "23",
            "26",
            "27",
            "29",
            "41",
            "44",
            "53",
            "54",
            "61",
            "72",
            "75",
            "76",
            "80",
            "86",
            "96"
           ],
           "xaxis": "x",
           "y": [
            30242.01,
            26682.57,
            24517.87,
            23156.87,
            21116.12,
            14038.65,
            10159.65,
            9058.17,
            9057.63,
            8114.5,
            6328.31,
            5564.82,
            4606.79,
            4405.64,
            3803.5,
            3211.67,
            3145.42,
            3140.59,
            2741.23,
            2374.33,
            2187.15
           ],
           "yaxis": "y"
          },
          {
           "customdata": [
            [
             "Santander"
            ],
            [
             "BBVA"
            ],
            [
             "CaixaBank"
            ]
           ],
           "hoverlabel": {
            "namelength": 0
           },
           "hovertemplate": "country=Spain<br>year=2014<br>rank=%{x}<br>value=%{marker.size}<br>name=%{customdata[0]}",
           "legendgroup": "country=Spain",
           "marker": {
            "color": "#00cc96",
            "size": [
             20021.16,
             8533.18,
             2357.18
            ],
            "sizemode": "area",
            "sizeref": 199.5566,
            "symbol": "circle"
           },
           "mode": "markers",
           "name": "country=Spain",
           "showlegend": true,
           "type": "scatter",
           "x": [
            "9",
            "28",
            "87"
           ],
           "xaxis": "x",
           "y": [
            20021.16,
            8533.18,
            2357.18
           ],
           "yaxis": "y"
          },
          {
           "customdata": [
            [
             "BNP Paribas"
            ],
            [
             "Société Générale"
            ],
            [
             "Natixis"
            ],
            [
             "Crédit Agricole"
            ],
            [
             "Crédit Mutuel"
            ]
           ],
           "hoverlabel": {
            "namelength": 0
           },
           "hovertemplate": "country=France<br>year=2014<br>rank=%{x}<br>value=%{marker.size}<br>name=%{customdata[0]}",
           "legendgroup": "country=France",
           "marker": {
            "color": "#ab63fa",
            "size": [
             20206.12,
             7799.23,
             3432.65,
             3139.78,
             2318.33
            ],
            "sizemode": "area",
            "sizeref": 199.5566,
            "symbol": "circle"
           },
           "mode": "markers",
           "name": "country=France",
           "showlegend": true,
           "type": "scatter",
           "x": [
            "8",
            "31",
            "66",
            "77",
            "90"
           ],
           "xaxis": "x",
           "y": [
            20206.12,
            7799.23,
            3432.65,
            3139.78,
            2318.33
           ],
           "yaxis": "y"
          },
          {
           "customdata": [
            [
             "UBS"
            ],
            [
             "Credit Suisse"
            ]
           ],
           "hoverlabel": {
            "namelength": 0
           },
           "hovertemplate": "country=Switzerland<br>year=2014<br>rank=%{x}<br>value=%{marker.size}<br>name=%{customdata[0]}",
           "legendgroup": "country=Switzerland",
           "marker": {
            "color": "#FFA15A",
            "size": [
             10643.53,
             10143.81
            ],
            "sizemode": "area",
            "sizeref": 199.5566,
            "symbol": "circle"
           },
           "mode": "markers",
           "name": "country=Switzerland",
           "showlegend": true,
           "type": "scatter",
           "x": [
            "21",
            "24"
           ],
           "xaxis": "x",
           "y": [
            10643.53,
            10143.81
           ],
           "yaxis": "y"
          },
          {
           "customdata": [
            [
             "ING (Group)"
            ],
            [
             "Rabobank"
            ],
            [
             "ABN AMRO"
            ]
           ],
           "hoverlabel": {
            "namelength": 0
           },
           "hovertemplate": "country=Netherlands<br>year=2014<br>rank=%{x}<br>value=%{marker.size}<br>name=%{customdata[0]}",
           "legendgroup": "country=Netherlands",
           "marker": {
            "color": "#19d3f3",
            "size": [
             13674,
             6722.91,
             3199.68
            ],
            "sizemode": "area",
            "sizeref": 199.5566,
            "symbol": "circle"
           },
           "mode": "markers",
           "name": "country=Netherlands",
           "showlegend": true,
           "type": "scatter",
           "x": [
            "16",
            "39",
            "73"
           ],
           "xaxis": "x",
           "y": [
            13674,
            6722.91,
            3199.68
           ],
           "yaxis": "y"
          },
          {
           "customdata": [
            [
             "Deutsche Bank"
            ],
            [
             "DZ Bank"
            ],
            [
             "Commerzbank"
            ]
           ],
           "hoverlabel": {
            "namelength": 0
           },
           "hovertemplate": "country=Germany<br>year=2014<br>rank=%{x}<br>value=%{marker.size}<br>name=%{customdata[0]}",
           "legendgroup": "country=Germany",
           "marker": {
            "color": "#FF6692",
            "size": [
             13491.24,
             4950.29,
             3612.5
            ],
            "sizemode": "area",
            "sizeref": 199.5566,
            "symbol": "circle"
           },
           "mode": "markers",
           "name": "country=Germany",
           "showlegend": true,
           "type": "scatter",
           "x": [
            "17",
            "50",
            "63"
           ],
           "xaxis": "x",
           "y": [
            13491.24,
            4950.29,
            3612.5
           ],
           "yaxis": "y"
          },
          {
           "customdata": [
            [
             "ICBC"
            ],
            [
             "China Construction Bank"
            ],
            [
             "Agricultural Bank Of China"
            ],
            [
             "Bank of China"
            ],
            [
             "Bank of Communications"
            ],
            [
             "China Merchants Bank"
            ],
            [
             "China Minsheng Bank"
            ],
            [
             "Industrial Bank"
            ],
            [
             "China CITIC Bank"
            ],
            [
             "Shanghai Pudong Development Bank"
            ],
            [
             "Hang Seng Bank"
            ],
            [
             "China Everbright Bank"
            ]
           ],
           "hoverlabel": {
            "namelength": 0
           },
           "hovertemplate": "country=China<br>year=2014<br>rank=%{x}<br>value=%{marker.size}<br>name=%{customdata[0]}",
           "legendgroup": "country=China",
           "marker": {
            "color": "#B6E880",
            "size": [
             22803.38,
             18953.93,
             17782.66,
             16725.32,
             6883.84,
             5390.37,
             4375.21,
             3275.68,
             3044.07,
             2664.01,
             2625.94,
             2163.36
            ],
            "sizemode": "area",
            "sizeref": 199.5566,
            "symbol": "circle"
           },
           "mode": "markers",
           "name": "country=China",
           "showlegend": true,
           "type": "scatter",
           "x": [
            "6",
            "10",
            "11",
            "13",
            "38",
            "47",
            "55",
            "68",
            "78",
            "81",
            "83",
            "98"
           ],
           "xaxis": "x",
           "y": [
            22803.38,
            18953.93,
            17782.66,
            16725.32,
            6883.84,
            5390.37,
            4375.21,
            3275.68,
            3044.07,
            2664.01,
            2625.94,
            2163.36
           ],
           "yaxis": "y"
          },
          {
           "customdata": [
            [
             "UniCredit"
            ]
           ],
           "hoverlabel": {
            "namelength": 0
           },
           "hovertemplate": "country=Italy<br>year=2014<br>rank=%{x}<br>value=%{marker.size}<br>name=%{customdata[0]}",
           "legendgroup": "country=Italy",
           "marker": {
            "color": "#FF97FF",
            "size": [
             6584.99
            ],
            "sizemode": "area",
            "sizeref": 199.5566,
            "symbol": "circle"
           },
           "mode": "markers",
           "name": "country=Italy",
           "showlegend": true,
           "type": "scatter",
           "x": [
            "40"
           ],
           "xaxis": "x",
           "y": [
            6584.99
           ],
           "yaxis": "y"
          },
          {
           "customdata": [
            [
             "ANZ"
            ],
            [
             "Commonwealth Bank"
            ],
            [
             "National Australia Bank"
            ],
            [
             "Westpac"
            ],
            [
             "Macquarie"
            ]
           ],
           "hoverlabel": {
            "namelength": 0
           },
           "hovertemplate": "country=Australia<br>year=2014<br>rank=%{x}<br>value=%{marker.size}<br>name=%{customdata[0]}",
           "legendgroup": "country=Australia",
           "marker": {
            "color": "#FECB52",
            "size": [
             5925.54,
             5475.42,
             4998.09,
             4901.36,
             2249.98
            ],
            "sizemode": "area",
            "sizeref": 199.5566,
            "symbol": "circle"
           },
           "mode": "markers",
           "name": "country=Australia",
           "showlegend": true,
           "type": "scatter",
           "x": [
            "42",
            "45",
            "49",
            "51",
            "93"
           ],
           "xaxis": "x",
           "y": [
            5925.54,
            5475.42,
            4998.09,
            4901.36,
            2249.98
           ],
           "yaxis": "y"
          },
          {
           "customdata": [
            [
             "RBC"
            ],
            [
             "TD Bank"
            ],
            [
             "Scotiabank"
            ],
            [
             "Bank of Montreal"
            ],
            [
             "CIBC"
            ],
            [
             "National Bank of Canada"
            ],
            [
             "Desjardins"
            ]
           ],
           "hoverlabel": {
            "namelength": 0
           },
           "hovertemplate": "country=Canada<br>year=2014<br>rank=%{x}<br>value=%{marker.size}<br>name=%{customdata[0]}",
           "legendgroup": "country=Canada",
           "marker": {
            "color": "#636efa",
            "size": [
             11060.05,
             10855.43,
             7716.67,
             7114.38,
             5028.09,
             2294.29,
             2269.69
            ],
            "sizemode": "area",
            "sizeref": 199.5566,
            "symbol": "circle"
           },
           "mode": "markers",
           "name": "country=Canada",
           "showlegend": true,
           "type": "scatter",
           "x": [
            "18",
            "20",
            "32",
            "36",
            "48",
            "91",
            "92"
           ],
           "xaxis": "x",
           "y": [
            11060.05,
            10855.43,
            7716.67,
            7114.38,
            5028.09,
            2294.29,
            2269.69
           ],
           "yaxis": "y"
          },
          {
           "customdata": [
            [
             "KBC"
            ]
           ],
           "hoverlabel": {
            "namelength": 0
           },
           "hovertemplate": "country=Belgium<br>year=2014<br>rank=%{x}<br>value=%{marker.size}<br>name=%{customdata[0]}",
           "legendgroup": "country=Belgium",
           "marker": {
            "color": "#EF553B",
            "size": [
             3467.95
            ],
            "sizemode": "area",
            "sizeref": 199.5566,
            "symbol": "circle"
           },
           "mode": "markers",
           "name": "country=Belgium",
           "showlegend": true,
           "type": "scatter",
           "x": [
            "64"
           ],
           "xaxis": "x",
           "y": [
            3467.95
           ],
           "yaxis": "y"
          },
          {
           "customdata": [
            [
             "MUFG"
            ],
            [
             "SMFG"
            ],
            [
             "Mizuho"
            ],
            [
             "Nomura"
            ]
           ],
           "hoverlabel": {
            "namelength": 0
           },
           "hovertemplate": "country=Japan<br>year=2014<br>rank=%{x}<br>value=%{marker.size}<br>name=%{customdata[0]}",
           "legendgroup": "country=Japan",
           "marker": {
            "color": "#00cc96",
            "size": [
             17560.6,
             7832.69,
             7689.91,
             5568.02
            ],
            "sizemode": "area",
            "sizeref": 199.5566,
            "symbol": "circle"
           },
           "mode": "markers",
           "name": "country=Japan",
           "showlegend": true,
           "type": "scatter",
           "x": [
            "12",
            "30",
            "33",
            "43"
           ],
           "xaxis": "x",
           "y": [
            17560.6,
            7832.69,
            7689.91,
            5568.02
           ],
           "yaxis": "y"
          },
          {
           "customdata": [
            [
             "Bradesco"
            ],
            [
             "Itaú"
            ],
            [
             "Banco do Brasil"
            ],
            [
             "Caixa"
            ]
           ],
           "hoverlabel": {
            "namelength": 0
           },
           "hovertemplate": "country=Brazil<br>year=2014<br>rank=%{x}<br>value=%{marker.size}<br>name=%{customdata[0]}",
           "legendgroup": "country=Brazil",
           "marker": {
            "color": "#ab63fa",
            "size": [
             10599.93,
             9904.09,
             6971.8,
             4758.54
            ],
            "sizemode": "area",
            "sizeref": 199.5566,
            "symbol": "circle"
           },
           "mode": "markers",
           "name": "country=Brazil",
           "showlegend": true,
           "type": "scatter",
           "x": [
            "22",
            "25",
            "37",
            "52"
           ],
           "xaxis": "x",
           "y": [
            10599.93,
            9904.09,
            6971.8,
            4758.54
           ],
           "yaxis": "y"
          },
          {
           "customdata": [
            [
             "Nordea"
            ],
            [
             "Svenska Handelsbanken"
            ],
            [
             "SEB"
            ],
            [
             "Swedbank"
            ]
           ],
           "hoverlabel": {
            "namelength": 0
           },
           "hovertemplate": "country=Sweden<br>year=2014<br>rank=%{x}<br>value=%{marker.size}<br>name=%{customdata[0]}",
           "legendgroup": "country=Sweden",
           "marker": {
            "color": "#FFA15A",
            "size": [
             7375.61,
             3151.25,
             2328.25,
             2107.13
            ],
            "sizemode": "area",
            "sizeref": 199.5566,
            "symbol": "circle"
           },
           "mode": "markers",
           "name": "country=Sweden",
           "showlegend": true,
           "type": "scatter",
           "x": [
            "34",
            "74",
            "89",
            "99"
           ],
           "xaxis": "x",
           "y": [
            7375.61,
            3151.25,
            2328.25,
            2107.13
           ],
           "yaxis": "y"
          },
          {
           "customdata": [
            [
             "Sberbank"
            ],
            [
             "VTB"
            ]
           ],
           "hoverlabel": {
            "namelength": 0
           },
           "hovertemplate": "country=Russia<br>year=2014<br>rank=%{x}<br>value=%{marker.size}<br>name=%{customdata[0]}",
           "legendgroup": "country=Russia",
           "marker": {
            "color": "#19d3f3",
            "size": [
             10949.86,
             3263.53
            ],
            "sizemode": "area",
            "sizeref": 199.5566,
            "symbol": "circle"
           },
           "mode": "markers",
           "name": "country=Russia",
           "showlegend": true,
           "type": "scatter",
           "x": [
            "19",
            "71"
           ],
           "xaxis": "x",
           "y": [
            10949.86,
            3263.53
           ],
           "yaxis": "y"
          },
          {
           "customdata": [
            [
             "State Bank of India"
            ]
           ],
           "hoverlabel": {
            "namelength": 0
           },
           "hovertemplate": "country=India<br>year=2014<br>rank=%{x}<br>value=%{marker.size}<br>name=%{customdata[0]}",
           "legendgroup": "country=India",
           "marker": {
            "color": "#FF6692",
            "size": [
             4063.15
            ],
            "sizemode": "area",
            "sizeref": 199.5566,
            "symbol": "circle"
           },
           "mode": "markers",
           "name": "country=India",
           "showlegend": true,
           "type": "scatter",
           "x": [
            "57"
           ],
           "xaxis": "x",
           "y": [
            4063.15
           ],
           "yaxis": "y"
          },
          {
           "customdata": [
            [
             "Erste Bank"
            ]
           ],
           "hoverlabel": {
            "namelength": 0
           },
           "hovertemplate": "country=Austria<br>year=2014<br>rank=%{x}<br>value=%{marker.size}<br>name=%{customdata[0]}",
           "legendgroup": "country=Austria",
           "marker": {
            "color": "#FECB52",
            "size": [
             3382.14
            ],
            "sizemode": "area",
            "sizeref": 199.5566,
            "symbol": "circle"
           },
           "mode": "markers",
           "name": "country=Austria",
           "showlegend": true,
           "type": "scatter",
           "x": [
            "67"
           ],
           "xaxis": "x",
           "y": [
            3382.14
           ],
           "yaxis": "y"
          },
          {
           "customdata": [
            [
             "Shinhan Financial Group"
            ],
            [
             "KB Financial Group"
            ],
            [
             "KB Kookmin Bank"
            ],
            [
             "Woori Financial Group"
            ],
            [
             "Shinhan Card"
            ],
            [
             "Woori Bank"
            ]
           ],
           "hoverlabel": {
            "namelength": 0
           },
           "hovertemplate": "country=South Korea<br>year=2014<br>rank=%{x}<br>value=%{marker.size}<br>name=%{customdata[0]}",
           "legendgroup": "country=South Korea",
           "marker": {
            "color": "#ab63fa",
            "size": [
             5416,
             3464.46,
             2656.39,
             2445,
             2392.14,
             2064.87
            ],
            "sizemode": "area",
            "sizeref": 199.5566,
            "symbol": "circle"
           },
           "mode": "markers",
           "name": "country=South Korea",
           "showlegend": true,
           "type": "scatter",
           "x": [
            "46",
            "65",
            "82",
            "84",
            "85",
            "100"
           ],
           "xaxis": "x",
           "y": [
            5416,
            3464.46,
            2656.39,
            2445,
            2392.14,
            2064.87
           ],
           "yaxis": "y"
          },
          {
           "customdata": [
            [
             "Danske Bank"
            ]
           ],
           "hoverlabel": {
            "namelength": 0
           },
           "hovertemplate": "country=Denmark<br>year=2014<br>rank=%{x}<br>value=%{marker.size}<br>name=%{customdata[0]}",
           "legendgroup": "country=Denmark",
           "marker": {
            "color": "#19d3f3",
            "size": [
             3023.08
            ],
            "sizemode": "area",
            "sizeref": 199.5566,
            "symbol": "circle"
           },
           "mode": "markers",
           "name": "country=Denmark",
           "showlegend": true,
           "type": "scatter",
           "x": [
            "79"
           ],
           "xaxis": "x",
           "y": [
            3023.08
           ],
           "yaxis": "y"
          },
          {
           "customdata": [
            [
             "DBS"
            ],
            [
             "OCBC Bank"
            ],
            [
             "UOB"
            ]
           ],
           "hoverlabel": {
            "namelength": 0
           },
           "hovertemplate": "country=Singapore<br>year=2014<br>rank=%{x}<br>value=%{marker.size}<br>name=%{customdata[0]}",
           "legendgroup": "country=Singapore",
           "marker": {
            "color": "#FF6692",
            "size": [
             4011.3,
             2333.14,
             2184.69
            ],
            "sizemode": "area",
            "sizeref": 199.5566,
            "symbol": "circle"
           },
           "mode": "markers",
           "name": "country=Singapore",
           "showlegend": true,
           "type": "scatter",
           "x": [
            "58",
            "88",
            "97"
           ],
           "xaxis": "x",
           "y": [
            4011.3,
            2333.14,
            2184.69
           ],
           "yaxis": "y"
          },
          {
           "customdata": [
            [
             "DNB"
            ]
           ],
           "hoverlabel": {
            "namelength": 0
           },
           "hovertemplate": "country=Norway<br>year=2014<br>rank=%{x}<br>value=%{marker.size}<br>name=%{customdata[0]}",
           "legendgroup": "country=Norway",
           "marker": {
            "color": "#636efa",
            "size": [
             3273.51
            ],
            "sizemode": "area",
            "sizeref": 199.5566,
            "symbol": "circle"
           },
           "mode": "markers",
           "name": "country=Norway",
           "showlegend": true,
           "type": "scatter",
           "x": [
            "69"
           ],
           "xaxis": "x",
           "y": [
            3273.51
           ],
           "yaxis": "y"
          },
          {
           "customdata": [
            [
             "Antarchile"
            ]
           ],
           "hoverlabel": {
            "namelength": 0
           },
           "hovertemplate": "country=Chile<br>year=2014<br>rank=%{x}<br>value=%{marker.size}<br>name=%{customdata[0]}",
           "legendgroup": "country=Chile",
           "marker": {
            "color": "#ab63fa",
            "size": [
             4264.84
            ],
            "sizemode": "area",
            "sizeref": 199.5566,
            "symbol": "circle"
           },
           "mode": "markers",
           "name": "country=Chile",
           "showlegend": true,
           "type": "scatter",
           "x": [
            "56"
           ],
           "xaxis": "x",
           "y": [
            4264.84
           ],
           "yaxis": "y"
          }
         ],
         "name": "2014"
        },
        {
         "data": [
          {
           "customdata": [
            [
             "HSBC"
            ],
            [
             "Barclays"
            ],
            [
             "Lloyds Bank"
            ],
            [
             "Standard Chartered"
            ],
            [
             "Halifax"
            ],
            [
             "NatWest"
            ],
            [
             "Royal Bank of Scotland"
            ],
            [
             "Nationwide Building Society"
            ]
           ],
           "hoverlabel": {
            "namelength": 0
           },
           "hovertemplate": "country=United Kingdom<br>year=2015<br>rank=%{x}<br>value=%{marker.size}<br>name=%{customdata[0]}",
           "legendgroup": "country=United Kingdom",
           "marker": {
            "color": "#636efa",
            "size": [
             27280.03,
             14205.8,
             6894.52,
             5161.97,
             3862.01,
             3845.87,
             3685.3,
             2177.37
            ],
            "sizemode": "area",
            "sizeref": 199.5566,
            "symbol": "circle"
           },
           "mode": "markers",
           "name": "country=United Kingdom",
           "showlegend": true,
           "type": "scatter",
           "x": [
            "3",
            "13",
            "35",
            "47",
            "59",
            "60",
            "63",
            "94"
           ],
           "xaxis": "x",
           "y": [
            27280.03,
            14205.8,
            6894.52,
            5161.97,
            3862.01,
            3845.87,
            3685.3,
            2177.37
           ],
           "yaxis": "y"
          },
          {
           "customdata": [
            [
             "Wells Fargo"
            ],
            [
             "Citi"
            ],
            [
             "Bank of America"
            ],
            [
             "Chase"
            ],
            [
             "J.P. Morgan"
            ],
            [
             "Goldman Sachs"
            ],
            [
             "Capital One"
            ],
            [
             "Morgan Stanley"
            ],
            [
             "U.S. Bank"
            ],
            [
             "PNC"
            ],
            [
             "BNY Mellon"
            ],
            [
             "Bank of America Merrill Lynch"
            ],
            [
             "State Street"
            ],
            [
             "BB&T"
            ],
            [
             "Charles Schwab"
            ],
            [
             "SunTrust"
            ]
           ],
           "hoverlabel": {
            "namelength": 0
           },
           "hovertemplate": "country=United States<br>year=2015<br>rank=%{x}<br>value=%{marker.size}<br>name=%{customdata[0]}",
           "legendgroup": "country=United States",
           "marker": {
            "color": "#EF553B",
            "size": [
             34925.23,
             26209.96,
             25713.29,
             23392,
             11958.17,
             9403,
             9391.66,
             8888.4,
             5643.57,
             4957.75,
             4779.56,
             3605.78,
             3117.24,
             2813.56,
             2316.08,
             2193.42
            ],
            "sizemode": "area",
            "sizeref": 199.5566,
            "symbol": "circle"
           },
           "mode": "markers",
           "name": "country=United States",
           "showlegend": true,
           "type": "scatter",
           "x": [
            "1",
            "5",
            "6",
            "7",
            "16",
            "20",
            "21",
            "24",
            "45",
            "50",
            "53",
            "64",
            "68",
            "74",
            "88",
            "93"
           ],
           "xaxis": "x",
           "y": [
            34925.23,
            26209.96,
            25713.29,
            23392,
            11958.17,
            9403,
            9391.66,
            8888.4,
            5643.57,
            4957.75,
            4779.56,
            3605.78,
            3117.24,
            2813.56,
            2316.08,
            2193.42
           ],
           "yaxis": "y"
          },
          {
           "customdata": [
            [
             "Santander"
            ],
            [
             "BBVA"
            ],
            [
             "CaixaBank"
            ]
           ],
           "hoverlabel": {
            "namelength": 0
           },
           "hovertemplate": "country=Spain<br>year=2015<br>rank=%{x}<br>value=%{marker.size}<br>name=%{customdata[0]}",
           "legendgroup": "country=Spain",
           "marker": {
            "color": "#00cc96",
            "size": [
             18700.48,
             8335.01,
             3065.87
            ],
            "sizemode": "area",
            "sizeref": 199.5566,
            "symbol": "circle"
           },
           "mode": "markers",
           "name": "country=Spain",
           "showlegend": true,
           "type": "scatter",
           "x": [
            "10",
            "28",
            "70"
           ],
           "xaxis": "x",
           "y": [
            18700.48,
            8335.01,
            3065.87
           ],
           "yaxis": "y"
          },
          {
           "customdata": [
            [
             "BNP Paribas"
            ],
            [
             "Société Générale"
            ],
            [
             "Crédit Agricole"
            ],
            [
             "Crédit Mutuel"
            ],
            [
             "CIC"
            ],
            [
             "Natixis"
            ]
           ],
           "hoverlabel": {
            "namelength": 0
           },
           "hovertemplate": "country=France<br>year=2015<br>rank=%{x}<br>value=%{marker.size}<br>name=%{customdata[0]}",
           "legendgroup": "country=France",
           "marker": {
            "color": "#ab63fa",
            "size": [
             14938.58,
             7414.69,
             4421.44,
             2709.6,
             2168.96,
             2032.23
            ],
            "sizemode": "area",
            "sizeref": 199.5566,
            "symbol": "circle"
           },
           "mode": "markers",
           "name": "country=France",
           "showlegend": true,
           "type": "scatter",
           "x": [
            "11",
            "30",
            "55",
            "78",
            "95",
            "99"
           ],
           "xaxis": "x",
           "y": [
            14938.58,
            7414.69,
            4421.44,
            2709.6,
            2168.96,
            2032.23
           ],
           "yaxis": "y"
          },
          {
           "customdata": [
            [
             "UBS"
            ],
            [
             "Credit Suisse"
            ]
           ],
           "hoverlabel": {
            "namelength": 0
           },
           "hovertemplate": "country=Switzerland<br>year=2015<br>rank=%{x}<br>value=%{marker.size}<br>name=%{customdata[0]}",
           "legendgroup": "country=Switzerland",
           "marker": {
            "color": "#FFA15A",
            "size": [
             11574.14,
             9181.48
            ],
            "sizemode": "area",
            "sizeref": 199.5566,
            "symbol": "circle"
           },
           "mode": "markers",
           "name": "country=Switzerland",
           "showlegend": true,
           "type": "scatter",
           "x": [
            "17",
            "22"
           ],
           "xaxis": "x",
           "y": [
            11574.14,
            9181.48
           ],
           "yaxis": "y"
          },
          {
           "customdata": [
            [
             "ING"
            ],
            [
             "Rabobank"
            ],
            [
             "ABN AMRO"
            ]
           ],
           "hoverlabel": {
            "namelength": 0
           },
           "hovertemplate": "country=Netherlands<br>year=2015<br>rank=%{x}<br>value=%{marker.size}<br>name=%{customdata[0]}",
           "legendgroup": "country=Netherlands",
           "marker": {
            "color": "#19d3f3",
            "size": [
             8876,
             7015.97,
             3354.44
            ],
            "sizemode": "area",
            "sizeref": 199.5566,
            "symbol": "circle"
           },
           "mode": "markers",
           "name": "country=Netherlands",
           "showlegend": true,
           "type": "scatter",
           "x": [
            "26",
            "33",
            "65"
           ],
           "xaxis": "x",
           "y": [
            8876,
            7015.97,
            3354.44
           ],
           "yaxis": "y"
          },
          {
           "customdata": [
            [
             "Deutsche Bank"
            ],
            [
             "DZ Bank"
            ],
            [
             "Commerzbank"
            ]
           ],
           "hoverlabel": {
            "namelength": 0
           },
           "hovertemplate": "country=Germany<br>year=2015<br>rank=%{x}<br>value=%{marker.size}<br>name=%{customdata[0]}",
           "legendgroup": "country=Germany",
           "marker": {
            "color": "#FF6692",
            "size": [
             10993.2,
             2963.24,
             2754.14
            ],
            "sizemode": "area",
            "sizeref": 199.5566,
            "symbol": "circle"
           },
           "mode": "markers",
           "name": "country=Germany",
           "showlegend": true,
           "type": "scatter",
           "x": [
            "19",
            "72",
            "76"
           ],
           "xaxis": "x",
           "y": [
            10993.2,
            2963.24,
            2754.14
           ],
           "yaxis": "y"
          },
          {
           "customdata": [
            [
             "ICBC"
            ],
            [
             "China Construction Bank"
            ],
            [
             "Agricultural Bank Of China"
            ],
            [
             "Bank of China"
            ],
            [
             "China Merchants Bank"
            ],
            [
             "Bank of Communications"
            ],
            [
             "China Minsheng Bank"
            ],
            [
             "China CITIC Bank"
            ],
            [
             "Industrial Bank"
            ],
            [
             "Shanghai Pudong Development Bank"
            ],
            [
             "Ping An Bank"
            ],
            [
             "China Everbright Bank"
            ],
            [
             "Hua Xia Bank"
            ]
           ],
           "hoverlabel": {
            "namelength": 0
           },
           "hovertemplate": "country=China<br>year=2015<br>rank=%{x}<br>value=%{marker.size}<br>name=%{customdata[0]}",
           "legendgroup": "country=China",
           "marker": {
            "color": "#B6E880",
            "size": [
             27458.93,
             26417.24,
             22714.05,
             20391.69,
             8880.28,
             7124.39,
             5780.67,
             4896.88,
             4546.19,
             4031.73,
             3109.64,
             2988.88,
             2099.56
            ],
            "sizemode": "area",
            "sizeref": 199.5566,
            "symbol": "circle"
           },
           "mode": "markers",
           "name": "country=China",
           "showlegend": true,
           "type": "scatter",
           "x": [
            "2",
            "4",
            "8",
            "9",
            "25",
            "31",
            "43",
            "51",
            "54",
            "58",
            "69",
            "71",
            "97"
           ],
           "xaxis": "x",
           "y": [
            27458.93,
            26417.24,
            22714.05,
            20391.69,
            8880.28,
            7124.39,
            5780.67,
            4896.88,
            4546.19,
            4031.73,
            3109.64,
            2988.88,
            2099.56
           ],
           "yaxis": "y"
          },
          {
           "customdata": [
            [
             "UniCredit"
            ]
           ],
           "hoverlabel": {
            "namelength": 0
           },
           "hovertemplate": "country=Italy<br>year=2015<br>rank=%{x}<br>value=%{marker.size}<br>name=%{customdata[0]}",
           "legendgroup": "country=Italy",
           "marker": {
            "color": "#FF97FF",
            "size": [
             5405.35
            ],
            "sizemode": "area",
            "sizeref": 199.5566,
            "symbol": "circle"
           },
           "mode": "markers",
           "name": "country=Italy",
           "showlegend": true,
           "type": "scatter",
           "x": [
            "46"
           ],
           "xaxis": "x",
           "y": [
            5405.35
           ],
           "yaxis": "y"
          },
          {
           "customdata": [
            [
             "Commonwealth Bank of Australia"
            ],
            [
             "ANZ"
            ],
            [
             "Westpac"
            ],
            [
             "nab"
            ],
            [
             "Macquarie"
            ],
            [
             "St.George"
            ]
           ],
           "hoverlabel": {
            "namelength": 0
           },
           "hovertemplate": "country=Australia<br>year=2015<br>rank=%{x}<br>value=%{marker.size}<br>name=%{customdata[0]}",
           "legendgroup": "country=Australia",
           "marker": {
            "color": "#FECB52",
            "size": [
             7520,
             6664.18,
             5672.91,
             5138.81,
             2509.55,
             1997.33
            ],
            "sizemode": "area",
            "sizeref": 199.5566,
            "symbol": "circle"
           },
           "mode": "markers",
           "name": "country=Australia",
           "showlegend": true,
           "type": "scatter",
           "x": [
            "29",
            "38",
            "44",
            "48",
            "83",
            "100"
           ],
           "xaxis": "x",
           "y": [
            7520,
            6664.18,
            5672.91,
            5138.81,
            2509.55,
            1997.33
           ],
           "yaxis": "y"
          },
          {
           "customdata": [
            [
             "Royal Bank Of Canada"
            ],
            [
             "TD Bank"
            ],
            [
             "Scotiabank"
            ],
            [
             "Bank of Montreal"
            ],
            [
             "CIBC"
            ],
            [
             "National Bank of Canada"
            ],
            [
             "Desjardins"
            ]
           ],
           "hoverlabel": {
            "namelength": 0
           },
           "hovertemplate": "country=Canada<br>year=2015<br>rank=%{x}<br>value=%{marker.size}<br>name=%{customdata[0]}",
           "legendgroup": "country=Canada",
           "marker": {
            "color": "#636efa",
            "size": [
             12472.78,
             11127.16,
             7028.22,
             6930.47,
             4850.94,
             2383.54,
             2325.16
            ],
            "sizemode": "area",
            "sizeref": 199.5566,
            "symbol": "circle"
           },
           "mode": "markers",
           "name": "country=Canada",
           "showlegend": true,
           "type": "scatter",
           "x": [
            "14",
            "18",
            "32",
            "34",
            "52",
            "86",
            "87"
           ],
           "xaxis": "x",
           "y": [
            12472.78,
            11127.16,
            7028.22,
            6930.47,
            4850.94,
            2383.54,
            2325.16
           ],
           "yaxis": "y"
          },
          {
           "customdata": [
            [
             "KBC"
            ]
           ],
           "hoverlabel": {
            "namelength": 0
           },
           "hovertemplate": "country=Belgium<br>year=2015<br>rank=%{x}<br>value=%{marker.size}<br>name=%{customdata[0]}",
           "legendgroup": "country=Belgium",
           "marker": {
            "color": "#EF553B",
            "size": [
             3815.75
            ],
            "sizemode": "area",
            "sizeref": 199.5566,
            "symbol": "circle"
           },
           "mode": "markers",
           "name": "country=Belgium",
           "showlegend": true,
           "type": "scatter",
           "x": [
            "62"
           ],
           "xaxis": "x",
           "y": [
            3815.75
           ],
           "yaxis": "y"
          },
          {
           "customdata": [
            [
             "MUFG"
            ],
            [
             "Mizuho"
            ],
            [
             "SMFG"
            ],
            [
             "Nomura"
            ]
           ],
           "hoverlabel": {
            "namelength": 0
           },
           "hovertemplate": "country=Japan<br>year=2015<br>rank=%{x}<br>value=%{marker.size}<br>name=%{customdata[0]}",
           "legendgroup": "country=Japan",
           "marker": {
            "color": "#00cc96",
            "size": [
             14511.33,
             6603.42,
             6142.1,
             3824.14
            ],
            "sizemode": "area",
            "sizeref": 199.5566,
            "symbol": "circle"
           },
           "mode": "markers",
           "name": "country=Japan",
           "showlegend": true,
           "type": "scatter",
           "x": [
            "12",
            "39",
            "42",
            "61"
           ],
           "xaxis": "x",
           "y": [
            14511.33,
            6603.42,
            6142.1,
            3824.14
           ],
           "yaxis": "y"
          },
          {
           "customdata": [
            [
             "Bradesco"
            ],
            [
             "Itaú"
            ],
            [
             "Banco do Brasil"
            ],
            [
             "Caixa"
            ]
           ],
           "hoverlabel": {
            "namelength": 0
           },
           "hovertemplate": "country=Brazil<br>year=2015<br>rank=%{x}<br>value=%{marker.size}<br>name=%{customdata[0]}",
           "legendgroup": "country=Brazil",
           "marker": {
            "color": "#ab63fa",
            "size": [
             12384.51,
             9020.99,
             6549.03,
             5122.71
            ],
            "sizemode": "area",
            "sizeref": 199.5566,
            "symbol": "circle"
           },
           "mode": "markers",
           "name": "country=Brazil",
           "showlegend": true,
           "type": "scatter",
           "x": [
            "15",
            "23",
            "41",
            "49"
           ],
           "xaxis": "x",
           "y": [
            12384.51,
            9020.99,
            6549.03,
            5122.71
           ],
           "yaxis": "y"
          },
          {
           "customdata": [
            [
             "Nordea"
            ],
            [
             "Svenska Handelsbanken"
            ],
            [
             "SEB"
            ],
            [
             "Swedbank"
            ]
           ],
           "hoverlabel": {
            "namelength": 0
           },
           "hovertemplate": "country=Sweden<br>year=2015<br>rank=%{x}<br>value=%{marker.size}<br>name=%{customdata[0]}",
           "legendgroup": "country=Sweden",
           "marker": {
            "color": "#FFA15A",
            "size": [
             6691.56,
             3210.79,
             2720.02,
             2250.75
            ],
            "sizemode": "area",
            "sizeref": 199.5566,
            "symbol": "circle"
           },
           "mode": "markers",
           "name": "country=Sweden",
           "showlegend": true,
           "type": "scatter",
           "x": [
            "37",
            "67",
            "77",
            "91"
           ],
           "xaxis": "x",
           "y": [
            6691.56,
            3210.79,
            2720.02,
            2250.75
           ],
           "yaxis": "y"
          },
          {
           "customdata": [
            [
             "Sberbank"
            ],
            [
             "VTB Bank"
            ]
           ],
           "hoverlabel": {
            "namelength": 0
           },
           "hovertemplate": "country=Russia<br>year=2015<br>rank=%{x}<br>value=%{marker.size}<br>name=%{customdata[0]}",
           "legendgroup": "country=Russia",
           "marker": {
            "color": "#19d3f3",
            "size": [
             8667.57,
             2251.43
            ],
            "sizemode": "area",
            "sizeref": 199.5566,
            "symbol": "circle"
           },
           "mode": "markers",
           "name": "country=Russia",
           "showlegend": true,
           "type": "scatter",
           "x": [
            "27",
            "90"
           ],
           "xaxis": "x",
           "y": [
            8667.57,
            2251.43
           ],
           "yaxis": "y"
          },
          {
           "customdata": [
            [
             "State Bank of India"
            ],
            [
             "ICICI Bank"
            ]
           ],
           "hoverlabel": {
            "namelength": 0
           },
           "hovertemplate": "country=India<br>year=2015<br>rank=%{x}<br>value=%{marker.size}<br>name=%{customdata[0]}",
           "legendgroup": "country=India",
           "marker": {
            "color": "#FF6692",
            "size": [
             6562.78,
             2527.17
            ],
            "sizemode": "area",
            "sizeref": 199.5566,
            "symbol": "circle"
           },
           "mode": "markers",
           "name": "country=India",
           "showlegend": true,
           "type": "scatter",
           "x": [
            "40",
            "81"
           ],
           "xaxis": "x",
           "y": [
            6562.78,
            2527.17
           ],
           "yaxis": "y"
          },
          {
           "customdata": [
            [
             "Erste Group"
            ]
           ],
           "hoverlabel": {
            "namelength": 0
           },
           "hovertemplate": "country=Austria<br>year=2015<br>rank=%{x}<br>value=%{marker.size}<br>name=%{customdata[0]}",
           "legendgroup": "country=Austria",
           "marker": {
            "color": "#FECB52",
            "size": [
             2605.57
            ],
            "sizemode": "area",
            "sizeref": 199.5566,
            "symbol": "circle"
           },
           "mode": "markers",
           "name": "country=Austria",
           "showlegend": true,
           "type": "scatter",
           "x": [
            "79"
           ],
           "xaxis": "x",
           "y": [
            2605.57
           ],
           "yaxis": "y"
          },
          {
           "customdata": [
            [
             "Shinhan Financial Group"
            ],
            [
             "KB Financial Group"
            ],
            [
             "Woori Bank"
            ]
           ],
           "hoverlabel": {
            "namelength": 0
           },
           "hovertemplate": "country=South Korea<br>year=2015<br>rank=%{x}<br>value=%{marker.size}<br>name=%{customdata[0]}",
           "legendgroup": "country=South Korea",
           "marker": {
            "color": "#ab63fa",
            "size": [
             6847.8,
             4215.75,
             2289.87
            ],
            "sizemode": "area",
            "sizeref": 199.5566,
            "symbol": "circle"
           },
           "mode": "markers",
           "name": "country=South Korea",
           "showlegend": true,
           "type": "scatter",
           "x": [
            "36",
            "57",
            "89"
           ],
           "xaxis": "x",
           "y": [
            6847.8,
            4215.75,
            2289.87
           ],
           "yaxis": "y"
          },
          {
           "customdata": [
            [
             "Danske Bank"
            ]
           ],
           "hoverlabel": {
            "namelength": 0
           },
           "hovertemplate": "country=Denmark<br>year=2015<br>rank=%{x}<br>value=%{marker.size}<br>name=%{customdata[0]}",
           "legendgroup": "country=Denmark",
           "marker": {
            "color": "#19d3f3",
            "size": [
             2861.28
            ],
            "sizemode": "area",
            "sizeref": 199.5566,
            "symbol": "circle"
           },
           "mode": "markers",
           "name": "country=Denmark",
           "showlegend": true,
           "type": "scatter",
           "x": [
            "73"
           ],
           "xaxis": "x",
           "y": [
            2861.28
           ],
           "yaxis": "y"
          },
          {
           "customdata": [
            [
             "DBS"
            ],
            [
             "OCBC Bank"
            ],
            [
             "UOB"
            ]
           ],
           "hoverlabel": {
            "namelength": 0
           },
           "hovertemplate": "country=Singapore<br>year=2015<br>rank=%{x}<br>value=%{marker.size}<br>name=%{customdata[0]}",
           "legendgroup": "country=Singapore",
           "marker": {
            "color": "#FF6692",
            "size": [
             4415.74,
             2787.35,
             2403.73
            ],
            "sizemode": "area",
            "sizeref": 199.5566,
            "symbol": "circle"
           },
           "mode": "markers",
           "name": "country=Singapore",
           "showlegend": true,
           "type": "scatter",
           "x": [
            "56",
            "75",
            "85"
           ],
           "xaxis": "x",
           "y": [
            4415.74,
            2787.35,
            2403.73
           ],
           "yaxis": "y"
          },
          {
           "customdata": [
            [
             "Hang Seng Bank"
            ]
           ],
           "hoverlabel": {
            "namelength": 0
           },
           "hovertemplate": "country=China (Hong Kong)<br>year=2015<br>rank=%{x}<br>value=%{marker.size}<br>name=%{customdata[0]}",
           "legendgroup": "country=China (Hong Kong)",
           "marker": {
            "color": "#FF97FF",
            "size": [
             2113.07
            ],
            "sizemode": "area",
            "sizeref": 199.5566,
            "symbol": "circle"
           },
           "mode": "markers",
           "name": "country=China (Hong Kong)",
           "showlegend": true,
           "type": "scatter",
           "x": [
            "96"
           ],
           "xaxis": "x",
           "y": [
            2113.07
           ],
           "yaxis": "y"
          },
          {
           "customdata": [
            [
             "Akbank"
            ],
            [
             "Isbank"
            ]
           ],
           "hoverlabel": {
            "namelength": 0
           },
           "hovertemplate": "country=Turkey<br>year=2015<br>rank=%{x}<br>value=%{marker.size}<br>name=%{customdata[0]}",
           "legendgroup": "country=Turkey",
           "marker": {
            "color": "#FECB52",
            "size": [
             2515.7,
             2444.9
            ],
            "sizemode": "area",
            "sizeref": 199.5566,
            "symbol": "circle"
           },
           "mode": "markers",
           "name": "country=Turkey",
           "showlegend": true,
           "type": "scatter",
           "x": [
            "82",
            "84"
           ],
           "xaxis": "x",
           "y": [
            2515.7,
            2444.9
           ],
           "yaxis": "y"
          },
          {
           "customdata": [
            [
             "DNB"
            ]
           ],
           "hoverlabel": {
            "namelength": 0
           },
           "hovertemplate": "country=Norway<br>year=2015<br>rank=%{x}<br>value=%{marker.size}<br>name=%{customdata[0]}",
           "legendgroup": "country=Norway",
           "marker": {
            "color": "#636efa",
            "size": [
             3283.79
            ],
            "sizemode": "area",
            "sizeref": 199.5566,
            "symbol": "circle"
           },
           "mode": "markers",
           "name": "country=Norway",
           "showlegend": true,
           "type": "scatter",
           "x": [
            "66"
           ],
           "xaxis": "x",
           "y": [
            3283.79
           ],
           "yaxis": "y"
          },
          {
           "customdata": [
            [
             "Maybank"
            ]
           ],
           "hoverlabel": {
            "namelength": 0
           },
           "hovertemplate": "country=Malaysia<br>year=2015<br>rank=%{x}<br>value=%{marker.size}<br>name=%{customdata[0]}",
           "legendgroup": "country=Malaysia",
           "marker": {
            "color": "#00cc96",
            "size": [
             2242.98
            ],
            "sizemode": "area",
            "sizeref": 199.5566,
            "symbol": "circle"
           },
           "mode": "markers",
           "name": "country=Malaysia",
           "showlegend": true,
           "type": "scatter",
           "x": [
            "92"
           ],
           "xaxis": "x",
           "y": [
            2242.98
           ],
           "yaxis": "y"
          },
          {
           "customdata": [
            [
             "QNB"
            ]
           ],
           "hoverlabel": {
            "namelength": 0
           },
           "hovertemplate": "country=Qatar<br>year=2015<br>rank=%{x}<br>value=%{marker.size}<br>name=%{customdata[0]}",
           "legendgroup": "country=Qatar",
           "marker": {
            "color": "#FFA15A",
            "size": [
             2603.05
            ],
            "sizemode": "area",
            "sizeref": 199.5566,
            "symbol": "circle"
           },
           "mode": "markers",
           "name": "country=Qatar",
           "showlegend": true,
           "type": "scatter",
           "x": [
            "80"
           ],
           "xaxis": "x",
           "y": [
            2603.05
           ],
           "yaxis": "y"
          },
          {
           "customdata": [
            [
             "Al Rajhi Bank"
            ]
           ],
           "hoverlabel": {
            "namelength": 0
           },
           "hovertemplate": "country=Saudi Arabia<br>year=2015<br>rank=%{x}<br>value=%{marker.size}<br>name=%{customdata[0]}",
           "legendgroup": "country=Saudi Arabia",
           "marker": {
            "color": "#19d3f3",
            "size": [
             2064.46
            ],
            "sizemode": "area",
            "sizeref": 199.5566,
            "symbol": "circle"
           },
           "mode": "markers",
           "name": "country=Saudi Arabia",
           "showlegend": true,
           "type": "scatter",
           "x": [
            "98"
           ],
           "xaxis": "x",
           "y": [
            2064.46
           ],
           "yaxis": "y"
          }
         ],
         "name": "2015"
        },
        {
         "data": [
          {
           "customdata": [
            [
             "HSBC"
            ],
            [
             "Barclays"
            ],
            [
             "Lloyds Bank"
            ],
            [
             "Halifax"
            ],
            [
             "Standard Chartered"
            ],
            [
             "NatWest"
            ],
            [
             "RBS"
            ],
            [
             "Nationwide Building Society"
            ]
           ],
           "hoverlabel": {
            "namelength": 0
           },
           "hovertemplate": "country=United Kingdom<br>year=2016<br>rank=%{x}<br>value=%{marker.size}<br>name=%{customdata[0]}",
           "legendgroup": "country=United Kingdom",
           "marker": {
            "color": "#636efa",
            "size": [
             24172.28,
             16235.86,
             8119.62,
             4754.26,
             4750.47,
             3893.67,
             3543.1,
             3104.97
            ],
            "sizemode": "area",
            "sizeref": 199.5566,
            "symbol": "circle"
           },
           "mode": "markers",
           "name": "country=United Kingdom",
           "showlegend": true,
           "type": "scatter",
           "x": [
            "9",
            "10",
            "25",
            "50",
            "51",
            "56",
            "64",
            "72"
           ],
           "xaxis": "x",
           "y": [
            24172.28,
            16235.86,
            8119.62,
            4754.26,
            4750.47,
            3893.67,
            3543.1,
            3104.97
           ],
           "yaxis": "y"
          },
          {
           "customdata": [
            [
             "Wells Fargo"
            ],
            [
             "Chase"
            ],
            [
             "Bank of America"
            ],
            [
             "Citi"
            ],
            [
             "J.P. Morgan"
            ],
            [
             "Capital One"
            ],
            [
             "Goldman Sachs"
            ],
            [
             "Morgan Stanley"
            ],
            [
             "U.S. Bancorp"
            ],
            [
             "PNC"
            ],
            [
             "Merrill Lynch"
            ],
            [
             "BNY Mellon"
            ],
            [
             "BB&T"
            ],
            [
             "State Street"
            ],
            [
             "Charles Schwab"
            ],
            [
             "SunTrust Banks"
            ],
            [
             "Fifth Third Bank"
            ]
           ],
           "hoverlabel": {
            "namelength": 0
           },
           "hovertemplate": "country=United States<br>year=2016<br>rank=%{x}<br>value=%{marker.size}<br>name=%{customdata[0]}",
           "legendgroup": "country=United States",
           "marker": {
            "color": "#EF553B",
            "size": [
             44169.68,
             30602.97,
             26927.51,
             26031.04,
             12948,
             11658.1,
             8209.03,
             8105.73,
             6293.19,
             5513.03,
             4012.05,
             3964.89,
             2912.8,
             2671.96,
             2583.88,
             2495.29,
             2056.68
            ],
            "sizemode": "area",
            "sizeref": 199.5566,
            "symbol": "circle"
           },
           "mode": "markers",
           "name": "country=United States",
           "showlegend": true,
           "type": "scatter",
           "x": [
            "1",
            "5",
            "7",
            "8",
            "14",
            "16",
            "24",
            "26",
            "38",
            "47",
            "54",
            "55",
            "73",
            "81",
            "86",
            "89",
            "100"
           ],
           "xaxis": "x",
           "y": [
            44169.68,
            30602.97,
            26927.51,
            26031.04,
            12948,
            11658.1,
            8209.03,
            8105.73,
            6293.19,
            5513.03,
            4012.05,
            3964.89,
            2912.8,
            2671.96,
            2583.88,
            2495.29,
            2056.68
           ],
           "yaxis": "y"
          },
          {
           "customdata": [
            [
             "Santander"
            ],
            [
             "BBVA"
            ],
            [
             "CaixaBank"
            ]
           ],
           "hoverlabel": {
            "namelength": 0
           },
           "hovertemplate": "country=Spain<br>year=2016<br>rank=%{x}<br>value=%{marker.size}<br>name=%{customdata[0]}",
           "legendgroup": "country=Spain",
           "marker": {
            "color": "#00cc96",
            "size": [
             15688.51,
             8379.35,
             2560.39
            ],
            "sizemode": "area",
            "sizeref": 199.5566,
            "symbol": "circle"
           },
           "mode": "markers",
           "name": "country=Spain",
           "showlegend": true,
           "type": "scatter",
           "x": [
            "11",
            "23",
            "87"
           ],
           "xaxis": "x",
           "y": [
            15688.51,
            8379.35,
            2560.39
           ],
           "yaxis": "y"
          },
          {
           "customdata": [
            [
             "BNP Paribas"
            ],
            [
             "Société Générale"
            ],
            [
             "Crédit Agricole"
            ],
            [
             "Crédit Mutuel"
            ],
            [
             "Natixis"
            ],
            [
             "La Banque Postale"
            ]
           ],
           "hoverlabel": {
            "namelength": 0
           },
           "hovertemplate": "country=France<br>year=2016<br>rank=%{x}<br>value=%{marker.size}<br>name=%{customdata[0]}",
           "legendgroup": "country=France",
           "marker": {
            "color": "#ab63fa",
            "size": [
             15530.86,
             7278.23,
             3842,
             3271.05,
             2237.03,
             2089.01
            ],
            "sizemode": "area",
            "sizeref": 199.5566,
            "symbol": "circle"
           },
           "mode": "markers",
           "name": "country=France",
           "showlegend": true,
           "type": "scatter",
           "x": [
            "12",
            "32",
            "58",
            "68",
            "94",
            "98"
           ],
           "xaxis": "x",
           "y": [
            15530.86,
            7278.23,
            3842,
            3271.05,
            2237.03,
            2089.01
           ],
           "yaxis": "y"
          },
          {
           "customdata": [
            [
             "UBS"
            ],
            [
             "Credit Suisse"
            ]
           ],
           "hoverlabel": {
            "namelength": 0
           },
           "hovertemplate": "country=Switzerland<br>year=2016<br>rank=%{x}<br>value=%{marker.size}<br>name=%{customdata[0]}",
           "legendgroup": "country=Switzerland",
           "marker": {
            "color": "#FFA15A",
            "size": [
             8930.68,
             7313.56
            ],
            "sizemode": "area",
            "sizeref": 199.5566,
            "symbol": "circle"
           },
           "mode": "markers",
           "name": "country=Switzerland",
           "showlegend": true,
           "type": "scatter",
           "x": [
            "20",
            "31"
           ],
           "xaxis": "x",
           "y": [
            8930.68,
            7313.56
           ],
           "yaxis": "y"
          },
          {
           "customdata": [
            [
             "ING"
            ],
            [
             "Rabobank"
            ],
            [
             "ABN AMRO"
            ]
           ],
           "hoverlabel": {
            "namelength": 0
           },
           "hovertemplate": "country=Netherlands<br>year=2016<br>rank=%{x}<br>value=%{marker.size}<br>name=%{customdata[0]}",
           "legendgroup": "country=Netherlands",
           "marker": {
            "color": "#19d3f3",
            "size": [
             7806.6,
             7445,
             3450
            ],
            "sizemode": "area",
            "sizeref": 199.5566,
            "symbol": "circle"
           },
           "mode": "markers",
           "name": "country=Netherlands",
           "showlegend": true,
           "type": "scatter",
           "x": [
            "27",
            "29",
            "65"
           ],
           "xaxis": "x",
           "y": [
            7806.6,
            7445,
            3450
           ],
           "yaxis": "y"
          },
          {
           "customdata": [
            [
             "Deutsche Bank"
            ],
            [
             "Commerzbank"
            ],
            [
             "DZ Bank"
            ]
           ],
           "hoverlabel": {
            "namelength": 0
           },
           "hovertemplate": "country=Germany<br>year=2016<br>rank=%{x}<br>value=%{marker.size}<br>name=%{customdata[0]}",
           "legendgroup": "country=Germany",
           "marker": {
            "color": "#FF6692",
            "size": [
             8456.09,
             2678.45,
             2625.04
            ],
            "sizemode": "area",
            "sizeref": 199.5566,
            "symbol": "circle"
           },
           "mode": "markers",
           "name": "country=Germany",
           "showlegend": true,
           "type": "scatter",
           "x": [
            "21",
            "80",
            "82"
           ],
           "xaxis": "x",
           "y": [
            8456.09,
            2678.45,
            2625.04
           ],
           "yaxis": "y"
          },
          {
           "customdata": [
            [
             "ICBC"
            ],
            [
             "China Construction Bank"
            ],
            [
             "Agricultural Bank Of China"
            ],
            [
             "Bank of China"
            ],
            [
             "China Merchants Bank"
            ],
            [
             "Bank of Communications"
            ],
            [
             "China Minsheng Bank"
            ],
            [
             "China CITIC Bank"
            ],
            [
             "Industrial Bank Co."
            ],
            [
             "Shanghai Pudong Development Bank"
            ],
            [
             "Ping An Bank"
            ],
            [
             "China Everbright Bank"
            ],
            [
             "Hua Xia Bank"
            ],
            [
             "Hang Seng Bank"
            ]
           ],
           "hoverlabel": {
            "namelength": 0
           },
           "hovertemplate": "country=China<br>year=2016<br>rank=%{x}<br>value=%{marker.size}<br>name=%{customdata[0]}",
           "legendgroup": "country=China",
           "marker": {
            "color": "#B6E880",
            "size": [
             36334.23,
             35394,
             32261,
             27735.02,
             13238.58,
             10486.32,
             8399.51,
             7102.77,
             6454.69,
             6392.56,
             5296,
             4311.75,
             2825.78,
             2422.03
            ],
            "sizemode": "area",
            "sizeref": 199.5566,
            "symbol": "circle"
           },
           "mode": "markers",
           "name": "country=China",
           "showlegend": true,
           "type": "scatter",
           "x": [
            "2",
            "3",
            "4",
            "6",
            "13",
            "17",
            "22",
            "34",
            "36",
            "37",
            "49",
            "53",
            "76",
            "92"
           ],
           "xaxis": "x",
           "y": [
            36334.23,
            35394,
            32261,
            27735.02,
            13238.58,
            10486.32,
            8399.51,
            7102.77,
            6454.69,
            6392.56,
            5296,
            4311.75,
            2825.78,
            2422.03
           ],
           "yaxis": "y"
          },
          {
           "customdata": [
            [
             "UniCredit"
            ]
           ],
           "hoverlabel": {
            "namelength": 0
           },
           "hovertemplate": "country=Italy<br>year=2016<br>rank=%{x}<br>value=%{marker.size}<br>name=%{customdata[0]}",
           "legendgroup": "country=Italy",
           "marker": {
            "color": "#FF97FF",
            "size": [
             3811
            ],
            "sizemode": "area",
            "sizeref": 199.5566,
            "symbol": "circle"
           },
           "mode": "markers",
           "name": "country=Italy",
           "showlegend": true,
           "type": "scatter",
           "x": [
            "59"
           ],
           "xaxis": "x",
           "y": [
            3811
           ],
           "yaxis": "y"
          },
          {
           "customdata": [
            [
             "ANZ"
            ],
            [
             "Commonwealth Bank of Australia"
            ],
            [
             "Westpac"
            ],
            [
             "nab"
            ],
            [
             "Macquarie"
            ]
           ],
           "hoverlabel": {
            "namelength": 0
           },
           "hovertemplate": "country=Australia<br>year=2016<br>rank=%{x}<br>value=%{marker.size}<br>name=%{customdata[0]}",
           "legendgroup": "country=Australia",
           "marker": {
            "color": "#FECB52",
            "size": [
             7458.3,
             7185.5,
             5846.09,
             5549.56,
             2904.74
            ],
            "sizemode": "area",
            "sizeref": 199.5566,
            "symbol": "circle"
           },
           "mode": "markers",
           "name": "country=Australia",
           "showlegend": true,
           "type": "scatter",
           "x": [
            "28",
            "33",
            "41",
            "46",
            "74"
           ],
           "xaxis": "x",
           "y": [
            7458.3,
            7185.5,
            5846.09,
            5549.56,
            2904.74
           ],
           "yaxis": "y"
          },
          {
           "customdata": [
            [
             "Royal Bank Of Canada"
            ],
            [
             "TD Bank"
            ],
            [
             "Scotiabank"
            ],
            [
             "Bank of Montreal"
            ],
            [
             "CIBC"
            ],
            [
             "Desjardins"
            ]
           ],
           "hoverlabel": {
            "namelength": 0
           },
           "hovertemplate": "country=Canada<br>year=2016<br>rank=%{x}<br>value=%{marker.size}<br>name=%{customdata[0]}",
           "legendgroup": "country=Canada",
           "marker": {
            "color": "#636efa",
            "size": [
             9879.57,
             9607.11,
             7336,
             5856.03,
             4665.21,
             2803.91
            ],
            "sizemode": "area",
            "sizeref": 199.5566,
            "symbol": "circle"
           },
           "mode": "markers",
           "name": "country=Canada",
           "showlegend": true,
           "type": "scatter",
           "x": [
            "18",
            "19",
            "30",
            "40",
            "52",
            "77"
           ],
           "xaxis": "x",
           "y": [
            9879.57,
            9607.11,
            7336,
            5856.03,
            4665.21,
            2803.91
           ],
           "yaxis": "y"
          },
          {
           "customdata": [
            [
             "KBC"
            ]
           ],
           "hoverlabel": {
            "namelength": 0
           },
           "hovertemplate": "country=Belgium<br>year=2016<br>rank=%{x}<br>value=%{marker.size}<br>name=%{customdata[0]}",
           "legendgroup": "country=Belgium",
           "marker": {
            "color": "#EF553B",
            "size": [
             3849.49
            ],
            "sizemode": "area",
            "sizeref": 199.5566,
            "symbol": "circle"
           },
           "mode": "markers",
           "name": "country=Belgium",
           "showlegend": true,
           "type": "scatter",
           "x": [
            "57"
           ],
           "xaxis": "x",
           "y": [
            3849.49
           ],
           "yaxis": "y"
          },
          {
           "customdata": [
            [
             "MUFG"
            ],
            [
             "SMFG"
            ],
            [
             "Mizuho Financial Group"
            ],
            [
             "Nomura"
            ]
           ],
           "hoverlabel": {
            "namelength": 0
           },
           "hovertemplate": "country=Japan<br>year=2016<br>rank=%{x}<br>value=%{marker.size}<br>name=%{customdata[0]}",
           "legendgroup": "country=Japan",
           "marker": {
            "color": "#00cc96",
            "size": [
             12650.84,
             5983.23,
             5775.61,
             3754.64
            ],
            "sizemode": "area",
            "sizeref": 199.5566,
            "symbol": "circle"
           },
           "mode": "markers",
           "name": "country=Japan",
           "showlegend": true,
           "type": "scatter",
           "x": [
            "15",
            "39",
            "42",
            "60"
           ],
           "xaxis": "x",
           "y": [
            12650.84,
            5983.23,
            5775.61,
            3754.64
           ],
           "yaxis": "y"
          },
          {
           "customdata": [
            [
             "Itaú"
            ],
            [
             "Banco do Brasil"
            ],
            [
             "Caixa"
            ],
            [
             "Bradesco"
            ]
           ],
           "hoverlabel": {
            "namelength": 0
           },
           "hovertemplate": "country=Brazil<br>year=2016<br>rank=%{x}<br>value=%{marker.size}<br>name=%{customdata[0]}",
           "legendgroup": "country=Brazil",
           "marker": {
            "color": "#ab63fa",
            "size": [
             3712.16,
             3579.09,
             3167.19,
             3162.9
            ],
            "sizemode": "area",
            "sizeref": 199.5566,
            "symbol": "circle"
           },
           "mode": "markers",
           "name": "country=Brazil",
           "showlegend": true,
           "type": "scatter",
           "x": [
            "61",
            "63",
            "70",
            "71"
           ],
           "xaxis": "x",
           "y": [
            3712.16,
            3579.09,
            3167.19,
            3162.9
           ],
           "yaxis": "y"
          },
          {
           "customdata": [
            [
             "Nordea"
            ],
            [
             "Svenska Handelsbanken"
            ],
            [
             "SEB"
            ],
            [
             "Swedbank"
            ]
           ],
           "hoverlabel": {
            "namelength": 0
           },
           "hovertemplate": "country=Sweden<br>year=2016<br>rank=%{x}<br>value=%{marker.size}<br>name=%{customdata[0]}",
           "legendgroup": "country=Sweden",
           "marker": {
            "color": "#FFA15A",
            "size": [
             5571.93,
             3210.81,
             2767.85,
             2439.97
            ],
            "sizemode": "area",
            "sizeref": 199.5566,
            "symbol": "circle"
           },
           "mode": "markers",
           "name": "country=Sweden",
           "showlegend": true,
           "type": "scatter",
           "x": [
            "45",
            "69",
            "78",
            "91"
           ],
           "xaxis": "x",
           "y": [
            5571.93,
            3210.81,
            2767.85,
            2439.97
           ],
           "yaxis": "y"
          },
          {
           "customdata": [
            [
             "Sberbank"
            ],
            [
             "VTB Bank"
            ]
           ],
           "hoverlabel": {
            "namelength": 0
           },
           "hovertemplate": "country=Russia<br>year=2016<br>rank=%{x}<br>value=%{marker.size}<br>name=%{customdata[0]}",
           "legendgroup": "country=Russia",
           "marker": {
            "color": "#19d3f3",
            "size": [
             6806.51,
             2067.67
            ],
            "sizemode": "area",
            "sizeref": 199.5566,
            "symbol": "circle"
           },
           "mode": "markers",
           "name": "country=Russia",
           "showlegend": true,
           "type": "scatter",
           "x": [
            "35",
            "99"
           ],
           "xaxis": "x",
           "y": [
            6806.51,
            2067.67
           ],
           "yaxis": "y"
          },
          {
           "customdata": [
            [
             "State Bank of India"
            ],
            [
             "ICICI Bank"
            ],
            [
             "HDFC Bank"
            ]
           ],
           "hoverlabel": {
            "namelength": 0
           },
           "hovertemplate": "country=India<br>year=2016<br>rank=%{x}<br>value=%{marker.size}<br>name=%{customdata[0]}",
           "legendgroup": "country=India",
           "marker": {
            "color": "#FF6692",
            "size": [
             5759.59,
             2600.21,
             2586.05
            ],
            "sizemode": "area",
            "sizeref": 199.5566,
            "symbol": "circle"
           },
           "mode": "markers",
           "name": "country=India",
           "showlegend": true,
           "type": "scatter",
           "x": [
            "43",
            "84",
            "85"
           ],
           "xaxis": "x",
           "y": [
            5759.59,
            2600.21,
            2586.05
           ],
           "yaxis": "y"
          },
          {
           "customdata": [
            [
             "Erste Group"
            ]
           ],
           "hoverlabel": {
            "namelength": 0
           },
           "hovertemplate": "country=Austria<br>year=2016<br>rank=%{x}<br>value=%{marker.size}<br>name=%{customdata[0]}",
           "legendgroup": "country=Austria",
           "marker": {
            "color": "#FECB52",
            "size": [
             2171.08
            ],
            "sizemode": "area",
            "sizeref": 199.5566,
            "symbol": "circle"
           },
           "mode": "markers",
           "name": "country=Austria",
           "showlegend": true,
           "type": "scatter",
           "x": [
            "97"
           ],
           "xaxis": "x",
           "y": [
            2171.08
           ],
           "yaxis": "y"
          },
          {
           "customdata": [
            [
             "Shinhan Financial Group"
            ],
            [
             "KB Financial Group"
            ],
            [
             "Hana Financial Group"
            ]
           ],
           "hoverlabel": {
            "namelength": 0
           },
           "hovertemplate": "country=South Korea<br>year=2016<br>rank=%{x}<br>value=%{marker.size}<br>name=%{customdata[0]}",
           "legendgroup": "country=South Korea",
           "marker": {
            "color": "#ab63fa",
            "size": [
             5715.96,
             3622,
             2521.76
            ],
            "sizemode": "area",
            "sizeref": 199.5566,
            "symbol": "circle"
           },
           "mode": "markers",
           "name": "country=South Korea",
           "showlegend": true,
           "type": "scatter",
           "x": [
            "44",
            "62",
            "88"
           ],
           "xaxis": "x",
           "y": [
            5715.96,
            3622,
            2521.76
           ],
           "yaxis": "y"
          },
          {
           "customdata": [
            [
             "CTBC"
            ]
           ],
           "hoverlabel": {
            "namelength": 0
           },
           "hovertemplate": "country=China (Taiwan)<br>year=2016<br>rank=%{x}<br>value=%{marker.size}<br>name=%{customdata[0]}",
           "legendgroup": "country=China (Taiwan)",
           "marker": {
            "color": "#FFA15A",
            "size": [
             2615.05
            ],
            "sizemode": "area",
            "sizeref": 199.5566,
            "symbol": "circle"
           },
           "mode": "markers",
           "name": "country=China (Taiwan)",
           "showlegend": true,
           "type": "scatter",
           "x": [
            "83"
           ],
           "xaxis": "x",
           "y": [
            2615.05
           ],
           "yaxis": "y"
          },
          {
           "customdata": [
            [
             "Danske Bank"
            ]
           ],
           "hoverlabel": {
            "namelength": 0
           },
           "hovertemplate": "country=Denmark<br>year=2016<br>rank=%{x}<br>value=%{marker.size}<br>name=%{customdata[0]}",
           "legendgroup": "country=Denmark",
           "marker": {
            "color": "#19d3f3",
            "size": [
             2844.15
            ],
            "sizemode": "area",
            "sizeref": 199.5566,
            "symbol": "circle"
           },
           "mode": "markers",
           "name": "country=Denmark",
           "showlegend": true,
           "type": "scatter",
           "x": [
            "75"
           ],
           "xaxis": "x",
           "y": [
            2844.15
           ],
           "yaxis": "y"
          },
          {
           "customdata": [
            [
             "DBS"
            ],
            [
             "OCBC Bank"
            ],
            [
             "UOB"
            ]
           ],
           "hoverlabel": {
            "namelength": 0
           },
           "hovertemplate": "country=Singapore<br>year=2016<br>rank=%{x}<br>value=%{marker.size}<br>name=%{customdata[0]}",
           "legendgroup": "country=Singapore",
           "marker": {
            "color": "#FF6692",
            "size": [
             5314.24,
             3292.67,
             2762.07
            ],
            "sizemode": "area",
            "sizeref": 199.5566,
            "symbol": "circle"
           },
           "mode": "markers",
           "name": "country=Singapore",
           "showlegend": true,
           "type": "scatter",
           "x": [
            "48",
            "67",
            "79"
           ],
           "xaxis": "x",
           "y": [
            5314.24,
            3292.67,
            2762.07
           ],
           "yaxis": "y"
          },
          {
           "customdata": [
            [
             "DNB"
            ]
           ],
           "hoverlabel": {
            "namelength": 0
           },
           "hovertemplate": "country=Norway<br>year=2016<br>rank=%{x}<br>value=%{marker.size}<br>name=%{customdata[0]}",
           "legendgroup": "country=Norway",
           "marker": {
            "color": "#636efa",
            "size": [
             3386.1
            ],
            "sizemode": "area",
            "sizeref": 199.5566,
            "symbol": "circle"
           },
           "mode": "markers",
           "name": "country=Norway",
           "showlegend": true,
           "type": "scatter",
           "x": [
            "66"
           ],
           "xaxis": "x",
           "y": [
            3386.1
           ],
           "yaxis": "y"
          },
          {
           "customdata": [
            [
             "QNB"
            ]
           ],
           "hoverlabel": {
            "namelength": 0
           },
           "hovertemplate": "country=Qatar<br>year=2016<br>rank=%{x}<br>value=%{marker.size}<br>name=%{customdata[0]}",
           "legendgroup": "country=Qatar",
           "marker": {
            "color": "#FFA15A",
            "size": [
             2453.24
            ],
            "sizemode": "area",
            "sizeref": 199.5566,
            "symbol": "circle"
           },
           "mode": "markers",
           "name": "country=Qatar",
           "showlegend": true,
           "type": "scatter",
           "x": [
            "90"
           ],
           "xaxis": "x",
           "y": [
            2453.24
           ],
           "yaxis": "y"
          },
          {
           "customdata": [
            [
             "Al-Rajhi Bank"
            ],
            [
             "NCB"
            ]
           ],
           "hoverlabel": {
            "namelength": 0
           },
           "hovertemplate": "country=Saudi Arabia<br>year=2016<br>rank=%{x}<br>value=%{marker.size}<br>name=%{customdata[0]}",
           "legendgroup": "country=Saudi Arabia",
           "marker": {
            "color": "#19d3f3",
            "size": [
             2342.5,
             2231.14
            ],
            "sizemode": "area",
            "sizeref": 199.5566,
            "symbol": "circle"
           },
           "mode": "markers",
           "name": "country=Saudi Arabia",
           "showlegend": true,
           "type": "scatter",
           "x": [
            "93",
            "95"
           ],
           "xaxis": "x",
           "y": [
            2342.5,
            2231.14
           ],
           "yaxis": "y"
          },
          {
           "customdata": [
            [
             "Emirates NBD"
            ]
           ],
           "hoverlabel": {
            "namelength": 0
           },
           "hovertemplate": "country=UAE<br>year=2016<br>rank=%{x}<br>value=%{marker.size}<br>name=%{customdata[0]}",
           "legendgroup": "country=UAE",
           "marker": {
            "color": "#FF6692",
            "size": [
             2185.74
            ],
            "sizemode": "area",
            "sizeref": 199.5566,
            "symbol": "circle"
           },
           "mode": "markers",
           "name": "country=UAE",
           "showlegend": true,
           "type": "scatter",
           "x": [
            "96"
           ],
           "xaxis": "x",
           "y": [
            2185.74
           ],
           "yaxis": "y"
          }
         ],
         "name": "2016"
        },
        {
         "data": [
          {
           "customdata": [
            [
             "HSBC"
            ],
            [
             "Barclays"
            ],
            [
             "Lloyds Bank"
            ],
            [
             "Standard Chartered"
            ],
            [
             "Nationwide Building Society"
            ],
            [
             "Halifax"
            ],
            [
             "NatWest"
            ],
            [
             "RBS"
            ]
           ],
           "hoverlabel": {
            "namelength": 0
           },
           "hovertemplate": "country=United Kingdom<br>year=2017<br>rank=%{x}<br>value=%{marker.size}<br>name=%{customdata[0]}",
           "legendgroup": "country=United Kingdom",
           "marker": {
            "color": "#636efa",
            "size": [
             20687.7,
             13006.29,
             6398.12,
             4748.72,
             3574.46,
             3448.55,
             3249.01,
             3247.03
            ],
            "sizemode": "area",
            "sizeref": 199.5566,
            "symbol": "circle"
           },
           "mode": "markers",
           "name": "country=United Kingdom",
           "showlegend": true,
           "type": "scatter",
           "x": [
            "9",
            "15",
            "39",
            "55",
            "68",
            "72",
            "78",
            "79"
           ],
           "xaxis": "x",
           "y": [
            20687.7,
            13006.29,
            6398.12,
            4748.72,
            3574.46,
            3448.55,
            3249.01,
            3247.03
           ],
           "yaxis": "y"
          },
          {
           "customdata": [
            [
             "Wells Fargo"
            ],
            [
             "Chase"
            ],
            [
             "Bank of America"
            ],
            [
             "Citi"
            ],
            [
             "J.P. Morgan"
            ],
            [
             "Capital One"
            ],
            [
             "Goldman Sachs"
            ],
            [
             "Morgan Stanley"
            ],
            [
             "U.S. Bancorp"
            ],
            [
             "PNC"
            ],
            [
             "Merrill Lynch"
            ],
            [
             "BNY Mellon"
            ],
            [
             "BB&T"
            ],
            [
             "Charles Schwab"
            ],
            [
             "SunTrust Banks"
            ],
            [
             "State Street"
            ],
            [
             "Fifth Third Bank"
            ]
           ],
           "hoverlabel": {
            "namelength": 0
           },
           "hovertemplate": "country=United States<br>year=2017<br>rank=%{x}<br>value=%{marker.size}<br>name=%{customdata[0]}",
           "legendgroup": "country=United States",
           "marker": {
            "color": "#EF553B",
            "size": [
             41617.53,
             33736.51,
             30272.83,
             27674.47,
             15710.34,
             11374.01,
             8955.48,
             7484.13,
             7075.76,
             6166.32,
             5522.61,
             3523.44,
             3410.92,
             3017.34,
             2968.72,
             2695.97,
             2415.68
            ],
            "sizemode": "area",
            "sizeref": 199.5566,
            "symbol": "circle"
           },
           "mode": "markers",
           "name": "country=United States",
           "showlegend": true,
           "type": "scatter",
           "x": [
            "2",
            "4",
            "6",
            "8",
            "11",
            "20",
            "25",
            "33",
            "34",
            "42",
            "50",
            "70",
            "73",
            "81",
            "83",
            "88",
            "99"
           ],
           "xaxis": "x",
           "y": [
            41617.53,
            33736.51,
            30272.83,
            27674.47,
            15710.34,
            11374.01,
            8955.48,
            7484.13,
            7075.76,
            6166.32,
            5522.61,
            3523.44,
            3410.92,
            3017.34,
            2968.72,
            2695.97,
            2415.68
           ],
           "yaxis": "y"
          },
          {
           "customdata": [
            [
             "Santander"
            ],
            [
             "BBVA"
            ],
            [
             "CaixaBank"
            ]
           ],
           "hoverlabel": {
            "namelength": 0
           },
           "hovertemplate": "country=Spain<br>year=2017<br>rank=%{x}<br>value=%{marker.size}<br>name=%{customdata[0]}",
           "legendgroup": "country=Spain",
           "marker": {
            "color": "#00cc96",
            "size": [
             15928.85,
             8183.25,
             2543.61
            ],
            "sizemode": "area",
            "sizeref": 199.5566,
            "symbol": "circle"
           },
           "mode": "markers",
           "name": "country=Spain",
           "showlegend": true,
           "type": "scatter",
           "x": [
            "10",
            "30",
            "92"
           ],
           "xaxis": "x",
           "y": [
            15928.85,
            8183.25,
            2543.61
           ],
           "yaxis": "y"
          },
          {
           "customdata": [
            [
             "BNP Paribas"
            ],
            [
             "Société Générale"
            ],
            [
             "Crédit Agricole"
            ],
            [
             "Crédit Mutuel"
            ]
           ],
           "hoverlabel": {
            "namelength": 0
           },
           "hovertemplate": "country=France<br>year=2017<br>rank=%{x}<br>value=%{marker.size}<br>name=%{customdata[0]}",
           "legendgroup": "country=France",
           "marker": {
            "color": "#ab63fa",
            "size": [
             13644.22,
             6620.4,
             4103.71,
             3707.93
            ],
            "sizemode": "area",
            "sizeref": 199.5566,
            "symbol": "circle"
           },
           "mode": "markers",
           "name": "country=France",
           "showlegend": true,
           "type": "scatter",
           "x": [
            "13",
            "36",
            "57",
            "64"
           ],
           "xaxis": "x",
           "y": [
            13644.22,
            6620.4,
            4103.71,
            3707.93
           ],
           "yaxis": "y"
          },
          {
           "customdata": [
            [
             "UBS"
            ],
            [
             "Credit Suisse"
            ]
           ],
           "hoverlabel": {
            "namelength": 0
           },
           "hovertemplate": "country=Switzerland<br>year=2017<br>rank=%{x}<br>value=%{marker.size}<br>name=%{customdata[0]}",
           "legendgroup": "country=Switzerland",
           "marker": {
            "color": "#FFA15A",
            "size": [
             9374.68,
             6098.22
            ],
            "sizemode": "area",
            "sizeref": 199.5566,
            "symbol": "circle"
           },
           "mode": "markers",
           "name": "country=Switzerland",
           "showlegend": true,
           "type": "scatter",
           "x": [
            "23",
            "43"
           ],
           "xaxis": "x",
           "y": [
            9374.68,
            6098.22
           ],
           "yaxis": "y"
          },
          {
           "customdata": [
            [
             "ING"
            ],
            [
             "Rabobank"
            ],
            [
             "ABN AMRO"
            ]
           ],
           "hoverlabel": {
            "namelength": 0
           },
           "hovertemplate": "country=Netherlands<br>year=2017<br>rank=%{x}<br>value=%{marker.size}<br>name=%{customdata[0]}",
           "legendgroup": "country=Netherlands",
           "marker": {
            "color": "#19d3f3",
            "size": [
             8660.4,
             6026.15,
             3174.46
            ],
            "sizemode": "area",
            "sizeref": 199.5566,
            "symbol": "circle"
           },
           "mode": "markers",
           "name": "country=Netherlands",
           "showlegend": true,
           "type": "scatter",
           "x": [
            "27",
            "44",
            "80"
           ],
           "xaxis": "x",
           "y": [
            8660.4,
            6026.15,
            3174.46
           ],
           "yaxis": "y"
          },
          {
           "customdata": [
            [
             "Deutsche Bank"
            ],
            [
             "DZ Bank"
            ]
           ],
           "hoverlabel": {
            "namelength": 0
           },
           "hovertemplate": "country=Germany<br>year=2017<br>rank=%{x}<br>value=%{marker.size}<br>name=%{customdata[0]}",
           "legendgroup": "country=Germany",
           "marker": {
            "color": "#FF6692",
            "size": [
             4947.24,
             2416.67
            ],
            "sizemode": "area",
            "sizeref": 199.5566,
            "symbol": "circle"
           },
           "mode": "markers",
           "name": "country=Germany",
           "showlegend": true,
           "type": "scatter",
           "x": [
            "54",
            "98"
           ],
           "xaxis": "x",
           "y": [
            4947.24,
            2416.67
           ],
           "yaxis": "y"
          },
          {
           "customdata": [
            [
             "ICBC"
            ],
            [
             "China Construction Bank"
            ],
            [
             "Bank of China"
            ],
            [
             "Agricultural Bank Of China"
            ],
            [
             "China Merchants Bank"
            ],
            [
             "Shanghai Pudong Development Bank"
            ],
            [
             "Bank of Communications"
            ],
            [
             "Industrial Bank Co."
            ],
            [
             "China CITIC Bank"
            ],
            [
             "China Minsheng Bank"
            ],
            [
             "China Everbright Bank"
            ],
            [
             "Ping An Bank"
            ],
            [
             "Bank of Beijing"
            ],
            [
             "Bank of Shanghai"
            ],
            [
             "Hua Xia Bank"
            ]
           ],
           "hoverlabel": {
            "namelength": 0
           },
           "hovertemplate": "country=China<br>year=2017<br>rank=%{x}<br>value=%{marker.size}<br>name=%{customdata[0]}",
           "legendgroup": "country=China",
           "marker": {
            "color": "#B6E880",
            "size": [
             47832.39,
             41377.34,
             31250.45,
             28511.16,
             14269.47,
             11963.03,
             11631.74,
             10566.62,
             9478.97,
             8769.9,
             5950.17,
             5949.24,
             3739.38,
             3708.15,
             3472.58
            ],
            "sizemode": "area",
            "sizeref": 199.5566,
            "symbol": "circle"
           },
           "mode": "markers",
           "name": "country=China",
           "showlegend": true,
           "type": "scatter",
           "x": [
            "1",
            "3",
            "5",
            "7",
            "12",
            "18",
            "19",
            "21",
            "22",
            "26",
            "45",
            "46",
            "62",
            "63",
            "71"
           ],
           "xaxis": "x",
           "y": [
            47832.39,
            41377.34,
            31250.45,
            28511.16,
            14269.47,
            11963.03,
            11631.74,
            10566.62,
            9478.97,
            8769.9,
            5950.17,
            5949.24,
            3739.38,
            3708.15,
            3472.58
           ],
           "yaxis": "y"
          },
          {
           "customdata": [
            [
             "Intesa Sanpaolo"
            ],
            [
             "UniCredit"
            ]
           ],
           "hoverlabel": {
            "namelength": 0
           },
           "hovertemplate": "country=Italy<br>year=2017<br>rank=%{x}<br>value=%{marker.size}<br>name=%{customdata[0]}",
           "legendgroup": "country=Italy",
           "marker": {
            "color": "#FF97FF",
            "size": [
             4582.45,
             2607.37
            ],
            "sizemode": "area",
            "sizeref": 199.5566,
            "symbol": "circle"
           },
           "mode": "markers",
           "name": "country=Italy",
           "showlegend": true,
           "type": "scatter",
           "x": [
            "56",
            "89"
           ],
           "xaxis": "x",
           "y": [
            4582.45,
            2607.37
           ],
           "yaxis": "y"
          },
          {
           "customdata": [
            [
             "Commonwealth Bank of Australia"
            ],
            [
             "ANZ"
            ],
            [
             "nab"
            ],
            [
             "Westpac"
            ],
            [
             "Macquarie"
            ]
           ],
           "hoverlabel": {
            "namelength": 0
           },
           "hovertemplate": "country=Australia<br>year=2017<br>rank=%{x}<br>value=%{marker.size}<br>name=%{customdata[0]}",
           "legendgroup": "country=Australia",
           "marker": {
            "color": "#FECB52",
            "size": [
             8207.35,
             8124.35,
             6472.89,
             5829.15,
             2493.62
            ],
            "sizemode": "area",
            "sizeref": 199.5566,
            "symbol": "circle"
           },
           "mode": "markers",
           "name": "country=Australia",
           "showlegend": true,
           "type": "scatter",
           "x": [
            "29",
            "31",
            "38",
            "47",
            "95"
           ],
           "xaxis": "x",
           "y": [
            8207.35,
            8124.35,
            6472.89,
            5829.15,
            2493.62
           ],
           "yaxis": "y"
          },
          {
           "customdata": [
            [
             "Royal Bank Of Canada"
            ],
            [
             "TD Bank"
            ],
            [
             "Scotiabank"
            ],
            [
             "Bank of Montreal"
            ],
            [
             "CIBC"
            ],
            [
             "Desjardins"
            ]
           ],
           "hoverlabel": {
            "namelength": 0
           },
           "hovertemplate": "country=Canada<br>year=2017<br>rank=%{x}<br>value=%{marker.size}<br>name=%{customdata[0]}",
           "legendgroup": "country=Canada",
           "marker": {
            "color": "#636efa",
            "size": [
             12659.03,
             12564.81,
             8604.64,
             7778.26,
             6261.78,
             3566.13
            ],
            "sizemode": "area",
            "sizeref": 199.5566,
            "symbol": "circle"
           },
           "mode": "markers",
           "name": "country=Canada",
           "showlegend": true,
           "type": "scatter",
           "x": [
            "16",
            "17",
            "28",
            "32",
            "41",
            "69"
           ],
           "xaxis": "x",
           "y": [
            12659.03,
            12564.81,
            8604.64,
            7778.26,
            6261.78,
            3566.13
           ],
           "yaxis": "y"
          },
          {
           "customdata": [
            [
             "KBC"
            ],
            [
             "Fortis Banque"
            ]
           ],
           "hoverlabel": {
            "namelength": 0
           },
           "hovertemplate": "country=Belgium<br>year=2017<br>rank=%{x}<br>value=%{marker.size}<br>name=%{customdata[0]}",
           "legendgroup": "country=Belgium",
           "marker": {
            "color": "#EF553B",
            "size": [
             3779.05,
             2910.39
            ],
            "sizemode": "area",
            "sizeref": 199.5566,
            "symbol": "circle"
           },
           "mode": "markers",
           "name": "country=Belgium",
           "showlegend": true,
           "type": "scatter",
           "x": [
            "61",
            "84"
           ],
           "xaxis": "x",
           "y": [
            3779.05,
            2910.39
           ],
           "yaxis": "y"
          },
          {
           "customdata": [
            [
             "MUFG"
            ],
            [
             "Mizuho Financial Group"
            ],
            [
             "SMBC"
            ],
            [
             "Nomura"
            ]
           ],
           "hoverlabel": {
            "namelength": 0
           },
           "hovertemplate": "country=Japan<br>year=2017<br>rank=%{x}<br>value=%{marker.size}<br>name=%{customdata[0]}",
           "legendgroup": "country=Japan",
           "marker": {
            "color": "#00cc96",
            "size": [
             13214.56,
             6527.09,
             6264.28,
             3380.72
            ],
            "sizemode": "area",
            "sizeref": 199.5566,
            "symbol": "circle"
           },
           "mode": "markers",
           "name": "country=Japan",
           "showlegend": true,
           "type": "scatter",
           "x": [
            "14",
            "37",
            "40",
            "76"
           ],
           "xaxis": "x",
           "y": [
            13214.56,
            6527.09,
            6264.28,
            3380.72
           ],
           "yaxis": "y"
          },
          {
           "customdata": [
            [
             "Itaú"
            ],
            [
             "Bradesco"
            ],
            [
             "Banco do Brasil"
            ],
            [
             "Caixa"
            ]
           ],
           "hoverlabel": {
            "namelength": 0
           },
           "hovertemplate": "country=Brazil<br>year=2017<br>rank=%{x}<br>value=%{marker.size}<br>name=%{customdata[0]}",
           "legendgroup": "country=Brazil",
           "marker": {
            "color": "#ab63fa",
            "size": [
             6861.65,
             5579.32,
             5216.88,
             3016.29
            ],
            "sizemode": "area",
            "sizeref": 199.5566,
            "symbol": "circle"
           },
           "mode": "markers",
           "name": "country=Brazil",
           "showlegend": true,
           "type": "scatter",
           "x": [
            "35",
            "49",
            "53",
            "82"
           ],
           "xaxis": "x",
           "y": [
            6861.65,
            5579.32,
            5216.88,
            3016.29
           ],
           "yaxis": "y"
          },
          {
           "customdata": [
            [
             "Nordea"
            ],
            [
             "Swedbank"
            ],
            [
             "Svenska Handelsbanken"
            ],
            [
             "SEB"
            ]
           ],
           "hoverlabel": {
            "namelength": 0
           },
           "hovertemplate": "country=Sweden<br>year=2017<br>rank=%{x}<br>value=%{marker.size}<br>name=%{customdata[0]}",
           "legendgroup": "country=Sweden",
           "marker": {
            "color": "#FFA15A",
            "size": [
             5599.8,
             2909.77,
             2893.35,
             2480.4
            ],
            "sizemode": "area",
            "sizeref": 199.5566,
            "symbol": "circle"
           },
           "mode": "markers",
           "name": "country=Sweden",
           "showlegend": true,
           "type": "scatter",
           "x": [
            "48",
            "85",
            "86",
            "96"
           ],
           "xaxis": "x",
           "y": [
            5599.8,
            2909.77,
            2893.35,
            2480.4
           ],
           "yaxis": "y"
          },
          {
           "customdata": [
            [
             "Sberbank"
            ]
           ],
           "hoverlabel": {
            "namelength": 0
           },
           "hovertemplate": "country=Russia<br>year=2017<br>rank=%{x}<br>value=%{marker.size}<br>name=%{customdata[0]}",
           "legendgroup": "country=Russia",
           "marker": {
            "color": "#19d3f3",
            "size": [
             9074.68
            ],
            "sizemode": "area",
            "sizeref": 199.5566,
            "symbol": "circle"
           },
           "mode": "markers",
           "name": "country=Russia",
           "showlegend": true,
           "type": "scatter",
           "x": [
            "24"
           ],
           "xaxis": "x",
           "y": [
            9074.68
           ],
           "yaxis": "y"
          },
          {
           "customdata": [
            [
             "State Bank of India"
            ],
            [
             "HDFC Bank"
            ],
            [
             "ICICI Bank"
            ]
           ],
           "hoverlabel": {
            "namelength": 0
           },
           "hovertemplate": "country=India<br>year=2017<br>rank=%{x}<br>value=%{marker.size}<br>name=%{customdata[0]}",
           "legendgroup": "country=India",
           "marker": {
            "color": "#FF6692",
            "size": [
             5508.85,
             3405.89,
             2799.53
            ],
            "sizemode": "area",
            "sizeref": 199.5566,
            "symbol": "circle"
           },
           "mode": "markers",
           "name": "country=India",
           "showlegend": true,
           "type": "scatter",
           "x": [
            "51",
            "74",
            "87"
           ],
           "xaxis": "x",
           "y": [
            5508.85,
            3405.89,
            2799.53
           ],
           "yaxis": "y"
          },
          {
           "customdata": [
            [
             "Erste Group"
            ]
           ],
           "hoverlabel": {
            "namelength": 0
           },
           "hovertemplate": "country=Austria<br>year=2017<br>rank=%{x}<br>value=%{marker.size}<br>name=%{customdata[0]}",
           "legendgroup": "country=Austria",
           "marker": {
            "color": "#FECB52",
            "size": [
             2243.67
            ],
            "sizemode": "area",
            "sizeref": 199.5566,
            "symbol": "circle"
           },
           "mode": "markers",
           "name": "country=Austria",
           "showlegend": true,
           "type": "scatter",
           "x": [
            "100"
           ],
           "xaxis": "x",
           "y": [
            2243.67
           ],
           "yaxis": "y"
          },
          {
           "customdata": [
            [
             "Shinhan Financial Group"
            ],
            [
             "KB Financial Group"
            ],
            [
             "Hana Financial Group"
            ]
           ],
           "hoverlabel": {
            "namelength": 0
           },
           "hovertemplate": "country=South Korea<br>year=2017<br>rank=%{x}<br>value=%{marker.size}<br>name=%{customdata[0]}",
           "legendgroup": "country=South Korea",
           "marker": {
            "color": "#ab63fa",
            "size": [
             3991.68,
             3899.04,
             2462.84
            ],
            "sizemode": "area",
            "sizeref": 199.5566,
            "symbol": "circle"
           },
           "mode": "markers",
           "name": "country=South Korea",
           "showlegend": true,
           "type": "scatter",
           "x": [
            "58",
            "59",
            "97"
           ],
           "xaxis": "x",
           "y": [
            3991.68,
            3899.04,
            2462.84
           ],
           "yaxis": "y"
          },
          {
           "customdata": [
            [
             "Danske Bank"
            ]
           ],
           "hoverlabel": {
            "namelength": 0
           },
           "hovertemplate": "country=Denmark<br>year=2017<br>rank=%{x}<br>value=%{marker.size}<br>name=%{customdata[0]}",
           "legendgroup": "country=Denmark",
           "marker": {
            "color": "#19d3f3",
            "size": [
             3599.42
            ],
            "sizemode": "area",
            "sizeref": 199.5566,
            "symbol": "circle"
           },
           "mode": "markers",
           "name": "country=Denmark",
           "showlegend": true,
           "type": "scatter",
           "x": [
            "67"
           ],
           "xaxis": "x",
           "y": [
            3599.42
           ],
           "yaxis": "y"
          },
          {
           "customdata": [
            [
             "DBS"
            ],
            [
             "OCBC Bank"
            ],
            [
             "UOB"
            ]
           ],
           "hoverlabel": {
            "namelength": 0
           },
           "hovertemplate": "country=Singapore<br>year=2017<br>rank=%{x}<br>value=%{marker.size}<br>name=%{customdata[0]}",
           "legendgroup": "country=Singapore",
           "marker": {
            "color": "#FF6692",
            "size": [
             5403.33,
             3643.49,
             3619.25
            ],
            "sizemode": "area",
            "sizeref": 199.5566,
            "symbol": "circle"
           },
           "mode": "markers",
           "name": "country=Singapore",
           "showlegend": true,
           "type": "scatter",
           "x": [
            "52",
            "65",
            "66"
           ],
           "xaxis": "x",
           "y": [
            5403.33,
            3643.49,
            3619.25
           ],
           "yaxis": "y"
          },
          {
           "customdata": [
            [
             "Hang Seng Bank"
            ]
           ],
           "hoverlabel": {
            "namelength": 0
           },
           "hovertemplate": "country=China (Hong Kong)<br>year=2017<br>rank=%{x}<br>value=%{marker.size}<br>name=%{customdata[0]}",
           "legendgroup": "country=China (Hong Kong)",
           "marker": {
            "color": "#FF97FF",
            "size": [
             2516.02
            ],
            "sizemode": "area",
            "sizeref": 199.5566,
            "symbol": "circle"
           },
           "mode": "markers",
           "name": "country=China (Hong Kong)",
           "showlegend": true,
           "type": "scatter",
           "x": [
            "93"
           ],
           "xaxis": "x",
           "y": [
            2516.02
           ],
           "yaxis": "y"
          },
          {
           "customdata": [
            [
             "DNB"
            ]
           ],
           "hoverlabel": {
            "namelength": 0
           },
           "hovertemplate": "country=Norway<br>year=2017<br>rank=%{x}<br>value=%{marker.size}<br>name=%{customdata[0]}",
           "legendgroup": "country=Norway",
           "marker": {
            "color": "#636efa",
            "size": [
             3285.99
            ],
            "sizemode": "area",
            "sizeref": 199.5566,
            "symbol": "circle"
           },
           "mode": "markers",
           "name": "country=Norway",
           "showlegend": true,
           "type": "scatter",
           "x": [
            "77"
           ],
           "xaxis": "x",
           "y": [
            3285.99
           ],
           "yaxis": "y"
          },
          {
           "customdata": [
            [
             "Maybank"
            ]
           ],
           "hoverlabel": {
            "namelength": 0
           },
           "hovertemplate": "country=Malaysia<br>year=2017<br>rank=%{x}<br>value=%{marker.size}<br>name=%{customdata[0]}",
           "legendgroup": "country=Malaysia",
           "marker": {
            "color": "#00cc96",
            "size": [
             2548.14
            ],
            "sizemode": "area",
            "sizeref": 199.5566,
            "symbol": "circle"
           },
           "mode": "markers",
           "name": "country=Malaysia",
           "showlegend": true,
           "type": "scatter",
           "x": [
            "91"
           ],
           "xaxis": "x",
           "y": [
            2548.14
           ],
           "yaxis": "y"
          },
          {
           "customdata": [
            [
             "QNB"
            ]
           ],
           "hoverlabel": {
            "namelength": 0
           },
           "hovertemplate": "country=Qatar<br>year=2017<br>rank=%{x}<br>value=%{marker.size}<br>name=%{customdata[0]}",
           "legendgroup": "country=Qatar",
           "marker": {
            "color": "#FFA15A",
            "size": [
             3825.94
            ],
            "sizemode": "area",
            "sizeref": 199.5566,
            "symbol": "circle"
           },
           "mode": "markers",
           "name": "country=Qatar",
           "showlegend": true,
           "type": "scatter",
           "x": [
            "60"
           ],
           "xaxis": "x",
           "y": [
            3825.94
           ],
           "yaxis": "y"
          },
          {
           "customdata": [
            [
             "Emirates NBD"
            ],
            [
             "National Bank of Abu Dhabi"
            ]
           ],
           "hoverlabel": {
            "namelength": 0
           },
           "hovertemplate": "country=UAE<br>year=2017<br>rank=%{x}<br>value=%{marker.size}<br>name=%{customdata[0]}",
           "legendgroup": "country=UAE",
           "marker": {
            "color": "#FF6692",
            "size": [
             3405.73,
             2496.88
            ],
            "sizemode": "area",
            "sizeref": 199.5566,
            "symbol": "circle"
           },
           "mode": "markers",
           "name": "country=UAE",
           "showlegend": true,
           "type": "scatter",
           "x": [
            "75",
            "94"
           ],
           "xaxis": "x",
           "y": [
            3405.73,
            2496.88
           ],
           "yaxis": "y"
          },
          {
           "customdata": [
            [
             "BRI"
            ]
           ],
           "hoverlabel": {
            "namelength": 0
           },
           "hovertemplate": "country=Indonesia<br>year=2017<br>rank=%{x}<br>value=%{marker.size}<br>name=%{customdata[0]}",
           "legendgroup": "country=Indonesia",
           "marker": {
            "color": "#B6E880",
            "size": [
             2556.88
            ],
            "sizemode": "area",
            "sizeref": 199.5566,
            "symbol": "circle"
           },
           "mode": "markers",
           "name": "country=Indonesia",
           "showlegend": true,
           "type": "scatter",
           "x": [
            "90"
           ],
           "xaxis": "x",
           "y": [
            2556.88
           ],
           "yaxis": "y"
          }
         ],
         "name": "2017"
        },
        {
         "data": [
          {
           "customdata": [
            [
             "HSBC"
            ],
            [
             "Barclays"
            ],
            [
             "NatWest"
            ],
            [
             "Lloyds Bank"
            ],
            [
             "Standard Chartered"
            ],
            [
             "Nationwide Building Society"
            ],
            [
             "Halifax"
            ]
           ],
           "hoverlabel": {
            "namelength": 0
           },
           "hovertemplate": "country=United Kingdom<br>year=2018<br>rank=%{x}<br>value=%{marker.size}<br>name=%{customdata[0]}",
           "legendgroup": "country=United Kingdom",
           "marker": {
            "color": "#636efa",
            "size": [
             18305.44,
             13507.89,
             6493.15,
             6379.19,
             5673.22,
             4333.65,
             3427.6
            ],
            "sizemode": "area",
            "sizeref": 199.5566,
            "symbol": "circle"
           },
           "mode": "markers",
           "name": "country=United Kingdom",
           "showlegend": true,
           "type": "scatter",
           "x": [
            "9",
            "18",
            "41",
            "43",
            "54",
            "59",
            "73"
           ],
           "xaxis": "x",
           "y": [
            18305.44,
            13507.89,
            6493.15,
            6379.19,
            5673.22,
            4333.65,
            3427.6
           ],
           "yaxis": "y"
          },
          {
           "customdata": [
            [
             "Wells Fargo"
            ],
            [
             "Chase"
            ],
            [
             "Bank of America"
            ],
            [
             "Citi"
            ],
            [
             "JP Morgan"
            ],
            [
             "Capital One"
            ],
            [
             "Goldman Sachs"
            ],
            [
             "Morgan Stanley"
            ],
            [
             "U.S. Bank"
            ],
            [
             "PNC"
            ],
            [
             "Merrill Lynch"
            ],
            [
             "BNY Mellon"
            ],
            [
             "BB&T"
            ],
            [
             "Charles Schwab"
            ],
            [
             "SunTrust Banks"
            ],
            [
             "State Street"
            ],
            [
             "Fifth Third Bank"
            ]
           ],
           "hoverlabel": {
            "namelength": 0
           },
           "hovertemplate": "country=United States<br>year=2018<br>rank=%{x}<br>value=%{marker.size}<br>name=%{customdata[0]}",
           "legendgroup": "country=United States",
           "marker": {
            "color": "#EF553B",
            "size": [
             44098.04,
             38842.2,
             33289.08,
             30783.03,
             17651.08,
             11289.64,
             9179.41,
             7802.04,
             7674.47,
             6362.18,
             5928.35,
             3481.72,
             3333.14,
             3324.05,
             2848.91,
             2450.77,
             2383.47
            ],
            "sizemode": "area",
            "sizeref": 199.5566,
            "symbol": "circle"
           },
           "mode": "markers",
           "name": "country=United States",
           "showlegend": true,
           "type": "scatter",
           "x": [
            "3",
            "5",
            "7",
            "8",
            "10",
            "23",
            "27",
            "35",
            "36",
            "45",
            "48",
            "72",
            "76",
            "77",
            "87",
            "96",
            "99"
           ],
           "xaxis": "x",
           "y": [
            44098.04,
            38842.2,
            33289.08,
            30783.03,
            17651.08,
            11289.64,
            9179.41,
            7802.04,
            7674.47,
            6362.18,
            5928.35,
            3481.72,
            3333.14,
            3324.05,
            2848.91,
            2450.77,
            2383.47
           ],
           "yaxis": "y"
          },
          {
           "customdata": [
            [
             "Santander"
            ],
            [
             "BBVA"
            ],
            [
             "CaixaBank"
            ]
           ],
           "hoverlabel": {
            "namelength": 0
           },
           "hovertemplate": "country=Spain<br>year=2018<br>rank=%{x}<br>value=%{marker.size}<br>name=%{customdata[0]}",
           "legendgroup": "country=Spain",
           "marker": {
            "color": "#00cc96",
            "size": [
             16200.05,
             11615.56,
             3600.81
            ],
            "sizemode": "area",
            "sizeref": 199.5566,
            "symbol": "circle"
           },
           "mode": "markers",
           "name": "country=Spain",
           "showlegend": true,
           "type": "scatter",
           "x": [
            "12",
            "22",
            "70"
           ],
           "xaxis": "x",
           "y": [
            16200.05,
            11615.56,
            3600.81
           ],
           "yaxis": "y"
          },
          {
           "customdata": [
            [
             "BNP Paribas"
            ],
            [
             "Société Générale"
            ],
            [
             "Crédit Agricole"
            ],
            [
             "Crédit Mutuel"
            ],
            [
             "La Banque Postale"
            ],
            [
             "CIC"
            ]
           ],
           "hoverlabel": {
            "namelength": 0
           },
           "hovertemplate": "country=France<br>year=2018<br>rank=%{x}<br>value=%{marker.size}<br>name=%{customdata[0]}",
           "legendgroup": "country=France",
           "marker": {
            "color": "#ab63fa",
            "size": [
             13713.32,
             8154.72,
             5774.89,
             4304.3,
             2486.03,
             2385.37
            ],
            "sizemode": "area",
            "sizeref": 199.5566,
            "symbol": "circle"
           },
           "mode": "markers",
           "name": "country=France",
           "showlegend": true,
           "type": "scatter",
           "x": [
            "17",
            "33",
            "51",
            "60",
            "95",
            "98"
           ],
           "xaxis": "x",
           "y": [
            13713.32,
            8154.72,
            5774.89,
            4304.3,
            2486.03,
            2385.37
           ],
           "yaxis": "y"
          },
          {
           "customdata": [
            [
             "UBS"
            ],
            [
             "Credit Suisse"
            ]
           ],
           "hoverlabel": {
            "namelength": 0
           },
           "hovertemplate": "country=Switzerland<br>year=2018<br>rank=%{x}<br>value=%{marker.size}<br>name=%{customdata[0]}",
           "legendgroup": "country=Switzerland",
           "marker": {
            "color": "#FFA15A",
            "size": [
             8800.74,
             6662.52
            ],
            "sizemode": "area",
            "sizeref": 199.5566,
            "symbol": "circle"
           },
           "mode": "markers",
           "name": "country=Switzerland",
           "showlegend": true,
           "type": "scatter",
           "x": [
            "28",
            "38"
           ],
           "xaxis": "x",
           "y": [
            8800.74,
            6662.52
           ],
           "yaxis": "y"
          },
          {
           "customdata": [
            [
             "ING"
            ],
            [
             "Rabobank"
            ],
            [
             "ABN AMRO"
            ]
           ],
           "hoverlabel": {
            "namelength": 0
           },
           "hovertemplate": "country=Netherlands<br>year=2018<br>rank=%{x}<br>value=%{marker.size}<br>name=%{customdata[0]}",
           "legendgroup": "country=Netherlands",
           "marker": {
            "color": "#19d3f3",
            "size": [
             9784.81,
             5750.96,
             3739.3
            ],
            "sizemode": "area",
            "sizeref": 199.5566,
            "symbol": "circle"
           },
           "mode": "markers",
           "name": "country=Netherlands",
           "showlegend": true,
           "type": "scatter",
           "x": [
            "26",
            "53",
            "65"
           ],
           "xaxis": "x",
           "y": [
            9784.81,
            5750.96,
            3739.3
           ],
           "yaxis": "y"
          },
          {
           "customdata": [
            [
             "Deutsche Bank"
            ],
            [
             "DZ Bank"
            ]
           ],
           "hoverlabel": {
            "namelength": 0
           },
           "hovertemplate": "country=Germany<br>year=2018<br>rank=%{x}<br>value=%{marker.size}<br>name=%{customdata[0]}",
           "legendgroup": "country=Germany",
           "marker": {
            "color": "#FF6692",
            "size": [
             6126.53,
             2779.25
            ],
            "sizemode": "area",
            "sizeref": 199.5566,
            "symbol": "circle"
           },
           "mode": "markers",
           "name": "country=Germany",
           "showlegend": true,
           "type": "scatter",
           "x": [
            "47",
            "91"
           ],
           "xaxis": "x",
           "y": [
            6126.53,
            2779.25
           ],
           "yaxis": "y"
          },
          {
           "customdata": [
            [
             "ICBC"
            ],
            [
             "China Construction Bank"
            ],
            [
             "Bank of China"
            ],
            [
             "Agricultural Bank Of China"
            ],
            [
             "China Merchants Bank"
            ],
            [
             "Shanghai Pudong Development Bank"
            ],
            [
             "Bank of Communications"
            ],
            [
             "Industrial Bank"
            ],
            [
             "China CITIC Bank"
            ],
            [
             "China Minsheng Bank"
            ],
            [
             "Ping An Bank"
            ],
            [
             "China Everbright Bank"
            ],
            [
             "Hua Xia Bank"
            ],
            [
             "Bank of Beijing"
            ],
            [
             "Bank of Shanghai"
            ]
           ],
           "hoverlabel": {
            "namelength": 0
           },
           "hovertemplate": "country=China<br>year=2018<br>rank=%{x}<br>value=%{marker.size}<br>name=%{customdata[0]}",
           "legendgroup": "country=China",
           "marker": {
            "color": "#B6E880",
            "size": [
             59188.77,
             56788.83,
             41749.78,
             37320.87,
             16673.21,
             14771.61,
             14055.39,
             11972.45,
             10264.64,
             8498.19,
             6453.57,
             6374.99,
             3615.12,
             3229.7,
             2410.4
            ],
            "sizemode": "area",
            "sizeref": 199.5566,
            "symbol": "circle"
           },
           "mode": "markers",
           "name": "country=China",
           "showlegend": true,
           "type": "scatter",
           "x": [
            "1",
            "2",
            "4",
            "6",
            "11",
            "13",
            "15",
            "20",
            "24",
            "29",
            "42",
            "44",
            "69",
            "80",
            "97"
           ],
           "xaxis": "x",
           "y": [
            59188.77,
            56788.83,
            41749.78,
            37320.87,
            16673.21,
            14771.61,
            14055.39,
            11972.45,
            10264.64,
            8498.19,
            6453.57,
            6374.99,
            3615.12,
            3229.7,
            2410.4
           ],
           "yaxis": "y"
          },
          {
           "customdata": [
            [
             "Intesa Sanpaolo"
            ]
           ],
           "hoverlabel": {
            "namelength": 0
           },
           "hovertemplate": "country=Italy<br>year=2018<br>rank=%{x}<br>value=%{marker.size}<br>name=%{customdata[0]}",
           "legendgroup": "country=Italy",
           "marker": {
            "color": "#FF97FF",
            "size": [
             5127.03
            ],
            "sizemode": "area",
            "sizeref": 199.5566,
            "symbol": "circle"
           },
           "mode": "markers",
           "name": "country=Italy",
           "showlegend": true,
           "type": "scatter",
           "x": [
            "57"
           ],
           "xaxis": "x",
           "y": [
            5127.03
           ],
           "yaxis": "y"
          },
          {
           "customdata": [
            [
             "Commonwealth Bank of Australia"
            ],
            [
             "ANZ"
            ],
            [
             "nab"
            ],
            [
             "Westpac"
            ],
            [
             "Macquarie"
            ]
           ],
           "hoverlabel": {
            "namelength": 0
           },
           "hovertemplate": "country=Australia<br>year=2018<br>rank=%{x}<br>value=%{marker.size}<br>name=%{customdata[0]}",
           "legendgroup": "country=Australia",
           "marker": {
            "color": "#FECB52",
            "size": [
             8283,
             8247.5,
             6507.04,
             5833.2,
             2844.29
            ],
            "sizemode": "area",
            "sizeref": 199.5566,
            "symbol": "circle"
           },
           "mode": "markers",
           "name": "country=Australia",
           "showlegend": true,
           "type": "scatter",
           "x": [
            "30",
            "31",
            "39",
            "50",
            "88"
           ],
           "xaxis": "x",
           "y": [
            8283,
            8247.5,
            6507.04,
            5833.2,
            2844.29
           ],
           "yaxis": "y"
          },
          {
           "customdata": [
            [
             "Royal Bank Of Canada"
            ],
            [
             "TD"
            ],
            [
             "Scotiabank"
            ],
            [
             "BMO"
            ],
            [
             "CIBC"
            ],
            [
             "Desjardins"
            ]
           ],
           "hoverlabel": {
            "namelength": 0
           },
           "hovertemplate": "country=Canada<br>year=2018<br>rank=%{x}<br>value=%{marker.size}<br>name=%{customdata[0]}",
           "legendgroup": "country=Canada",
           "marker": {
            "color": "#636efa",
            "size": [
             13827.04,
             12516.71,
             10206.87,
             8211.7,
             7099.87,
             2933.56
            ],
            "sizemode": "area",
            "sizeref": 199.5566,
            "symbol": "circle"
           },
           "mode": "markers",
           "name": "country=Canada",
           "showlegend": true,
           "type": "scatter",
           "x": [
            "16",
            "19",
            "25",
            "32",
            "37",
            "86"
           ],
           "xaxis": "x",
           "y": [
            13827.04,
            12516.71,
            10206.87,
            8211.7,
            7099.87,
            2933.56
           ],
           "yaxis": "y"
          },
          {
           "customdata": [
            [
             "KBC"
            ]
           ],
           "hoverlabel": {
            "namelength": 0
           },
           "hovertemplate": "country=Belgium<br>year=2018<br>rank=%{x}<br>value=%{marker.size}<br>name=%{customdata[0]}",
           "legendgroup": "country=Belgium",
           "marker": {
            "color": "#EF553B",
            "size": [
             4225.45
            ],
            "sizemode": "area",
            "sizeref": 199.5566,
            "symbol": "circle"
           },
           "mode": "markers",
           "name": "country=Belgium",
           "showlegend": true,
           "type": "scatter",
           "x": [
            "62"
           ],
           "xaxis": "x",
           "y": [
            4225.45
           ],
           "yaxis": "y"
          },
          {
           "customdata": [
            [
             "MUFG"
            ],
            [
             "SMBC"
            ],
            [
             "Mizuho Financial Group"
            ],
            [
             "Nomura"
            ]
           ],
           "hoverlabel": {
            "namelength": 0
           },
           "hovertemplate": "country=Japan<br>year=2018<br>rank=%{x}<br>value=%{marker.size}<br>name=%{customdata[0]}",
           "legendgroup": "country=Japan",
           "marker": {
            "color": "#00cc96",
            "size": [
             14506.94,
             5917.44,
             5760.93,
             3285.96
            ],
            "sizemode": "area",
            "sizeref": 199.5566,
            "symbol": "circle"
           },
           "mode": "markers",
           "name": "country=Japan",
           "showlegend": true,
           "type": "scatter",
           "x": [
            "14",
            "49",
            "52",
            "79"
           ],
           "xaxis": "x",
           "y": [
            14506.94,
            5917.44,
            5760.93,
            3285.96
           ],
           "yaxis": "y"
          },
          {
           "customdata": [
            [
             "Itaú"
            ],
            [
             "Bradesco"
            ],
            [
             "Banco do Brasil"
            ],
            [
             "Caixa"
            ]
           ],
           "hoverlabel": {
            "namelength": 0
           },
           "hovertemplate": "country=Brazil<br>year=2018<br>rank=%{x}<br>value=%{marker.size}<br>name=%{customdata[0]}",
           "legendgroup": "country=Brazil",
           "marker": {
            "color": "#ab63fa",
            "size": [
             8010.86,
             5633.31,
             4162.81,
             2620.1
            ],
            "sizemode": "area",
            "sizeref": 199.5566,
            "symbol": "circle"
           },
           "mode": "markers",
           "name": "country=Brazil",
           "showlegend": true,
           "type": "scatter",
           "x": [
            "34",
            "55",
            "63",
            "92"
           ],
           "xaxis": "x",
           "y": [
            8010.86,
            5633.31,
            4162.81,
            2620.1
           ],
           "yaxis": "y"
          },
          {
           "customdata": [
            [
             "Nordea"
            ],
            [
             "Swedbank"
            ],
            [
             "Svenska Handelsbanken"
            ],
            [
             "SEB"
            ]
           ],
           "hoverlabel": {
            "namelength": 0
           },
           "hovertemplate": "country=Sweden<br>year=2018<br>rank=%{x}<br>value=%{marker.size}<br>name=%{customdata[0]}",
           "legendgroup": "country=Sweden",
           "marker": {
            "color": "#FFA15A",
            "size": [
             6355.14,
             3299.33,
             3165.09,
             2797.64
            ],
            "sizemode": "area",
            "sizeref": 199.5566,
            "symbol": "circle"
           },
           "mode": "markers",
           "name": "country=Sweden",
           "showlegend": true,
           "type": "scatter",
           "x": [
            "46",
            "78",
            "81",
            "89"
           ],
           "xaxis": "x",
           "y": [
            6355.14,
            3299.33,
            3165.09,
            2797.64
           ],
           "yaxis": "y"
          },
          {
           "customdata": [
            [
             "Sberbank"
            ]
           ],
           "hoverlabel": {
            "namelength": 0
           },
           "hovertemplate": "country=Russia<br>year=2018<br>rank=%{x}<br>value=%{marker.size}<br>name=%{customdata[0]}",
           "legendgroup": "country=Russia",
           "marker": {
            "color": "#19d3f3",
            "size": [
             11624.83
            ],
            "sizemode": "area",
            "sizeref": 199.5566,
            "symbol": "circle"
           },
           "mode": "markers",
           "name": "country=Russia",
           "showlegend": true,
           "type": "scatter",
           "x": [
            "21"
           ],
           "xaxis": "x",
           "y": [
            11624.83
           ],
           "yaxis": "y"
          },
          {
           "customdata": [
            [
             "State Bank of India"
            ],
            [
             "HDFC Bank"
            ],
            [
             "ICICI Bank"
            ]
           ],
           "hoverlabel": {
            "namelength": 0
           },
           "hovertemplate": "country=India<br>year=2018<br>rank=%{x}<br>value=%{marker.size}<br>name=%{customdata[0]}",
           "legendgroup": "country=India",
           "marker": {
            "color": "#FF6692",
            "size": [
             5261.37,
             3633.13,
             3153.11
            ],
            "sizemode": "area",
            "sizeref": 199.5566,
            "symbol": "circle"
           },
           "mode": "markers",
           "name": "country=India",
           "showlegend": true,
           "type": "scatter",
           "x": [
            "56",
            "68",
            "84"
           ],
           "xaxis": "x",
           "y": [
            5261.37,
            3633.13,
            3153.11
           ],
           "yaxis": "y"
          },
          {
           "customdata": [
            [
             "Erste Group"
            ]
           ],
           "hoverlabel": {
            "namelength": 0
           },
           "hovertemplate": "country=Austria<br>year=2018<br>rank=%{x}<br>value=%{marker.size}<br>name=%{customdata[0]}",
           "legendgroup": "country=Austria",
           "marker": {
            "color": "#FECB52",
            "size": [
             2379.32
            ],
            "sizemode": "area",
            "sizeref": 199.5566,
            "symbol": "circle"
           },
           "mode": "markers",
           "name": "country=Austria",
           "showlegend": true,
           "type": "scatter",
           "x": [
            "100"
           ],
           "xaxis": "x",
           "y": [
            2379.32
           ],
           "yaxis": "y"
          },
          {
           "customdata": [
            [
             "KB Financial Group"
            ],
            [
             "Shinhan Financial Group"
            ],
            [
             "Hana Financial Group"
            ]
           ],
           "hoverlabel": {
            "namelength": 0
           },
           "hovertemplate": "country=South Korea<br>year=2018<br>rank=%{x}<br>value=%{marker.size}<br>name=%{customdata[0]}",
           "legendgroup": "country=South Korea",
           "marker": {
            "color": "#ab63fa",
            "size": [
             4603.54,
             3669.26,
             2527.18
            ],
            "sizemode": "area",
            "sizeref": 199.5566,
            "symbol": "circle"
           },
           "mode": "markers",
           "name": "country=South Korea",
           "showlegend": true,
           "type": "scatter",
           "x": [
            "58",
            "67",
            "94"
           ],
           "xaxis": "x",
           "y": [
            4603.54,
            3669.26,
            2527.18
           ],
           "yaxis": "y"
          },
          {
           "customdata": [
            [
             "Danske Bank"
            ]
           ],
           "hoverlabel": {
            "namelength": 0
           },
           "hovertemplate": "country=Denmark<br>year=2018<br>rank=%{x}<br>value=%{marker.size}<br>name=%{customdata[0]}",
           "legendgroup": "country=Denmark",
           "marker": {
            "color": "#19d3f3",
            "size": [
             3408.81
            ],
            "sizemode": "area",
            "sizeref": 199.5566,
            "symbol": "circle"
           },
           "mode": "markers",
           "name": "country=Denmark",
           "showlegend": true,
           "type": "scatter",
           "x": [
            "74"
           ],
           "xaxis": "x",
           "y": [
            3408.81
           ],
           "yaxis": "y"
          },
          {
           "customdata": [
            [
             "DBS"
            ],
            [
             "OCBC Bank"
            ],
            [
             "UOB"
            ]
           ],
           "hoverlabel": {
            "namelength": 0
           },
           "hovertemplate": "country=Singapore<br>year=2018<br>rank=%{x}<br>value=%{marker.size}<br>name=%{customdata[0]}",
           "legendgroup": "country=Singapore",
           "marker": {
            "color": "#FF6692",
            "size": [
             6498.38,
             4022.82,
             3739
            ],
            "sizemode": "area",
            "sizeref": 199.5566,
            "symbol": "circle"
           },
           "mode": "markers",
           "name": "country=Singapore",
           "showlegend": true,
           "type": "scatter",
           "x": [
            "40",
            "64",
            "66"
           ],
           "xaxis": "x",
           "y": [
            6498.38,
            4022.82,
            3739
           ],
           "yaxis": "y"
          },
          {
           "customdata": [
            [
             "Hang Seng Bank"
            ]
           ],
           "hoverlabel": {
            "namelength": 0
           },
           "hovertemplate": "country=China (Hong Kong)<br>year=2018<br>rank=%{x}<br>value=%{marker.size}<br>name=%{customdata[0]}",
           "legendgroup": "country=China (Hong Kong)",
           "marker": {
            "color": "#FF97FF",
            "size": [
             2791.71
            ],
            "sizemode": "area",
            "sizeref": 199.5566,
            "symbol": "circle"
           },
           "mode": "markers",
           "name": "country=China (Hong Kong)",
           "showlegend": true,
           "type": "scatter",
           "x": [
            "90"
           ],
           "xaxis": "x",
           "y": [
            2791.71
           ],
           "yaxis": "y"
          },
          {
           "customdata": [
            [
             "DNB"
            ]
           ],
           "hoverlabel": {
            "namelength": 0
           },
           "hovertemplate": "country=Norway<br>year=2018<br>rank=%{x}<br>value=%{marker.size}<br>name=%{customdata[0]}",
           "legendgroup": "country=Norway",
           "marker": {
            "color": "#636efa",
            "size": [
             3386.53
            ],
            "sizemode": "area",
            "sizeref": 199.5566,
            "symbol": "circle"
           },
           "mode": "markers",
           "name": "country=Norway",
           "showlegend": true,
           "type": "scatter",
           "x": [
            "75"
           ],
           "xaxis": "x",
           "y": [
            3386.53
           ],
           "yaxis": "y"
          },
          {
           "customdata": [
            [
             "Maybank"
            ]
           ],
           "hoverlabel": {
            "namelength": 0
           },
           "hovertemplate": "country=Malaysia<br>year=2018<br>rank=%{x}<br>value=%{marker.size}<br>name=%{customdata[0]}",
           "legendgroup": "country=Malaysia",
           "marker": {
            "color": "#00cc96",
            "size": [
             3159.56
            ],
            "sizemode": "area",
            "sizeref": 199.5566,
            "symbol": "circle"
           },
           "mode": "markers",
           "name": "country=Malaysia",
           "showlegend": true,
           "type": "scatter",
           "x": [
            "83"
           ],
           "xaxis": "x",
           "y": [
            3159.56
           ],
           "yaxis": "y"
          },
          {
           "customdata": [
            [
             "QNB"
            ]
           ],
           "hoverlabel": {
            "namelength": 0
           },
           "hovertemplate": "country=Qatar<br>year=2018<br>rank=%{x}<br>value=%{marker.size}<br>name=%{customdata[0]}",
           "legendgroup": "country=Qatar",
           "marker": {
            "color": "#FFA15A",
            "size": [
             4232.21
            ],
            "sizemode": "area",
            "sizeref": 199.5566,
            "symbol": "circle"
           },
           "mode": "markers",
           "name": "country=Qatar",
           "showlegend": true,
           "type": "scatter",
           "x": [
            "61"
           ],
           "xaxis": "x",
           "y": [
            4232.21
           ],
           "yaxis": "y"
          },
          {
           "customdata": [
            [
             "Al-Rajhi Bank"
            ]
           ],
           "hoverlabel": {
            "namelength": 0
           },
           "hovertemplate": "country=Saudi Arabia<br>year=2018<br>rank=%{x}<br>value=%{marker.size}<br>name=%{customdata[0]}",
           "legendgroup": "country=Saudi Arabia",
           "marker": {
            "color": "#19d3f3",
            "size": [
             2597.26
            ],
            "sizemode": "area",
            "sizeref": 199.5566,
            "symbol": "circle"
           },
           "mode": "markers",
           "name": "country=Saudi Arabia",
           "showlegend": true,
           "type": "scatter",
           "x": [
            "93"
           ],
           "xaxis": "x",
           "y": [
            2597.26
           ],
           "yaxis": "y"
          },
          {
           "customdata": [
            [
             "Emirates NBD"
            ],
            [
             "First Abu Dhabi Bank"
            ]
           ],
           "hoverlabel": {
            "namelength": 0
           },
           "hovertemplate": "country=UAE<br>year=2018<br>rank=%{x}<br>value=%{marker.size}<br>name=%{customdata[0]}",
           "legendgroup": "country=UAE",
           "marker": {
            "color": "#FF6692",
            "size": [
             3533.59,
             3105.85
            ],
            "sizemode": "area",
            "sizeref": 199.5566,
            "symbol": "circle"
           },
           "mode": "markers",
           "name": "country=UAE",
           "showlegend": true,
           "type": "scatter",
           "x": [
            "71",
            "85"
           ],
           "xaxis": "x",
           "y": [
            3533.59,
            3105.85
           ],
           "yaxis": "y"
          },
          {
           "customdata": [
            [
             "BRI"
            ]
           ],
           "hoverlabel": {
            "namelength": 0
           },
           "hovertemplate": "country=Indonesia<br>year=2018<br>rank=%{x}<br>value=%{marker.size}<br>name=%{customdata[0]}",
           "legendgroup": "country=Indonesia",
           "marker": {
            "color": "#B6E880",
            "size": [
             3163.69
            ],
            "sizemode": "area",
            "sizeref": 199.5566,
            "symbol": "circle"
           },
           "mode": "markers",
           "name": "country=Indonesia",
           "showlegend": true,
           "type": "scatter",
           "x": [
            "82"
           ],
           "xaxis": "x",
           "y": [
            3163.69
           ],
           "yaxis": "y"
          }
         ],
         "name": "2018"
        },
        {
         "data": [
          {
           "customdata": [
            [
             "HSBC"
            ],
            [
             "Barclays"
            ],
            [
             "NatWest"
            ],
            [
             "Lloyds Bank"
            ],
            [
             "Halifax"
            ],
            [
             "Nationwide Building Society"
            ]
           ],
           "hoverlabel": {
            "namelength": 0
           },
           "hovertemplate": "country=United Kingdom<br>year=2019<br>rank=%{x}<br>value=%{marker.size}<br>name=%{customdata[0]}",
           "legendgroup": "country=United Kingdom",
           "marker": {
            "color": "#636efa",
            "size": [
             20188.77,
             11581.63,
             7722.82,
             6781.8,
             3714.37,
             3600.14
            ],
            "sizemode": "area",
            "sizeref": 199.5566,
            "symbol": "circle"
           },
           "mode": "markers",
           "name": "country=United Kingdom",
           "showlegend": true,
           "type": "scatter",
           "x": [
            "10",
            "22",
            "39",
            "46",
            "83",
            "85"
           ],
           "xaxis": "x",
           "y": [
            20188.77,
            11581.63,
            7722.82,
            6781.8,
            3714.37,
            3600.14
           ],
           "yaxis": "y"
          },
          {
           "customdata": [
            [
             "Wells Fargo"
            ],
            [
             "Bank of America"
            ],
            [
             "Citi"
            ],
            [
             "Chase"
            ],
            [
             "JP Morgan"
            ],
            [
             "Capital One"
            ],
            [
             "Goldman Sachs"
            ],
            [
             "U.S. Bank"
            ],
            [
             "Morgan Stanley"
            ],
            [
             "PNC"
            ],
            [
             "Merrill Lynch"
            ],
            [
             "Discover"
            ],
            [
             "BB&T"
            ],
            [
             "Charles Schwab"
            ],
            [
             "BNY Mellon"
            ],
            [
             "SunTrust Bank"
            ],
            [
             "Fifth Third Bank"
            ],
            [
             "State Street"
            ]
           ],
           "hoverlabel": {
            "namelength": 0
           },
           "hovertemplate": "country=United States<br>year=2019<br>rank=%{x}<br>value=%{marker.size}<br>name=%{customdata[0]}",
           "legendgroup": "country=United States",
           "marker": {
            "color": "#EF553B",
            "size": [
             39947.58,
             36686.75,
             36407,
             36265.44,
             19796.85,
             14458.55,
             10579.54,
             9764.67,
             9052.39,
             8461.08,
             6372.23,
             6188.43,
             4331.04,
             4063.95,
             3994.11,
             3519.22,
             3458.08,
             3344.86
            ],
            "sizemode": "area",
            "sizeref": 199.5566,
            "symbol": "circle"
           },
           "mode": "markers",
           "name": "country=United States",
           "showlegend": true,
           "type": "scatter",
           "x": [
            "5",
            "6",
            "7",
            "8",
            "11",
            "16",
            "29",
            "31",
            "33",
            "36",
            "48",
            "50",
            "68",
            "75",
            "78",
            "86",
            "88",
            "90"
           ],
           "xaxis": "x",
           "y": [
            39947.58,
            36686.75,
            36407,
            36265.44,
            19796.85,
            14458.55,
            10579.54,
            9764.67,
            9052.39,
            8461.08,
            6372.23,
            6188.43,
            4331.04,
            4063.95,
            3994.11,
            3519.22,
            3458.08,
            3344.86
           ],
           "yaxis": "y"
          },
          {
           "customdata": [
            [
             "Santander"
            ],
            [
             "BBVA"
            ],
            [
             "CaixaBank"
            ]
           ],
           "hoverlabel": {
            "namelength": 0
           },
           "hovertemplate": "country=Spain<br>year=2019<br>rank=%{x}<br>value=%{marker.size}<br>name=%{customdata[0]}",
           "legendgroup": "country=Spain",
           "marker": {
            "color": "#00cc96",
            "size": [
             17449.02,
             10736.43,
             4343.4
            ],
            "sizemode": "area",
            "sizeref": 199.5566,
            "symbol": "circle"
           },
           "mode": "markers",
           "name": "country=Spain",
           "showlegend": true,
           "type": "scatter",
           "x": [
            "12",
            "27",
            "66"
           ],
           "xaxis": "x",
           "y": [
            17449.02,
            10736.43,
            4343.4
           ],
           "yaxis": "y"
          },
          {
           "customdata": [
            [
             "BNP Paribas"
            ],
            [
             "Société Générale"
            ],
            [
             "Crédit Agricole"
            ],
            [
             "Crédit Mutuel"
            ]
           ],
           "hoverlabel": {
            "namelength": 0
           },
           "hovertemplate": "country=France<br>year=2019<br>rank=%{x}<br>value=%{marker.size}<br>name=%{customdata[0]}",
           "legendgroup": "country=France",
           "marker": {
            "color": "#ab63fa",
            "size": [
             14715.74,
             7324.77,
             5896.59,
             4616.56
            ],
            "sizemode": "area",
            "sizeref": 199.5566,
            "symbol": "circle"
           },
           "mode": "markers",
           "name": "country=France",
           "showlegend": true,
           "type": "scatter",
           "x": [
            "14",
            "43",
            "54",
            "63"
           ],
           "xaxis": "x",
           "y": [
            14715.74,
            7324.77,
            5896.59,
            4616.56
           ],
           "yaxis": "y"
          },
          {
           "customdata": [
            [
             "UBS"
            ],
            [
             "Credit Suisse"
            ]
           ],
           "hoverlabel": {
            "namelength": 0
           },
           "hovertemplate": "country=Switzerland<br>year=2019<br>rank=%{x}<br>value=%{marker.size}<br>name=%{customdata[0]}",
           "legendgroup": "country=Switzerland",
           "marker": {
            "color": "#FFA15A",
            "size": [
             10606.19,
             7493.36
            ],
            "sizemode": "area",
            "sizeref": 199.5566,
            "symbol": "circle"
           },
           "mode": "markers",
           "name": "country=Switzerland",
           "showlegend": true,
           "type": "scatter",
           "x": [
            "28",
            "42"
           ],
           "xaxis": "x",
           "y": [
            10606.19,
            7493.36
           ],
           "yaxis": "y"
          },
          {
           "customdata": [
            [
             "ING"
            ],
            [
             "Rabobank"
            ],
            [
             "ABN AMRO"
            ]
           ],
           "hoverlabel": {
            "namelength": 0
           },
           "hovertemplate": "country=Netherlands<br>year=2019<br>rank=%{x}<br>value=%{marker.size}<br>name=%{customdata[0]}",
           "legendgroup": "country=Netherlands",
           "marker": {
            "color": "#19d3f3",
            "size": [
             11364.14,
             8269.54,
             4594.09
            ],
            "sizemode": "area",
            "sizeref": 199.5566,
            "symbol": "circle"
           },
           "mode": "markers",
           "name": "country=Netherlands",
           "showlegend": true,
           "type": "scatter",
           "x": [
            "23",
            "37",
            "64"
           ],
           "xaxis": "x",
           "y": [
            11364.14,
            8269.54,
            4594.09
           ],
           "yaxis": "y"
          },
          {
           "customdata": [
            [
             "Deutsche Bank"
            ]
           ],
           "hoverlabel": {
            "namelength": 0
           },
           "hovertemplate": "country=Germany<br>year=2019<br>rank=%{x}<br>value=%{marker.size}<br>name=%{customdata[0]}",
           "legendgroup": "country=Germany",
           "marker": {
            "color": "#FF6692",
            "size": [
             4302.27
            ],
            "sizemode": "area",
            "sizeref": 199.5566,
            "symbol": "circle"
           },
           "mode": "markers",
           "name": "country=Germany",
           "showlegend": true,
           "type": "scatter",
           "x": [
            "70"
           ],
           "xaxis": "x",
           "y": [
            4302.27
           ],
           "yaxis": "y"
          },
          {
           "customdata": [
            [
             "ICBC"
            ],
            [
             "China Construction Bank"
            ],
            [
             "Agricultural Bank Of China"
            ],
            [
             "Bank of China"
            ],
            [
             "China Merchants Bank"
            ],
            [
             "Bank of Communications"
            ],
            [
             "Shanghai Pudong Development Bank"
            ],
            [
             "China CITIC Bank"
            ],
            [
             "Industrial Bank"
            ],
            [
             "Postal Savings Bank"
            ],
            [
             "China Minsheng Bank"
            ],
            [
             "China Everbright Bank"
            ],
            [
             "Ping An Bank"
            ],
            [
             "Standard Chartered"
            ],
            [
             "Bank of Beijing"
            ],
            [
             "Hua Xia Bank"
            ],
            [
             "Bank of Shanghai"
            ]
           ],
           "hoverlabel": {
            "namelength": 0
           },
           "hovertemplate": "country=China<br>year=2019<br>rank=%{x}<br>value=%{marker.size}<br>name=%{customdata[0]}",
           "legendgroup": "country=China",
           "marker": {
            "color": "#B6E880",
            "size": [
             79822.64,
             69741.75,
             55040.17,
             50990.26,
             22480.13,
             14507.23,
             13252.32,
             12856.33,
             11689.42,
             11031.24,
             9400.67,
             7655.4,
             7160.72,
             5538.17,
             4174.34,
             4000.68,
             2890.95
            ],
            "sizemode": "area",
            "sizeref": 199.5566,
            "symbol": "circle"
           },
           "mode": "markers",
           "name": "country=China",
           "showlegend": true,
           "type": "scatter",
           "x": [
            "1",
            "2",
            "3",
            "4",
            "9",
            "15",
            "18",
            "19",
            "21",
            "26",
            "32",
            "40",
            "44",
            "58",
            "74",
            "77",
            "96"
           ],
           "xaxis": "x",
           "y": [
            79822.64,
            69741.75,
            55040.17,
            50990.26,
            22480.13,
            14507.23,
            13252.32,
            12856.33,
            11689.42,
            11031.24,
            9400.67,
            7655.4,
            7160.72,
            5538.17,
            4174.34,
            4000.68,
            2890.95
           ],
           "yaxis": "y"
          },
          {
           "customdata": [
            [
             "Intesa Sanpaolo"
            ]
           ],
           "hoverlabel": {
            "namelength": 0
           },
           "hovertemplate": "country=Italy<br>year=2019<br>rank=%{x}<br>value=%{marker.size}<br>name=%{customdata[0]}",
           "legendgroup": "country=Italy",
           "marker": {
            "color": "#FF97FF",
            "size": [
             5466.15
            ],
            "sizemode": "area",
            "sizeref": 199.5566,
            "symbol": "circle"
           },
           "mode": "markers",
           "name": "country=Italy",
           "showlegend": true,
           "type": "scatter",
           "x": [
            "59"
           ],
           "xaxis": "x",
           "y": [
            5466.15
           ],
           "yaxis": "y"
          },
          {
           "customdata": [
            [
             "Commonwealth Bank"
            ],
            [
             "ANZ"
            ],
            [
             "nab"
            ],
            [
             "Westpac"
            ],
            [
             "Macquarie"
            ]
           ],
           "hoverlabel": {
            "namelength": 0
           },
           "hovertemplate": "country=Australia<br>year=2019<br>rank=%{x}<br>value=%{marker.size}<br>name=%{customdata[0]}",
           "legendgroup": "country=Australia",
           "marker": {
            "color": "#FECB52",
            "size": [
             7625.04,
             6577.89,
             6214.91,
             5242.93,
             2735.3
            ],
            "sizemode": "area",
            "sizeref": 199.5566,
            "symbol": "circle"
           },
           "mode": "markers",
           "name": "country=Australia",
           "showlegend": true,
           "type": "scatter",
           "x": [
            "41",
            "47",
            "49",
            "60",
            "98"
           ],
           "xaxis": "x",
           "y": [
            7625.04,
            6577.89,
            6214.91,
            5242.93,
            2735.3
           ],
           "yaxis": "y"
          },
          {
           "customdata": [
            [
             "RBC"
            ],
            [
             "TD"
            ],
            [
             "Scotiabank"
            ],
            [
             "BMO"
            ],
            [
             "CIBC"
            ],
            [
             "Desjardins"
            ]
           ],
           "hoverlabel": {
            "namelength": 0
           },
           "hovertemplate": "country=Canada<br>year=2019<br>rank=%{x}<br>value=%{marker.size}<br>name=%{customdata[0]}",
           "legendgroup": "country=Canada",
           "marker": {
            "color": "#636efa",
            "size": [
             17398.95,
             13987.61,
             11263.7,
             10132.13,
             7933.95,
             3771.49
            ],
            "sizemode": "area",
            "sizeref": 199.5566,
            "symbol": "circle"
           },
           "mode": "markers",
           "name": "country=Canada",
           "showlegend": true,
           "type": "scatter",
           "x": [
            "13",
            "17",
            "25",
            "30",
            "38",
            "81"
           ],
           "xaxis": "x",
           "y": [
            17398.95,
            13987.61,
            11263.7,
            10132.13,
            7933.95,
            3771.49
           ],
           "yaxis": "y"
          },
          {
           "customdata": [
            [
             "KBC"
            ]
           ],
           "hoverlabel": {
            "namelength": 0
           },
           "hovertemplate": "country=Belgium<br>year=2019<br>rank=%{x}<br>value=%{marker.size}<br>name=%{customdata[0]}",
           "legendgroup": "country=Belgium",
           "marker": {
            "color": "#EF553B",
            "size": [
             4450.78
            ],
            "sizemode": "area",
            "sizeref": 199.5566,
            "symbol": "circle"
           },
           "mode": "markers",
           "name": "country=Belgium",
           "showlegend": true,
           "type": "scatter",
           "x": [
            "65"
           ],
           "xaxis": "x",
           "y": [
            4450.78
           ],
           "yaxis": "y"
          },
          {
           "customdata": [
            [
             "MUFG"
            ],
            [
             "SMBC"
            ],
            [
             "Mizuho Financial Group"
            ],
            [
             "JP Bank"
            ]
           ],
           "hoverlabel": {
            "namelength": 0
           },
           "hovertemplate": "country=Japan<br>year=2019<br>rank=%{x}<br>value=%{marker.size}<br>name=%{customdata[0]}",
           "legendgroup": "country=Japan",
           "marker": {
            "color": "#00cc96",
            "size": [
             11320.46,
             8782.09,
             6101.79,
             3684.26
            ],
            "sizemode": "area",
            "sizeref": 199.5566,
            "symbol": "circle"
           },
           "mode": "markers",
           "name": "country=Japan",
           "showlegend": true,
           "type": "scatter",
           "x": [
            "24",
            "35",
            "51",
            "84"
           ],
           "xaxis": "x",
           "y": [
            11320.46,
            8782.09,
            6101.79,
            3684.26
           ],
           "yaxis": "y"
          },
          {
           "customdata": [
            [
             "Itaú"
            ],
            [
             "Bradesco"
            ],
            [
             "Banco do Brasil"
            ],
            [
             "Caixa"
            ]
           ],
           "hoverlabel": {
            "namelength": 0
           },
           "hovertemplate": "country=Brazil<br>year=2019<br>rank=%{x}<br>value=%{marker.size}<br>name=%{customdata[0]}",
           "legendgroup": "country=Brazil",
           "marker": {
            "color": "#ab63fa",
            "size": [
             6808.95,
             6075.73,
             4321.8,
             4233.27
            ],
            "sizemode": "area",
            "sizeref": 199.5566,
            "symbol": "circle"
           },
           "mode": "markers",
           "name": "country=Brazil",
           "showlegend": true,
           "type": "scatter",
           "x": [
            "45",
            "52",
            "69",
            "71"
           ],
           "xaxis": "x",
           "y": [
            6808.95,
            6075.73,
            4321.8,
            4233.27
           ],
           "yaxis": "y"
          },
          {
           "customdata": [
            [
             "Swedbank"
            ],
            [
             "Svenska Handelsbanken"
            ]
           ],
           "hoverlabel": {
            "namelength": 0
           },
           "hovertemplate": "country=Sweden<br>year=2019<br>rank=%{x}<br>value=%{marker.size}<br>name=%{customdata[0]}",
           "legendgroup": "country=Sweden",
           "marker": {
            "color": "#FFA15A",
            "size": [
             3512.7,
             3360.11
            ],
            "sizemode": "area",
            "sizeref": 199.5566,
            "symbol": "circle"
           },
           "mode": "markers",
           "name": "country=Sweden",
           "showlegend": true,
           "type": "scatter",
           "x": [
            "87",
            "89"
           ],
           "xaxis": "x",
           "y": [
            3512.7,
            3360.11
           ],
           "yaxis": "y"
          },
          {
           "customdata": [
            [
             "Sberbank"
            ]
           ],
           "hoverlabel": {
            "namelength": 0
           },
           "hovertemplate": "country=Russia<br>year=2019<br>rank=%{x}<br>value=%{marker.size}<br>name=%{customdata[0]}",
           "legendgroup": "country=Russia",
           "marker": {
            "color": "#19d3f3",
            "size": [
             12362.9
            ],
            "sizemode": "area",
            "sizeref": 199.5566,
            "symbol": "circle"
           },
           "mode": "markers",
           "name": "country=Russia",
           "showlegend": true,
           "type": "scatter",
           "x": [
            "20"
           ],
           "xaxis": "x",
           "y": [
            12362.9
           ],
           "yaxis": "y"
          },
          {
           "customdata": [
            [
             "State Bank of India"
            ],
            [
             "HDFC Bank"
            ],
            [
             "ICICI Bank"
            ]
           ],
           "hoverlabel": {
            "namelength": 0
           },
           "hovertemplate": "country=India<br>year=2019<br>rank=%{x}<br>value=%{marker.size}<br>name=%{customdata[0]}",
           "legendgroup": "country=India",
           "marker": {
            "color": "#FF6692",
            "size": [
             5972.9,
             4843.93,
             3856.3
            ],
            "sizemode": "area",
            "sizeref": 199.5566,
            "symbol": "circle"
           },
           "mode": "markers",
           "name": "country=India",
           "showlegend": true,
           "type": "scatter",
           "x": [
            "53",
            "62",
            "80"
           ],
           "xaxis": "x",
           "y": [
            5972.9,
            4843.93,
            3856.3
           ],
           "yaxis": "y"
          },
          {
           "customdata": [
            [
             "Allied Irish Banks (AIB)"
            ]
           ],
           "hoverlabel": {
            "namelength": 0
           },
           "hovertemplate": "country=Ireland<br>year=2019<br>rank=%{x}<br>value=%{marker.size}<br>name=%{customdata[0]}",
           "legendgroup": "country=Ireland",
           "marker": {
            "color": "#B6E880",
            "size": [
             2693.34
            ],
            "sizemode": "area",
            "sizeref": 199.5566,
            "symbol": "circle"
           },
           "mode": "markers",
           "name": "country=Ireland",
           "showlegend": true,
           "type": "scatter",
           "x": [
            "99"
           ],
           "xaxis": "x",
           "y": [
            2693.34
           ],
           "yaxis": "y"
          },
          {
           "customdata": [
            [
             "Erste Group"
            ]
           ],
           "hoverlabel": {
            "namelength": 0
           },
           "hovertemplate": "country=Austria<br>year=2019<br>rank=%{x}<br>value=%{marker.size}<br>name=%{customdata[0]}",
           "legendgroup": "country=Austria",
           "marker": {
            "color": "#FECB52",
            "size": [
             2794.19
            ],
            "sizemode": "area",
            "sizeref": 199.5566,
            "symbol": "circle"
           },
           "mode": "markers",
           "name": "country=Austria",
           "showlegend": true,
           "type": "scatter",
           "x": [
            "97"
           ],
           "xaxis": "x",
           "y": [
            2794.19
           ],
           "yaxis": "y"
          },
          {
           "customdata": [
            [
             "Shinhan Financial Group"
            ],
            [
             "KB Financial Group"
            ],
            [
             "Hana Financial Group"
            ]
           ],
           "hoverlabel": {
            "namelength": 0
           },
           "hovertemplate": "country=South Korea<br>year=2019<br>rank=%{x}<br>value=%{marker.size}<br>name=%{customdata[0]}",
           "legendgroup": "country=South Korea",
           "marker": {
            "color": "#ab63fa",
            "size": [
             4333.2,
             4189.21,
             2956.4
            ],
            "sizemode": "area",
            "sizeref": 199.5566,
            "symbol": "circle"
           },
           "mode": "markers",
           "name": "country=South Korea",
           "showlegend": true,
           "type": "scatter",
           "x": [
            "67",
            "73",
            "93"
           ],
           "xaxis": "x",
           "y": [
            4333.2,
            4189.21,
            2956.4
           ],
           "yaxis": "y"
          },
          {
           "customdata": [
            [
             "Nordea"
            ],
            [
             "Danske Bank"
            ]
           ],
           "hoverlabel": {
            "namelength": 0
           },
           "hovertemplate": "country=Denmark<br>year=2019<br>rank=%{x}<br>value=%{marker.size}<br>name=%{customdata[0]}",
           "legendgroup": "country=Denmark",
           "marker": {
            "color": "#19d3f3",
            "size": [
             5638.1,
             2951.94
            ],
            "sizemode": "area",
            "sizeref": 199.5566,
            "symbol": "circle"
           },
           "mode": "markers",
           "name": "country=Denmark",
           "showlegend": true,
           "type": "scatter",
           "x": [
            "57",
            "94"
           ],
           "xaxis": "x",
           "y": [
            5638.1,
            2951.94
           ],
           "yaxis": "y"
          },
          {
           "customdata": [
            [
             "DBS"
            ],
            [
             "UOB"
            ],
            [
             "OCBC Bank"
            ]
           ],
           "hoverlabel": {
            "namelength": 0
           },
           "hovertemplate": "country=Singapore<br>year=2019<br>rank=%{x}<br>value=%{marker.size}<br>name=%{customdata[0]}",
           "legendgroup": "country=Singapore",
           "marker": {
            "color": "#FF6692",
            "size": [
             9026.61,
             5662.12,
             5653.42
            ],
            "sizemode": "area",
            "sizeref": 199.5566,
            "symbol": "circle"
           },
           "mode": "markers",
           "name": "country=Singapore",
           "showlegend": true,
           "type": "scatter",
           "x": [
            "34",
            "55",
            "56"
           ],
           "xaxis": "x",
           "y": [
            9026.61,
            5662.12,
            5653.42
           ],
           "yaxis": "y"
          },
          {
           "customdata": [
            [
             "Hang Seng Bank"
            ]
           ],
           "hoverlabel": {
            "namelength": 0
           },
           "hovertemplate": "country=China (Hong Kong)<br>year=2019<br>rank=%{x}<br>value=%{marker.size}<br>name=%{customdata[0]}",
           "legendgroup": "country=China (Hong Kong)",
           "marker": {
            "color": "#FF97FF",
            "size": [
             3722.61
            ],
            "sizemode": "area",
            "sizeref": 199.5566,
            "symbol": "circle"
           },
           "mode": "markers",
           "name": "country=China (Hong Kong)",
           "showlegend": true,
           "type": "scatter",
           "x": [
            "82"
           ],
           "xaxis": "x",
           "y": [
            3722.61
           ],
           "yaxis": "y"
          },
          {
           "customdata": [
            [
             "DNB"
            ]
           ],
           "hoverlabel": {
            "namelength": 0
           },
           "hovertemplate": "country=Norway<br>year=2019<br>rank=%{x}<br>value=%{marker.size}<br>name=%{customdata[0]}",
           "legendgroup": "country=Norway",
           "marker": {
            "color": "#636efa",
            "size": [
             3280.71
            ],
            "sizemode": "area",
            "sizeref": 199.5566,
            "symbol": "circle"
           },
           "mode": "markers",
           "name": "country=Norway",
           "showlegend": true,
           "type": "scatter",
           "x": [
            "91"
           ],
           "xaxis": "x",
           "y": [
            3280.71
           ],
           "yaxis": "y"
          },
          {
           "customdata": [
            [
             "Maybank"
            ]
           ],
           "hoverlabel": {
            "namelength": 0
           },
           "hovertemplate": "country=Malaysia<br>year=2019<br>rank=%{x}<br>value=%{marker.size}<br>name=%{customdata[0]}",
           "legendgroup": "country=Malaysia",
           "marker": {
            "color": "#00cc96",
            "size": [
             4208.6
            ],
            "sizemode": "area",
            "sizeref": 199.5566,
            "symbol": "circle"
           },
           "mode": "markers",
           "name": "country=Malaysia",
           "showlegend": true,
           "type": "scatter",
           "x": [
            "72"
           ],
           "xaxis": "x",
           "y": [
            4208.6
           ],
           "yaxis": "y"
          },
          {
           "customdata": [
            [
             "QNB"
            ]
           ],
           "hoverlabel": {
            "namelength": 0
           },
           "hovertemplate": "country=Qatar<br>year=2019<br>rank=%{x}<br>value=%{marker.size}<br>name=%{customdata[0]}",
           "legendgroup": "country=Qatar",
           "marker": {
            "color": "#FFA15A",
            "size": [
             5042.02
            ],
            "sizemode": "area",
            "sizeref": 199.5566,
            "symbol": "circle"
           },
           "mode": "markers",
           "name": "country=Qatar",
           "showlegend": true,
           "type": "scatter",
           "x": [
            "61"
           ],
           "xaxis": "x",
           "y": [
            5042.02
           ],
           "yaxis": "y"
          },
          {
           "customdata": [
            [
             "Al-Rajhi Bank"
            ]
           ],
           "hoverlabel": {
            "namelength": 0
           },
           "hovertemplate": "country=Saudi Arabia<br>year=2019<br>rank=%{x}<br>value=%{marker.size}<br>name=%{customdata[0]}",
           "legendgroup": "country=Saudi Arabia",
           "marker": {
            "color": "#19d3f3",
            "size": [
             2918.47
            ],
            "sizemode": "area",
            "sizeref": 199.5566,
            "symbol": "circle"
           },
           "mode": "markers",
           "name": "country=Saudi Arabia",
           "showlegend": true,
           "type": "scatter",
           "x": [
            "95"
           ],
           "xaxis": "x",
           "y": [
            2918.47
           ],
           "yaxis": "y"
          },
          {
           "customdata": [
            [
             "Emirates NBD"
            ],
            [
             "First Abu Dhabi Bank"
            ]
           ],
           "hoverlabel": {
            "namelength": 0
           },
           "hovertemplate": "country=UAE<br>year=2019<br>rank=%{x}<br>value=%{marker.size}<br>name=%{customdata[0]}",
           "legendgroup": "country=UAE",
           "marker": {
            "color": "#FF6692",
            "size": [
             4040.09,
             3889.67
            ],
            "sizemode": "area",
            "sizeref": 199.5566,
            "symbol": "circle"
           },
           "mode": "markers",
           "name": "country=UAE",
           "showlegend": true,
           "type": "scatter",
           "x": [
            "76",
            "79"
           ],
           "xaxis": "x",
           "y": [
            4040.09,
            3889.67
           ],
           "yaxis": "y"
          },
          {
           "customdata": [
            [
             "BRI"
            ],
            [
             "BCA"
            ]
           ],
           "hoverlabel": {
            "namelength": 0
           },
           "hovertemplate": "country=Indonesia<br>year=2019<br>rank=%{x}<br>value=%{marker.size}<br>name=%{customdata[0]}",
           "legendgroup": "country=Indonesia",
           "marker": {
            "color": "#B6E880",
            "size": [
             3268.24,
             2644.13
            ],
            "sizemode": "area",
            "sizeref": 199.5566,
            "symbol": "circle"
           },
           "mode": "markers",
           "name": "country=Indonesia",
           "showlegend": true,
           "type": "scatter",
           "x": [
            "92",
            "100"
           ],
           "xaxis": "x",
           "y": [
            3268.24,
            2644.13
           ],
           "yaxis": "y"
          }
         ],
         "name": "2019"
        }
       ],
       "layout": {
        "legend": {
         "itemsizing": "constant",
         "tracegroupgap": 0
        },
        "sliders": [
         {
          "active": 0,
          "currentvalue": {
           "prefix": "year="
          },
          "len": 0.9,
          "pad": {
           "b": 10,
           "t": 60
          },
          "steps": [
           {
            "args": [
             [
              "2008"
             ],
             {
              "frame": {
               "duration": 0,
               "redraw": false
              },
              "fromcurrent": true,
              "mode": "immediate",
              "transition": {
               "duration": 0,
               "easing": "linear"
              }
             }
            ],
            "label": "2008",
            "method": "animate"
           },
           {
            "args": [
             [
              "2009"
             ],
             {
              "frame": {
               "duration": 0,
               "redraw": false
              },
              "fromcurrent": true,
              "mode": "immediate",
              "transition": {
               "duration": 0,
               "easing": "linear"
              }
             }
            ],
            "label": "2009",
            "method": "animate"
           },
           {
            "args": [
             [
              "2010"
             ],
             {
              "frame": {
               "duration": 0,
               "redraw": false
              },
              "fromcurrent": true,
              "mode": "immediate",
              "transition": {
               "duration": 0,
               "easing": "linear"
              }
             }
            ],
            "label": "2010",
            "method": "animate"
           },
           {
            "args": [
             [
              "2011"
             ],
             {
              "frame": {
               "duration": 0,
               "redraw": false
              },
              "fromcurrent": true,
              "mode": "immediate",
              "transition": {
               "duration": 0,
               "easing": "linear"
              }
             }
            ],
            "label": "2011",
            "method": "animate"
           },
           {
            "args": [
             [
              "2012"
             ],
             {
              "frame": {
               "duration": 0,
               "redraw": false
              },
              "fromcurrent": true,
              "mode": "immediate",
              "transition": {
               "duration": 0,
               "easing": "linear"
              }
             }
            ],
            "label": "2012",
            "method": "animate"
           },
           {
            "args": [
             [
              "2013"
             ],
             {
              "frame": {
               "duration": 0,
               "redraw": false
              },
              "fromcurrent": true,
              "mode": "immediate",
              "transition": {
               "duration": 0,
               "easing": "linear"
              }
             }
            ],
            "label": "2013",
            "method": "animate"
           },
           {
            "args": [
             [
              "2014"
             ],
             {
              "frame": {
               "duration": 0,
               "redraw": false
              },
              "fromcurrent": true,
              "mode": "immediate",
              "transition": {
               "duration": 0,
               "easing": "linear"
              }
             }
            ],
            "label": "2014",
            "method": "animate"
           },
           {
            "args": [
             [
              "2015"
             ],
             {
              "frame": {
               "duration": 0,
               "redraw": false
              },
              "fromcurrent": true,
              "mode": "immediate",
              "transition": {
               "duration": 0,
               "easing": "linear"
              }
             }
            ],
            "label": "2015",
            "method": "animate"
           },
           {
            "args": [
             [
              "2016"
             ],
             {
              "frame": {
               "duration": 0,
               "redraw": false
              },
              "fromcurrent": true,
              "mode": "immediate",
              "transition": {
               "duration": 0,
               "easing": "linear"
              }
             }
            ],
            "label": "2016",
            "method": "animate"
           },
           {
            "args": [
             [
              "2017"
             ],
             {
              "frame": {
               "duration": 0,
               "redraw": false
              },
              "fromcurrent": true,
              "mode": "immediate",
              "transition": {
               "duration": 0,
               "easing": "linear"
              }
             }
            ],
            "label": "2017",
            "method": "animate"
           },
           {
            "args": [
             [
              "2018"
             ],
             {
              "frame": {
               "duration": 0,
               "redraw": false
              },
              "fromcurrent": true,
              "mode": "immediate",
              "transition": {
               "duration": 0,
               "easing": "linear"
              }
             }
            ],
            "label": "2018",
            "method": "animate"
           },
           {
            "args": [
             [
              "2019"
             ],
             {
              "frame": {
               "duration": 0,
               "redraw": false
              },
              "fromcurrent": true,
              "mode": "immediate",
              "transition": {
               "duration": 0,
               "easing": "linear"
              }
             }
            ],
            "label": "2019",
            "method": "animate"
           }
          ],
          "x": 0.1,
          "xanchor": "left",
          "y": 0,
          "yanchor": "top"
         }
        ],
        "template": {
         "data": {
          "bar": [
           {
            "error_x": {
             "color": "#2a3f5f"
            },
            "error_y": {
             "color": "#2a3f5f"
            },
            "marker": {
             "line": {
              "color": "#E5ECF6",
              "width": 0.5
             }
            },
            "type": "bar"
           }
          ],
          "barpolar": [
           {
            "marker": {
             "line": {
              "color": "#E5ECF6",
              "width": 0.5
             }
            },
            "type": "barpolar"
           }
          ],
          "carpet": [
           {
            "aaxis": {
             "endlinecolor": "#2a3f5f",
             "gridcolor": "white",
             "linecolor": "white",
             "minorgridcolor": "white",
             "startlinecolor": "#2a3f5f"
            },
            "baxis": {
             "endlinecolor": "#2a3f5f",
             "gridcolor": "white",
             "linecolor": "white",
             "minorgridcolor": "white",
             "startlinecolor": "#2a3f5f"
            },
            "type": "carpet"
           }
          ],
          "choropleth": [
           {
            "colorbar": {
             "outlinewidth": 0,
             "ticks": ""
            },
            "type": "choropleth"
           }
          ],
          "contour": [
           {
            "colorbar": {
             "outlinewidth": 0,
             "ticks": ""
            },
            "colorscale": [
             [
              0,
              "#0d0887"
             ],
             [
              0.1111111111111111,
              "#46039f"
             ],
             [
              0.2222222222222222,
              "#7201a8"
             ],
             [
              0.3333333333333333,
              "#9c179e"
             ],
             [
              0.4444444444444444,
              "#bd3786"
             ],
             [
              0.5555555555555556,
              "#d8576b"
             ],
             [
              0.6666666666666666,
              "#ed7953"
             ],
             [
              0.7777777777777778,
              "#fb9f3a"
             ],
             [
              0.8888888888888888,
              "#fdca26"
             ],
             [
              1,
              "#f0f921"
             ]
            ],
            "type": "contour"
           }
          ],
          "contourcarpet": [
           {
            "colorbar": {
             "outlinewidth": 0,
             "ticks": ""
            },
            "type": "contourcarpet"
           }
          ],
          "heatmap": [
           {
            "colorbar": {
             "outlinewidth": 0,
             "ticks": ""
            },
            "colorscale": [
             [
              0,
              "#0d0887"
             ],
             [
              0.1111111111111111,
              "#46039f"
             ],
             [
              0.2222222222222222,
              "#7201a8"
             ],
             [
              0.3333333333333333,
              "#9c179e"
             ],
             [
              0.4444444444444444,
              "#bd3786"
             ],
             [
              0.5555555555555556,
              "#d8576b"
             ],
             [
              0.6666666666666666,
              "#ed7953"
             ],
             [
              0.7777777777777778,
              "#fb9f3a"
             ],
             [
              0.8888888888888888,
              "#fdca26"
             ],
             [
              1,
              "#f0f921"
             ]
            ],
            "type": "heatmap"
           }
          ],
          "heatmapgl": [
           {
            "colorbar": {
             "outlinewidth": 0,
             "ticks": ""
            },
            "colorscale": [
             [
              0,
              "#0d0887"
             ],
             [
              0.1111111111111111,
              "#46039f"
             ],
             [
              0.2222222222222222,
              "#7201a8"
             ],
             [
              0.3333333333333333,
              "#9c179e"
             ],
             [
              0.4444444444444444,
              "#bd3786"
             ],
             [
              0.5555555555555556,
              "#d8576b"
             ],
             [
              0.6666666666666666,
              "#ed7953"
             ],
             [
              0.7777777777777778,
              "#fb9f3a"
             ],
             [
              0.8888888888888888,
              "#fdca26"
             ],
             [
              1,
              "#f0f921"
             ]
            ],
            "type": "heatmapgl"
           }
          ],
          "histogram": [
           {
            "marker": {
             "colorbar": {
              "outlinewidth": 0,
              "ticks": ""
             }
            },
            "type": "histogram"
           }
          ],
          "histogram2d": [
           {
            "colorbar": {
             "outlinewidth": 0,
             "ticks": ""
            },
            "colorscale": [
             [
              0,
              "#0d0887"
             ],
             [
              0.1111111111111111,
              "#46039f"
             ],
             [
              0.2222222222222222,
              "#7201a8"
             ],
             [
              0.3333333333333333,
              "#9c179e"
             ],
             [
              0.4444444444444444,
              "#bd3786"
             ],
             [
              0.5555555555555556,
              "#d8576b"
             ],
             [
              0.6666666666666666,
              "#ed7953"
             ],
             [
              0.7777777777777778,
              "#fb9f3a"
             ],
             [
              0.8888888888888888,
              "#fdca26"
             ],
             [
              1,
              "#f0f921"
             ]
            ],
            "type": "histogram2d"
           }
          ],
          "histogram2dcontour": [
           {
            "colorbar": {
             "outlinewidth": 0,
             "ticks": ""
            },
            "colorscale": [
             [
              0,
              "#0d0887"
             ],
             [
              0.1111111111111111,
              "#46039f"
             ],
             [
              0.2222222222222222,
              "#7201a8"
             ],
             [
              0.3333333333333333,
              "#9c179e"
             ],
             [
              0.4444444444444444,
              "#bd3786"
             ],
             [
              0.5555555555555556,
              "#d8576b"
             ],
             [
              0.6666666666666666,
              "#ed7953"
             ],
             [
              0.7777777777777778,
              "#fb9f3a"
             ],
             [
              0.8888888888888888,
              "#fdca26"
             ],
             [
              1,
              "#f0f921"
             ]
            ],
            "type": "histogram2dcontour"
           }
          ],
          "mesh3d": [
           {
            "colorbar": {
             "outlinewidth": 0,
             "ticks": ""
            },
            "type": "mesh3d"
           }
          ],
          "parcoords": [
           {
            "line": {
             "colorbar": {
              "outlinewidth": 0,
              "ticks": ""
             }
            },
            "type": "parcoords"
           }
          ],
          "pie": [
           {
            "automargin": true,
            "type": "pie"
           }
          ],
          "scatter": [
           {
            "marker": {
             "colorbar": {
              "outlinewidth": 0,
              "ticks": ""
             }
            },
            "type": "scatter"
           }
          ],
          "scatter3d": [
           {
            "line": {
             "colorbar": {
              "outlinewidth": 0,
              "ticks": ""
             }
            },
            "marker": {
             "colorbar": {
              "outlinewidth": 0,
              "ticks": ""
             }
            },
            "type": "scatter3d"
           }
          ],
          "scattercarpet": [
           {
            "marker": {
             "colorbar": {
              "outlinewidth": 0,
              "ticks": ""
             }
            },
            "type": "scattercarpet"
           }
          ],
          "scattergeo": [
           {
            "marker": {
             "colorbar": {
              "outlinewidth": 0,
              "ticks": ""
             }
            },
            "type": "scattergeo"
           }
          ],
          "scattergl": [
           {
            "marker": {
             "colorbar": {
              "outlinewidth": 0,
              "ticks": ""
             }
            },
            "type": "scattergl"
           }
          ],
          "scattermapbox": [
           {
            "marker": {
             "colorbar": {
              "outlinewidth": 0,
              "ticks": ""
             }
            },
            "type": "scattermapbox"
           }
          ],
          "scatterpolar": [
           {
            "marker": {
             "colorbar": {
              "outlinewidth": 0,
              "ticks": ""
             }
            },
            "type": "scatterpolar"
           }
          ],
          "scatterpolargl": [
           {
            "marker": {
             "colorbar": {
              "outlinewidth": 0,
              "ticks": ""
             }
            },
            "type": "scatterpolargl"
           }
          ],
          "scatterternary": [
           {
            "marker": {
             "colorbar": {
              "outlinewidth": 0,
              "ticks": ""
             }
            },
            "type": "scatterternary"
           }
          ],
          "surface": [
           {
            "colorbar": {
             "outlinewidth": 0,
             "ticks": ""
            },
            "colorscale": [
             [
              0,
              "#0d0887"
             ],
             [
              0.1111111111111111,
              "#46039f"
             ],
             [
              0.2222222222222222,
              "#7201a8"
             ],
             [
              0.3333333333333333,
              "#9c179e"
             ],
             [
              0.4444444444444444,
              "#bd3786"
             ],
             [
              0.5555555555555556,
              "#d8576b"
             ],
             [
              0.6666666666666666,
              "#ed7953"
             ],
             [
              0.7777777777777778,
              "#fb9f3a"
             ],
             [
              0.8888888888888888,
              "#fdca26"
             ],
             [
              1,
              "#f0f921"
             ]
            ],
            "type": "surface"
           }
          ],
          "table": [
           {
            "cells": {
             "fill": {
              "color": "#EBF0F8"
             },
             "line": {
              "color": "white"
             }
            },
            "header": {
             "fill": {
              "color": "#C8D4E3"
             },
             "line": {
              "color": "white"
             }
            },
            "type": "table"
           }
          ]
         },
         "layout": {
          "annotationdefaults": {
           "arrowcolor": "#2a3f5f",
           "arrowhead": 0,
           "arrowwidth": 1
          },
          "coloraxis": {
           "colorbar": {
            "outlinewidth": 0,
            "ticks": ""
           }
          },
          "colorscale": {
           "diverging": [
            [
             0,
             "#8e0152"
            ],
            [
             0.1,
             "#c51b7d"
            ],
            [
             0.2,
             "#de77ae"
            ],
            [
             0.3,
             "#f1b6da"
            ],
            [
             0.4,
             "#fde0ef"
            ],
            [
             0.5,
             "#f7f7f7"
            ],
            [
             0.6,
             "#e6f5d0"
            ],
            [
             0.7,
             "#b8e186"
            ],
            [
             0.8,
             "#7fbc41"
            ],
            [
             0.9,
             "#4d9221"
            ],
            [
             1,
             "#276419"
            ]
           ],
           "sequential": [
            [
             0,
             "#0d0887"
            ],
            [
             0.1111111111111111,
             "#46039f"
            ],
            [
             0.2222222222222222,
             "#7201a8"
            ],
            [
             0.3333333333333333,
             "#9c179e"
            ],
            [
             0.4444444444444444,
             "#bd3786"
            ],
            [
             0.5555555555555556,
             "#d8576b"
            ],
            [
             0.6666666666666666,
             "#ed7953"
            ],
            [
             0.7777777777777778,
             "#fb9f3a"
            ],
            [
             0.8888888888888888,
             "#fdca26"
            ],
            [
             1,
             "#f0f921"
            ]
           ],
           "sequentialminus": [
            [
             0,
             "#0d0887"
            ],
            [
             0.1111111111111111,
             "#46039f"
            ],
            [
             0.2222222222222222,
             "#7201a8"
            ],
            [
             0.3333333333333333,
             "#9c179e"
            ],
            [
             0.4444444444444444,
             "#bd3786"
            ],
            [
             0.5555555555555556,
             "#d8576b"
            ],
            [
             0.6666666666666666,
             "#ed7953"
            ],
            [
             0.7777777777777778,
             "#fb9f3a"
            ],
            [
             0.8888888888888888,
             "#fdca26"
            ],
            [
             1,
             "#f0f921"
            ]
           ]
          },
          "colorway": [
           "#636efa",
           "#EF553B",
           "#00cc96",
           "#ab63fa",
           "#FFA15A",
           "#19d3f3",
           "#FF6692",
           "#B6E880",
           "#FF97FF",
           "#FECB52"
          ],
          "font": {
           "color": "#2a3f5f"
          },
          "geo": {
           "bgcolor": "white",
           "lakecolor": "white",
           "landcolor": "#E5ECF6",
           "showlakes": true,
           "showland": true,
           "subunitcolor": "white"
          },
          "hoverlabel": {
           "align": "left"
          },
          "hovermode": "closest",
          "mapbox": {
           "style": "light"
          },
          "paper_bgcolor": "white",
          "plot_bgcolor": "#E5ECF6",
          "polar": {
           "angularaxis": {
            "gridcolor": "white",
            "linecolor": "white",
            "ticks": ""
           },
           "bgcolor": "#E5ECF6",
           "radialaxis": {
            "gridcolor": "white",
            "linecolor": "white",
            "ticks": ""
           }
          },
          "scene": {
           "xaxis": {
            "backgroundcolor": "#E5ECF6",
            "gridcolor": "white",
            "gridwidth": 2,
            "linecolor": "white",
            "showbackground": true,
            "ticks": "",
            "zerolinecolor": "white"
           },
           "yaxis": {
            "backgroundcolor": "#E5ECF6",
            "gridcolor": "white",
            "gridwidth": 2,
            "linecolor": "white",
            "showbackground": true,
            "ticks": "",
            "zerolinecolor": "white"
           },
           "zaxis": {
            "backgroundcolor": "#E5ECF6",
            "gridcolor": "white",
            "gridwidth": 2,
            "linecolor": "white",
            "showbackground": true,
            "ticks": "",
            "zerolinecolor": "white"
           }
          },
          "shapedefaults": {
           "line": {
            "color": "#2a3f5f"
           }
          },
          "ternary": {
           "aaxis": {
            "gridcolor": "white",
            "linecolor": "white",
            "ticks": ""
           },
           "baxis": {
            "gridcolor": "white",
            "linecolor": "white",
            "ticks": ""
           },
           "bgcolor": "#E5ECF6",
           "caxis": {
            "gridcolor": "white",
            "linecolor": "white",
            "ticks": ""
           }
          },
          "title": {
           "x": 0.05
          },
          "xaxis": {
           "automargin": true,
           "gridcolor": "white",
           "linecolor": "white",
           "ticks": "",
           "title": {
            "standoff": 15
           },
           "zerolinecolor": "white",
           "zerolinewidth": 2
          },
          "yaxis": {
           "automargin": true,
           "gridcolor": "white",
           "linecolor": "white",
           "ticks": "",
           "title": {
            "standoff": 15
           },
           "zerolinecolor": "white",
           "zerolinewidth": 2
          }
         }
        },
        "title": {
         "text": "Top 100 Banks 2008 - 2019, [Values are in Millions, Size=value]"
        },
        "updatemenus": [
         {
          "buttons": [
           {
            "args": [
             null,
             {
              "frame": {
               "duration": 500,
               "redraw": false
              },
              "fromcurrent": true,
              "mode": "immediate",
              "transition": {
               "duration": 500,
               "easing": "linear"
              }
             }
            ],
            "label": "&#9654;",
            "method": "animate"
           },
           {
            "args": [
             [
              null
             ],
             {
              "frame": {
               "duration": 0,
               "redraw": false
              },
              "fromcurrent": true,
              "mode": "immediate",
              "transition": {
               "duration": 0,
               "easing": "linear"
              }
             }
            ],
            "label": "&#9724;",
            "method": "animate"
           }
          ],
          "direction": "left",
          "pad": {
           "r": 10,
           "t": 70
          },
          "showactive": false,
          "type": "buttons",
          "x": 0.1,
          "xanchor": "right",
          "y": 0,
          "yanchor": "top"
         }
        ],
        "xaxis": {
         "anchor": "y",
         "domain": [
          0,
          1
         ],
         "title": {
          "text": "rank"
         }
        },
        "yaxis": {
         "anchor": "x",
         "domain": [
          0,
          1
         ],
         "range": [
          1111,
          84444
         ],
         "title": {
          "text": "value"
         }
        }
       }
      },
      "text/html": [
       "<div>\n",
       "        \n",
       "        \n",
       "            <div id=\"122b1b04-a471-493c-84df-7e5bdce804c9\" class=\"plotly-graph-div\" style=\"height:525px; width:100%;\"></div>\n",
       "            <script type=\"text/javascript\">\n",
       "                require([\"plotly\"], function(Plotly) {\n",
       "                    window.PLOTLYENV=window.PLOTLYENV || {};\n",
       "                    \n",
       "                if (document.getElementById(\"122b1b04-a471-493c-84df-7e5bdce804c9\")) {\n",
       "                    Plotly.newPlot(\n",
       "                        '122b1b04-a471-493c-84df-7e5bdce804c9',\n",
       "                        [{\"customdata\": [[\"HSBC\"], [\"Barclays\"], [\"JPMorgan\"], [\"NATWEST\"], [\"Standard Chartered\"], [\"RBS\"], [\"LLOYDS TSB\"], [\"HALIFAX\"], [\"BANK OF SCOTLAND\"], [\"Citizens Bank\"]], \"hoverlabel\": {\"namelength\": 0}, \"hovertemplate\": \"country=United Kingdom<br>year=2008<br>rank=%{x}<br>value=%{marker.size}<br>name=%{customdata[0]}\", \"legendgroup\": \"country=United Kingdom\", \"marker\": {\"color\": \"#636efa\", \"size\": [35455.88, 11582.17, 9064.33, 7258.86, 6270.0, 6116.79, 5843.5, 4233.55, 3024.11, 2007.28], \"sizemode\": \"area\", \"sizeref\": 199.5566, \"symbol\": \"circle\"}, \"mode\": \"markers\", \"name\": \"country=United Kingdom\", \"showlegend\": true, \"type\": \"scatter\", \"x\": [\"1\", \"11\", \"14\", \"21\", \"25\", \"26\", \"29\", \"40\", \"59\", \"80\"], \"xaxis\": \"x\", \"y\": [35455.88, 11582.17, 9064.33, 7258.86, 6270.0, 6116.79, 5843.5, 4233.55, 3024.11, 2007.28], \"yaxis\": \"y\"}, {\"customdata\": [[\"Citi\"], [\"Bank of America\"], [\"American Express\"], [\"Chase\"], [\"Wells Fargo\"], [\"Goldman Sachs\"], [\"WACHOVIA CORP\"], [\"Morgan Stanley\"], [\"Merrill Lynch\"], [\"The Bank of New York Mellon\"], [\"MBNA\"], [\"Capital One\"], [\"U.S. Bank\"], [\"Lehman Bros\"], [\"WASHINGTON MUTUAL\"], [\"FANNIE MAE\"], [\"MasterCard\"], [\"State Street\"], [\"Smith Barney\"], [\"SunTrust\"], [\"Freddie Mac\"], [\"PNC\"], [\"Discover\"], [\"National City\"], [\"Charles Schwab\"]], \"hoverlabel\": {\"namelength\": 0}, \"hovertemplate\": \"country=United States<br>year=2008<br>rank=%{x}<br>value=%{marker.size}<br>name=%{customdata[0]}\", \"legendgroup\": \"country=United States\", \"marker\": {\"color\": \"#EF553B\", \"size\": [27817.32, 25417.05, 16183.16, 14797.61, 13130.16, 12519.9, 8686.33, 7129.32, 5702.03, 4756.91, 4367.38, 4320.84, 4271.26, 4014.79, 3754.73, 3159.02, 2599.99, 2185.98, 2068.22, 1989.44, 1974.7, 1903.64, 1863.71, 1719.25, 1662.72], \"sizemode\": \"area\", \"sizeref\": 199.5566, \"symbol\": \"circle\"}, \"mode\": \"markers\", \"name\": \"country=United States\", \"showlegend\": true, \"type\": \"scatter\", \"x\": [\"2\", \"3\", \"5\", \"6\", \"8\", \"9\", \"15\", \"23\", \"30\", \"32\", \"36\", \"38\", \"39\", \"44\", \"47\", \"58\", \"65\", \"76\", \"79\", \"82\", \"83\", \"86\", \"90\", \"95\", \"97\"], \"xaxis\": \"x\", \"y\": [27817.32, 25417.05, 16183.16, 14797.61, 13130.16, 12519.9, 8686.33, 7129.32, 5702.03, 4756.91, 4367.38, 4320.84, 4271.26, 4014.79, 3754.73, 3159.02, 2599.99, 2185.98, 2068.22, 1989.44, 1974.7, 1903.64, 1863.71, 1719.25, 1662.72], \"yaxis\": \"y\"}, {\"customdata\": [[\"Santander\"], [\"BBVA\"], [\"Abbey\"]], \"hoverlabel\": {\"namelength\": 0}, \"hovertemplate\": \"country=Spain<br>year=2008<br>rank=%{x}<br>value=%{marker.size}<br>name=%{customdata[0]}\", \"legendgroup\": \"country=Spain\", \"marker\": {\"color\": \"#00cc96\", \"size\": [20717.69, 8410.73, 1792.09], \"sizemode\": \"area\", \"sizeref\": 199.5566, \"symbol\": \"circle\"}, \"mode\": \"markers\", \"name\": \"country=Spain\", \"showlegend\": true, \"type\": \"scatter\", \"x\": [\"4\", \"18\", \"93\"], \"xaxis\": \"x\", \"y\": [20717.69, 8410.73, 1792.09], \"yaxis\": \"y\"}, {\"customdata\": [[\"BNP Paribas\"], [\"Soci\\u00e9t\\u00e9 G\\u00e9n\\u00e9rale\"], [\"Credit Agricole\"], [\"Natixis\"], [\"CIC\"]], \"hoverlabel\": {\"namelength\": 0}, \"hovertemplate\": \"country=France<br>year=2008<br>rank=%{x}<br>value=%{marker.size}<br>name=%{customdata[0]}\", \"legendgroup\": \"country=France\", \"marker\": {\"color\": \"#ab63fa\", \"size\": [14636.97, 7196.8, 5926.53, 2311.58, 1671.33], \"sizemode\": \"area\", \"sizeref\": 199.5566, \"symbol\": \"circle\"}, \"mode\": \"markers\", \"name\": \"country=France\", \"showlegend\": true, \"type\": \"scatter\", \"x\": [\"7\", \"22\", \"28\", \"73\", \"96\"], \"xaxis\": \"x\", \"y\": [14636.97, 7196.8, 5926.53, 2311.58, 1671.33], \"yaxis\": \"y\"}, {\"customdata\": [[\"Credit Suisse\"], [\"UBS\"]], \"hoverlabel\": {\"namelength\": 0}, \"hovertemplate\": \"country=Switzerland<br>year=2008<br>rank=%{x}<br>value=%{marker.size}<br>name=%{customdata[0]}\", \"legendgroup\": \"country=Switzerland\", \"marker\": {\"color\": \"#FFA15A\", \"size\": [12139.77, 11338.71], \"sizemode\": \"area\", \"sizeref\": 199.5566, \"symbol\": \"circle\"}, \"mode\": \"markers\", \"name\": \"country=Switzerland\", \"showlegend\": true, \"type\": \"scatter\", \"x\": [\"10\", \"12\"], \"xaxis\": \"x\", \"y\": [12139.77, 11338.71], \"yaxis\": \"y\"}, {\"customdata\": [[\"ING\"], [\"ABN AMRO\"]], \"hoverlabel\": {\"namelength\": 0}, \"hovertemplate\": \"country=Netherlands<br>year=2008<br>rank=%{x}<br>value=%{marker.size}<br>name=%{customdata[0]}\", \"legendgroup\": \"country=Netherlands\", \"marker\": {\"color\": \"#19d3f3\", \"size\": [10046.0, 4733.94], \"sizemode\": \"area\", \"sizeref\": 199.5566, \"symbol\": \"circle\"}, \"mode\": \"markers\", \"name\": \"country=Netherlands\", \"showlegend\": true, \"type\": \"scatter\", \"x\": [\"13\", \"33\"], \"xaxis\": \"x\", \"y\": [10046.0, 4733.94], \"yaxis\": \"y\"}, {\"customdata\": [[\"Deutsche Bank\"], [\"Commerzbank\"], [\"HypoVereinsbank\"], [\"Postbank\"]], \"hoverlabel\": {\"namelength\": 0}, \"hovertemplate\": \"country=Germany<br>year=2008<br>rank=%{x}<br>value=%{marker.size}<br>name=%{customdata[0]}\", \"legendgroup\": \"country=Germany\", \"marker\": {\"color\": \"#FF6692\", \"size\": [8585.34, 3559.88, 3465.39, 1892.78], \"sizemode\": \"area\", \"sizeref\": 199.5566, \"symbol\": \"circle\"}, \"mode\": \"markers\", \"name\": \"country=Germany\", \"showlegend\": true, \"type\": \"scatter\", \"x\": [\"16\", \"49\", \"55\", \"87\"], \"xaxis\": \"x\", \"y\": [8585.34, 3559.88, 3465.39, 1892.78], \"yaxis\": \"y\"}, {\"customdata\": [[\"ICBC\"], [\"China Construction Bank\"], [\"Bank of China\"], [\"Bank of Communications\"], [\"China Merchants Bank\"]], \"hoverlabel\": {\"namelength\": 0}, \"hovertemplate\": \"country=China<br>year=2008<br>rank=%{x}<br>value=%{marker.size}<br>name=%{customdata[0]}\", \"legendgroup\": \"country=China\", \"marker\": {\"color\": \"#B6E880\", \"size\": [8426.72, 7785.56, 6741.22, 2663.82, 1794.08], \"sizemode\": \"area\", \"sizeref\": 199.5566, \"symbol\": \"circle\"}, \"mode\": \"markers\", \"name\": \"country=China\", \"showlegend\": true, \"type\": \"scatter\", \"x\": [\"17\", \"19\", \"24\", \"63\", \"92\"], \"xaxis\": \"x\", \"y\": [8426.72, 7785.56, 6741.22, 2663.82, 1794.08], \"yaxis\": \"y\"}, {\"customdata\": [[\"Intesa Sanpaolo\"], [\"UniCredit\"], [\"Capitalia\"]], \"hoverlabel\": {\"namelength\": 0}, \"hovertemplate\": \"country=Italy<br>year=2008<br>rank=%{x}<br>value=%{marker.size}<br>name=%{customdata[0]}\", \"legendgroup\": \"country=Italy\", \"marker\": {\"color\": \"#FF97FF\", \"size\": [7779.42, 4627.32, 1870.64], \"sizemode\": \"area\", \"sizeref\": 199.5566, \"symbol\": \"circle\"}, \"mode\": \"markers\", \"name\": \"country=Italy\", \"showlegend\": true, \"type\": \"scatter\", \"x\": [\"20\", \"34\", \"89\"], \"xaxis\": \"x\", \"y\": [7779.42, 4627.32, 1870.64], \"yaxis\": \"y\"}, {\"customdata\": [[\"National Australia Bank\"], [\"Commonwealth Bank of Australia\"], [\"ANZ\"], [\"Westpac\"], [\"St George Bank\"], [\"Macquarie\"], [\"SUNCORP METWAY\"]], \"hoverlabel\": {\"namelength\": 0}, \"hovertemplate\": \"country=Australia<br>year=2008<br>rank=%{x}<br>value=%{marker.size}<br>name=%{customdata[0]}\", \"legendgroup\": \"country=Australia\", \"marker\": {\"color\": \"#FECB52\", \"size\": [6102.12, 4348.79, 3559.01, 3228.78, 2141.82, 2103.28, 1574.88], \"sizemode\": \"area\", \"sizeref\": 199.5566, \"symbol\": \"circle\"}, \"mode\": \"markers\", \"name\": \"country=Australia\", \"showlegend\": true, \"type\": \"scatter\", \"x\": [\"27\", \"37\", \"50\", \"57\", \"77\", \"78\", \"100\"], \"xaxis\": \"x\", \"y\": [6102.12, 4348.79, 3559.01, 3228.78, 2141.82, 2103.28, 1574.88], \"yaxis\": \"y\"}, {\"customdata\": [[\"RBC\"], [\"TD\"], [\"CIBC\"], [\"Scotiabank\"], [\"Bank of Montreal\"]], \"hoverlabel\": {\"namelength\": 0}, \"hovertemplate\": \"country=Canada<br>year=2008<br>rank=%{x}<br>value=%{marker.size}<br>name=%{customdata[0]}\", \"legendgroup\": \"country=Canada\", \"marker\": {\"color\": \"#636efa\", \"size\": [5235.47, 4041.16, 3756.1, 3552.26, 2555.35], \"sizemode\": \"area\", \"sizeref\": 199.5566, \"symbol\": \"circle\"}, \"mode\": \"markers\", \"name\": \"country=Canada\", \"showlegend\": true, \"type\": \"scatter\", \"x\": [\"31\", \"43\", \"46\", \"51\", \"66\"], \"xaxis\": \"x\", \"y\": [5235.47, 4041.16, 3756.1, 3552.26, 2555.35], \"yaxis\": \"y\"}, {\"customdata\": [[\"FORTIS\"], [\"KBC\"], [\"Dexia\"]], \"hoverlabel\": {\"namelength\": 0}, \"hovertemplate\": \"country=Belgium<br>year=2008<br>rank=%{x}<br>value=%{marker.size}<br>name=%{customdata[0]}\", \"legendgroup\": \"country=Belgium\", \"marker\": {\"color\": \"#EF553B\", \"size\": [4400.28, 2223.66, 1936.75], \"sizemode\": \"area\", \"sizeref\": 199.5566, \"symbol\": \"circle\"}, \"mode\": \"markers\", \"name\": \"country=Belgium\", \"showlegend\": true, \"type\": \"scatter\", \"x\": [\"35\", \"75\", \"84\"], \"xaxis\": \"x\", \"y\": [4400.28, 2223.66, 1936.75], \"yaxis\": \"y\"}, {\"customdata\": [[\"Mizuho Bank\"], [\"MUFG\"], [\"SMBC\"], [\"ORIX\"], [\"BANK OF TOKYO-MITSUBISHI UFJ\"]], \"hoverlabel\": {\"namelength\": 0}, \"hovertemplate\": \"country=Japan<br>year=2008<br>rank=%{x}<br>value=%{marker.size}<br>name=%{customdata[0]}\", \"legendgroup\": \"country=Japan\", \"marker\": {\"color\": \"#00cc96\", \"size\": [4150.97, 3539.94, 3528.55, 2698.51, 1613.11], \"sizemode\": \"area\", \"sizeref\": 199.5566, \"symbol\": \"circle\"}, \"mode\": \"markers\", \"name\": \"country=Japan\", \"showlegend\": true, \"type\": \"scatter\", \"x\": [\"41\", \"52\", \"53\", \"62\", \"98\"], \"xaxis\": \"x\", \"y\": [4150.97, 3539.94, 3528.55, 2698.51, 1613.11], \"yaxis\": \"y\"}, {\"customdata\": [[\"Bradesco\"], [\"Banco do Brasil\"], [\"Ita\\u00fa\"]], \"hoverlabel\": {\"namelength\": 0}, \"hovertemplate\": \"country=Brazil<br>year=2008<br>rank=%{x}<br>value=%{marker.size}<br>name=%{customdata[0]}\", \"legendgroup\": \"country=Brazil\", \"marker\": {\"color\": \"#ab63fa\", \"size\": [4105.58, 4008.45, 3499.63], \"sizemode\": \"area\", \"sizeref\": 199.5566, \"symbol\": \"circle\"}, \"mode\": \"markers\", \"name\": \"country=Brazil\", \"showlegend\": true, \"type\": \"scatter\", \"x\": [\"42\", \"45\", \"54\"], \"xaxis\": \"x\", \"y\": [4105.58, 4008.45, 3499.63], \"yaxis\": \"y\"}, {\"customdata\": [[\"Nordea\"], [\"Swedbank\"]], \"hoverlabel\": {\"namelength\": 0}, \"hovertemplate\": \"country=Sweden<br>year=2008<br>rank=%{x}<br>value=%{marker.size}<br>name=%{customdata[0]}\", \"legendgroup\": \"country=Sweden\", \"marker\": {\"color\": \"#FFA15A\", \"size\": [3605.43, 1783.25], \"sizemode\": \"area\", \"sizeref\": 199.5566, \"symbol\": \"circle\"}, \"mode\": \"markers\", \"name\": \"country=Sweden\", \"showlegend\": true, \"type\": \"scatter\", \"x\": [\"48\", \"94\"], \"xaxis\": \"x\", \"y\": [3605.43, 1783.25], \"yaxis\": \"y\"}, {\"customdata\": [[\"Sberbank\"]], \"hoverlabel\": {\"namelength\": 0}, \"hovertemplate\": \"country=Russia<br>year=2008<br>rank=%{x}<br>value=%{marker.size}<br>name=%{customdata[0]}\", \"legendgroup\": \"country=Russia\", \"marker\": {\"color\": \"#19d3f3\", \"size\": [3417.72], \"sizemode\": \"area\", \"sizeref\": 199.5566, \"symbol\": \"circle\"}, \"mode\": \"markers\", \"name\": \"country=Russia\", \"showlegend\": true, \"type\": \"scatter\", \"x\": [\"56\"], \"xaxis\": \"x\", \"y\": [3417.72], \"yaxis\": \"y\"}, {\"customdata\": [[\"State Bank of India\"], [\"ICICI Bank\"]], \"hoverlabel\": {\"namelength\": 0}, \"hovertemplate\": \"country=India<br>year=2008<br>rank=%{x}<br>value=%{marker.size}<br>name=%{customdata[0]}\", \"legendgroup\": \"country=India\", \"marker\": {\"color\": \"#FF6692\", \"size\": [2852.34, 2602.8], \"sizemode\": \"area\", \"sizeref\": 199.5566, \"symbol\": \"circle\"}, \"mode\": \"markers\", \"name\": \"country=India\", \"showlegend\": true, \"type\": \"scatter\", \"x\": [\"60\", \"64\"], \"xaxis\": \"x\", \"y\": [2852.34, 2602.8], \"yaxis\": \"y\"}, {\"customdata\": [[\"BANK OF IRELAND\"], [\"AIB\"]], \"hoverlabel\": {\"namelength\": 0}, \"hovertemplate\": \"country=Ireland<br>year=2008<br>rank=%{x}<br>value=%{marker.size}<br>name=%{customdata[0]}\", \"legendgroup\": \"country=Ireland\", \"marker\": {\"color\": \"#B6E880\", \"size\": [2765.14, 2472.72], \"sizemode\": \"area\", \"sizeref\": 199.5566, \"symbol\": \"circle\"}, \"mode\": \"markers\", \"name\": \"country=Ireland\", \"showlegend\": true, \"type\": \"scatter\", \"x\": [\"61\", \"69\"], \"xaxis\": \"x\", \"y\": [2765.14, 2472.72], \"yaxis\": \"y\"}, {\"customdata\": [[\"OTP Bank\"]], \"hoverlabel\": {\"namelength\": 0}, \"hovertemplate\": \"country=Hungary<br>year=2008<br>rank=%{x}<br>value=%{marker.size}<br>name=%{customdata[0]}\", \"legendgroup\": \"country=Hungary\", \"marker\": {\"color\": \"#FF97FF\", \"size\": [2496.11], \"sizemode\": \"area\", \"sizeref\": 199.5566, \"symbol\": \"circle\"}, \"mode\": \"markers\", \"name\": \"country=Hungary\", \"showlegend\": true, \"type\": \"scatter\", \"x\": [\"67\"], \"xaxis\": \"x\", \"y\": [2496.11], \"yaxis\": \"y\"}, {\"customdata\": [[\"Bank Austria\"], [\"Erste Bank\"]], \"hoverlabel\": {\"namelength\": 0}, \"hovertemplate\": \"country=Austria<br>year=2008<br>rank=%{x}<br>value=%{marker.size}<br>name=%{customdata[0]}\", \"legendgroup\": \"country=Austria\", \"marker\": {\"color\": \"#FECB52\", \"size\": [2478.26, 2371.01], \"sizemode\": \"area\", \"sizeref\": 199.5566, \"symbol\": \"circle\"}, \"mode\": \"markers\", \"name\": \"country=Austria\", \"showlegend\": true, \"type\": \"scatter\", \"x\": [\"68\", \"71\"], \"xaxis\": \"x\", \"y\": [2478.26, 2371.01], \"yaxis\": \"y\"}, {\"customdata\": [[\"Sampo\"]], \"hoverlabel\": {\"namelength\": 0}, \"hovertemplate\": \"country=Finland<br>year=2008<br>rank=%{x}<br>value=%{marker.size}<br>name=%{customdata[0]}\", \"legendgroup\": \"country=Finland\", \"marker\": {\"color\": \"#636efa\", \"size\": [2437.37], \"sizemode\": \"area\", \"sizeref\": 199.5566, \"symbol\": \"circle\"}, \"mode\": \"markers\", \"name\": \"country=Finland\", \"showlegend\": true, \"type\": \"scatter\", \"x\": [\"70\"], \"xaxis\": \"x\", \"y\": [2437.37], \"yaxis\": \"y\"}, {\"customdata\": [[\"First National Bank\"], [\"Standard Bank\"], [\"ABSA\"]], \"hoverlabel\": {\"namelength\": 0}, \"hovertemplate\": \"country=South Africa<br>year=2008<br>rank=%{x}<br>value=%{marker.size}<br>name=%{customdata[0]}\", \"legendgroup\": \"country=South Africa\", \"marker\": {\"color\": \"#EF553B\", \"size\": [2357.57, 2238.56, 1996.25], \"sizemode\": \"area\", \"sizeref\": 199.5566, \"symbol\": \"circle\"}, \"mode\": \"markers\", \"name\": \"country=South Africa\", \"showlegend\": true, \"type\": \"scatter\", \"x\": [\"72\", \"74\", \"81\"], \"xaxis\": \"x\", \"y\": [2357.57, 2238.56, 1996.25], \"yaxis\": \"y\"}, {\"customdata\": [[\"National Bank of Greece\"]], \"hoverlabel\": {\"namelength\": 0}, \"hovertemplate\": \"country=Greece<br>year=2008<br>rank=%{x}<br>value=%{marker.size}<br>name=%{customdata[0]}\", \"legendgroup\": \"country=Greece\", \"marker\": {\"color\": \"#00cc96\", \"size\": [1915.84], \"sizemode\": \"area\", \"sizeref\": 199.5566, \"symbol\": \"circle\"}, \"mode\": \"markers\", \"name\": \"country=Greece\", \"showlegend\": true, \"type\": \"scatter\", \"x\": [\"85\"], \"xaxis\": \"x\", \"y\": [1915.84], \"yaxis\": \"y\"}, {\"customdata\": [[\"KB Kookmin Bank\"], [\"Shinhan Financial Group\"]], \"hoverlabel\": {\"namelength\": 0}, \"hovertemplate\": \"country=South Korea<br>year=2008<br>rank=%{x}<br>value=%{marker.size}<br>name=%{customdata[0]}\", \"legendgroup\": \"country=South Korea\", \"marker\": {\"color\": \"#ab63fa\", \"size\": [1880.99, 1800.31], \"sizemode\": \"area\", \"sizeref\": 199.5566, \"symbol\": \"circle\"}, \"mode\": \"markers\", \"name\": \"country=South Korea\", \"showlegend\": true, \"type\": \"scatter\", \"x\": [\"88\", \"91\"], \"xaxis\": \"x\", \"y\": [1880.99, 1800.31], \"yaxis\": \"y\"}, {\"customdata\": [[\"FUBON FINANCIAL\"]], \"hoverlabel\": {\"namelength\": 0}, \"hovertemplate\": \"country=China (Taiwan)<br>year=2008<br>rank=%{x}<br>value=%{marker.size}<br>name=%{customdata[0]}\", \"legendgroup\": \"country=China (Taiwan)\", \"marker\": {\"color\": \"#FFA15A\", \"size\": [1610.6], \"sizemode\": \"area\", \"sizeref\": 199.5566, \"symbol\": \"circle\"}, \"mode\": \"markers\", \"name\": \"country=China (Taiwan)\", \"showlegend\": true, \"type\": \"scatter\", \"x\": [\"99\"], \"xaxis\": \"x\", \"y\": [1610.6], \"yaxis\": \"y\"}],\n",
       "                        {\"legend\": {\"itemsizing\": \"constant\", \"tracegroupgap\": 0}, \"sliders\": [{\"active\": 0, \"currentvalue\": {\"prefix\": \"year=\"}, \"len\": 0.9, \"pad\": {\"b\": 10, \"t\": 60}, \"steps\": [{\"args\": [[\"2008\"], {\"frame\": {\"duration\": 0, \"redraw\": false}, \"fromcurrent\": true, \"mode\": \"immediate\", \"transition\": {\"duration\": 0, \"easing\": \"linear\"}}], \"label\": \"2008\", \"method\": \"animate\"}, {\"args\": [[\"2009\"], {\"frame\": {\"duration\": 0, \"redraw\": false}, \"fromcurrent\": true, \"mode\": \"immediate\", \"transition\": {\"duration\": 0, \"easing\": \"linear\"}}], \"label\": \"2009\", \"method\": \"animate\"}, {\"args\": [[\"2010\"], {\"frame\": {\"duration\": 0, \"redraw\": false}, \"fromcurrent\": true, \"mode\": \"immediate\", \"transition\": {\"duration\": 0, \"easing\": \"linear\"}}], \"label\": \"2010\", \"method\": \"animate\"}, {\"args\": [[\"2011\"], {\"frame\": {\"duration\": 0, \"redraw\": false}, \"fromcurrent\": true, \"mode\": \"immediate\", \"transition\": {\"duration\": 0, \"easing\": \"linear\"}}], \"label\": \"2011\", \"method\": \"animate\"}, {\"args\": [[\"2012\"], {\"frame\": {\"duration\": 0, \"redraw\": false}, \"fromcurrent\": true, \"mode\": \"immediate\", \"transition\": {\"duration\": 0, \"easing\": \"linear\"}}], \"label\": \"2012\", \"method\": \"animate\"}, {\"args\": [[\"2013\"], {\"frame\": {\"duration\": 0, \"redraw\": false}, \"fromcurrent\": true, \"mode\": \"immediate\", \"transition\": {\"duration\": 0, \"easing\": \"linear\"}}], \"label\": \"2013\", \"method\": \"animate\"}, {\"args\": [[\"2014\"], {\"frame\": {\"duration\": 0, \"redraw\": false}, \"fromcurrent\": true, \"mode\": \"immediate\", \"transition\": {\"duration\": 0, \"easing\": \"linear\"}}], \"label\": \"2014\", \"method\": \"animate\"}, {\"args\": [[\"2015\"], {\"frame\": {\"duration\": 0, \"redraw\": false}, \"fromcurrent\": true, \"mode\": \"immediate\", \"transition\": {\"duration\": 0, \"easing\": \"linear\"}}], \"label\": \"2015\", \"method\": \"animate\"}, {\"args\": [[\"2016\"], {\"frame\": {\"duration\": 0, \"redraw\": false}, \"fromcurrent\": true, \"mode\": \"immediate\", \"transition\": {\"duration\": 0, \"easing\": \"linear\"}}], \"label\": \"2016\", \"method\": \"animate\"}, {\"args\": [[\"2017\"], {\"frame\": {\"duration\": 0, \"redraw\": false}, \"fromcurrent\": true, \"mode\": \"immediate\", \"transition\": {\"duration\": 0, \"easing\": \"linear\"}}], \"label\": \"2017\", \"method\": \"animate\"}, {\"args\": [[\"2018\"], {\"frame\": {\"duration\": 0, \"redraw\": false}, \"fromcurrent\": true, \"mode\": \"immediate\", \"transition\": {\"duration\": 0, \"easing\": \"linear\"}}], \"label\": \"2018\", \"method\": \"animate\"}, {\"args\": [[\"2019\"], {\"frame\": {\"duration\": 0, \"redraw\": false}, \"fromcurrent\": true, \"mode\": \"immediate\", \"transition\": {\"duration\": 0, \"easing\": \"linear\"}}], \"label\": \"2019\", \"method\": \"animate\"}], \"x\": 0.1, \"xanchor\": \"left\", \"y\": 0, \"yanchor\": \"top\"}], \"template\": {\"data\": {\"bar\": [{\"error_x\": {\"color\": \"#2a3f5f\"}, \"error_y\": {\"color\": \"#2a3f5f\"}, \"marker\": {\"line\": {\"color\": \"#E5ECF6\", \"width\": 0.5}}, \"type\": \"bar\"}], \"barpolar\": [{\"marker\": {\"line\": {\"color\": \"#E5ECF6\", \"width\": 0.5}}, \"type\": \"barpolar\"}], \"carpet\": [{\"aaxis\": {\"endlinecolor\": \"#2a3f5f\", \"gridcolor\": \"white\", \"linecolor\": \"white\", \"minorgridcolor\": \"white\", \"startlinecolor\": \"#2a3f5f\"}, \"baxis\": {\"endlinecolor\": \"#2a3f5f\", \"gridcolor\": \"white\", \"linecolor\": \"white\", \"minorgridcolor\": \"white\", \"startlinecolor\": \"#2a3f5f\"}, \"type\": \"carpet\"}], \"choropleth\": [{\"colorbar\": {\"outlinewidth\": 0, \"ticks\": \"\"}, \"type\": \"choropleth\"}], \"contour\": [{\"colorbar\": {\"outlinewidth\": 0, \"ticks\": \"\"}, \"colorscale\": [[0.0, \"#0d0887\"], [0.1111111111111111, \"#46039f\"], [0.2222222222222222, \"#7201a8\"], [0.3333333333333333, \"#9c179e\"], [0.4444444444444444, \"#bd3786\"], [0.5555555555555556, \"#d8576b\"], [0.6666666666666666, \"#ed7953\"], [0.7777777777777778, \"#fb9f3a\"], [0.8888888888888888, \"#fdca26\"], [1.0, \"#f0f921\"]], \"type\": \"contour\"}], \"contourcarpet\": [{\"colorbar\": {\"outlinewidth\": 0, \"ticks\": \"\"}, \"type\": \"contourcarpet\"}], \"heatmap\": [{\"colorbar\": {\"outlinewidth\": 0, \"ticks\": \"\"}, \"colorscale\": [[0.0, \"#0d0887\"], [0.1111111111111111, \"#46039f\"], [0.2222222222222222, \"#7201a8\"], [0.3333333333333333, \"#9c179e\"], [0.4444444444444444, \"#bd3786\"], [0.5555555555555556, \"#d8576b\"], [0.6666666666666666, \"#ed7953\"], [0.7777777777777778, \"#fb9f3a\"], [0.8888888888888888, \"#fdca26\"], [1.0, \"#f0f921\"]], \"type\": \"heatmap\"}], \"heatmapgl\": [{\"colorbar\": {\"outlinewidth\": 0, \"ticks\": \"\"}, \"colorscale\": [[0.0, \"#0d0887\"], [0.1111111111111111, \"#46039f\"], [0.2222222222222222, \"#7201a8\"], [0.3333333333333333, \"#9c179e\"], [0.4444444444444444, \"#bd3786\"], [0.5555555555555556, \"#d8576b\"], [0.6666666666666666, \"#ed7953\"], [0.7777777777777778, \"#fb9f3a\"], [0.8888888888888888, \"#fdca26\"], [1.0, \"#f0f921\"]], \"type\": \"heatmapgl\"}], \"histogram\": [{\"marker\": {\"colorbar\": {\"outlinewidth\": 0, \"ticks\": \"\"}}, \"type\": \"histogram\"}], \"histogram2d\": [{\"colorbar\": {\"outlinewidth\": 0, \"ticks\": \"\"}, \"colorscale\": [[0.0, \"#0d0887\"], [0.1111111111111111, \"#46039f\"], [0.2222222222222222, \"#7201a8\"], [0.3333333333333333, \"#9c179e\"], [0.4444444444444444, \"#bd3786\"], [0.5555555555555556, \"#d8576b\"], [0.6666666666666666, \"#ed7953\"], [0.7777777777777778, \"#fb9f3a\"], [0.8888888888888888, \"#fdca26\"], [1.0, \"#f0f921\"]], \"type\": \"histogram2d\"}], \"histogram2dcontour\": [{\"colorbar\": {\"outlinewidth\": 0, \"ticks\": \"\"}, \"colorscale\": [[0.0, \"#0d0887\"], [0.1111111111111111, \"#46039f\"], [0.2222222222222222, \"#7201a8\"], [0.3333333333333333, \"#9c179e\"], [0.4444444444444444, \"#bd3786\"], [0.5555555555555556, \"#d8576b\"], [0.6666666666666666, \"#ed7953\"], [0.7777777777777778, \"#fb9f3a\"], [0.8888888888888888, \"#fdca26\"], [1.0, \"#f0f921\"]], \"type\": \"histogram2dcontour\"}], \"mesh3d\": [{\"colorbar\": {\"outlinewidth\": 0, \"ticks\": \"\"}, \"type\": \"mesh3d\"}], \"parcoords\": [{\"line\": {\"colorbar\": {\"outlinewidth\": 0, \"ticks\": \"\"}}, \"type\": \"parcoords\"}], \"pie\": [{\"automargin\": true, \"type\": \"pie\"}], \"scatter\": [{\"marker\": {\"colorbar\": {\"outlinewidth\": 0, \"ticks\": \"\"}}, \"type\": \"scatter\"}], \"scatter3d\": [{\"line\": {\"colorbar\": {\"outlinewidth\": 0, \"ticks\": \"\"}}, \"marker\": {\"colorbar\": {\"outlinewidth\": 0, \"ticks\": \"\"}}, \"type\": \"scatter3d\"}], \"scattercarpet\": [{\"marker\": {\"colorbar\": {\"outlinewidth\": 0, \"ticks\": \"\"}}, \"type\": \"scattercarpet\"}], \"scattergeo\": [{\"marker\": {\"colorbar\": {\"outlinewidth\": 0, \"ticks\": \"\"}}, \"type\": \"scattergeo\"}], \"scattergl\": [{\"marker\": {\"colorbar\": {\"outlinewidth\": 0, \"ticks\": \"\"}}, \"type\": \"scattergl\"}], \"scattermapbox\": [{\"marker\": {\"colorbar\": {\"outlinewidth\": 0, \"ticks\": \"\"}}, \"type\": \"scattermapbox\"}], \"scatterpolar\": [{\"marker\": {\"colorbar\": {\"outlinewidth\": 0, \"ticks\": \"\"}}, \"type\": \"scatterpolar\"}], \"scatterpolargl\": [{\"marker\": {\"colorbar\": {\"outlinewidth\": 0, \"ticks\": \"\"}}, \"type\": \"scatterpolargl\"}], \"scatterternary\": [{\"marker\": {\"colorbar\": {\"outlinewidth\": 0, \"ticks\": \"\"}}, \"type\": \"scatterternary\"}], \"surface\": [{\"colorbar\": {\"outlinewidth\": 0, \"ticks\": \"\"}, \"colorscale\": [[0.0, \"#0d0887\"], [0.1111111111111111, \"#46039f\"], [0.2222222222222222, \"#7201a8\"], [0.3333333333333333, \"#9c179e\"], [0.4444444444444444, \"#bd3786\"], [0.5555555555555556, \"#d8576b\"], [0.6666666666666666, \"#ed7953\"], [0.7777777777777778, \"#fb9f3a\"], [0.8888888888888888, \"#fdca26\"], [1.0, \"#f0f921\"]], \"type\": \"surface\"}], \"table\": [{\"cells\": {\"fill\": {\"color\": \"#EBF0F8\"}, \"line\": {\"color\": \"white\"}}, \"header\": {\"fill\": {\"color\": \"#C8D4E3\"}, \"line\": {\"color\": \"white\"}}, \"type\": \"table\"}]}, \"layout\": {\"annotationdefaults\": {\"arrowcolor\": \"#2a3f5f\", \"arrowhead\": 0, \"arrowwidth\": 1}, \"coloraxis\": {\"colorbar\": {\"outlinewidth\": 0, \"ticks\": \"\"}}, \"colorscale\": {\"diverging\": [[0, \"#8e0152\"], [0.1, \"#c51b7d\"], [0.2, \"#de77ae\"], [0.3, \"#f1b6da\"], [0.4, \"#fde0ef\"], [0.5, \"#f7f7f7\"], [0.6, \"#e6f5d0\"], [0.7, \"#b8e186\"], [0.8, \"#7fbc41\"], [0.9, \"#4d9221\"], [1, \"#276419\"]], \"sequential\": [[0.0, \"#0d0887\"], [0.1111111111111111, \"#46039f\"], [0.2222222222222222, \"#7201a8\"], [0.3333333333333333, \"#9c179e\"], [0.4444444444444444, \"#bd3786\"], [0.5555555555555556, \"#d8576b\"], [0.6666666666666666, \"#ed7953\"], [0.7777777777777778, \"#fb9f3a\"], [0.8888888888888888, \"#fdca26\"], [1.0, \"#f0f921\"]], \"sequentialminus\": [[0.0, \"#0d0887\"], [0.1111111111111111, \"#46039f\"], [0.2222222222222222, \"#7201a8\"], [0.3333333333333333, \"#9c179e\"], [0.4444444444444444, \"#bd3786\"], [0.5555555555555556, \"#d8576b\"], [0.6666666666666666, \"#ed7953\"], [0.7777777777777778, \"#fb9f3a\"], [0.8888888888888888, \"#fdca26\"], [1.0, \"#f0f921\"]]}, \"colorway\": [\"#636efa\", \"#EF553B\", \"#00cc96\", \"#ab63fa\", \"#FFA15A\", \"#19d3f3\", \"#FF6692\", \"#B6E880\", \"#FF97FF\", \"#FECB52\"], \"font\": {\"color\": \"#2a3f5f\"}, \"geo\": {\"bgcolor\": \"white\", \"lakecolor\": \"white\", \"landcolor\": \"#E5ECF6\", \"showlakes\": true, \"showland\": true, \"subunitcolor\": \"white\"}, \"hoverlabel\": {\"align\": \"left\"}, \"hovermode\": \"closest\", \"mapbox\": {\"style\": \"light\"}, \"paper_bgcolor\": \"white\", \"plot_bgcolor\": \"#E5ECF6\", \"polar\": {\"angularaxis\": {\"gridcolor\": \"white\", \"linecolor\": \"white\", \"ticks\": \"\"}, \"bgcolor\": \"#E5ECF6\", \"radialaxis\": {\"gridcolor\": \"white\", \"linecolor\": \"white\", \"ticks\": \"\"}}, \"scene\": {\"xaxis\": {\"backgroundcolor\": \"#E5ECF6\", \"gridcolor\": \"white\", \"gridwidth\": 2, \"linecolor\": \"white\", \"showbackground\": true, \"ticks\": \"\", \"zerolinecolor\": \"white\"}, \"yaxis\": {\"backgroundcolor\": \"#E5ECF6\", \"gridcolor\": \"white\", \"gridwidth\": 2, \"linecolor\": \"white\", \"showbackground\": true, \"ticks\": \"\", \"zerolinecolor\": \"white\"}, \"zaxis\": {\"backgroundcolor\": \"#E5ECF6\", \"gridcolor\": \"white\", \"gridwidth\": 2, \"linecolor\": \"white\", \"showbackground\": true, \"ticks\": \"\", \"zerolinecolor\": \"white\"}}, \"shapedefaults\": {\"line\": {\"color\": \"#2a3f5f\"}}, \"ternary\": {\"aaxis\": {\"gridcolor\": \"white\", \"linecolor\": \"white\", \"ticks\": \"\"}, \"baxis\": {\"gridcolor\": \"white\", \"linecolor\": \"white\", \"ticks\": \"\"}, \"bgcolor\": \"#E5ECF6\", \"caxis\": {\"gridcolor\": \"white\", \"linecolor\": \"white\", \"ticks\": \"\"}}, \"title\": {\"x\": 0.05}, \"xaxis\": {\"automargin\": true, \"gridcolor\": \"white\", \"linecolor\": \"white\", \"ticks\": \"\", \"title\": {\"standoff\": 15}, \"zerolinecolor\": \"white\", \"zerolinewidth\": 2}, \"yaxis\": {\"automargin\": true, \"gridcolor\": \"white\", \"linecolor\": \"white\", \"ticks\": \"\", \"title\": {\"standoff\": 15}, \"zerolinecolor\": \"white\", \"zerolinewidth\": 2}}}, \"title\": {\"text\": \"Top 100 Banks 2008 - 2019, [Values are in Millions, Size=value]\"}, \"updatemenus\": [{\"buttons\": [{\"args\": [null, {\"frame\": {\"duration\": 500, \"redraw\": false}, \"fromcurrent\": true, \"mode\": \"immediate\", \"transition\": {\"duration\": 500, \"easing\": \"linear\"}}], \"label\": \"&#9654;\", \"method\": \"animate\"}, {\"args\": [[null], {\"frame\": {\"duration\": 0, \"redraw\": false}, \"fromcurrent\": true, \"mode\": \"immediate\", \"transition\": {\"duration\": 0, \"easing\": \"linear\"}}], \"label\": \"&#9724;\", \"method\": \"animate\"}], \"direction\": \"left\", \"pad\": {\"r\": 10, \"t\": 70}, \"showactive\": false, \"type\": \"buttons\", \"x\": 0.1, \"xanchor\": \"right\", \"y\": 0, \"yanchor\": \"top\"}], \"xaxis\": {\"anchor\": \"y\", \"domain\": [0.0, 1.0], \"title\": {\"text\": \"rank\"}}, \"yaxis\": {\"anchor\": \"x\", \"domain\": [0.0, 1.0], \"range\": [1111, 84444], \"title\": {\"text\": \"value\"}}},\n",
       "                        {\"responsive\": true}\n",
       "                    ).then(function(){\n",
       "                            Plotly.addFrames('122b1b04-a471-493c-84df-7e5bdce804c9', [{\"data\": [{\"customdata\": [[\"HSBC\"], [\"Barclays\"], [\"JPMorgan\"], [\"NATWEST\"], [\"Standard Chartered\"], [\"RBS\"], [\"LLOYDS TSB\"], [\"HALIFAX\"], [\"BANK OF SCOTLAND\"], [\"Citizens Bank\"]], \"hoverlabel\": {\"namelength\": 0}, \"hovertemplate\": \"country=United Kingdom<br>year=2008<br>rank=%{x}<br>value=%{marker.size}<br>name=%{customdata[0]}\", \"legendgroup\": \"country=United Kingdom\", \"marker\": {\"color\": \"#636efa\", \"size\": [35455.88, 11582.17, 9064.33, 7258.86, 6270.0, 6116.79, 5843.5, 4233.55, 3024.11, 2007.28], \"sizemode\": \"area\", \"sizeref\": 199.5566, \"symbol\": \"circle\"}, \"mode\": \"markers\", \"name\": \"country=United Kingdom\", \"showlegend\": true, \"x\": [\"1\", \"11\", \"14\", \"21\", \"25\", \"26\", \"29\", \"40\", \"59\", \"80\"], \"xaxis\": \"x\", \"y\": [35455.88, 11582.17, 9064.33, 7258.86, 6270.0, 6116.79, 5843.5, 4233.55, 3024.11, 2007.28], \"yaxis\": \"y\", \"type\": \"scatter\"}, {\"customdata\": [[\"Citi\"], [\"Bank of America\"], [\"American Express\"], [\"Chase\"], [\"Wells Fargo\"], [\"Goldman Sachs\"], [\"WACHOVIA CORP\"], [\"Morgan Stanley\"], [\"Merrill Lynch\"], [\"The Bank of New York Mellon\"], [\"MBNA\"], [\"Capital One\"], [\"U.S. Bank\"], [\"Lehman Bros\"], [\"WASHINGTON MUTUAL\"], [\"FANNIE MAE\"], [\"MasterCard\"], [\"State Street\"], [\"Smith Barney\"], [\"SunTrust\"], [\"Freddie Mac\"], [\"PNC\"], [\"Discover\"], [\"National City\"], [\"Charles Schwab\"]], \"hoverlabel\": {\"namelength\": 0}, \"hovertemplate\": \"country=United States<br>year=2008<br>rank=%{x}<br>value=%{marker.size}<br>name=%{customdata[0]}\", \"legendgroup\": \"country=United States\", \"marker\": {\"color\": \"#EF553B\", \"size\": [27817.32, 25417.05, 16183.16, 14797.61, 13130.16, 12519.9, 8686.33, 7129.32, 5702.03, 4756.91, 4367.38, 4320.84, 4271.26, 4014.79, 3754.73, 3159.02, 2599.99, 2185.98, 2068.22, 1989.44, 1974.7, 1903.64, 1863.71, 1719.25, 1662.72], \"sizemode\": \"area\", \"sizeref\": 199.5566, \"symbol\": \"circle\"}, \"mode\": \"markers\", \"name\": \"country=United States\", \"showlegend\": true, \"x\": [\"2\", \"3\", \"5\", \"6\", \"8\", \"9\", \"15\", \"23\", \"30\", \"32\", \"36\", \"38\", \"39\", \"44\", \"47\", \"58\", \"65\", \"76\", \"79\", \"82\", \"83\", \"86\", \"90\", \"95\", \"97\"], \"xaxis\": \"x\", \"y\": [27817.32, 25417.05, 16183.16, 14797.61, 13130.16, 12519.9, 8686.33, 7129.32, 5702.03, 4756.91, 4367.38, 4320.84, 4271.26, 4014.79, 3754.73, 3159.02, 2599.99, 2185.98, 2068.22, 1989.44, 1974.7, 1903.64, 1863.71, 1719.25, 1662.72], \"yaxis\": \"y\", \"type\": \"scatter\"}, {\"customdata\": [[\"Santander\"], [\"BBVA\"], [\"Abbey\"]], \"hoverlabel\": {\"namelength\": 0}, \"hovertemplate\": \"country=Spain<br>year=2008<br>rank=%{x}<br>value=%{marker.size}<br>name=%{customdata[0]}\", \"legendgroup\": \"country=Spain\", \"marker\": {\"color\": \"#00cc96\", \"size\": [20717.69, 8410.73, 1792.09], \"sizemode\": \"area\", \"sizeref\": 199.5566, \"symbol\": \"circle\"}, \"mode\": \"markers\", \"name\": \"country=Spain\", \"showlegend\": true, \"x\": [\"4\", \"18\", \"93\"], \"xaxis\": \"x\", \"y\": [20717.69, 8410.73, 1792.09], \"yaxis\": \"y\", \"type\": \"scatter\"}, {\"customdata\": [[\"BNP Paribas\"], [\"Soci\\u00e9t\\u00e9 G\\u00e9n\\u00e9rale\"], [\"Credit Agricole\"], [\"Natixis\"], [\"CIC\"]], \"hoverlabel\": {\"namelength\": 0}, \"hovertemplate\": \"country=France<br>year=2008<br>rank=%{x}<br>value=%{marker.size}<br>name=%{customdata[0]}\", \"legendgroup\": \"country=France\", \"marker\": {\"color\": \"#ab63fa\", \"size\": [14636.97, 7196.8, 5926.53, 2311.58, 1671.33], \"sizemode\": \"area\", \"sizeref\": 199.5566, \"symbol\": \"circle\"}, \"mode\": \"markers\", \"name\": \"country=France\", \"showlegend\": true, \"x\": [\"7\", \"22\", \"28\", \"73\", \"96\"], \"xaxis\": \"x\", \"y\": [14636.97, 7196.8, 5926.53, 2311.58, 1671.33], \"yaxis\": \"y\", \"type\": \"scatter\"}, {\"customdata\": [[\"Credit Suisse\"], [\"UBS\"]], \"hoverlabel\": {\"namelength\": 0}, \"hovertemplate\": \"country=Switzerland<br>year=2008<br>rank=%{x}<br>value=%{marker.size}<br>name=%{customdata[0]}\", \"legendgroup\": \"country=Switzerland\", \"marker\": {\"color\": \"#FFA15A\", \"size\": [12139.77, 11338.71], \"sizemode\": \"area\", \"sizeref\": 199.5566, \"symbol\": \"circle\"}, \"mode\": \"markers\", \"name\": \"country=Switzerland\", \"showlegend\": true, \"x\": [\"10\", \"12\"], \"xaxis\": \"x\", \"y\": [12139.77, 11338.71], \"yaxis\": \"y\", \"type\": \"scatter\"}, {\"customdata\": [[\"ING\"], [\"ABN AMRO\"]], \"hoverlabel\": {\"namelength\": 0}, \"hovertemplate\": \"country=Netherlands<br>year=2008<br>rank=%{x}<br>value=%{marker.size}<br>name=%{customdata[0]}\", \"legendgroup\": \"country=Netherlands\", \"marker\": {\"color\": \"#19d3f3\", \"size\": [10046.0, 4733.94], \"sizemode\": \"area\", \"sizeref\": 199.5566, \"symbol\": \"circle\"}, \"mode\": \"markers\", \"name\": \"country=Netherlands\", \"showlegend\": true, \"x\": [\"13\", \"33\"], \"xaxis\": \"x\", \"y\": [10046.0, 4733.94], \"yaxis\": \"y\", \"type\": \"scatter\"}, {\"customdata\": [[\"Deutsche Bank\"], [\"Commerzbank\"], [\"HypoVereinsbank\"], [\"Postbank\"]], \"hoverlabel\": {\"namelength\": 0}, \"hovertemplate\": \"country=Germany<br>year=2008<br>rank=%{x}<br>value=%{marker.size}<br>name=%{customdata[0]}\", \"legendgroup\": \"country=Germany\", \"marker\": {\"color\": \"#FF6692\", \"size\": [8585.34, 3559.88, 3465.39, 1892.78], \"sizemode\": \"area\", \"sizeref\": 199.5566, \"symbol\": \"circle\"}, \"mode\": \"markers\", \"name\": \"country=Germany\", \"showlegend\": true, \"x\": [\"16\", \"49\", \"55\", \"87\"], \"xaxis\": \"x\", \"y\": [8585.34, 3559.88, 3465.39, 1892.78], \"yaxis\": \"y\", \"type\": \"scatter\"}, {\"customdata\": [[\"ICBC\"], [\"China Construction Bank\"], [\"Bank of China\"], [\"Bank of Communications\"], [\"China Merchants Bank\"]], \"hoverlabel\": {\"namelength\": 0}, \"hovertemplate\": \"country=China<br>year=2008<br>rank=%{x}<br>value=%{marker.size}<br>name=%{customdata[0]}\", \"legendgroup\": \"country=China\", \"marker\": {\"color\": \"#B6E880\", \"size\": [8426.72, 7785.56, 6741.22, 2663.82, 1794.08], \"sizemode\": \"area\", \"sizeref\": 199.5566, \"symbol\": \"circle\"}, \"mode\": \"markers\", \"name\": \"country=China\", \"showlegend\": true, \"x\": [\"17\", \"19\", \"24\", \"63\", \"92\"], \"xaxis\": \"x\", \"y\": [8426.72, 7785.56, 6741.22, 2663.82, 1794.08], \"yaxis\": \"y\", \"type\": \"scatter\"}, {\"customdata\": [[\"Intesa Sanpaolo\"], [\"UniCredit\"], [\"Capitalia\"]], \"hoverlabel\": {\"namelength\": 0}, \"hovertemplate\": \"country=Italy<br>year=2008<br>rank=%{x}<br>value=%{marker.size}<br>name=%{customdata[0]}\", \"legendgroup\": \"country=Italy\", \"marker\": {\"color\": \"#FF97FF\", \"size\": [7779.42, 4627.32, 1870.64], \"sizemode\": \"area\", \"sizeref\": 199.5566, \"symbol\": \"circle\"}, \"mode\": \"markers\", \"name\": \"country=Italy\", \"showlegend\": true, \"x\": [\"20\", \"34\", \"89\"], \"xaxis\": \"x\", \"y\": [7779.42, 4627.32, 1870.64], \"yaxis\": \"y\", \"type\": \"scatter\"}, {\"customdata\": [[\"National Australia Bank\"], [\"Commonwealth Bank of Australia\"], [\"ANZ\"], [\"Westpac\"], [\"St George Bank\"], [\"Macquarie\"], [\"SUNCORP METWAY\"]], \"hoverlabel\": {\"namelength\": 0}, \"hovertemplate\": \"country=Australia<br>year=2008<br>rank=%{x}<br>value=%{marker.size}<br>name=%{customdata[0]}\", \"legendgroup\": \"country=Australia\", \"marker\": {\"color\": \"#FECB52\", \"size\": [6102.12, 4348.79, 3559.01, 3228.78, 2141.82, 2103.28, 1574.88], \"sizemode\": \"area\", \"sizeref\": 199.5566, \"symbol\": \"circle\"}, \"mode\": \"markers\", \"name\": \"country=Australia\", \"showlegend\": true, \"x\": [\"27\", \"37\", \"50\", \"57\", \"77\", \"78\", \"100\"], \"xaxis\": \"x\", \"y\": [6102.12, 4348.79, 3559.01, 3228.78, 2141.82, 2103.28, 1574.88], \"yaxis\": \"y\", \"type\": \"scatter\"}, {\"customdata\": [[\"RBC\"], [\"TD\"], [\"CIBC\"], [\"Scotiabank\"], [\"Bank of Montreal\"]], \"hoverlabel\": {\"namelength\": 0}, \"hovertemplate\": \"country=Canada<br>year=2008<br>rank=%{x}<br>value=%{marker.size}<br>name=%{customdata[0]}\", \"legendgroup\": \"country=Canada\", \"marker\": {\"color\": \"#636efa\", \"size\": [5235.47, 4041.16, 3756.1, 3552.26, 2555.35], \"sizemode\": \"area\", \"sizeref\": 199.5566, \"symbol\": \"circle\"}, \"mode\": \"markers\", \"name\": \"country=Canada\", \"showlegend\": true, \"x\": [\"31\", \"43\", \"46\", \"51\", \"66\"], \"xaxis\": \"x\", \"y\": [5235.47, 4041.16, 3756.1, 3552.26, 2555.35], \"yaxis\": \"y\", \"type\": \"scatter\"}, {\"customdata\": [[\"FORTIS\"], [\"KBC\"], [\"Dexia\"]], \"hoverlabel\": {\"namelength\": 0}, \"hovertemplate\": \"country=Belgium<br>year=2008<br>rank=%{x}<br>value=%{marker.size}<br>name=%{customdata[0]}\", \"legendgroup\": \"country=Belgium\", \"marker\": {\"color\": \"#EF553B\", \"size\": [4400.28, 2223.66, 1936.75], \"sizemode\": \"area\", \"sizeref\": 199.5566, \"symbol\": \"circle\"}, \"mode\": \"markers\", \"name\": \"country=Belgium\", \"showlegend\": true, \"x\": [\"35\", \"75\", \"84\"], \"xaxis\": \"x\", \"y\": [4400.28, 2223.66, 1936.75], \"yaxis\": \"y\", \"type\": \"scatter\"}, {\"customdata\": [[\"Mizuho Bank\"], [\"MUFG\"], [\"SMBC\"], [\"ORIX\"], [\"BANK OF TOKYO-MITSUBISHI UFJ\"]], \"hoverlabel\": {\"namelength\": 0}, \"hovertemplate\": \"country=Japan<br>year=2008<br>rank=%{x}<br>value=%{marker.size}<br>name=%{customdata[0]}\", \"legendgroup\": \"country=Japan\", \"marker\": {\"color\": \"#00cc96\", \"size\": [4150.97, 3539.94, 3528.55, 2698.51, 1613.11], \"sizemode\": \"area\", \"sizeref\": 199.5566, \"symbol\": \"circle\"}, \"mode\": \"markers\", \"name\": \"country=Japan\", \"showlegend\": true, \"x\": [\"41\", \"52\", \"53\", \"62\", \"98\"], \"xaxis\": \"x\", \"y\": [4150.97, 3539.94, 3528.55, 2698.51, 1613.11], \"yaxis\": \"y\", \"type\": \"scatter\"}, {\"customdata\": [[\"Bradesco\"], [\"Banco do Brasil\"], [\"Ita\\u00fa\"]], \"hoverlabel\": {\"namelength\": 0}, \"hovertemplate\": \"country=Brazil<br>year=2008<br>rank=%{x}<br>value=%{marker.size}<br>name=%{customdata[0]}\", \"legendgroup\": \"country=Brazil\", \"marker\": {\"color\": \"#ab63fa\", \"size\": [4105.58, 4008.45, 3499.63], \"sizemode\": \"area\", \"sizeref\": 199.5566, \"symbol\": \"circle\"}, \"mode\": \"markers\", \"name\": \"country=Brazil\", \"showlegend\": true, \"x\": [\"42\", \"45\", \"54\"], \"xaxis\": \"x\", \"y\": [4105.58, 4008.45, 3499.63], \"yaxis\": \"y\", \"type\": \"scatter\"}, {\"customdata\": [[\"Nordea\"], [\"Swedbank\"]], \"hoverlabel\": {\"namelength\": 0}, \"hovertemplate\": \"country=Sweden<br>year=2008<br>rank=%{x}<br>value=%{marker.size}<br>name=%{customdata[0]}\", \"legendgroup\": \"country=Sweden\", \"marker\": {\"color\": \"#FFA15A\", \"size\": [3605.43, 1783.25], \"sizemode\": \"area\", \"sizeref\": 199.5566, \"symbol\": \"circle\"}, \"mode\": \"markers\", \"name\": \"country=Sweden\", \"showlegend\": true, \"x\": [\"48\", \"94\"], \"xaxis\": \"x\", \"y\": [3605.43, 1783.25], \"yaxis\": \"y\", \"type\": \"scatter\"}, {\"customdata\": [[\"Sberbank\"]], \"hoverlabel\": {\"namelength\": 0}, \"hovertemplate\": \"country=Russia<br>year=2008<br>rank=%{x}<br>value=%{marker.size}<br>name=%{customdata[0]}\", \"legendgroup\": \"country=Russia\", \"marker\": {\"color\": \"#19d3f3\", \"size\": [3417.72], \"sizemode\": \"area\", \"sizeref\": 199.5566, \"symbol\": \"circle\"}, \"mode\": \"markers\", \"name\": \"country=Russia\", \"showlegend\": true, \"x\": [\"56\"], \"xaxis\": \"x\", \"y\": [3417.72], \"yaxis\": \"y\", \"type\": \"scatter\"}, {\"customdata\": [[\"State Bank of India\"], [\"ICICI Bank\"]], \"hoverlabel\": {\"namelength\": 0}, \"hovertemplate\": \"country=India<br>year=2008<br>rank=%{x}<br>value=%{marker.size}<br>name=%{customdata[0]}\", \"legendgroup\": \"country=India\", \"marker\": {\"color\": \"#FF6692\", \"size\": [2852.34, 2602.8], \"sizemode\": \"area\", \"sizeref\": 199.5566, \"symbol\": \"circle\"}, \"mode\": \"markers\", \"name\": \"country=India\", \"showlegend\": true, \"x\": [\"60\", \"64\"], \"xaxis\": \"x\", \"y\": [2852.34, 2602.8], \"yaxis\": \"y\", \"type\": \"scatter\"}, {\"customdata\": [[\"BANK OF IRELAND\"], [\"AIB\"]], \"hoverlabel\": {\"namelength\": 0}, \"hovertemplate\": \"country=Ireland<br>year=2008<br>rank=%{x}<br>value=%{marker.size}<br>name=%{customdata[0]}\", \"legendgroup\": \"country=Ireland\", \"marker\": {\"color\": \"#B6E880\", \"size\": [2765.14, 2472.72], \"sizemode\": \"area\", \"sizeref\": 199.5566, \"symbol\": \"circle\"}, \"mode\": \"markers\", \"name\": \"country=Ireland\", \"showlegend\": true, \"x\": [\"61\", \"69\"], \"xaxis\": \"x\", \"y\": [2765.14, 2472.72], \"yaxis\": \"y\", \"type\": \"scatter\"}, {\"customdata\": [[\"OTP Bank\"]], \"hoverlabel\": {\"namelength\": 0}, \"hovertemplate\": \"country=Hungary<br>year=2008<br>rank=%{x}<br>value=%{marker.size}<br>name=%{customdata[0]}\", \"legendgroup\": \"country=Hungary\", \"marker\": {\"color\": \"#FF97FF\", \"size\": [2496.11], \"sizemode\": \"area\", \"sizeref\": 199.5566, \"symbol\": \"circle\"}, \"mode\": \"markers\", \"name\": \"country=Hungary\", \"showlegend\": true, \"x\": [\"67\"], \"xaxis\": \"x\", \"y\": [2496.11], \"yaxis\": \"y\", \"type\": \"scatter\"}, {\"customdata\": [[\"Bank Austria\"], [\"Erste Bank\"]], \"hoverlabel\": {\"namelength\": 0}, \"hovertemplate\": \"country=Austria<br>year=2008<br>rank=%{x}<br>value=%{marker.size}<br>name=%{customdata[0]}\", \"legendgroup\": \"country=Austria\", \"marker\": {\"color\": \"#FECB52\", \"size\": [2478.26, 2371.01], \"sizemode\": \"area\", \"sizeref\": 199.5566, \"symbol\": \"circle\"}, \"mode\": \"markers\", \"name\": \"country=Austria\", \"showlegend\": true, \"x\": [\"68\", \"71\"], \"xaxis\": \"x\", \"y\": [2478.26, 2371.01], \"yaxis\": \"y\", \"type\": \"scatter\"}, {\"customdata\": [[\"Sampo\"]], \"hoverlabel\": {\"namelength\": 0}, \"hovertemplate\": \"country=Finland<br>year=2008<br>rank=%{x}<br>value=%{marker.size}<br>name=%{customdata[0]}\", \"legendgroup\": \"country=Finland\", \"marker\": {\"color\": \"#636efa\", \"size\": [2437.37], \"sizemode\": \"area\", \"sizeref\": 199.5566, \"symbol\": \"circle\"}, \"mode\": \"markers\", \"name\": \"country=Finland\", \"showlegend\": true, \"x\": [\"70\"], \"xaxis\": \"x\", \"y\": [2437.37], \"yaxis\": \"y\", \"type\": \"scatter\"}, {\"customdata\": [[\"First National Bank\"], [\"Standard Bank\"], [\"ABSA\"]], \"hoverlabel\": {\"namelength\": 0}, \"hovertemplate\": \"country=South Africa<br>year=2008<br>rank=%{x}<br>value=%{marker.size}<br>name=%{customdata[0]}\", \"legendgroup\": \"country=South Africa\", \"marker\": {\"color\": \"#EF553B\", \"size\": [2357.57, 2238.56, 1996.25], \"sizemode\": \"area\", \"sizeref\": 199.5566, \"symbol\": \"circle\"}, \"mode\": \"markers\", \"name\": \"country=South Africa\", \"showlegend\": true, \"x\": [\"72\", \"74\", \"81\"], \"xaxis\": \"x\", \"y\": [2357.57, 2238.56, 1996.25], \"yaxis\": \"y\", \"type\": \"scatter\"}, {\"customdata\": [[\"National Bank of Greece\"]], \"hoverlabel\": {\"namelength\": 0}, \"hovertemplate\": \"country=Greece<br>year=2008<br>rank=%{x}<br>value=%{marker.size}<br>name=%{customdata[0]}\", \"legendgroup\": \"country=Greece\", \"marker\": {\"color\": \"#00cc96\", \"size\": [1915.84], \"sizemode\": \"area\", \"sizeref\": 199.5566, \"symbol\": \"circle\"}, \"mode\": \"markers\", \"name\": \"country=Greece\", \"showlegend\": true, \"x\": [\"85\"], \"xaxis\": \"x\", \"y\": [1915.84], \"yaxis\": \"y\", \"type\": \"scatter\"}, {\"customdata\": [[\"KB Kookmin Bank\"], [\"Shinhan Financial Group\"]], \"hoverlabel\": {\"namelength\": 0}, \"hovertemplate\": \"country=South Korea<br>year=2008<br>rank=%{x}<br>value=%{marker.size}<br>name=%{customdata[0]}\", \"legendgroup\": \"country=South Korea\", \"marker\": {\"color\": \"#ab63fa\", \"size\": [1880.99, 1800.31], \"sizemode\": \"area\", \"sizeref\": 199.5566, \"symbol\": \"circle\"}, \"mode\": \"markers\", \"name\": \"country=South Korea\", \"showlegend\": true, \"x\": [\"88\", \"91\"], \"xaxis\": \"x\", \"y\": [1880.99, 1800.31], \"yaxis\": \"y\", \"type\": \"scatter\"}, {\"customdata\": [[\"FUBON FINANCIAL\"]], \"hoverlabel\": {\"namelength\": 0}, \"hovertemplate\": \"country=China (Taiwan)<br>year=2008<br>rank=%{x}<br>value=%{marker.size}<br>name=%{customdata[0]}\", \"legendgroup\": \"country=China (Taiwan)\", \"marker\": {\"color\": \"#FFA15A\", \"size\": [1610.6], \"sizemode\": \"area\", \"sizeref\": 199.5566, \"symbol\": \"circle\"}, \"mode\": \"markers\", \"name\": \"country=China (Taiwan)\", \"showlegend\": true, \"x\": [\"99\"], \"xaxis\": \"x\", \"y\": [1610.6], \"yaxis\": \"y\", \"type\": \"scatter\"}], \"name\": \"2008\"}, {\"data\": [{\"customdata\": [[\"HSBC\"], [\"Barclays\"], [\"Standard Chartered\"], [\"Lloyds TSB\"], [\"Royal Bank of Scotland\"], [\"Halifax\"], [\"NatWest\"], [\"Scottish Widows\"], [\"Bank of Scotland\"]], \"hoverlabel\": {\"namelength\": 0}, \"hovertemplate\": \"country=United Kingdom<br>year=2009<br>rank=%{x}<br>value=%{marker.size}<br>name=%{customdata[0]}\", \"legendgroup\": \"country=United Kingdom\", \"marker\": {\"color\": \"#636efa\", \"size\": [25364.17, 7582.58, 4779.99, 2646.32, 2584.24, 1299.18, 1262.65, 1188.91, 1075.02], \"sizemode\": \"area\", \"sizeref\": 199.5566, \"symbol\": \"circle\"}, \"mode\": \"markers\", \"name\": \"country=United Kingdom\", \"showlegend\": true, \"x\": [\"1\", \"14\", \"24\", \"40\", \"42\", \"80\", \"83\", \"88\", \"97\"], \"xaxis\": \"x\", \"y\": [25364.17, 7582.58, 4779.99, 2646.32, 2584.24, 1299.18, 1262.65, 1188.91, 1075.02], \"yaxis\": \"y\", \"type\": \"scatter\"}, {\"customdata\": [[\"Bank of America\"], [\"Wells Fargo\"], [\"American Express\"], [\"Citi\"], [\"Chase\"], [\"JPMorgan\"], [\"Goldman Sachs\"], [\"Morgan Stanley\"], [\"U.S. Bank\"], [\"Capital One\"], [\"VISA\"], [\"The Bank of New York Mellon\"], [\"MasterCard\"], [\"State Street\"], [\"PNC\"], [\"SunTrust\"], [\"Merrill Lynch\"], [\"LaSalle\"], [\"BB&T\"], [\"JPMorganChase\"], [\"Wachovia\"], [\"Regions\"], [\"Blackstone\"], [\"National City\"], [\"Ameriprise Financial\"], [\"Western Union\"], [\"Discover\"]], \"hoverlabel\": {\"namelength\": 0}, \"hovertemplate\": \"country=United States<br>year=2009<br>rank=%{x}<br>value=%{marker.size}<br>name=%{customdata[0]}\", \"legendgroup\": \"country=United States\", \"marker\": {\"color\": \"#EF553B\", \"size\": [21017.43, 14507.95, 9944.48, 9809.59, 8746.5, 8071.69, 6752.7, 4775.17, 2932.55, 2913.27, 2874.58, 2114.6, 2055.9, 1952.89, 1752.14, 1721.07, 1682.48, 1583.94, 1546.49, 1537.91, 1319.16, 1190.69, 1155.25, 1140.47, 1081.97, 1052.89, 1043.3], \"sizemode\": \"area\", \"sizeref\": 199.5566, \"symbol\": \"circle\"}, \"mode\": \"markers\", \"name\": \"country=United States\", \"showlegend\": true, \"x\": [\"2\", \"3\", \"6\", \"7\", \"10\", \"11\", \"17\", \"25\", \"33\", \"34\", \"35\", \"49\", \"50\", \"52\", \"60\", \"62\", \"63\", \"65\", \"66\", \"67\", \"77\", \"87\", \"91\", \"92\", \"96\", \"99\", \"100\"], \"xaxis\": \"x\", \"y\": [21017.43, 14507.95, 9944.48, 9809.59, 8746.5, 8071.69, 6752.7, 4775.17, 2932.55, 2913.27, 2874.58, 2114.6, 2055.9, 1952.89, 1752.14, 1721.07, 1682.48, 1583.94, 1546.49, 1537.91, 1319.16, 1190.69, 1155.25, 1140.47, 1081.97, 1052.89, 1043.3], \"yaxis\": \"y\", \"type\": \"scatter\"}, {\"customdata\": [[\"Santander\"], [\"BBVA\"], [\"\\\"la Caixa\\\"\"]], \"hoverlabel\": {\"namelength\": 0}, \"hovertemplate\": \"country=Spain<br>year=2009<br>rank=%{x}<br>value=%{marker.size}<br>name=%{customdata[0]}\", \"legendgroup\": \"country=Spain\", \"marker\": {\"color\": \"#00cc96\", \"size\": [10839.71, 6007.54, 1777.69], \"sizemode\": \"area\", \"sizeref\": 199.5566, \"symbol\": \"circle\"}, \"mode\": \"markers\", \"name\": \"country=Spain\", \"showlegend\": true, \"x\": [\"4\", \"19\", \"58\"], \"xaxis\": \"x\", \"y\": [10839.71, 6007.54, 1777.69], \"yaxis\": \"y\", \"type\": \"scatter\"}, {\"customdata\": [[\"BNP Paribas\"], [\"Soci\\u00e9t\\u00e9 G\\u00e9n\\u00e9rale\"], [\"Cr\\u00e9dit Mutuel\"], [\"Cr\\u00e9dit Agricole\"], [\"Groupe Caisse d'Epargne\"], [\"Banque Populaire\"], [\"Natixis\"], [\"CIC\"], [\"LCL (Credit Lyonnais)\"]], \"hoverlabel\": {\"namelength\": 0}, \"hovertemplate\": \"country=France<br>year=2009<br>rank=%{x}<br>value=%{marker.size}<br>name=%{customdata[0]}\", \"legendgroup\": \"country=France\", \"marker\": {\"color\": \"#ab63fa\", \"size\": [9360.48, 5852.23, 2788.88, 2742.77, 2446.0, 2012.52, 1753.49, 1226.27, 1161.06], \"sizemode\": \"area\", \"sizeref\": 199.5566, \"symbol\": \"circle\"}, \"mode\": \"markers\", \"name\": \"country=France\", \"showlegend\": true, \"x\": [\"8\", \"20\", \"37\", \"38\", \"44\", \"51\", \"59\", \"85\", \"90\"], \"xaxis\": \"x\", \"y\": [9360.48, 5852.23, 2788.88, 2742.77, 2446.0, 2012.52, 1753.49, 1226.27, 1161.06], \"yaxis\": \"y\", \"type\": \"scatter\"}, {\"customdata\": [[\"Credit Suisse\"], [\"UBS\"]], \"hoverlabel\": {\"namelength\": 0}, \"hovertemplate\": \"country=Switzerland<br>year=2009<br>rank=%{x}<br>value=%{marker.size}<br>name=%{customdata[0]}\", \"legendgroup\": \"country=Switzerland\", \"marker\": {\"color\": \"#FFA15A\", \"size\": [7668.2, 7568.0], \"sizemode\": \"area\", \"sizeref\": 199.5566, \"symbol\": \"circle\"}, \"mode\": \"markers\", \"name\": \"country=Switzerland\", \"showlegend\": true, \"x\": [\"13\", \"15\"], \"xaxis\": \"x\", \"y\": [7668.2, 7568.0], \"yaxis\": \"y\", \"type\": \"scatter\"}, {\"customdata\": [[\"Rabobank\"]], \"hoverlabel\": {\"namelength\": 0}, \"hovertemplate\": \"country=Netherlands<br>year=2009<br>rank=%{x}<br>value=%{marker.size}<br>name=%{customdata[0]}\", \"legendgroup\": \"country=Netherlands\", \"marker\": {\"color\": \"#19d3f3\", \"size\": [2623.82], \"sizemode\": \"area\", \"sizeref\": 199.5566, \"symbol\": \"circle\"}, \"mode\": \"markers\", \"name\": \"country=Netherlands\", \"showlegend\": true, \"x\": [\"41\"], \"xaxis\": \"x\", \"y\": [2623.82], \"yaxis\": \"y\", \"type\": \"scatter\"}, {\"customdata\": [[\"Deutsche Bank\"], [\"DZ BANK\"], [\"Commerzbank\"], [\"Dresdner Bank\"]], \"hoverlabel\": {\"namelength\": 0}, \"hovertemplate\": \"country=Germany<br>year=2009<br>rank=%{x}<br>value=%{marker.size}<br>name=%{customdata[0]}\", \"legendgroup\": \"country=Germany\", \"marker\": {\"color\": \"#FF6692\", \"size\": [6702.5, 4474.75, 1737.79, 1172.1], \"sizemode\": \"area\", \"sizeref\": 199.5566, \"symbol\": \"circle\"}, \"mode\": \"markers\", \"name\": \"country=Germany\", \"showlegend\": true, \"x\": [\"18\", \"27\", \"61\", \"89\"], \"xaxis\": \"x\", \"y\": [6702.5, 4474.75, 1737.79, 1172.1], \"yaxis\": \"y\", \"type\": \"scatter\"}, {\"customdata\": [[\"ICBC\"], [\"China Construction Bank\"], [\"Bank of China\"], [\"Bank of Communications\"], [\"China Merchants Bank\"]], \"hoverlabel\": {\"namelength\": 0}, \"hovertemplate\": \"country=China<br>year=2009<br>rank=%{x}<br>value=%{marker.size}<br>name=%{customdata[0]}\", \"legendgroup\": \"country=China\", \"marker\": {\"color\": \"#B6E880\", \"size\": [10030.96, 9023.65, 7052.78, 2297.1, 1361.51], \"sizemode\": \"area\", \"sizeref\": 199.5566, \"symbol\": \"circle\"}, \"mode\": \"markers\", \"name\": \"country=China\", \"showlegend\": true, \"x\": [\"5\", \"9\", \"16\", \"47\", \"74\"], \"xaxis\": \"x\", \"y\": [10030.96, 9023.65, 7052.78, 2297.1, 1361.51], \"yaxis\": \"y\", \"type\": \"scatter\"}, {\"customdata\": [[\"Intesa Sanpaolo\"], [\"UniCredit\"]], \"hoverlabel\": {\"namelength\": 0}, \"hovertemplate\": \"country=Italy<br>year=2009<br>rank=%{x}<br>value=%{marker.size}<br>name=%{customdata[0]}\", \"legendgroup\": \"country=Italy\", \"marker\": {\"color\": \"#FF97FF\", \"size\": [5759.72, 3102.87], \"sizemode\": \"area\", \"sizeref\": 199.5566, \"symbol\": \"circle\"}, \"mode\": \"markers\", \"name\": \"country=Italy\", \"showlegend\": true, \"x\": [\"21\", \"31\"], \"xaxis\": \"x\", \"y\": [5759.72, 3102.87], \"yaxis\": \"y\", \"type\": \"scatter\"}, {\"customdata\": [[\"National Australia Bank\"], [\"Commonwealth Bank of Australia\"], [\"Westpac\"], [\"ANZ\"], [\"St George Bank\"]], \"hoverlabel\": {\"namelength\": 0}, \"hovertemplate\": \"country=Australia<br>year=2009<br>rank=%{x}<br>value=%{marker.size}<br>name=%{customdata[0]}\", \"legendgroup\": \"country=Australia\", \"marker\": {\"color\": \"#FECB52\", \"size\": [2673.41, 2381.03, 1935.96, 1883.0, 1069.4], \"sizemode\": \"area\", \"sizeref\": 199.5566, \"symbol\": \"circle\"}, \"mode\": \"markers\", \"name\": \"country=Australia\", \"showlegend\": true, \"x\": [\"39\", \"45\", \"53\", \"56\", \"98\"], \"xaxis\": \"x\", \"y\": [2673.41, 2381.03, 1935.96, 1883.0, 1069.4], \"yaxis\": \"y\", \"type\": \"scatter\"}, {\"customdata\": [[\"RBC\"], [\"TD Bank\"], [\"Scotiabank\"], [\"BMO\"], [\"CIBC\"]], \"hoverlabel\": {\"namelength\": 0}, \"hovertemplate\": \"country=Canada<br>year=2009<br>rank=%{x}<br>value=%{marker.size}<br>name=%{customdata[0]}\", \"legendgroup\": \"country=Canada\", \"marker\": {\"color\": \"#636efa\", \"size\": [4370.36, 3257.23, 2321.05, 1929.89, 1890.62], \"sizemode\": \"area\", \"sizeref\": 199.5566, \"symbol\": \"circle\"}, \"mode\": \"markers\", \"name\": \"country=Canada\", \"showlegend\": true, \"x\": [\"28\", \"30\", \"46\", \"54\", \"55\"], \"xaxis\": \"x\", \"y\": [4370.36, 3257.23, 2321.05, 1929.89, 1890.62], \"yaxis\": \"y\", \"type\": \"scatter\"}, {\"customdata\": [[\"KBC\"], [\"Dexia\"]], \"hoverlabel\": {\"namelength\": 0}, \"hovertemplate\": \"country=Belgium<br>year=2009<br>rank=%{x}<br>value=%{marker.size}<br>name=%{customdata[0]}\", \"legendgroup\": \"country=Belgium\", \"marker\": {\"color\": \"#EF553B\", \"size\": [1657.93, 1448.12], \"sizemode\": \"area\", \"sizeref\": 199.5566, \"symbol\": \"circle\"}, \"mode\": \"markers\", \"name\": \"country=Belgium\", \"showlegend\": true, \"x\": [\"64\", \"69\"], \"xaxis\": \"x\", \"y\": [1657.93, 1448.12], \"yaxis\": \"y\", \"type\": \"scatter\"}, {\"customdata\": [[\"MUFG\"], [\"SMFG\"], [\"Mizuho\"], [\"Resona Bank\"]], \"hoverlabel\": {\"namelength\": 0}, \"hovertemplate\": \"country=Japan<br>year=2009<br>rank=%{x}<br>value=%{marker.size}<br>name=%{customdata[0]}\", \"legendgroup\": \"country=Japan\", \"marker\": {\"color\": \"#00cc96\", \"size\": [5444.54, 3427.83, 3065.08, 1338.29], \"sizemode\": \"area\", \"sizeref\": 199.5566, \"symbol\": \"circle\"}, \"mode\": \"markers\", \"name\": \"country=Japan\", \"showlegend\": true, \"x\": [\"23\", \"29\", \"32\", \"75\"], \"xaxis\": \"x\", \"y\": [5444.54, 3427.83, 3065.08, 1338.29], \"yaxis\": \"y\", \"type\": \"scatter\"}, {\"customdata\": [[\"Bradesco\"], [\"Banco Ita\\u00fa\"], [\"Banco do Brasil\"], [\"Unibanco\"]], \"hoverlabel\": {\"namelength\": 0}, \"hovertemplate\": \"country=Brazil<br>year=2009<br>rank=%{x}<br>value=%{marker.size}<br>name=%{customdata[0]}\", \"legendgroup\": \"country=Brazil\", \"marker\": {\"color\": \"#ab63fa\", \"size\": [7698.39, 5592.72, 2864.05, 1519.51], \"sizemode\": \"area\", \"sizeref\": 199.5566, \"symbol\": \"circle\"}, \"mode\": \"markers\", \"name\": \"country=Brazil\", \"showlegend\": true, \"x\": [\"12\", \"22\", \"36\", \"68\"], \"xaxis\": \"x\", \"y\": [7698.39, 5592.72, 2864.05, 1519.51], \"yaxis\": \"y\", \"type\": \"scatter\"}, {\"customdata\": [[\"Nordea\"], [\"SEB\"]], \"hoverlabel\": {\"namelength\": 0}, \"hovertemplate\": \"country=Sweden<br>year=2009<br>rank=%{x}<br>value=%{marker.size}<br>name=%{customdata[0]}\", \"legendgroup\": \"country=Sweden\", \"marker\": {\"color\": \"#FFA15A\", \"size\": [2528.09, 1125.06], \"sizemode\": \"area\", \"sizeref\": 199.5566, \"symbol\": \"circle\"}, \"mode\": \"markers\", \"name\": \"country=Sweden\", \"showlegend\": true, \"x\": [\"43\", \"93\"], \"xaxis\": \"x\", \"y\": [2528.09, 1125.06], \"yaxis\": \"y\", \"type\": \"scatter\"}, {\"customdata\": [[\"Sberbank\"], [\"VTB\"]], \"hoverlabel\": {\"namelength\": 0}, \"hovertemplate\": \"country=Russia<br>year=2009<br>rank=%{x}<br>value=%{marker.size}<br>name=%{customdata[0]}\", \"legendgroup\": \"country=Russia\", \"marker\": {\"color\": \"#19d3f3\", \"size\": [4530.63, 1329.22], \"sizemode\": \"area\", \"sizeref\": 199.5566, \"symbol\": \"circle\"}, \"mode\": \"markers\", \"name\": \"country=Russia\", \"showlegend\": true, \"x\": [\"26\", \"76\"], \"xaxis\": \"x\", \"y\": [4530.63, 1329.22], \"yaxis\": \"y\", \"type\": \"scatter\"}, {\"customdata\": [[\"State Bank of India\"]], \"hoverlabel\": {\"namelength\": 0}, \"hovertemplate\": \"country=India<br>year=2009<br>rank=%{x}<br>value=%{marker.size}<br>name=%{customdata[0]}\", \"legendgroup\": \"country=India\", \"marker\": {\"color\": \"#FF6692\", \"size\": [1447.74], \"sizemode\": \"area\", \"sizeref\": 199.5566, \"symbol\": \"circle\"}, \"mode\": \"markers\", \"name\": \"country=India\", \"showlegend\": true, \"x\": [\"70\"], \"xaxis\": \"x\", \"y\": [1447.74], \"yaxis\": \"y\", \"type\": \"scatter\"}, {\"customdata\": [[\"ERSTE\"], [\"Raiffeisen Bank\"]], \"hoverlabel\": {\"namelength\": 0}, \"hovertemplate\": \"country=Austria<br>year=2009<br>rank=%{x}<br>value=%{marker.size}<br>name=%{customdata[0]}\", \"legendgroup\": \"country=Austria\", \"marker\": {\"color\": \"#FECB52\", \"size\": [1869.59, 1303.19], \"sizemode\": \"area\", \"sizeref\": 199.5566, \"symbol\": \"circle\"}, \"mode\": \"markers\", \"name\": \"country=Austria\", \"showlegend\": true, \"x\": [\"57\", \"78\"], \"xaxis\": \"x\", \"y\": [1869.59, 1303.19], \"yaxis\": \"y\", \"type\": \"scatter\"}, {\"customdata\": [[\"FNB\"], [\"Standard Bank\"], [\"ABSA\"]], \"hoverlabel\": {\"namelength\": 0}, \"hovertemplate\": \"country=South Africa<br>year=2009<br>rank=%{x}<br>value=%{marker.size}<br>name=%{customdata[0]}\", \"legendgroup\": \"country=South Africa\", \"marker\": {\"color\": \"#EF553B\", \"size\": [1368.92, 1282.26, 1102.45], \"sizemode\": \"area\", \"sizeref\": 199.5566, \"symbol\": \"circle\"}, \"mode\": \"markers\", \"name\": \"country=South Africa\", \"showlegend\": true, \"x\": [\"72\", \"82\", \"95\"], \"xaxis\": \"x\", \"y\": [1368.92, 1282.26, 1102.45], \"yaxis\": \"y\", \"type\": \"scatter\"}, {\"customdata\": [[\"National Bank of Greece\"]], \"hoverlabel\": {\"namelength\": 0}, \"hovertemplate\": \"country=Greece<br>year=2009<br>rank=%{x}<br>value=%{marker.size}<br>name=%{customdata[0]}\", \"legendgroup\": \"country=Greece\", \"marker\": {\"color\": \"#00cc96\", \"size\": [1243.71], \"sizemode\": \"area\", \"sizeref\": 199.5566, \"symbol\": \"circle\"}, \"mode\": \"markers\", \"name\": \"country=Greece\", \"showlegend\": true, \"x\": [\"84\"], \"xaxis\": \"x\", \"y\": [1243.71], \"yaxis\": \"y\", \"type\": \"scatter\"}, {\"customdata\": [[\"Shinhan Bank\"]], \"hoverlabel\": {\"namelength\": 0}, \"hovertemplate\": \"country=South Korea<br>year=2009<br>rank=%{x}<br>value=%{marker.size}<br>name=%{customdata[0]}\", \"legendgroup\": \"country=South Korea\", \"marker\": {\"color\": \"#ab63fa\", \"size\": [2225.66], \"sizemode\": \"area\", \"sizeref\": 199.5566, \"symbol\": \"circle\"}, \"mode\": \"markers\", \"name\": \"country=South Korea\", \"showlegend\": true, \"x\": [\"48\"], \"xaxis\": \"x\", \"y\": [2225.66], \"yaxis\": \"y\", \"type\": \"scatter\"}, {\"customdata\": [[\"Danske Bank\"]], \"hoverlabel\": {\"namelength\": 0}, \"hovertemplate\": \"country=Denmark<br>year=2009<br>rank=%{x}<br>value=%{marker.size}<br>name=%{customdata[0]}\", \"legendgroup\": \"country=Denmark\", \"marker\": {\"color\": \"#19d3f3\", \"size\": [1412.26], \"sizemode\": \"area\", \"sizeref\": 199.5566, \"symbol\": \"circle\"}, \"mode\": \"markers\", \"name\": \"country=Denmark\", \"showlegend\": true, \"x\": [\"71\"], \"xaxis\": \"x\", \"y\": [1412.26], \"yaxis\": \"y\", \"type\": \"scatter\"}, {\"customdata\": [[\"DBS\"]], \"hoverlabel\": {\"namelength\": 0}, \"hovertemplate\": \"country=Singapore<br>year=2009<br>rank=%{x}<br>value=%{marker.size}<br>name=%{customdata[0]}\", \"legendgroup\": \"country=Singapore\", \"marker\": {\"color\": \"#FF6692\", \"size\": [1362.43], \"sizemode\": \"area\", \"sizeref\": 199.5566, \"symbol\": \"circle\"}, \"mode\": \"markers\", \"name\": \"country=Singapore\", \"showlegend\": true, \"x\": [\"73\"], \"xaxis\": \"x\", \"y\": [1362.43], \"yaxis\": \"y\", \"type\": \"scatter\"}, {\"customdata\": [[\"Caixa Geral de Dep\\u00f3sitos\"]], \"hoverlabel\": {\"namelength\": 0}, \"hovertemplate\": \"country=Portugal<br>year=2009<br>rank=%{x}<br>value=%{marker.size}<br>name=%{customdata[0]}\", \"legendgroup\": \"country=Portugal\", \"marker\": {\"color\": \"#B6E880\", \"size\": [1300.4], \"sizemode\": \"area\", \"sizeref\": 199.5566, \"symbol\": \"circle\"}, \"mode\": \"markers\", \"name\": \"country=Portugal\", \"showlegend\": true, \"x\": [\"79\"], \"xaxis\": \"x\", \"y\": [1300.4], \"yaxis\": \"y\", \"type\": \"scatter\"}, {\"customdata\": [[\"Bank of China (Hong Kong)\"], [\"Hang Seng Bank\"]], \"hoverlabel\": {\"namelength\": 0}, \"hovertemplate\": \"country=China (Hong Kong)<br>year=2009<br>rank=%{x}<br>value=%{marker.size}<br>name=%{customdata[0]}\", \"legendgroup\": \"country=China (Hong Kong)\", \"marker\": {\"color\": \"#FF97FF\", \"size\": [1289.84, 1104.24], \"sizemode\": \"area\", \"sizeref\": 199.5566, \"symbol\": \"circle\"}, \"mode\": \"markers\", \"name\": \"country=China (Hong Kong)\", \"showlegend\": true, \"x\": [\"81\", \"94\"], \"xaxis\": \"x\", \"y\": [1289.84, 1104.24], \"yaxis\": \"y\", \"type\": \"scatter\"}, {\"customdata\": [[\"Isbank\"]], \"hoverlabel\": {\"namelength\": 0}, \"hovertemplate\": \"country=Turkey<br>year=2009<br>rank=%{x}<br>value=%{marker.size}<br>name=%{customdata[0]}\", \"legendgroup\": \"country=Turkey\", \"marker\": {\"color\": \"#FECB52\", \"size\": [1208.07], \"sizemode\": \"area\", \"sizeref\": 199.5566, \"symbol\": \"circle\"}, \"mode\": \"markers\", \"name\": \"country=Turkey\", \"showlegend\": true, \"x\": [\"86\"], \"xaxis\": \"x\", \"y\": [1208.07], \"yaxis\": \"y\", \"type\": \"scatter\"}], \"name\": \"2009\"}, {\"data\": [{\"customdata\": [[\"HSBC\"], [\"Barclays\"], [\"Standard Chartered\"], [\"Royal Bank of Scotland\"], [\"Lloyds\"], [\"Halifax\"]], \"hoverlabel\": {\"namelength\": 0}, \"hovertemplate\": \"country=United Kingdom<br>year=2010<br>rank=%{x}<br>value=%{marker.size}<br>name=%{customdata[0]}\", \"legendgroup\": \"country=United Kingdom\", \"marker\": {\"color\": \"#636efa\", \"size\": [28472.15, 13133.71, 7332.49, 2837.69, 2594.84, 1737.64], \"sizemode\": \"area\", \"sizeref\": 199.5566, \"symbol\": \"circle\"}, \"mode\": \"markers\", \"name\": \"country=United Kingdom\", \"showlegend\": true, \"x\": [\"1\", \"10\", \"24\", \"54\", \"61\", \"83\"], \"xaxis\": \"x\", \"y\": [28472.15, 13133.71, 7332.49, 2837.69, 2594.84, 1737.64], \"yaxis\": \"y\", \"type\": \"scatter\"}, {\"customdata\": [[\"Bank of America\"], [\"WELLS FARGO\"], [\"Citi\"], [\"Goldman Sachs\"], [\"Chase\"], [\"American Express\"], [\"JP Morgan\"], [\"Morgan Stanley\"], [\"VISA\"], [\"U.S. Bank\"], [\"PNC\"], [\"MasterCard\"], [\"Capital One\"], [\"Merrill Lynch\"], [\"State Street\"], [\"The Bank of New York Mellon\"], [\"BB&T\"], [\"Blackstone\"], [\"Franklin Templeton Investments\"], [\"SunTrust\"], [\"Discover\"], [\"JPMorganChase\"], [\"BlackRock\"], [\"Western Union\"], [\"Ameriprise Financial\"]], \"hoverlabel\": {\"namelength\": 0}, \"hovertemplate\": \"country=United States<br>year=2010<br>rank=%{x}<br>value=%{marker.size}<br>name=%{customdata[0]}\", \"legendgroup\": \"country=United States\", \"marker\": {\"color\": \"#EF553B\", \"size\": [26046.91, 21915.51, 14362.35, 13886.94, 13399.83, 12737.04, 11732.33, 7907.13, 5036.82, 3777.37, 3382.88, 3185.74, 2757.96, 2693.84, 2598.17, 2476.54, 2056.16, 1996.8, 1908.1, 1723.62, 1689.82, 1606.92, 1579.67, 1542.21, 1497.61], \"sizemode\": \"area\", \"sizeref\": 199.5566, \"symbol\": \"circle\"}, \"mode\": \"markers\", \"name\": \"country=United States\", \"showlegend\": true, \"x\": [\"2\", \"4\", \"5\", \"7\", \"8\", \"11\", \"14\", \"23\", \"33\", \"39\", \"43\", \"48\", \"57\", \"58\", \"60\", \"64\", \"70\", \"72\", \"75\", \"84\", \"87\", \"90\", \"91\", \"93\", \"98\"], \"xaxis\": \"x\", \"y\": [26046.91, 21915.51, 14362.35, 13886.94, 13399.83, 12737.04, 11732.33, 7907.13, 5036.82, 3777.37, 3382.88, 3185.74, 2757.96, 2693.84, 2598.17, 2476.54, 2056.16, 1996.8, 1908.1, 1723.62, 1689.82, 1606.92, 1579.67, 1542.21, 1497.61], \"yaxis\": \"y\", \"type\": \"scatter\"}, {\"customdata\": [[\"Santander\"], [\"BBVA\"], [\"\\\"la Caixa\\\"\"], [\"Criteria CaixaCorp\"]], \"hoverlabel\": {\"namelength\": 0}, \"hovertemplate\": \"country=Spain<br>year=2010<br>rank=%{x}<br>value=%{marker.size}<br>name=%{customdata[0]}\", \"legendgroup\": \"country=Spain\", \"marker\": {\"color\": \"#00cc96\", \"size\": [25576.48, 10727.47, 3189.0, 1691.6], \"sizemode\": \"area\", \"sizeref\": 199.5566, \"symbol\": \"circle\"}, \"mode\": \"markers\", \"name\": \"country=Spain\", \"showlegend\": true, \"x\": [\"3\", \"17\", \"47\", \"86\"], \"xaxis\": \"x\", \"y\": [25576.48, 10727.47, 3189.0, 1691.6], \"yaxis\": \"y\", \"type\": \"scatter\"}, {\"customdata\": [[\"BNP Paribas\"], [\"Soci\\u00e9t\\u00e9 G\\u00e9n\\u00e9rale\"], [\"Cr\\u00e9dit Agricole\"], [\"Groupe Banque Populaire\"], [\"Groupe Caisse d'Epargne\"], [\"Cr\\u00e9dit mutuel\"], [\"Natixis\"], [\"LCL\"], [\"CLSA\"], [\"CIC\"], [\"Calyon\"]], \"hoverlabel\": {\"namelength\": 0}, \"hovertemplate\": \"country=France<br>year=2010<br>rank=%{x}<br>value=%{marker.size}<br>name=%{customdata[0]}\", \"legendgroup\": \"country=France\", \"marker\": {\"color\": \"#ab63fa\", \"size\": [14059.82, 11580.24, 4616.78, 2998.29, 2996.07, 2955.46, 2614.94, 1718.33, 1523.47, 1500.79, 1478.25], \"sizemode\": \"area\", \"sizeref\": 199.5566, \"symbol\": \"circle\"}, \"mode\": \"markers\", \"name\": \"country=France\", \"showlegend\": true, \"x\": [\"6\", \"16\", \"35\", \"49\", \"50\", \"51\", \"59\", \"85\", \"94\", \"97\", \"100\"], \"xaxis\": \"x\", \"y\": [14059.82, 11580.24, 4616.78, 2998.29, 2996.07, 2955.46, 2614.94, 1718.33, 1523.47, 1500.79, 1478.25], \"yaxis\": \"y\", \"type\": \"scatter\"}, {\"customdata\": [[\"Credit Suisse\"], [\"UBS\"]], \"hoverlabel\": {\"namelength\": 0}, \"hovertemplate\": \"country=Switzerland<br>year=2010<br>rank=%{x}<br>value=%{marker.size}<br>name=%{customdata[0]}\", \"legendgroup\": \"country=Switzerland\", \"marker\": {\"color\": \"#FFA15A\", \"size\": [8430.03, 8261.11], \"sizemode\": \"area\", \"sizeref\": 199.5566, \"symbol\": \"circle\"}, \"mode\": \"markers\", \"name\": \"country=Switzerland\", \"showlegend\": true, \"x\": [\"20\", \"22\"], \"xaxis\": \"x\", \"y\": [8430.03, 8261.11], \"yaxis\": \"y\", \"type\": \"scatter\"}, {\"customdata\": [[\"Rabobank\"]], \"hoverlabel\": {\"namelength\": 0}, \"hovertemplate\": \"country=Netherlands<br>year=2010<br>rank=%{x}<br>value=%{marker.size}<br>name=%{customdata[0]}\", \"legendgroup\": \"country=Netherlands\", \"marker\": {\"color\": \"#19d3f3\", \"size\": [5627.14], \"sizemode\": \"area\", \"sizeref\": 199.5566, \"symbol\": \"circle\"}, \"mode\": \"markers\", \"name\": \"country=Netherlands\", \"showlegend\": true, \"x\": [\"29\"], \"xaxis\": \"x\", \"y\": [5627.14], \"yaxis\": \"y\", \"type\": \"scatter\"}, {\"customdata\": [[\"Deutsche Bank\"], [\"DZ BANK\"], [\"Commerzbank\"]], \"hoverlabel\": {\"namelength\": 0}, \"hovertemplate\": \"country=Germany<br>year=2010<br>rank=%{x}<br>value=%{marker.size}<br>name=%{customdata[0]}\", \"legendgroup\": \"country=Germany\", \"marker\": {\"color\": \"#FF6692\", \"size\": [9862.18, 4953.16, 3520.8], \"sizemode\": \"area\", \"sizeref\": 199.5566, \"symbol\": \"circle\"}, \"mode\": \"markers\", \"name\": \"country=Germany\", \"showlegend\": true, \"x\": [\"18\", \"34\", \"40\"], \"xaxis\": \"x\", \"y\": [9862.18, 4953.16, 3520.8], \"yaxis\": \"y\", \"type\": \"scatter\"}, {\"customdata\": [[\"ICBC\"], [\"China Construction Bank\"], [\"Bank of China\"], [\"Agricultural Bank of China\"], [\"Bank of Communications\"], [\"China Merchants Bank\"], [\"Shanghai Pudong Development Bank\"], [\"China CITIC Bank\"]], \"hoverlabel\": {\"namelength\": 0}, \"hovertemplate\": \"country=China<br>year=2010<br>rank=%{x}<br>value=%{marker.size}<br>name=%{customdata[0]}\", \"legendgroup\": \"country=China\", \"marker\": {\"color\": \"#B6E880\", \"size\": [12082.77, 12076.47, 9615.32, 6031.94, 3268.52, 2212.03, 1961.82, 1865.86], \"sizemode\": \"area\", \"sizeref\": 199.5566, \"symbol\": \"circle\"}, \"mode\": \"markers\", \"name\": \"country=China\", \"showlegend\": true, \"x\": [\"12\", \"13\", \"19\", \"28\", \"45\", \"68\", \"74\", \"76\"], \"xaxis\": \"x\", \"y\": [12082.77, 12076.47, 9615.32, 6031.94, 3268.52, 2212.03, 1961.82, 1865.86], \"yaxis\": \"y\", \"type\": \"scatter\"}, {\"customdata\": [[\"UniCredit\"], [\"Intesa Sanpaolo\"], [\"Hypo Vereinsbank\"]], \"hoverlabel\": {\"namelength\": 0}, \"hovertemplate\": \"country=Italy<br>year=2010<br>rank=%{x}<br>value=%{marker.size}<br>name=%{customdata[0]}\", \"legendgroup\": \"country=Italy\", \"marker\": {\"color\": \"#FF97FF\", \"size\": [8341.95, 5505.83, 2433.52], \"sizemode\": \"area\", \"sizeref\": 199.5566, \"symbol\": \"circle\"}, \"mode\": \"markers\", \"name\": \"country=Italy\", \"showlegend\": true, \"x\": [\"21\", \"30\", \"65\"], \"xaxis\": \"x\", \"y\": [8341.95, 5505.83, 2433.52], \"yaxis\": \"y\", \"type\": \"scatter\"}, {\"customdata\": [[\"National Australia Bank\"], [\"Commonwealth Bank\"], [\"Westpac\"], [\"ANZ\"], [\"St George Bank\"], [\"Macquarie\"]], \"hoverlabel\": {\"namelength\": 0}, \"hovertemplate\": \"country=Australia<br>year=2010<br>rank=%{x}<br>value=%{marker.size}<br>name=%{customdata[0]}\", \"legendgroup\": \"country=Australia\", \"marker\": {\"color\": \"#FECB52\", \"size\": [4073.25, 3475.13, 3279.94, 2873.18, 1863.57, 1854.01], \"sizemode\": \"area\", \"sizeref\": 199.5566, \"symbol\": \"circle\"}, \"mode\": \"markers\", \"name\": \"country=Australia\", \"showlegend\": true, \"x\": [\"38\", \"41\", \"44\", \"52\", \"77\", \"79\"], \"xaxis\": \"x\", \"y\": [4073.25, 3475.13, 3279.94, 2873.18, 1863.57, 1854.01], \"yaxis\": \"y\", \"type\": \"scatter\"}, {\"customdata\": [[\"TD\"], [\"RBC\"], [\"Bank of Montreal\"], [\"Scotiabank\"], [\"CIBC\"]], \"hoverlabel\": {\"namelength\": 0}, \"hovertemplate\": \"country=Canada<br>year=2010<br>rank=%{x}<br>value=%{marker.size}<br>name=%{customdata[0]}\", \"legendgroup\": \"country=Canada\", \"marker\": {\"color\": \"#636efa\", \"size\": [5178.6, 5169.84, 2767.22, 2579.16, 2254.61], \"sizemode\": \"area\", \"sizeref\": 199.5566, \"symbol\": \"circle\"}, \"mode\": \"markers\", \"name\": \"country=Canada\", \"showlegend\": true, \"x\": [\"31\", \"32\", \"56\", \"62\", \"67\"], \"xaxis\": \"x\", \"y\": [5178.6, 5169.84, 2767.22, 2579.16, 2254.61], \"yaxis\": \"y\", \"type\": \"scatter\"}, {\"customdata\": [[\"KBC\"], [\"Dexia\"]], \"hoverlabel\": {\"namelength\": 0}, \"hovertemplate\": \"country=Belgium<br>year=2010<br>rank=%{x}<br>value=%{marker.size}<br>name=%{customdata[0]}\", \"legendgroup\": \"country=Belgium\", \"marker\": {\"color\": \"#EF553B\", \"size\": [2863.63, 1679.2], \"sizemode\": \"area\", \"sizeref\": 199.5566, \"symbol\": \"circle\"}, \"mode\": \"markers\", \"name\": \"country=Belgium\", \"showlegend\": true, \"x\": [\"53\", \"88\"], \"xaxis\": \"x\", \"y\": [2863.63, 1679.2], \"yaxis\": \"y\", \"type\": \"scatter\"}, {\"customdata\": [[\"MUFG\"], [\"SMFG\"], [\"Mizuho Group\"], [\"Nomura\"]], \"hoverlabel\": {\"namelength\": 0}, \"hovertemplate\": \"country=Japan<br>year=2010<br>rank=%{x}<br>value=%{marker.size}<br>name=%{customdata[0]}\", \"legendgroup\": \"country=Japan\", \"marker\": {\"color\": \"#00cc96\", \"size\": [6392.83, 3461.71, 2507.9, 1766.81], \"sizemode\": \"area\", \"sizeref\": 199.5566, \"symbol\": \"circle\"}, \"mode\": \"markers\", \"name\": \"country=Japan\", \"showlegend\": true, \"x\": [\"27\", \"42\", \"63\", \"82\"], \"xaxis\": \"x\", \"y\": [6392.83, 3461.71, 2507.9, 1766.81], \"yaxis\": \"y\", \"type\": \"scatter\"}, {\"customdata\": [[\"Bradesco\"], [\"Ita\\u00fa\"], [\"Banco do Brasil\"], [\"Unibanco\"]], \"hoverlabel\": {\"namelength\": 0}, \"hovertemplate\": \"country=Brazil<br>year=2010<br>rank=%{x}<br>value=%{marker.size}<br>name=%{customdata[0]}\", \"legendgroup\": \"country=Brazil\", \"marker\": {\"color\": \"#ab63fa\", \"size\": [13298.9, 6910.55, 6662.27, 1859.48], \"sizemode\": \"area\", \"sizeref\": 199.5566, \"symbol\": \"circle\"}, \"mode\": \"markers\", \"name\": \"country=Brazil\", \"showlegend\": true, \"x\": [\"9\", \"25\", \"26\", \"78\"], \"xaxis\": \"x\", \"y\": [13298.9, 6910.55, 6662.27, 1859.48], \"yaxis\": \"y\", \"type\": \"scatter\"}, {\"customdata\": [[\"Nordea\"], [\"SEB\"]], \"hoverlabel\": {\"namelength\": 0}, \"hovertemplate\": \"country=Sweden<br>year=2010<br>rank=%{x}<br>value=%{marker.size}<br>name=%{customdata[0]}\", \"legendgroup\": \"country=Sweden\", \"marker\": {\"color\": \"#FFA15A\", \"size\": [4509.12, 2039.09], \"sizemode\": \"area\", \"sizeref\": 199.5566, \"symbol\": \"circle\"}, \"mode\": \"markers\", \"name\": \"country=Sweden\", \"showlegend\": true, \"x\": [\"37\", \"71\"], \"xaxis\": \"x\", \"y\": [4509.12, 2039.09], \"yaxis\": \"y\", \"type\": \"scatter\"}, {\"customdata\": [[\"Sberbank\"], [\"VTB\"]], \"hoverlabel\": {\"namelength\": 0}, \"hovertemplate\": \"country=Russia<br>year=2010<br>rank=%{x}<br>value=%{marker.size}<br>name=%{customdata[0]}\", \"legendgroup\": \"country=Russia\", \"marker\": {\"color\": \"#19d3f3\", \"size\": [11729.35, 1817.6], \"sizemode\": \"area\", \"sizeref\": 199.5566, \"symbol\": \"circle\"}, \"mode\": \"markers\", \"name\": \"country=Russia\", \"showlegend\": true, \"x\": [\"15\", \"81\"], \"xaxis\": \"x\", \"y\": [11729.35, 1817.6], \"yaxis\": \"y\", \"type\": \"scatter\"}, {\"customdata\": [[\"State Bank of India\"], [\"ICICI Bank\"]], \"hoverlabel\": {\"namelength\": 0}, \"hovertemplate\": \"country=India<br>year=2010<br>rank=%{x}<br>value=%{marker.size}<br>name=%{customdata[0]}\", \"legendgroup\": \"country=India\", \"marker\": {\"color\": \"#FF6692\", \"size\": [4550.69, 2163.7], \"sizemode\": \"area\", \"sizeref\": 199.5566, \"symbol\": \"circle\"}, \"mode\": \"markers\", \"name\": \"country=India\", \"showlegend\": true, \"x\": [\"36\", \"69\"], \"xaxis\": \"x\", \"y\": [4550.69, 2163.7], \"yaxis\": \"y\", \"type\": \"scatter\"}, {\"customdata\": [[\"ERSTE\"], [\"Raiffeisen Bank\"]], \"hoverlabel\": {\"namelength\": 0}, \"hovertemplate\": \"country=Austria<br>year=2010<br>rank=%{x}<br>value=%{marker.size}<br>name=%{customdata[0]}\", \"legendgroup\": \"country=Austria\", \"marker\": {\"color\": \"#FECB52\", \"size\": [3228.65, 1850.74], \"sizemode\": \"area\", \"sizeref\": 199.5566, \"symbol\": \"circle\"}, \"mode\": \"markers\", \"name\": \"country=Austria\", \"showlegend\": true, \"x\": [\"46\", \"80\"], \"xaxis\": \"x\", \"y\": [3228.65, 1850.74], \"yaxis\": \"y\", \"type\": \"scatter\"}, {\"customdata\": [[\"National Bank of Greece\"]], \"hoverlabel\": {\"namelength\": 0}, \"hovertemplate\": \"country=Greece<br>year=2010<br>rank=%{x}<br>value=%{marker.size}<br>name=%{customdata[0]}\", \"legendgroup\": \"country=Greece\", \"marker\": {\"color\": \"#00cc96\", \"size\": [2314.31], \"sizemode\": \"area\", \"sizeref\": 199.5566, \"symbol\": \"circle\"}, \"mode\": \"markers\", \"name\": \"country=Greece\", \"showlegend\": true, \"x\": [\"66\"], \"xaxis\": \"x\", \"y\": [2314.31], \"yaxis\": \"y\", \"type\": \"scatter\"}, {\"customdata\": [[\"Danske Bank\"]], \"hoverlabel\": {\"namelength\": 0}, \"hovertemplate\": \"country=Denmark<br>year=2010<br>rank=%{x}<br>value=%{marker.size}<br>name=%{customdata[0]}\", \"legendgroup\": \"country=Denmark\", \"marker\": {\"color\": \"#19d3f3\", \"size\": [2834.99], \"sizemode\": \"area\", \"sizeref\": 199.5566, \"symbol\": \"circle\"}, \"mode\": \"markers\", \"name\": \"country=Denmark\", \"showlegend\": true, \"x\": [\"55\"], \"xaxis\": \"x\", \"y\": [2834.99], \"yaxis\": \"y\", \"type\": \"scatter\"}, {\"customdata\": [[\"DBS\"]], \"hoverlabel\": {\"namelength\": 0}, \"hovertemplate\": \"country=Singapore<br>year=2010<br>rank=%{x}<br>value=%{marker.size}<br>name=%{customdata[0]}\", \"legendgroup\": \"country=Singapore\", \"marker\": {\"color\": \"#FF6692\", \"size\": [1519.83], \"sizemode\": \"area\", \"sizeref\": 199.5566, \"symbol\": \"circle\"}, \"mode\": \"markers\", \"name\": \"country=Singapore\", \"showlegend\": true, \"x\": [\"95\"], \"xaxis\": \"x\", \"y\": [1519.83], \"yaxis\": \"y\", \"type\": \"scatter\"}, {\"customdata\": [[\"Caixa Geral de Dep\\u00f3sitos\"]], \"hoverlabel\": {\"namelength\": 0}, \"hovertemplate\": \"country=Portugal<br>year=2010<br>rank=%{x}<br>value=%{marker.size}<br>name=%{customdata[0]}\", \"legendgroup\": \"country=Portugal\", \"marker\": {\"color\": \"#B6E880\", \"size\": [1479.59], \"sizemode\": \"area\", \"sizeref\": 199.5566, \"symbol\": \"circle\"}, \"mode\": \"markers\", \"name\": \"country=Portugal\", \"showlegend\": true, \"x\": [\"99\"], \"xaxis\": \"x\", \"y\": [1479.59], \"yaxis\": \"y\", \"type\": \"scatter\"}, {\"customdata\": [[\"Bank of China (Hong Kong)\"], [\"Hang Seng Bank\"]], \"hoverlabel\": {\"namelength\": 0}, \"hovertemplate\": \"country=China (Hong Kong)<br>year=2010<br>rank=%{x}<br>value=%{marker.size}<br>name=%{customdata[0]}\", \"legendgroup\": \"country=China (Hong Kong)\", \"marker\": {\"color\": \"#FF97FF\", \"size\": [1550.15, 1506.87], \"sizemode\": \"area\", \"sizeref\": 199.5566, \"symbol\": \"circle\"}, \"mode\": \"markers\", \"name\": \"country=China (Hong Kong)\", \"showlegend\": true, \"x\": [\"92\", \"96\"], \"xaxis\": \"x\", \"y\": [1550.15, 1506.87], \"yaxis\": \"y\", \"type\": \"scatter\"}, {\"customdata\": [[\"Isbank\"]], \"hoverlabel\": {\"namelength\": 0}, \"hovertemplate\": \"country=Turkey<br>year=2010<br>rank=%{x}<br>value=%{marker.size}<br>name=%{customdata[0]}\", \"legendgroup\": \"country=Turkey\", \"marker\": {\"color\": \"#FECB52\", \"size\": [1661.7], \"sizemode\": \"area\", \"sizeref\": 199.5566, \"symbol\": \"circle\"}, \"mode\": \"markers\", \"name\": \"country=Turkey\", \"showlegend\": true, \"x\": [\"89\"], \"xaxis\": \"x\", \"y\": [1661.7], \"yaxis\": \"y\", \"type\": \"scatter\"}, {\"customdata\": [[\"DnB\"]], \"hoverlabel\": {\"namelength\": 0}, \"hovertemplate\": \"country=Norway<br>year=2010<br>rank=%{x}<br>value=%{marker.size}<br>name=%{customdata[0]}\", \"legendgroup\": \"country=Norway\", \"marker\": {\"color\": \"#636efa\", \"size\": [1964.27], \"sizemode\": \"area\", \"sizeref\": 199.5566, \"symbol\": \"circle\"}, \"mode\": \"markers\", \"name\": \"country=Norway\", \"showlegend\": true, \"x\": [\"73\"], \"xaxis\": \"x\", \"y\": [1964.27], \"yaxis\": \"y\", \"type\": \"scatter\"}], \"name\": \"2010\"}, {\"data\": [{\"customdata\": [[\"HSBC\"], [\"Barclays\"], [\"Standard Chartered\"], [\"RBS\"], [\"Lloyds TSB\"], [\"Halifax\"], [\"NatWest\"], [\"Bank Of Scotland\"], [\"Scottish Widows\"]], \"hoverlabel\": {\"namelength\": 0}, \"hovertemplate\": \"country=United Kingdom<br>year=2011<br>rank=%{x}<br>value=%{marker.size}<br>name=%{customdata[0]}\", \"legendgroup\": \"country=United Kingdom\", \"marker\": {\"color\": \"#636efa\", \"size\": [27632.11, 17357.72, 7419.25, 3346.49, 3331.7, 2632.39, 2199.9, 1893.19, 1738.45], \"sizemode\": \"area\", \"sizeref\": 199.5566, \"symbol\": \"circle\"}, \"mode\": \"markers\", \"name\": \"country=United Kingdom\", \"showlegend\": true, \"x\": [\"3\", \"7\", \"26\", \"53\", \"54\", \"65\", \"78\", \"89\", \"97\"], \"xaxis\": \"x\", \"y\": [27632.11, 17357.72, 7419.25, 3346.49, 3331.7, 2632.39, 2199.9, 1893.19, 1738.45], \"yaxis\": \"y\", \"type\": \"scatter\"}, {\"customdata\": [[\"Wells Fargo\"], [\"Chase\"], [\"Citi\"], [\"American Express\"], [\"Goldman Sachs\"], [\"JP Morgan\"], [\"Morgan Stanley\"], [\"Visa\"], [\"U.S. Bank\"], [\"PNC\"], [\"BNY Mellon\"], [\"Mastercard\"], [\"Capital One\"], [\"State Street\"], [\"BB&T\"], [\"SunTrust Bank\"], [\"BlackRock\"], [\"Citibanamex\"], [\"Ameriprise Financial\"], [\"Charles Schwab\"], [\"KKR\"], [\"Fifth Third Bancorp\"], [\"Franklin Templeton Investments\"]], \"hoverlabel\": {\"namelength\": 0}, \"hovertemplate\": \"country=United States<br>year=2011<br>rank=%{x}<br>value=%{marker.size}<br>name=%{customdata[0]}\", \"legendgroup\": \"country=United States\", \"marker\": {\"color\": \"#EF553B\", \"size\": [28944.38, 19150.03, 17133.34, 15530.0, 13406.36, 13240.58, 6856.82, 6555.4, 5415.55, 4992.72, 4155.87, 3930.99, 3584.01, 3410.66, 3067.48, 2821.28, 2591.24, 2405.65, 2283.28, 2046.3, 1832.16, 1752.02, 1713.17], \"sizemode\": \"area\", \"sizeref\": 199.5566, \"symbol\": \"circle\"}, \"mode\": \"markers\", \"name\": \"country=United States\", \"showlegend\": true, \"x\": [\"2\", \"5\", \"9\", \"13\", \"16\", \"18\", \"29\", \"32\", \"37\", \"38\", \"43\", \"45\", \"50\", \"51\", \"57\", \"61\", \"66\", \"72\", \"74\", \"85\", \"92\", \"96\", \"99\"], \"xaxis\": \"x\", \"y\": [28944.38, 19150.03, 17133.34, 15530.0, 13406.36, 13240.58, 6856.82, 6555.4, 5415.55, 4992.72, 4155.87, 3930.99, 3584.01, 3410.66, 3067.48, 2821.28, 2591.24, 2405.65, 2283.28, 2046.3, 1832.16, 1752.02, 1713.17], \"yaxis\": \"y\", \"type\": \"scatter\"}, {\"customdata\": [[\"Santander\"], [\"Bbva\"]], \"hoverlabel\": {\"namelength\": 0}, \"hovertemplate\": \"country=Spain<br>year=2011<br>rank=%{x}<br>value=%{marker.size}<br>name=%{customdata[0]}\", \"legendgroup\": \"country=Spain\", \"marker\": {\"color\": \"#00cc96\", \"size\": [26149.84, 10719.95], \"sizemode\": \"area\", \"sizeref\": 199.5566, \"symbol\": \"circle\"}, \"mode\": \"markers\", \"name\": \"country=Spain\", \"showlegend\": true, \"x\": [\"4\", \"20\"], \"xaxis\": \"x\", \"y\": [26149.84, 10719.95], \"yaxis\": \"y\", \"type\": \"scatter\"}, {\"customdata\": [[\"BNP Paribas\"], [\"Soci\\u00e9t\\u00e9 G\\u00e9n\\u00e9rale\"], [\"Cr\\u00e9dit Agricole\"], [\"Cr\\u00e9dit Mutuel\"], [\"CIC\"], [\"LCL\"], [\"Natixis\"]], \"hoverlabel\": {\"namelength\": 0}, \"hovertemplate\": \"country=France<br>year=2011<br>rank=%{x}<br>value=%{marker.size}<br>name=%{customdata[0]}\", \"legendgroup\": \"country=France\", \"marker\": {\"color\": \"#ab63fa\", \"size\": [16643.3, 8153.28, 3705.77, 2676.97, 2185.14, 2150.76, 2062.26], \"sizemode\": \"area\", \"sizeref\": 199.5566, \"symbol\": \"circle\"}, \"mode\": \"markers\", \"name\": \"country=France\", \"showlegend\": true, \"x\": [\"12\", \"24\", \"48\", \"63\", \"81\", \"82\", \"84\"], \"xaxis\": \"x\", \"y\": [16643.3, 8153.28, 3705.77, 2676.97, 2185.14, 2150.76, 2062.26], \"yaxis\": \"y\", \"type\": \"scatter\"}, {\"customdata\": [[\"Credit Suisse\"], [\"UBS\"]], \"hoverlabel\": {\"namelength\": 0}, \"hovertemplate\": \"country=Switzerland<br>year=2011<br>rank=%{x}<br>value=%{marker.size}<br>name=%{customdata[0]}\", \"legendgroup\": \"country=Switzerland\", \"marker\": {\"color\": \"#FFA15A\", \"size\": [13497.15, 9915.41], \"sizemode\": \"area\", \"sizeref\": 199.5566, \"symbol\": \"circle\"}, \"mode\": \"markers\", \"name\": \"country=Switzerland\", \"showlegend\": true, \"x\": [\"15\", \"21\"], \"xaxis\": \"x\", \"y\": [13497.15, 9915.41], \"yaxis\": \"y\", \"type\": \"scatter\"}, {\"customdata\": [[\"Rabobank\"]], \"hoverlabel\": {\"namelength\": 0}, \"hovertemplate\": \"country=Netherlands<br>year=2011<br>rank=%{x}<br>value=%{marker.size}<br>name=%{customdata[0]}\", \"legendgroup\": \"country=Netherlands\", \"marker\": {\"color\": \"#19d3f3\", \"size\": [7423.4], \"sizemode\": \"area\", \"sizeref\": 199.5566, \"symbol\": \"circle\"}, \"mode\": \"markers\", \"name\": \"country=Netherlands\", \"showlegend\": true, \"x\": [\"25\"], \"xaxis\": \"x\", \"y\": [7423.4], \"yaxis\": \"y\", \"type\": \"scatter\"}, {\"customdata\": [[\"Deutsche Bank\"], [\"DZ Bank\"], [\"Commerzbank\"], [\"Postbank\"]], \"hoverlabel\": {\"namelength\": 0}, \"hovertemplate\": \"country=Germany<br>year=2011<br>rank=%{x}<br>value=%{marker.size}<br>name=%{customdata[0]}\", \"legendgroup\": \"country=Germany\", \"marker\": {\"color\": \"#FF6692\", \"size\": [15169.05, 4303.36, 3067.36, 2506.29], \"sizemode\": \"area\", \"sizeref\": 199.5566, \"symbol\": \"circle\"}, \"mode\": \"markers\", \"name\": \"country=Germany\", \"showlegend\": true, \"x\": [\"14\", \"40\", \"58\", \"68\"], \"xaxis\": \"x\", \"y\": [15169.05, 4303.36, 3067.36, 2506.29], \"yaxis\": \"y\", \"type\": \"scatter\"}, {\"customdata\": [[\"ICBC\"], [\"China Construction Bank\"], [\"Agricultural Bank of China\"], [\"Bank Of Communications\"], [\"China Merchants Bank\"], [\"China Citic\"], [\"CMBC\"], [\"SPD Bank\"], [\"Industrial Bank\"]], \"hoverlabel\": {\"namelength\": 0}, \"hovertemplate\": \"country=China<br>year=2011<br>rank=%{x}<br>value=%{marker.size}<br>name=%{customdata[0]}\", \"legendgroup\": \"country=China\", \"marker\": {\"color\": \"#B6E880\", \"size\": [17193.81, 17092.13, 9283.21, 5475.55, 3188.58, 2341.74, 1951.04, 1836.01, 1705.27], \"sizemode\": \"area\", \"sizeref\": 199.5566, \"symbol\": \"circle\"}, \"mode\": \"markers\", \"name\": \"country=China\", \"showlegend\": true, \"x\": [\"8\", \"10\", \"23\", \"36\", \"56\", \"73\", \"88\", \"91\", \"100\"], \"xaxis\": \"x\", \"y\": [17193.81, 17092.13, 9283.21, 5475.55, 3188.58, 2341.74, 1951.04, 1836.01, 1705.27], \"yaxis\": \"y\", \"type\": \"scatter\"}, {\"customdata\": [[\"UniCredit\"], [\"HypoVereinsbank\"]], \"hoverlabel\": {\"namelength\": 0}, \"hovertemplate\": \"country=Italy<br>year=2011<br>rank=%{x}<br>value=%{marker.size}<br>name=%{customdata[0]}\", \"legendgroup\": \"country=Italy\", \"marker\": {\"color\": \"#FF97FF\", \"size\": [6620.8, 2813.31], \"sizemode\": \"area\", \"sizeref\": 199.5566, \"symbol\": \"circle\"}, \"mode\": \"markers\", \"name\": \"country=Italy\", \"showlegend\": true, \"x\": [\"30\", \"62\"], \"xaxis\": \"x\", \"y\": [6620.8, 2813.31], \"yaxis\": \"y\", \"type\": \"scatter\"}, {\"customdata\": [[\"National Australia Bank\"], [\"Commonwealth Bank\"], [\"Westpac\"], [\"ANZ\"], [\"Macquarie\"], [\"St.George\"]], \"hoverlabel\": {\"namelength\": 0}, \"hovertemplate\": \"country=Australia<br>year=2011<br>rank=%{x}<br>value=%{marker.size}<br>name=%{customdata[0]}\", \"legendgroup\": \"country=Australia\", \"marker\": {\"color\": \"#FECB52\", \"size\": [4175.59, 3857.93, 3383.72, 2976.89, 2207.44, 1722.23], \"sizemode\": \"area\", \"sizeref\": 199.5566, \"symbol\": \"circle\"}, \"mode\": \"markers\", \"name\": \"country=Australia\", \"showlegend\": true, \"x\": [\"42\", \"46\", \"52\", \"59\", \"77\", \"98\"], \"xaxis\": \"x\", \"y\": [4175.59, 3857.93, 3383.72, 2976.89, 2207.44, 1722.23], \"yaxis\": \"y\", \"type\": \"scatter\"}, {\"customdata\": [[\"RBC\"], [\"TD\"], [\"Scotiabank\"], [\"BMO Financial Group\"], [\"CIBC\"]], \"hoverlabel\": {\"namelength\": 0}, \"hovertemplate\": \"country=Canada<br>year=2011<br>rank=%{x}<br>value=%{marker.size}<br>name=%{customdata[0]}\", \"legendgroup\": \"country=Canada\", \"marker\": {\"color\": \"#636efa\", \"size\": [7068.89, 6604.01, 4119.82, 3796.55, 3276.34], \"sizemode\": \"area\", \"sizeref\": 199.5566, \"symbol\": \"circle\"}, \"mode\": \"markers\", \"name\": \"country=Canada\", \"showlegend\": true, \"x\": [\"28\", \"31\", \"44\", \"47\", \"55\"], \"xaxis\": \"x\", \"y\": [7068.89, 6604.01, 4119.82, 3796.55, 3276.34], \"yaxis\": \"y\", \"type\": \"scatter\"}, {\"customdata\": [[\"KBC\"]], \"hoverlabel\": {\"namelength\": 0}, \"hovertemplate\": \"country=Belgium<br>year=2011<br>rank=%{x}<br>value=%{marker.size}<br>name=%{customdata[0]}\", \"legendgroup\": \"country=Belgium\", \"marker\": {\"color\": \"#EF553B\", \"size\": [2465.52], \"sizemode\": \"area\", \"sizeref\": 199.5566, \"symbol\": \"circle\"}, \"mode\": \"markers\", \"name\": \"country=Belgium\", \"showlegend\": true, \"x\": [\"70\"], \"xaxis\": \"x\", \"y\": [2465.52], \"yaxis\": \"y\", \"type\": \"scatter\"}, {\"customdata\": [[\"MUFG\"], [\"Sumitomo Mitsui Financial Group\"], [\"Mizuho\"], [\"Nomura\"]], \"hoverlabel\": {\"namelength\": 0}, \"hovertemplate\": \"country=Japan<br>year=2011<br>rank=%{x}<br>value=%{marker.size}<br>name=%{customdata[0]}\", \"legendgroup\": \"country=Japan\", \"marker\": {\"color\": \"#00cc96\", \"size\": [7336.24, 5511.82, 4349.35, 2650.58], \"sizemode\": \"area\", \"sizeref\": 199.5566, \"symbol\": \"circle\"}, \"mode\": \"markers\", \"name\": \"country=Japan\", \"showlegend\": true, \"x\": [\"27\", \"35\", \"39\", \"64\"], \"xaxis\": \"x\", \"y\": [7336.24, 5511.82, 4349.35, 2650.58], \"yaxis\": \"y\", \"type\": \"scatter\"}, {\"customdata\": [[\"Bradesco\"], [\"Ita\\u00fa\"], [\"Banco do Brasil\"]], \"hoverlabel\": {\"namelength\": 0}, \"hovertemplate\": \"country=Brazil<br>year=2011<br>rank=%{x}<br>value=%{marker.size}<br>name=%{customdata[0]}\", \"legendgroup\": \"country=Brazil\", \"marker\": {\"color\": \"#ab63fa\", \"size\": [18677.84, 16654.89, 9525.77], \"sizemode\": \"area\", \"sizeref\": 199.5566, \"symbol\": \"circle\"}, \"mode\": \"markers\", \"name\": \"country=Brazil\", \"showlegend\": true, \"x\": [\"6\", \"11\", \"22\"], \"xaxis\": \"x\", \"y\": [18677.84, 16654.89, 9525.77], \"yaxis\": \"y\", \"type\": \"scatter\"}, {\"customdata\": [[\"Nordea\"], [\"SEB\"], [\"Handelsbanken\"]], \"hoverlabel\": {\"namelength\": 0}, \"hovertemplate\": \"country=Sweden<br>year=2011<br>rank=%{x}<br>value=%{marker.size}<br>name=%{customdata[0]}\", \"legendgroup\": \"country=Sweden\", \"marker\": {\"color\": \"#FFA15A\", \"size\": [5741.23, 2069.07, 2031.39], \"sizemode\": \"area\", \"sizeref\": 199.5566, \"symbol\": \"circle\"}, \"mode\": \"markers\", \"name\": \"country=Sweden\", \"showlegend\": true, \"x\": [\"33\", \"83\", \"87\"], \"xaxis\": \"x\", \"y\": [5741.23, 2069.07, 2031.39], \"yaxis\": \"y\", \"type\": \"scatter\"}, {\"customdata\": [[\"Sberbank\"], [\"VTB\"]], \"hoverlabel\": {\"namelength\": 0}, \"hovertemplate\": \"country=Russia<br>year=2011<br>rank=%{x}<br>value=%{marker.size}<br>name=%{customdata[0]}\", \"legendgroup\": \"country=Russia\", \"marker\": {\"color\": \"#19d3f3\", \"size\": [12011.53, 1785.34], \"sizemode\": \"area\", \"sizeref\": 199.5566, \"symbol\": \"circle\"}, \"mode\": \"markers\", \"name\": \"country=Russia\", \"showlegend\": true, \"x\": [\"19\", \"93\"], \"xaxis\": \"x\", \"y\": [12011.53, 1785.34], \"yaxis\": \"y\", \"type\": \"scatter\"}, {\"customdata\": [[\"State Bank of India\"], [\"ICICI Bank\"]], \"hoverlabel\": {\"namelength\": 0}, \"hovertemplate\": \"country=India<br>year=2011<br>rank=%{x}<br>value=%{marker.size}<br>name=%{customdata[0]}\", \"legendgroup\": \"country=India\", \"marker\": {\"color\": \"#FF6692\", \"size\": [5670.48, 2501.08], \"sizemode\": \"area\", \"sizeref\": 199.5566, \"symbol\": \"circle\"}, \"mode\": \"markers\", \"name\": \"country=India\", \"showlegend\": true, \"x\": [\"34\", \"69\"], \"xaxis\": \"x\", \"y\": [5670.48, 2501.08], \"yaxis\": \"y\", \"type\": \"scatter\"}, {\"customdata\": [[\"Erste\"], [\"Raiffeisen Bank International\"]], \"hoverlabel\": {\"namelength\": 0}, \"hovertemplate\": \"country=Austria<br>year=2011<br>rank=%{x}<br>value=%{marker.size}<br>name=%{customdata[0]}\", \"legendgroup\": \"country=Austria\", \"marker\": {\"color\": \"#FECB52\", \"size\": [4293.13, 2574.54], \"sizemode\": \"area\", \"sizeref\": 199.5566, \"symbol\": \"circle\"}, \"mode\": \"markers\", \"name\": \"country=Austria\", \"showlegend\": true, \"x\": [\"41\", \"67\"], \"xaxis\": \"x\", \"y\": [4293.13, 2574.54], \"yaxis\": \"y\", \"type\": \"scatter\"}, {\"customdata\": [[\"Standard Bank\"], [\"ABSA\"]], \"hoverlabel\": {\"namelength\": 0}, \"hovertemplate\": \"country=South Africa<br>year=2011<br>rank=%{x}<br>value=%{marker.size}<br>name=%{customdata[0]}\", \"legendgroup\": \"country=South Africa\", \"marker\": {\"color\": \"#EF553B\", \"size\": [2256.76, 1876.0], \"sizemode\": \"area\", \"sizeref\": 199.5566, \"symbol\": \"circle\"}, \"mode\": \"markers\", \"name\": \"country=South Africa\", \"showlegend\": true, \"x\": [\"76\", \"90\"], \"xaxis\": \"x\", \"y\": [2256.76, 1876.0], \"yaxis\": \"y\", \"type\": \"scatter\"}, {\"customdata\": [[\"Kookmin\"]], \"hoverlabel\": {\"namelength\": 0}, \"hovertemplate\": \"country=South Korea<br>year=2011<br>rank=%{x}<br>value=%{marker.size}<br>name=%{customdata[0]}\", \"legendgroup\": \"country=South Korea\", \"marker\": {\"color\": \"#ab63fa\", \"size\": [2196.7], \"sizemode\": \"area\", \"sizeref\": 199.5566, \"symbol\": \"circle\"}, \"mode\": \"markers\", \"name\": \"country=South Korea\", \"showlegend\": true, \"x\": [\"80\"], \"xaxis\": \"x\", \"y\": [2196.7], \"yaxis\": \"y\", \"type\": \"scatter\"}, {\"customdata\": [[\"Danske Bank\"]], \"hoverlabel\": {\"namelength\": 0}, \"hovertemplate\": \"country=Denmark<br>year=2011<br>rank=%{x}<br>value=%{marker.size}<br>name=%{customdata[0]}\", \"legendgroup\": \"country=Denmark\", \"marker\": {\"color\": \"#19d3f3\", \"size\": [2948.13], \"sizemode\": \"area\", \"sizeref\": 199.5566, \"symbol\": \"circle\"}, \"mode\": \"markers\", \"name\": \"country=Denmark\", \"showlegend\": true, \"x\": [\"60\"], \"xaxis\": \"x\", \"y\": [2948.13], \"yaxis\": \"y\", \"type\": \"scatter\"}, {\"customdata\": [[\"DBS\"]], \"hoverlabel\": {\"namelength\": 0}, \"hovertemplate\": \"country=Singapore<br>year=2011<br>rank=%{x}<br>value=%{marker.size}<br>name=%{customdata[0]}\", \"legendgroup\": \"country=Singapore\", \"marker\": {\"color\": \"#FF6692\", \"size\": [2040.54], \"sizemode\": \"area\", \"sizeref\": 199.5566, \"symbol\": \"circle\"}, \"mode\": \"markers\", \"name\": \"country=Singapore\", \"showlegend\": true, \"x\": [\"86\"], \"xaxis\": \"x\", \"y\": [2040.54], \"yaxis\": \"y\", \"type\": \"scatter\"}, {\"customdata\": [[\"Hang Seng Bank\"]], \"hoverlabel\": {\"namelength\": 0}, \"hovertemplate\": \"country=China (Hong Kong)<br>year=2011<br>rank=%{x}<br>value=%{marker.size}<br>name=%{customdata[0]}\", \"legendgroup\": \"country=China (Hong Kong)\", \"marker\": {\"color\": \"#FF97FF\", \"size\": [2198.91], \"sizemode\": \"area\", \"sizeref\": 199.5566, \"symbol\": \"circle\"}, \"mode\": \"markers\", \"name\": \"country=China (Hong Kong)\", \"showlegend\": true, \"x\": [\"79\"], \"xaxis\": \"x\", \"y\": [2198.91], \"yaxis\": \"y\", \"type\": \"scatter\"}, {\"customdata\": [[\"Isbank\"], [\"Akbank\"], [\"Garanti\"]], \"hoverlabel\": {\"namelength\": 0}, \"hovertemplate\": \"country=Turkey<br>year=2011<br>rank=%{x}<br>value=%{marker.size}<br>name=%{customdata[0]}\", \"legendgroup\": \"country=Turkey\", \"marker\": {\"color\": \"#FECB52\", \"size\": [2279.68, 1779.55, 1754.45], \"sizemode\": \"area\", \"sizeref\": 199.5566, \"symbol\": \"circle\"}, \"mode\": \"markers\", \"name\": \"country=Turkey\", \"showlegend\": true, \"x\": [\"75\", \"94\", \"95\"], \"xaxis\": \"x\", \"y\": [2279.68, 1779.55, 1754.45], \"yaxis\": \"y\", \"type\": \"scatter\"}, {\"customdata\": [[\"DnB\"]], \"hoverlabel\": {\"namelength\": 0}, \"hovertemplate\": \"country=Norway<br>year=2011<br>rank=%{x}<br>value=%{marker.size}<br>name=%{customdata[0]}\", \"legendgroup\": \"country=Norway\", \"marker\": {\"color\": \"#636efa\", \"size\": [2433.12], \"sizemode\": \"area\", \"sizeref\": 199.5566, \"symbol\": \"circle\"}, \"mode\": \"markers\", \"name\": \"country=Norway\", \"showlegend\": true, \"x\": [\"71\"], \"xaxis\": \"x\", \"y\": [2433.12], \"yaxis\": \"y\", \"type\": \"scatter\"}, {\"customdata\": [[\"Bank of America\\n\"], [\"Bank of China\\n\"], [\"Bank of America Merrill Lynch\\n\"]], \"hoverlabel\": {\"namelength\": 0}, \"hovertemplate\": \"country=0<br>year=2011<br>rank=%{x}<br>value=%{marker.size}<br>name=%{customdata[0]}\", \"legendgroup\": \"country=0\", \"marker\": {\"color\": \"#EF553B\", \"size\": [30618.64, 13256.55, 3628.9], \"sizemode\": \"area\", \"sizeref\": 199.5566, \"symbol\": \"circle\"}, \"mode\": \"markers\", \"name\": \"country=0\", \"showlegend\": true, \"x\": [\"1\", \"17\", \"49\"], \"xaxis\": \"x\", \"y\": [30618.64, 13256.55, 3628.9], \"yaxis\": \"y\", \"type\": \"scatter\"}], \"name\": \"2011\"}, {\"data\": [{\"customdata\": [[\"HSBC\"], [\"Barclays\"], [\"Standard Chartered\"], [\"RBS\"], [\"Lloyds TSB\"], [\"Halifax\"], [\"Bank of Scotland\"], [\"NatWest\"]], \"hoverlabel\": {\"namelength\": 0}, \"hovertemplate\": \"country=United Kingdom<br>year=2012<br>rank=%{x}<br>value=%{marker.size}<br>name=%{customdata[0]}\", \"legendgroup\": \"country=United Kingdom\", \"marker\": {\"color\": \"#636efa\", \"size\": [27597.21, 13551.79, 7624.0, 4055.67, 2701.12, 2069.07, 1801.57, 1797.0], \"sizemode\": \"area\", \"sizeref\": 199.5566, \"symbol\": \"circle\"}, \"mode\": \"markers\", \"name\": \"country=United Kingdom\", \"showlegend\": true, \"x\": [\"1\", \"12\", \"24\", \"45\", \"58\", \"75\", \"86\", \"88\"], \"xaxis\": \"x\", \"y\": [27597.21, 13551.79, 7624.0, 4055.67, 2701.12, 2069.07, 1801.57, 1797.0], \"yaxis\": \"y\", \"type\": \"scatter\"}, {\"customdata\": [[\"Wells Fargo\"], [\"Bank of America\"], [\"Chase\"], [\"Citi\"], [\"American Express\"], [\"J.P. Morgan\"], [\"Goldman Sachs\"], [\"Visa\"], [\"Morgan Stanley\"], [\"Mastercard\"], [\"Capital One\"], [\"PNC\"], [\"U.S. Bancorp\"], [\"BNY Mellon\"], [\"BB&T\"], [\"State Street\"], [\"Blackrock\"], [\"Ameriprise Financial\"], [\"KKR\"], [\"Banamex\"], [\"SunTrust Banks\"], [\"Charles Schwab\"], [\"Franklin Templeton Investments\"], [\"Fifth Third Bank\"]], \"hoverlabel\": {\"namelength\": 0}, \"hovertemplate\": \"country=United States<br>year=2012<br>rank=%{x}<br>value=%{marker.size}<br>name=%{customdata[0]}\", \"legendgroup\": \"country=United States\", \"marker\": {\"color\": \"#EF553B\", \"size\": [23229.19, 22910.0, 18963.79, 18638.56, 18230.89, 11602.32, 9331.94, 7087.33, 6346.58, 5177.12, 4947.41, 4845.35, 4514.0, 4029.25, 2615.74, 2517.37, 2432.93, 2313.5, 2291.4, 2221.63, 2169.45, 1808.16, 1760.17, 1607.79], \"sizemode\": \"area\", \"sizeref\": 199.5566, \"symbol\": \"circle\"}, \"mode\": \"markers\", \"name\": \"country=United States\", \"showlegend\": true, \"x\": [\"2\", \"3\", \"5\", \"6\", \"7\", \"16\", \"19\", \"28\", \"29\", \"35\", \"36\", \"37\", \"41\", \"46\", \"59\", \"60\", \"63\", \"68\", \"70\", \"71\", \"72\", \"85\", \"91\", \"95\"], \"xaxis\": \"x\", \"y\": [23229.19, 22910.0, 18963.79, 18638.56, 18230.89, 11602.32, 9331.94, 7087.33, 6346.58, 5177.12, 4947.41, 4845.35, 4514.0, 4029.25, 2615.74, 2517.37, 2432.93, 2313.5, 2291.4, 2221.63, 2169.45, 1808.16, 1760.17, 1607.79], \"yaxis\": \"y\", \"type\": \"scatter\"}, {\"customdata\": [[\"Santander\"], [\"BBVA\"]], \"hoverlabel\": {\"namelength\": 0}, \"hovertemplate\": \"country=Spain<br>year=2012<br>rank=%{x}<br>value=%{marker.size}<br>name=%{customdata[0]}\", \"legendgroup\": \"country=Spain\", \"marker\": {\"color\": \"#00cc96\", \"size\": [19969.17, 7195.46], \"sizemode\": \"area\", \"sizeref\": 199.5566, \"symbol\": \"circle\"}, \"mode\": \"markers\", \"name\": \"country=Spain\", \"showlegend\": true, \"x\": [\"4\", \"27\"], \"xaxis\": \"x\", \"y\": [19969.17, 7195.46], \"yaxis\": \"y\", \"type\": \"scatter\"}, {\"customdata\": [[\"BNP Paribas\"], [\"Soci\\u00e9t\\u00e9 G\\u00e9n\\u00e9rale\"], [\"Cr\\u00e9dit Agricole\"], [\"Cr\\u00e9dit Industriel et Commercial\"], [\"Cr\\u00e9dit Mutuel\"]], \"hoverlabel\": {\"namelength\": 0}, \"hovertemplate\": \"country=France<br>year=2012<br>rank=%{x}<br>value=%{marker.size}<br>name=%{customdata[0]}\", \"legendgroup\": \"country=France\", \"marker\": {\"color\": \"#ab63fa\", \"size\": [16808.67, 4734.17, 2840.86, 1987.38, 1951.47], \"sizemode\": \"area\", \"sizeref\": 199.5566, \"symbol\": \"circle\"}, \"mode\": \"markers\", \"name\": \"country=France\", \"showlegend\": true, \"x\": [\"8\", \"38\", \"54\", \"77\", \"78\"], \"xaxis\": \"x\", \"y\": [16808.67, 4734.17, 2840.86, 1987.38, 1951.47], \"yaxis\": \"y\", \"type\": \"scatter\"}, {\"customdata\": [[\"Credit Suisse\"], [\"UBS\"]], \"hoverlabel\": {\"namelength\": 0}, \"hovertemplate\": \"country=Switzerland<br>year=2012<br>rank=%{x}<br>value=%{marker.size}<br>name=%{customdata[0]}\", \"legendgroup\": \"country=Switzerland\", \"marker\": {\"color\": \"#FFA15A\", \"size\": [8368.45, 5943.58], \"sizemode\": \"area\", \"sizeref\": 199.5566, \"symbol\": \"circle\"}, \"mode\": \"markers\", \"name\": \"country=Switzerland\", \"showlegend\": true, \"x\": [\"22\", \"30\"], \"xaxis\": \"x\", \"y\": [8368.45, 5943.58], \"yaxis\": \"y\", \"type\": \"scatter\"}, {\"customdata\": [[\"Rabobank\"], [\"ING (Banking)\"]], \"hoverlabel\": {\"namelength\": 0}, \"hovertemplate\": \"country=Netherlands<br>year=2012<br>rank=%{x}<br>value=%{marker.size}<br>name=%{customdata[0]}\", \"legendgroup\": \"country=Netherlands\", \"marker\": {\"color\": \"#19d3f3\", \"size\": [7328.43, 2844.97], \"sizemode\": \"area\", \"sizeref\": 199.5566, \"symbol\": \"circle\"}, \"mode\": \"markers\", \"name\": \"country=Netherlands\", \"showlegend\": true, \"x\": [\"25\", \"53\"], \"xaxis\": \"x\", \"y\": [7328.43, 2844.97], \"yaxis\": \"y\", \"type\": \"scatter\"}, {\"customdata\": [[\"Deutsche Bank\"], [\"DZ Bank\"], [\"Commerzbank\"], [\"Deutsche Postbank\"]], \"hoverlabel\": {\"namelength\": 0}, \"hovertemplate\": \"country=Germany<br>year=2012<br>rank=%{x}<br>value=%{marker.size}<br>name=%{customdata[0]}\", \"legendgroup\": \"country=Germany\", \"marker\": {\"color\": \"#FF6692\", \"size\": [12905.52, 3330.37, 2327.74, 1766.54], \"sizemode\": \"area\", \"sizeref\": 199.5566, \"symbol\": \"circle\"}, \"mode\": \"markers\", \"name\": \"country=Germany\", \"showlegend\": true, \"x\": [\"14\", \"52\", \"66\", \"90\"], \"xaxis\": \"x\", \"y\": [12905.52, 3330.37, 2327.74, 1766.54], \"yaxis\": \"y\", \"type\": \"scatter\"}, {\"customdata\": [[\"China Construction Bank\"], [\"ICBC\"], [\"Agricultural Bank of China\"], [\"Bank Of Communications\"], [\"China Merchants Bank\"], [\"SPD Bank\"], [\"Hang Seng Bank\"], [\"China Citic\"], [\"CMBC\"], [\"Industrial Bank\"], [\"China Everbright Bank\"]], \"hoverlabel\": {\"namelength\": 0}, \"hovertemplate\": \"country=China<br>year=2012<br>rank=%{x}<br>value=%{marker.size}<br>name=%{customdata[0]}\", \"legendgroup\": \"country=China\", \"marker\": {\"color\": \"#B6E880\", \"size\": [15464.06, 15163.78, 9929.25, 5630.28, 3979.88, 2450.48, 2333.88, 2294.54, 2107.06, 1570.88, 1560.88], \"sizemode\": \"area\", \"sizeref\": 199.5566, \"symbol\": \"circle\"}, \"mode\": \"markers\", \"name\": \"country=China\", \"showlegend\": true, \"x\": [\"10\", \"11\", \"18\", \"32\", \"47\", \"62\", \"65\", \"69\", \"74\", \"97\", \"100\"], \"xaxis\": \"x\", \"y\": [15464.06, 15163.78, 9929.25, 5630.28, 3979.88, 2450.48, 2333.88, 2294.54, 2107.06, 1570.88, 1560.88], \"yaxis\": \"y\", \"type\": \"scatter\"}, {\"customdata\": [[\"UniCredit\"], [\"HypoVereinsbank\"]], \"hoverlabel\": {\"namelength\": 0}, \"hovertemplate\": \"country=Italy<br>year=2012<br>rank=%{x}<br>value=%{marker.size}<br>name=%{customdata[0]}\", \"legendgroup\": \"country=Italy\", \"marker\": {\"color\": \"#FF97FF\", \"size\": [4139.91, 1824.67], \"sizemode\": \"area\", \"sizeref\": 199.5566, \"symbol\": \"circle\"}, \"mode\": \"markers\", \"name\": \"country=Italy\", \"showlegend\": true, \"x\": [\"44\", \"83\"], \"xaxis\": \"x\", \"y\": [4139.91, 1824.67], \"yaxis\": \"y\", \"type\": \"scatter\"}, {\"customdata\": [[\"Commonwealth Bank\"], [\"nab\"], [\"Westpac\"], [\"ANZ\"], [\"Macquarie\"]], \"hoverlabel\": {\"namelength\": 0}, \"hovertemplate\": \"country=Australia<br>year=2012<br>rank=%{x}<br>value=%{marker.size}<br>name=%{customdata[0]}\", \"legendgroup\": \"country=Australia\", \"marker\": {\"color\": \"#FECB52\", \"size\": [4243.97, 4159.84, 3569.9, 3433.1, 1907.28], \"sizemode\": \"area\", \"sizeref\": 199.5566, \"symbol\": \"circle\"}, \"mode\": \"markers\", \"name\": \"country=Australia\", \"showlegend\": true, \"x\": [\"42\", \"43\", \"49\", \"50\", \"79\"], \"xaxis\": \"x\", \"y\": [4243.97, 4159.84, 3569.9, 3433.1, 1907.28], \"yaxis\": \"y\", \"type\": \"scatter\"}, {\"customdata\": [[\"Royal Bank Of Canada\"], [\"TD Bank Financial Group\"], [\"Scotiabank\"], [\"Bank of Montreal\"], [\"CIBC\"], [\"National Bank of Canada\"]], \"hoverlabel\": {\"namelength\": 0}, \"hovertemplate\": \"country=Canada<br>year=2012<br>rank=%{x}<br>value=%{marker.size}<br>name=%{customdata[0]}\", \"legendgroup\": \"country=Canada\", \"marker\": {\"color\": \"#636efa\", \"size\": [8646.8, 8498.54, 5717.42, 5359.84, 4557.3, 1659.84], \"sizemode\": \"area\", \"sizeref\": 199.5566, \"symbol\": \"circle\"}, \"mode\": \"markers\", \"name\": \"country=Canada\", \"showlegend\": true, \"x\": [\"20\", \"21\", \"31\", \"33\", \"40\", \"93\"], \"xaxis\": \"x\", \"y\": [8646.8, 8498.54, 5717.42, 5359.84, 4557.3, 1659.84], \"yaxis\": \"y\", \"type\": \"scatter\"}, {\"customdata\": [[\"KBC\"]], \"hoverlabel\": {\"namelength\": 0}, \"hovertemplate\": \"country=Belgium<br>year=2012<br>rank=%{x}<br>value=%{marker.size}<br>name=%{customdata[0]}\", \"legendgroup\": \"country=Belgium\", \"marker\": {\"color\": \"#EF553B\", \"size\": [1816.08], \"sizemode\": \"area\", \"sizeref\": 199.5566, \"symbol\": \"circle\"}, \"mode\": \"markers\", \"name\": \"country=Belgium\", \"showlegend\": true, \"x\": [\"84\"], \"xaxis\": \"x\", \"y\": [1816.08], \"yaxis\": \"y\", \"type\": \"scatter\"}, {\"customdata\": [[\"Bank of Tokyo-Mitsubishi UFJ\"], [\"Sumitomo Mitsui Financial Group\"], [\"Mizuho Financial Group\"], [\"Nomura\"]], \"hoverlabel\": {\"namelength\": 0}, \"hovertemplate\": \"country=Japan<br>year=2012<br>rank=%{x}<br>value=%{marker.size}<br>name=%{customdata[0]}\", \"legendgroup\": \"country=Japan\", \"marker\": {\"color\": \"#00cc96\", \"size\": [8314.51, 3848.46, 3377.03, 2840.63], \"sizemode\": \"area\", \"sizeref\": 199.5566, \"symbol\": \"circle\"}, \"mode\": \"markers\", \"name\": \"country=Japan\", \"showlegend\": true, \"x\": [\"23\", \"48\", \"51\", \"55\"], \"xaxis\": \"x\", \"y\": [8314.51, 3848.46, 3377.03, 2840.63], \"yaxis\": \"y\", \"type\": \"scatter\"}, {\"customdata\": [[\"Bradesco\"], [\"Ita\\u00fa\"], [\"Banco do Brasil\"]], \"hoverlabel\": {\"namelength\": 0}, \"hovertemplate\": \"country=Brazil<br>year=2012<br>rank=%{x}<br>value=%{marker.size}<br>name=%{customdata[0]}\", \"legendgroup\": \"country=Brazil\", \"marker\": {\"color\": \"#ab63fa\", \"size\": [15692.18, 13171.03, 7264.48], \"sizemode\": \"area\", \"sizeref\": 199.5566, \"symbol\": \"circle\"}, \"mode\": \"markers\", \"name\": \"country=Brazil\", \"showlegend\": true, \"x\": [\"9\", \"13\", \"26\"], \"xaxis\": \"x\", \"y\": [15692.18, 13171.03, 7264.48], \"yaxis\": \"y\", \"type\": \"scatter\"}, {\"customdata\": [[\"Nordea\"], [\"Svenska Handelsbanken\"], [\"SEB\"]], \"hoverlabel\": {\"namelength\": 0}, \"hovertemplate\": \"country=Sweden<br>year=2012<br>rank=%{x}<br>value=%{marker.size}<br>name=%{customdata[0]}\", \"legendgroup\": \"country=Sweden\", \"marker\": {\"color\": \"#FFA15A\", \"size\": [5252.63, 1896.92, 1662.63], \"sizemode\": \"area\", \"sizeref\": 199.5566, \"symbol\": \"circle\"}, \"mode\": \"markers\", \"name\": \"country=Sweden\", \"showlegend\": true, \"x\": [\"34\", \"80\", \"92\"], \"xaxis\": \"x\", \"y\": [5252.63, 1896.92, 1662.63], \"yaxis\": \"y\", \"type\": \"scatter\"}, {\"customdata\": [[\"Sberbank\"], [\"VTB Bank\"]], \"hoverlabel\": {\"namelength\": 0}, \"hovertemplate\": \"country=Russia<br>year=2012<br>rank=%{x}<br>value=%{marker.size}<br>name=%{customdata[0]}\", \"legendgroup\": \"country=Russia\", \"marker\": {\"color\": \"#19d3f3\", \"size\": [10772.28, 1797.0], \"sizemode\": \"area\", \"sizeref\": 199.5566, \"symbol\": \"circle\"}, \"mode\": \"markers\", \"name\": \"country=Russia\", \"showlegend\": true, \"x\": [\"17\", \"87\"], \"xaxis\": \"x\", \"y\": [10772.28, 1797.0], \"yaxis\": \"y\", \"type\": \"scatter\"}, {\"customdata\": [[\"State Bank of India\"]], \"hoverlabel\": {\"namelength\": 0}, \"hovertemplate\": \"country=India<br>year=2012<br>rank=%{x}<br>value=%{marker.size}<br>name=%{customdata[0]}\", \"legendgroup\": \"country=India\", \"marker\": {\"color\": \"#FF6692\", \"size\": [4686.55], \"sizemode\": \"area\", \"sizeref\": 199.5566, \"symbol\": \"circle\"}, \"mode\": \"markers\", \"name\": \"country=India\", \"showlegend\": true, \"x\": [\"39\"], \"xaxis\": \"x\", \"y\": [4686.55], \"yaxis\": \"y\", \"type\": \"scatter\"}, {\"customdata\": [[\"Erste Group\"], [\"Raiffeisen Bank\"]], \"hoverlabel\": {\"namelength\": 0}, \"hovertemplate\": \"country=Austria<br>year=2012<br>rank=%{x}<br>value=%{marker.size}<br>name=%{customdata[0]}\", \"legendgroup\": \"country=Austria\", \"marker\": {\"color\": \"#FECB52\", \"size\": [2475.9, 1882.28], \"sizemode\": \"area\", \"sizeref\": 199.5566, \"symbol\": \"circle\"}, \"mode\": \"markers\", \"name\": \"country=Austria\", \"showlegend\": true, \"x\": [\"61\", \"81\"], \"xaxis\": \"x\", \"y\": [2475.9, 1882.28], \"yaxis\": \"y\", \"type\": \"scatter\"}, {\"customdata\": [[\"Standard Bank\"], [\"ABSA\"]], \"hoverlabel\": {\"namelength\": 0}, \"hovertemplate\": \"country=South Africa<br>year=2012<br>rank=%{x}<br>value=%{marker.size}<br>name=%{customdata[0]}\", \"legendgroup\": \"country=South Africa\", \"marker\": {\"color\": \"#EF553B\", \"size\": [2165.47, 1796.11], \"sizemode\": \"area\", \"sizeref\": 199.5566, \"symbol\": \"circle\"}, \"mode\": \"markers\", \"name\": \"country=South Africa\", \"showlegend\": true, \"x\": [\"73\", \"89\"], \"xaxis\": \"x\", \"y\": [2165.47, 1796.11], \"yaxis\": \"y\", \"type\": \"scatter\"}, {\"customdata\": [[\"Shinhan Financial Group\"], [\"KB Kookmin Bank\"]], \"hoverlabel\": {\"namelength\": 0}, \"hovertemplate\": \"country=South Korea<br>year=2012<br>rank=%{x}<br>value=%{marker.size}<br>name=%{customdata[0]}\", \"legendgroup\": \"country=South Korea\", \"marker\": {\"color\": \"#ab63fa\", \"size\": [2745.89, 2060.51], \"sizemode\": \"area\", \"sizeref\": 199.5566, \"symbol\": \"circle\"}, \"mode\": \"markers\", \"name\": \"country=South Korea\", \"showlegend\": true, \"x\": [\"57\", \"76\"], \"xaxis\": \"x\", \"y\": [2745.89, 2060.51], \"yaxis\": \"y\", \"type\": \"scatter\"}, {\"customdata\": [[\"Danske Bank\"]], \"hoverlabel\": {\"namelength\": 0}, \"hovertemplate\": \"country=Denmark<br>year=2012<br>rank=%{x}<br>value=%{marker.size}<br>name=%{customdata[0]}\", \"legendgroup\": \"country=Denmark\", \"marker\": {\"color\": \"#19d3f3\", \"size\": [2791.62], \"sizemode\": \"area\", \"sizeref\": 199.5566, \"symbol\": \"circle\"}, \"mode\": \"markers\", \"name\": \"country=Denmark\", \"showlegend\": true, \"x\": [\"56\"], \"xaxis\": \"x\", \"y\": [2791.62], \"yaxis\": \"y\", \"type\": \"scatter\"}, {\"customdata\": [[\"DBS\"], [\"UOB\"]], \"hoverlabel\": {\"namelength\": 0}, \"hovertemplate\": \"country=Singapore<br>year=2012<br>rank=%{x}<br>value=%{marker.size}<br>name=%{customdata[0]}\", \"legendgroup\": \"country=Singapore\", \"marker\": {\"color\": \"#FF6692\", \"size\": [2315.76, 1637.22], \"sizemode\": \"area\", \"sizeref\": 199.5566, \"symbol\": \"circle\"}, \"mode\": \"markers\", \"name\": \"country=Singapore\", \"showlegend\": true, \"x\": [\"67\", \"94\"], \"xaxis\": \"x\", \"y\": [2315.76, 1637.22], \"yaxis\": \"y\", \"type\": \"scatter\"}, {\"customdata\": [[\"Akbank\"], [\"Is Bank\"]], \"hoverlabel\": {\"namelength\": 0}, \"hovertemplate\": \"country=Turkey<br>year=2012<br>rank=%{x}<br>value=%{marker.size}<br>name=%{customdata[0]}\", \"legendgroup\": \"country=Turkey\", \"marker\": {\"color\": \"#FECB52\", \"size\": [1581.81, 1569.16], \"sizemode\": \"area\", \"sizeref\": 199.5566, \"symbol\": \"circle\"}, \"mode\": \"markers\", \"name\": \"country=Turkey\", \"showlegend\": true, \"x\": [\"96\", \"98\"], \"xaxis\": \"x\", \"y\": [1581.81, 1569.16], \"yaxis\": \"y\", \"type\": \"scatter\"}, {\"customdata\": [[\"DNB\"]], \"hoverlabel\": {\"namelength\": 0}, \"hovertemplate\": \"country=Norway<br>year=2012<br>rank=%{x}<br>value=%{marker.size}<br>name=%{customdata[0]}\", \"legendgroup\": \"country=Norway\", \"marker\": {\"color\": \"#636efa\", \"size\": [2395.09], \"sizemode\": \"area\", \"sizeref\": 199.5566, \"symbol\": \"circle\"}, \"mode\": \"markers\", \"name\": \"country=Norway\", \"showlegend\": true, \"x\": [\"64\"], \"xaxis\": \"x\", \"y\": [2395.09], \"yaxis\": \"y\", \"type\": \"scatter\"}, {\"customdata\": [[\"Bank of China\\n\"]], \"hoverlabel\": {\"namelength\": 0}, \"hovertemplate\": \"country=0<br>year=2012<br>rank=%{x}<br>value=%{marker.size}<br>name=%{customdata[0]}\", \"legendgroup\": \"country=0\", \"marker\": {\"color\": \"#EF553B\", \"size\": [12857.41], \"sizemode\": \"area\", \"sizeref\": 199.5566, \"symbol\": \"circle\"}, \"mode\": \"markers\", \"name\": \"country=0\", \"showlegend\": true, \"x\": [\"15\"], \"xaxis\": \"x\", \"y\": [12857.41], \"yaxis\": \"y\", \"type\": \"scatter\"}, {\"customdata\": [[\"CIMB\"], [\"Maybank\"]], \"hoverlabel\": {\"namelength\": 0}, \"hovertemplate\": \"country=Malaysia<br>year=2012<br>rank=%{x}<br>value=%{marker.size}<br>name=%{customdata[0]}\", \"legendgroup\": \"country=Malaysia\", \"marker\": {\"color\": \"#00cc96\", \"size\": [1841.02, 1566.44], \"sizemode\": \"area\", \"sizeref\": 199.5566, \"symbol\": \"circle\"}, \"mode\": \"markers\", \"name\": \"country=Malaysia\", \"showlegend\": true, \"x\": [\"82\", \"99\"], \"xaxis\": \"x\", \"y\": [1841.02, 1566.44], \"yaxis\": \"y\", \"type\": \"scatter\"}], \"name\": \"2012\"}, {\"data\": [{\"customdata\": [[\"HSBC\"], [\"Barclays\"], [\"Standard Chartered\"], [\"Royal Bank of Scotland\"], [\"Lloyds TSB\"], [\"Halifax\"], [\"NatWest\"], [\"Bank of Scotland\"]], \"hoverlabel\": {\"namelength\": 0}, \"hovertemplate\": \"country=United Kingdom<br>year=2013<br>rank=%{x}<br>value=%{marker.size}<br>name=%{customdata[0]}\", \"legendgroup\": \"country=United Kingdom\", \"marker\": {\"color\": \"#636efa\", \"size\": [22864.55, 13435.63, 7021.66, 5416.37, 3224.62, 2372.89, 2196.48, 1884.06], \"sizemode\": \"area\", \"sizeref\": 199.5566, \"symbol\": \"circle\"}, \"mode\": \"markers\", \"name\": \"country=United Kingdom\", \"showlegend\": true, \"x\": [\"3\", \"17\", \"35\", \"45\", \"62\", \"80\", \"86\", \"98\"], \"xaxis\": \"x\", \"y\": [22864.55, 13435.63, 7021.66, 5416.37, 3224.62, 2372.89, 2196.48, 1884.06], \"yaxis\": \"y\", \"type\": \"scatter\"}, {\"customdata\": [[\"Wells Fargo\"], [\"Chase\"], [\"Bank of America\"], [\"Citi\"], [\"American Express\"], [\"J.P. Morgan\"], [\"Visa\"], [\"Morgan Stanley\"], [\"Capital One\"], [\"Goldman Sachs\"], [\"U.S. Bank\"], [\"Mastercard\"], [\"PNC\"], [\"BNY Mellon\"], [\"Bank of America Merrill Lynch\"], [\"BB&T\"], [\"Discover\"], [\"Blackrock\"], [\"State Street\"], [\"Ameriprise Financial\"], [\"SunTrust\"], [\"Franklin Templeton Investments\"]], \"hoverlabel\": {\"namelength\": 0}, \"hovertemplate\": \"country=United States<br>year=2013<br>rank=%{x}<br>value=%{marker.size}<br>name=%{customdata[0]}\", \"legendgroup\": \"country=United States\", \"marker\": {\"color\": \"#EF553B\", \"size\": [26043.6, 23408.3, 22397.3, 21676.6, 19004.3, 13775.1, 7555.11, 7549.08, 7455.68, 7420.81, 6497.48, 5417.82, 4572.11, 4135.2, 3702.36, 2832.0, 2736.58, 2730.09, 2625.67, 2555.63, 2356.96, 2003.74], \"sizemode\": \"area\", \"sizeref\": 199.5566, \"symbol\": \"circle\"}, \"mode\": \"markers\", \"name\": \"country=United States\", \"showlegend\": true, \"x\": [\"1\", \"2\", \"4\", \"5\", \"8\", \"15\", \"27\", \"28\", \"29\", \"30\", \"37\", \"44\", \"52\", \"54\", \"57\", \"67\", \"69\", \"70\", \"73\", \"75\", \"81\", \"94\"], \"xaxis\": \"x\", \"y\": [26043.6, 23408.3, 22397.3, 21676.6, 19004.3, 13775.1, 7555.11, 7549.08, 7455.68, 7420.81, 6497.48, 5417.82, 4572.11, 4135.2, 3702.36, 2832.0, 2736.58, 2730.09, 2625.67, 2555.63, 2356.96, 2003.74], \"yaxis\": \"y\", \"type\": \"scatter\"}, {\"customdata\": [[\"Santander\"], [\"BBVA\"]], \"hoverlabel\": {\"namelength\": 0}, \"hovertemplate\": \"country=Spain<br>year=2013<br>rank=%{x}<br>value=%{marker.size}<br>name=%{customdata[0]}\", \"legendgroup\": \"country=Spain\", \"marker\": {\"color\": \"#00cc96\", \"size\": [20118.9, 8327.82], \"sizemode\": \"area\", \"sizeref\": 199.5566, \"symbol\": \"circle\"}, \"mode\": \"markers\", \"name\": \"country=Spain\", \"showlegend\": true, \"x\": [\"6\", \"26\"], \"xaxis\": \"x\", \"y\": [20118.9, 8327.82], \"yaxis\": \"y\", \"type\": \"scatter\"}, {\"customdata\": [[\"BNP Paribas\"], [\"Soci\\u00e9t\\u00e9 G\\u00e9n\\u00e9rale\"], [\"Cr\\u00e9dit Agricole\"], [\"Cr\\u00e9dit Mutuel\"], [\"Natixis\"], [\"LCL\"]], \"hoverlabel\": {\"namelength\": 0}, \"hovertemplate\": \"country=France<br>year=2013<br>rank=%{x}<br>value=%{marker.size}<br>name=%{customdata[0]}\", \"legendgroup\": \"country=France\", \"marker\": {\"color\": \"#ab63fa\", \"size\": [18572.99, 7248.14, 3150.98, 2309.32, 1873.0, 1855.45], \"sizemode\": \"area\", \"sizeref\": 199.5566, \"symbol\": \"circle\"}, \"mode\": \"markers\", \"name\": \"country=France\", \"showlegend\": true, \"x\": [\"9\", \"33\", \"63\", \"83\", \"99\", \"100\"], \"xaxis\": \"x\", \"y\": [18572.99, 7248.14, 3150.98, 2309.32, 1873.0, 1855.45], \"yaxis\": \"y\", \"type\": \"scatter\"}, {\"customdata\": [[\"Credit Suisse\"], [\"UBS\"]], \"hoverlabel\": {\"namelength\": 0}, \"hovertemplate\": \"country=Switzerland<br>year=2013<br>rank=%{x}<br>value=%{marker.size}<br>name=%{customdata[0]}\", \"legendgroup\": \"country=Switzerland\", \"marker\": {\"color\": \"#FFA15A\", \"size\": [9820.37, 7289.52], \"sizemode\": \"area\", \"sizeref\": 199.5566, \"symbol\": \"circle\"}, \"mode\": \"markers\", \"name\": \"country=Switzerland\", \"showlegend\": true, \"x\": [\"25\", \"32\"], \"xaxis\": \"x\", \"y\": [9820.37, 7289.52], \"yaxis\": \"y\", \"type\": \"scatter\"}, {\"customdata\": [[\"ING (Group)\"], [\"Rabobank\"], [\"ABN AMRO\"]], \"hoverlabel\": {\"namelength\": 0}, \"hovertemplate\": \"country=Netherlands<br>year=2013<br>rank=%{x}<br>value=%{marker.size}<br>name=%{customdata[0]}\", \"legendgroup\": \"country=Netherlands\", \"marker\": {\"color\": \"#19d3f3\", \"size\": [12787.0, 7405.78, 3439.06], \"sizemode\": \"area\", \"sizeref\": 199.5566, \"symbol\": \"circle\"}, \"mode\": \"markers\", \"name\": \"country=Netherlands\", \"showlegend\": true, \"x\": [\"18\", \"31\", \"61\"], \"xaxis\": \"x\", \"y\": [12787.0, 7405.78, 3439.06], \"yaxis\": \"y\", \"type\": \"scatter\"}, {\"customdata\": [[\"Deutsche Bank\"], [\"DZ Bank\"], [\"Commerzbank\"], [\"Postbank\"]], \"hoverlabel\": {\"namelength\": 0}, \"hovertemplate\": \"country=Germany<br>year=2013<br>rank=%{x}<br>value=%{marker.size}<br>name=%{customdata[0]}\", \"legendgroup\": \"country=Germany\", \"marker\": {\"color\": \"#FF6692\", \"size\": [14572.48, 3699.95, 2689.26, 1966.08], \"sizemode\": \"area\", \"sizeref\": 199.5566, \"symbol\": \"circle\"}, \"mode\": \"markers\", \"name\": \"country=Germany\", \"showlegend\": true, \"x\": [\"12\", \"58\", \"71\", \"96\"], \"xaxis\": \"x\", \"y\": [14572.48, 3699.95, 2689.26, 1966.08], \"yaxis\": \"y\", \"type\": \"scatter\"}, {\"customdata\": [[\"ICBC\"], [\"China Construction Bank\"], [\"Agricultural Bank of China\"], [\"Bank of China\"], [\"Bank of Communications\"], [\"China Merchants Bank\"], [\"China Minsheng Bank\"], [\"China CITIC Bank\"], [\"Shanghai Pudong Development Bank\"], [\"Industrial Bank\"]], \"hoverlabel\": {\"namelength\": 0}, \"hovertemplate\": \"country=China<br>year=2013<br>rank=%{x}<br>value=%{marker.size}<br>name=%{customdata[0]}\", \"legendgroup\": \"country=China\", \"marker\": {\"color\": \"#B6E880\", \"size\": [19819.73, 16948.66, 15966.61, 14145.07, 5802.59, 4588.78, 2976.94, 2664.81, 2395.18, 2076.42], \"sizemode\": \"area\", \"sizeref\": 199.5566, \"symbol\": \"circle\"}, \"mode\": \"markers\", \"name\": \"country=China\", \"showlegend\": true, \"x\": [\"7\", \"10\", \"11\", \"14\", \"42\", \"51\", \"64\", \"72\", \"79\", \"90\"], \"xaxis\": \"x\", \"y\": [19819.73, 16948.66, 15966.61, 14145.07, 5802.59, 4588.78, 2976.94, 2664.81, 2395.18, 2076.42], \"yaxis\": \"y\", \"type\": \"scatter\"}, {\"customdata\": [[\"UniCredit\"], [\"HypoVereinsbank\"]], \"hoverlabel\": {\"namelength\": 0}, \"hovertemplate\": \"country=Italy<br>year=2013<br>rank=%{x}<br>value=%{marker.size}<br>name=%{customdata[0]}\", \"legendgroup\": \"country=Italy\", \"marker\": {\"color\": \"#FF97FF\", \"size\": [4926.38, 2609.04], \"sizemode\": \"area\", \"sizeref\": 199.5566, \"symbol\": \"circle\"}, \"mode\": \"markers\", \"name\": \"country=Italy\", \"showlegend\": true, \"x\": [\"48\", \"74\"], \"xaxis\": \"x\", \"y\": [4926.38, 2609.04], \"yaxis\": \"y\", \"type\": \"scatter\"}, {\"customdata\": [[\"ANZ\"], [\"Commonwealth Bank\"], [\"nab\"], [\"Westpac\"], [\"Macquarie\"]], \"hoverlabel\": {\"namelength\": 0}, \"hovertemplate\": \"country=Australia<br>year=2013<br>rank=%{x}<br>value=%{marker.size}<br>name=%{customdata[0]}\", \"legendgroup\": \"country=Australia\", \"marker\": {\"color\": \"#FECB52\", \"size\": [5832.32, 5295.59, 4981.87, 4108.09, 2272.62], \"sizemode\": \"area\", \"sizeref\": 199.5566, \"symbol\": \"circle\"}, \"mode\": \"markers\", \"name\": \"country=Australia\", \"showlegend\": true, \"x\": [\"41\", \"46\", \"47\", \"55\", \"85\"], \"xaxis\": \"x\", \"y\": [5832.32, 5295.59, 4981.87, 4108.09, 2272.62], \"yaxis\": \"y\", \"type\": \"scatter\"}, {\"customdata\": [[\"TD\"], [\"RBC\"], [\"Scotiabank\"], [\"Bank of Montreal\"], [\"CIBC\"]], \"hoverlabel\": {\"namelength\": 0}, \"hovertemplate\": \"country=Canada<br>year=2013<br>rank=%{x}<br>value=%{marker.size}<br>name=%{customdata[0]}\", \"legendgroup\": \"country=Canada\", \"marker\": {\"color\": \"#636efa\", \"size\": [10400.77, 10276.71, 7036.48, 6491.15, 4809.44], \"sizemode\": \"area\", \"sizeref\": 199.5566, \"symbol\": \"circle\"}, \"mode\": \"markers\", \"name\": \"country=Canada\", \"showlegend\": true, \"x\": [\"22\", \"23\", \"34\", \"38\", \"49\"], \"xaxis\": \"x\", \"y\": [10400.77, 10276.71, 7036.48, 6491.15, 4809.44], \"yaxis\": \"y\", \"type\": \"scatter\"}, {\"customdata\": [[\"KBC\"]], \"hoverlabel\": {\"namelength\": 0}, \"hovertemplate\": \"country=Belgium<br>year=2013<br>rank=%{x}<br>value=%{marker.size}<br>name=%{customdata[0]}\", \"legendgroup\": \"country=Belgium\", \"marker\": {\"color\": \"#EF553B\", \"size\": [2477.95], \"sizemode\": \"area\", \"sizeref\": 199.5566, \"symbol\": \"circle\"}, \"mode\": \"markers\", \"name\": \"country=Belgium\", \"showlegend\": true, \"x\": [\"77\"], \"xaxis\": \"x\", \"y\": [2477.95], \"yaxis\": \"y\", \"type\": \"scatter\"}, {\"customdata\": [[\"Bank of Tokyo-Mitsubishi UFJ\"], [\"MUFG\"], [\"SMFG\"], [\"Mizuho\"], [\"Nomura\"]], \"hoverlabel\": {\"namelength\": 0}, \"hovertemplate\": \"country=Japan<br>year=2013<br>rank=%{x}<br>value=%{marker.size}<br>name=%{customdata[0]}\", \"legendgroup\": \"country=Japan\", \"marker\": {\"color\": \"#00cc96\", \"size\": [11595.94, 11595.9, 5483.77, 4713.24, 3519.89], \"sizemode\": \"area\", \"sizeref\": 199.5566, \"symbol\": \"circle\"}, \"mode\": \"markers\", \"name\": \"country=Japan\", \"showlegend\": true, \"x\": [\"20\", \"21\", \"43\", \"50\", \"59\"], \"xaxis\": \"x\", \"y\": [11595.94, 11595.9, 5483.77, 4713.24, 3519.89], \"yaxis\": \"y\", \"type\": \"scatter\"}, {\"customdata\": [[\"Bradesco\"], [\"Ita\\u00fa\"], [\"Banco do Brasil\"], [\"Caixa\"], [\"BNDES\"]], \"hoverlabel\": {\"namelength\": 0}, \"hovertemplate\": \"country=Brazil<br>year=2013<br>rank=%{x}<br>value=%{marker.size}<br>name=%{customdata[0]}\", \"legendgroup\": \"country=Brazil\", \"marker\": {\"color\": \"#ab63fa\", \"size\": [13610.05, 12442.18, 9883.37, 6349.1, 2056.79], \"sizemode\": \"area\", \"sizeref\": 199.5566, \"symbol\": \"circle\"}, \"mode\": \"markers\", \"name\": \"country=Brazil\", \"showlegend\": true, \"x\": [\"16\", \"19\", \"24\", \"39\", \"92\"], \"xaxis\": \"x\", \"y\": [13610.05, 12442.18, 9883.37, 6349.1, 2056.79], \"yaxis\": \"y\", \"type\": \"scatter\"}, {\"customdata\": [[\"Nordea\"], [\"Svenska Handelsbanken\"], [\"SEB\"], [\"Swedbank\"]], \"hoverlabel\": {\"namelength\": 0}, \"hovertemplate\": \"country=Sweden<br>year=2013<br>rank=%{x}<br>value=%{marker.size}<br>name=%{customdata[0]}\", \"legendgroup\": \"country=Sweden\", \"marker\": {\"color\": \"#FFA15A\", \"size\": [6538.07, 2499.26, 2303.32, 2002.53], \"sizemode\": \"area\", \"sizeref\": 199.5566, \"symbol\": \"circle\"}, \"mode\": \"markers\", \"name\": \"country=Sweden\", \"showlegend\": true, \"x\": [\"36\", \"76\", \"84\", \"95\"], \"xaxis\": \"x\", \"y\": [6538.07, 2499.26, 2303.32, 2002.53], \"yaxis\": \"y\", \"type\": \"scatter\"}, {\"customdata\": [[\"Sberbank\"], [\"VTB\"]], \"hoverlabel\": {\"namelength\": 0}, \"hovertemplate\": \"country=Russia<br>year=2013<br>rank=%{x}<br>value=%{marker.size}<br>name=%{customdata[0]}\", \"legendgroup\": \"country=Russia\", \"marker\": {\"color\": \"#19d3f3\", \"size\": [14159.6, 2343.1], \"sizemode\": \"area\", \"sizeref\": 199.5566, \"symbol\": \"circle\"}, \"mode\": \"markers\", \"name\": \"country=Russia\", \"showlegend\": true, \"x\": [\"13\", \"82\"], \"xaxis\": \"x\", \"y\": [14159.6, 2343.1], \"yaxis\": \"y\", \"type\": \"scatter\"}, {\"customdata\": [[\"State Bank of India\"]], \"hoverlabel\": {\"namelength\": 0}, \"hovertemplate\": \"country=India<br>year=2013<br>rank=%{x}<br>value=%{marker.size}<br>name=%{customdata[0]}\", \"legendgroup\": \"country=India\", \"marker\": {\"color\": \"#FF6692\", \"size\": [5994.98], \"sizemode\": \"area\", \"sizeref\": 199.5566, \"symbol\": \"circle\"}, \"mode\": \"markers\", \"name\": \"country=India\", \"showlegend\": true, \"x\": [\"40\"], \"xaxis\": \"x\", \"y\": [5994.98], \"yaxis\": \"y\", \"type\": \"scatter\"}, {\"customdata\": [[\"Erste Bank\"], [\"Raiffeisen Bank\"]], \"hoverlabel\": {\"namelength\": 0}, \"hovertemplate\": \"country=Austria<br>year=2013<br>rank=%{x}<br>value=%{marker.size}<br>name=%{customdata[0]}\", \"legendgroup\": \"country=Austria\", \"marker\": {\"color\": \"#FECB52\", \"size\": [2397.48, 2130.86], \"sizemode\": \"area\", \"sizeref\": 199.5566, \"symbol\": \"circle\"}, \"mode\": \"markers\", \"name\": \"country=Austria\", \"showlegend\": true, \"x\": [\"78\", \"87\"], \"xaxis\": \"x\", \"y\": [2397.48, 2130.86], \"yaxis\": \"y\", \"type\": \"scatter\"}, {\"customdata\": [[\"Shinhan Financial Group\"], [\"NongHyup Bank\"], [\"KB Financial Group\"], [\"Woori Financial Group\"]], \"hoverlabel\": {\"namelength\": 0}, \"hovertemplate\": \"country=South Korea<br>year=2013<br>rank=%{x}<br>value=%{marker.size}<br>name=%{customdata[0]}\", \"legendgroup\": \"country=South Korea\", \"marker\": {\"color\": \"#ab63fa\", \"size\": [4185.0, 2839.5, 2758.0, 2008.0], \"sizemode\": \"area\", \"sizeref\": 199.5566, \"symbol\": \"circle\"}, \"mode\": \"markers\", \"name\": \"country=South Korea\", \"showlegend\": true, \"x\": [\"53\", \"66\", \"68\", \"93\"], \"xaxis\": \"x\", \"y\": [4185.0, 2839.5, 2758.0, 2008.0], \"yaxis\": \"y\", \"type\": \"scatter\"}, {\"customdata\": [[\"Danske Bank\"]], \"hoverlabel\": {\"namelength\": 0}, \"hovertemplate\": \"country=Denmark<br>year=2013<br>rank=%{x}<br>value=%{marker.size}<br>name=%{customdata[0]}\", \"legendgroup\": \"country=Denmark\", \"marker\": {\"color\": \"#19d3f3\", \"size\": [3946.0], \"sizemode\": \"area\", \"sizeref\": 199.5566, \"symbol\": \"circle\"}, \"mode\": \"markers\", \"name\": \"country=Denmark\", \"showlegend\": true, \"x\": [\"56\"], \"xaxis\": \"x\", \"y\": [3946.0], \"yaxis\": \"y\", \"type\": \"scatter\"}, {\"customdata\": [[\"DBS\"], [\"UOB\"]], \"hoverlabel\": {\"namelength\": 0}, \"hovertemplate\": \"country=Singapore<br>year=2013<br>rank=%{x}<br>value=%{marker.size}<br>name=%{customdata[0]}\", \"legendgroup\": \"country=Singapore\", \"marker\": {\"color\": \"#FF6692\", \"size\": [3476.32, 2115.57], \"sizemode\": \"area\", \"sizeref\": 199.5566, \"symbol\": \"circle\"}, \"mode\": \"markers\", \"name\": \"country=Singapore\", \"showlegend\": true, \"x\": [\"60\", \"89\"], \"xaxis\": \"x\", \"y\": [3476.32, 2115.57], \"yaxis\": \"y\", \"type\": \"scatter\"}, {\"customdata\": [[\"Akbank\"], [\"Isbank\"]], \"hoverlabel\": {\"namelength\": 0}, \"hovertemplate\": \"country=Turkey<br>year=2013<br>rank=%{x}<br>value=%{marker.size}<br>name=%{customdata[0]}\", \"legendgroup\": \"country=Turkey\", \"marker\": {\"color\": \"#FECB52\", \"size\": [2121.44, 2061.08], \"sizemode\": \"area\", \"sizeref\": 199.5566, \"symbol\": \"circle\"}, \"mode\": \"markers\", \"name\": \"country=Turkey\", \"showlegend\": true, \"x\": [\"88\", \"91\"], \"xaxis\": \"x\", \"y\": [2121.44, 2061.08], \"yaxis\": \"y\", \"type\": \"scatter\"}, {\"customdata\": [[\"DNB\"]], \"hoverlabel\": {\"namelength\": 0}, \"hovertemplate\": \"country=Norway<br>year=2013<br>rank=%{x}<br>value=%{marker.size}<br>name=%{customdata[0]}\", \"legendgroup\": \"country=Norway\", \"marker\": {\"color\": \"#636efa\", \"size\": [2936.94], \"sizemode\": \"area\", \"sizeref\": 199.5566, \"symbol\": \"circle\"}, \"mode\": \"markers\", \"name\": \"country=Norway\", \"showlegend\": true, \"x\": [\"65\"], \"xaxis\": \"x\", \"y\": [2936.94], \"yaxis\": \"y\", \"type\": \"scatter\"}, {\"customdata\": [[\"CIMB\"]], \"hoverlabel\": {\"namelength\": 0}, \"hovertemplate\": \"country=Malaysia<br>year=2013<br>rank=%{x}<br>value=%{marker.size}<br>name=%{customdata[0]}\", \"legendgroup\": \"country=Malaysia\", \"marker\": {\"color\": \"#00cc96\", \"size\": [1900.0], \"sizemode\": \"area\", \"sizeref\": 199.5566, \"symbol\": \"circle\"}, \"mode\": \"markers\", \"name\": \"country=Malaysia\", \"showlegend\": true, \"x\": [\"97\"], \"xaxis\": \"x\", \"y\": [1900.0], \"yaxis\": \"y\", \"type\": \"scatter\"}], \"name\": \"2013\"}, {\"data\": [{\"customdata\": [[\"HSBC\"], [\"Barclays\"], [\"Standard Chartered\"], [\"Royal Bank of Scotland\"], [\"NatWest\"], [\"Lloyds\"], [\"Halifax\"], [\"Scottish Widows\"], [\"Nationwide Building Society\"]], \"hoverlabel\": {\"namelength\": 0}, \"hovertemplate\": \"country=United Kingdom<br>year=2014<br>rank=%{x}<br>value=%{marker.size}<br>name=%{customdata[0]}\", \"legendgroup\": \"country=United Kingdom\", \"marker\": {\"color\": \"#636efa\", \"size\": [26869.85, 14166.08, 7147.53, 3919.11, 3899.64, 3678.55, 3273.21, 2209.0, 2199.43], \"sizemode\": \"area\", \"sizeref\": 199.5566, \"symbol\": \"circle\"}, \"mode\": \"markers\", \"name\": \"country=United Kingdom\", \"showlegend\": true, \"x\": [\"2\", \"14\", \"35\", \"59\", \"60\", \"62\", \"70\", \"94\", \"95\"], \"xaxis\": \"x\", \"y\": [26869.85, 14166.08, 7147.53, 3919.11, 3899.64, 3678.55, 3273.21, 2209.0, 2199.43], \"yaxis\": \"y\", \"type\": \"scatter\"}, {\"customdata\": [[\"Wells Fargo\"], [\"Bank of America\"], [\"Citi\"], [\"Chase\"], [\"American Express\"], [\"JP Morgan\"], [\"Goldman Sachs\"], [\"Capital One\"], [\"Visa\"], [\"Morgan Stanley\"], [\"Mastercard\"], [\"U.S. Bank\"], [\"BNY Mellon\"], [\"PNC\"], [\"Bank of America Merrill Lynch\"], [\"Discover\"], [\"State Street\"], [\"Blackrock\"], [\"BB&T\"], [\"Ameriprise Financial\"], [\"SunTrust\"]], \"hoverlabel\": {\"namelength\": 0}, \"hovertemplate\": \"country=United States<br>year=2014<br>rank=%{x}<br>value=%{marker.size}<br>name=%{customdata[0]}\", \"legendgroup\": \"country=United States\", \"marker\": {\"color\": \"#EF553B\", \"size\": [30242.01, 26682.57, 24517.87, 23156.87, 21116.12, 14038.65, 10159.65, 9058.17, 9057.63, 8114.5, 6328.31, 5564.82, 4606.79, 4405.64, 3803.5, 3211.67, 3145.42, 3140.59, 2741.23, 2374.33, 2187.15], \"sizemode\": \"area\", \"sizeref\": 199.5566, \"symbol\": \"circle\"}, \"mode\": \"markers\", \"name\": \"country=United States\", \"showlegend\": true, \"x\": [\"1\", \"3\", \"4\", \"5\", \"7\", \"15\", \"23\", \"26\", \"27\", \"29\", \"41\", \"44\", \"53\", \"54\", \"61\", \"72\", \"75\", \"76\", \"80\", \"86\", \"96\"], \"xaxis\": \"x\", \"y\": [30242.01, 26682.57, 24517.87, 23156.87, 21116.12, 14038.65, 10159.65, 9058.17, 9057.63, 8114.5, 6328.31, 5564.82, 4606.79, 4405.64, 3803.5, 3211.67, 3145.42, 3140.59, 2741.23, 2374.33, 2187.15], \"yaxis\": \"y\", \"type\": \"scatter\"}, {\"customdata\": [[\"Santander\"], [\"BBVA\"], [\"CaixaBank\"]], \"hoverlabel\": {\"namelength\": 0}, \"hovertemplate\": \"country=Spain<br>year=2014<br>rank=%{x}<br>value=%{marker.size}<br>name=%{customdata[0]}\", \"legendgroup\": \"country=Spain\", \"marker\": {\"color\": \"#00cc96\", \"size\": [20021.16, 8533.18, 2357.18], \"sizemode\": \"area\", \"sizeref\": 199.5566, \"symbol\": \"circle\"}, \"mode\": \"markers\", \"name\": \"country=Spain\", \"showlegend\": true, \"x\": [\"9\", \"28\", \"87\"], \"xaxis\": \"x\", \"y\": [20021.16, 8533.18, 2357.18], \"yaxis\": \"y\", \"type\": \"scatter\"}, {\"customdata\": [[\"BNP Paribas\"], [\"Soci\\u00e9t\\u00e9 G\\u00e9n\\u00e9rale\"], [\"Natixis\"], [\"Cr\\u00e9dit Agricole\"], [\"Cr\\u00e9dit Mutuel\"]], \"hoverlabel\": {\"namelength\": 0}, \"hovertemplate\": \"country=France<br>year=2014<br>rank=%{x}<br>value=%{marker.size}<br>name=%{customdata[0]}\", \"legendgroup\": \"country=France\", \"marker\": {\"color\": \"#ab63fa\", \"size\": [20206.12, 7799.23, 3432.65, 3139.78, 2318.33], \"sizemode\": \"area\", \"sizeref\": 199.5566, \"symbol\": \"circle\"}, \"mode\": \"markers\", \"name\": \"country=France\", \"showlegend\": true, \"x\": [\"8\", \"31\", \"66\", \"77\", \"90\"], \"xaxis\": \"x\", \"y\": [20206.12, 7799.23, 3432.65, 3139.78, 2318.33], \"yaxis\": \"y\", \"type\": \"scatter\"}, {\"customdata\": [[\"UBS\"], [\"Credit Suisse\"]], \"hoverlabel\": {\"namelength\": 0}, \"hovertemplate\": \"country=Switzerland<br>year=2014<br>rank=%{x}<br>value=%{marker.size}<br>name=%{customdata[0]}\", \"legendgroup\": \"country=Switzerland\", \"marker\": {\"color\": \"#FFA15A\", \"size\": [10643.53, 10143.81], \"sizemode\": \"area\", \"sizeref\": 199.5566, \"symbol\": \"circle\"}, \"mode\": \"markers\", \"name\": \"country=Switzerland\", \"showlegend\": true, \"x\": [\"21\", \"24\"], \"xaxis\": \"x\", \"y\": [10643.53, 10143.81], \"yaxis\": \"y\", \"type\": \"scatter\"}, {\"customdata\": [[\"ING (Group)\"], [\"Rabobank\"], [\"ABN AMRO\"]], \"hoverlabel\": {\"namelength\": 0}, \"hovertemplate\": \"country=Netherlands<br>year=2014<br>rank=%{x}<br>value=%{marker.size}<br>name=%{customdata[0]}\", \"legendgroup\": \"country=Netherlands\", \"marker\": {\"color\": \"#19d3f3\", \"size\": [13674.0, 6722.91, 3199.68], \"sizemode\": \"area\", \"sizeref\": 199.5566, \"symbol\": \"circle\"}, \"mode\": \"markers\", \"name\": \"country=Netherlands\", \"showlegend\": true, \"x\": [\"16\", \"39\", \"73\"], \"xaxis\": \"x\", \"y\": [13674.0, 6722.91, 3199.68], \"yaxis\": \"y\", \"type\": \"scatter\"}, {\"customdata\": [[\"Deutsche Bank\"], [\"DZ Bank\"], [\"Commerzbank\"]], \"hoverlabel\": {\"namelength\": 0}, \"hovertemplate\": \"country=Germany<br>year=2014<br>rank=%{x}<br>value=%{marker.size}<br>name=%{customdata[0]}\", \"legendgroup\": \"country=Germany\", \"marker\": {\"color\": \"#FF6692\", \"size\": [13491.24, 4950.29, 3612.5], \"sizemode\": \"area\", \"sizeref\": 199.5566, \"symbol\": \"circle\"}, \"mode\": \"markers\", \"name\": \"country=Germany\", \"showlegend\": true, \"x\": [\"17\", \"50\", \"63\"], \"xaxis\": \"x\", \"y\": [13491.24, 4950.29, 3612.5], \"yaxis\": \"y\", \"type\": \"scatter\"}, {\"customdata\": [[\"ICBC\"], [\"China Construction Bank\"], [\"Agricultural Bank Of China\"], [\"Bank of China\"], [\"Bank of Communications\"], [\"China Merchants Bank\"], [\"China Minsheng Bank\"], [\"Industrial Bank\"], [\"China CITIC Bank\"], [\"Shanghai Pudong Development Bank\"], [\"Hang Seng Bank\"], [\"China Everbright Bank\"]], \"hoverlabel\": {\"namelength\": 0}, \"hovertemplate\": \"country=China<br>year=2014<br>rank=%{x}<br>value=%{marker.size}<br>name=%{customdata[0]}\", \"legendgroup\": \"country=China\", \"marker\": {\"color\": \"#B6E880\", \"size\": [22803.38, 18953.93, 17782.66, 16725.32, 6883.84, 5390.37, 4375.21, 3275.68, 3044.07, 2664.01, 2625.94, 2163.36], \"sizemode\": \"area\", \"sizeref\": 199.5566, \"symbol\": \"circle\"}, \"mode\": \"markers\", \"name\": \"country=China\", \"showlegend\": true, \"x\": [\"6\", \"10\", \"11\", \"13\", \"38\", \"47\", \"55\", \"68\", \"78\", \"81\", \"83\", \"98\"], \"xaxis\": \"x\", \"y\": [22803.38, 18953.93, 17782.66, 16725.32, 6883.84, 5390.37, 4375.21, 3275.68, 3044.07, 2664.01, 2625.94, 2163.36], \"yaxis\": \"y\", \"type\": \"scatter\"}, {\"customdata\": [[\"UniCredit\"]], \"hoverlabel\": {\"namelength\": 0}, \"hovertemplate\": \"country=Italy<br>year=2014<br>rank=%{x}<br>value=%{marker.size}<br>name=%{customdata[0]}\", \"legendgroup\": \"country=Italy\", \"marker\": {\"color\": \"#FF97FF\", \"size\": [6584.99], \"sizemode\": \"area\", \"sizeref\": 199.5566, \"symbol\": \"circle\"}, \"mode\": \"markers\", \"name\": \"country=Italy\", \"showlegend\": true, \"x\": [\"40\"], \"xaxis\": \"x\", \"y\": [6584.99], \"yaxis\": \"y\", \"type\": \"scatter\"}, {\"customdata\": [[\"ANZ\"], [\"Commonwealth Bank\"], [\"National Australia Bank\"], [\"Westpac\"], [\"Macquarie\"]], \"hoverlabel\": {\"namelength\": 0}, \"hovertemplate\": \"country=Australia<br>year=2014<br>rank=%{x}<br>value=%{marker.size}<br>name=%{customdata[0]}\", \"legendgroup\": \"country=Australia\", \"marker\": {\"color\": \"#FECB52\", \"size\": [5925.54, 5475.42, 4998.09, 4901.36, 2249.98], \"sizemode\": \"area\", \"sizeref\": 199.5566, \"symbol\": \"circle\"}, \"mode\": \"markers\", \"name\": \"country=Australia\", \"showlegend\": true, \"x\": [\"42\", \"45\", \"49\", \"51\", \"93\"], \"xaxis\": \"x\", \"y\": [5925.54, 5475.42, 4998.09, 4901.36, 2249.98], \"yaxis\": \"y\", \"type\": \"scatter\"}, {\"customdata\": [[\"RBC\"], [\"TD Bank\"], [\"Scotiabank\"], [\"Bank of Montreal\"], [\"CIBC\"], [\"National Bank of Canada\"], [\"Desjardins\"]], \"hoverlabel\": {\"namelength\": 0}, \"hovertemplate\": \"country=Canada<br>year=2014<br>rank=%{x}<br>value=%{marker.size}<br>name=%{customdata[0]}\", \"legendgroup\": \"country=Canada\", \"marker\": {\"color\": \"#636efa\", \"size\": [11060.05, 10855.43, 7716.67, 7114.38, 5028.09, 2294.29, 2269.69], \"sizemode\": \"area\", \"sizeref\": 199.5566, \"symbol\": \"circle\"}, \"mode\": \"markers\", \"name\": \"country=Canada\", \"showlegend\": true, \"x\": [\"18\", \"20\", \"32\", \"36\", \"48\", \"91\", \"92\"], \"xaxis\": \"x\", \"y\": [11060.05, 10855.43, 7716.67, 7114.38, 5028.09, 2294.29, 2269.69], \"yaxis\": \"y\", \"type\": \"scatter\"}, {\"customdata\": [[\"KBC\"]], \"hoverlabel\": {\"namelength\": 0}, \"hovertemplate\": \"country=Belgium<br>year=2014<br>rank=%{x}<br>value=%{marker.size}<br>name=%{customdata[0]}\", \"legendgroup\": \"country=Belgium\", \"marker\": {\"color\": \"#EF553B\", \"size\": [3467.95], \"sizemode\": \"area\", \"sizeref\": 199.5566, \"symbol\": \"circle\"}, \"mode\": \"markers\", \"name\": \"country=Belgium\", \"showlegend\": true, \"x\": [\"64\"], \"xaxis\": \"x\", \"y\": [3467.95], \"yaxis\": \"y\", \"type\": \"scatter\"}, {\"customdata\": [[\"MUFG\"], [\"SMFG\"], [\"Mizuho\"], [\"Nomura\"]], \"hoverlabel\": {\"namelength\": 0}, \"hovertemplate\": \"country=Japan<br>year=2014<br>rank=%{x}<br>value=%{marker.size}<br>name=%{customdata[0]}\", \"legendgroup\": \"country=Japan\", \"marker\": {\"color\": \"#00cc96\", \"size\": [17560.6, 7832.69, 7689.91, 5568.02], \"sizemode\": \"area\", \"sizeref\": 199.5566, \"symbol\": \"circle\"}, \"mode\": \"markers\", \"name\": \"country=Japan\", \"showlegend\": true, \"x\": [\"12\", \"30\", \"33\", \"43\"], \"xaxis\": \"x\", \"y\": [17560.6, 7832.69, 7689.91, 5568.02], \"yaxis\": \"y\", \"type\": \"scatter\"}, {\"customdata\": [[\"Bradesco\"], [\"Ita\\u00fa\"], [\"Banco do Brasil\"], [\"Caixa\"]], \"hoverlabel\": {\"namelength\": 0}, \"hovertemplate\": \"country=Brazil<br>year=2014<br>rank=%{x}<br>value=%{marker.size}<br>name=%{customdata[0]}\", \"legendgroup\": \"country=Brazil\", \"marker\": {\"color\": \"#ab63fa\", \"size\": [10599.93, 9904.09, 6971.8, 4758.54], \"sizemode\": \"area\", \"sizeref\": 199.5566, \"symbol\": \"circle\"}, \"mode\": \"markers\", \"name\": \"country=Brazil\", \"showlegend\": true, \"x\": [\"22\", \"25\", \"37\", \"52\"], \"xaxis\": \"x\", \"y\": [10599.93, 9904.09, 6971.8, 4758.54], \"yaxis\": \"y\", \"type\": \"scatter\"}, {\"customdata\": [[\"Nordea\"], [\"Svenska Handelsbanken\"], [\"SEB\"], [\"Swedbank\"]], \"hoverlabel\": {\"namelength\": 0}, \"hovertemplate\": \"country=Sweden<br>year=2014<br>rank=%{x}<br>value=%{marker.size}<br>name=%{customdata[0]}\", \"legendgroup\": \"country=Sweden\", \"marker\": {\"color\": \"#FFA15A\", \"size\": [7375.61, 3151.25, 2328.25, 2107.13], \"sizemode\": \"area\", \"sizeref\": 199.5566, \"symbol\": \"circle\"}, \"mode\": \"markers\", \"name\": \"country=Sweden\", \"showlegend\": true, \"x\": [\"34\", \"74\", \"89\", \"99\"], \"xaxis\": \"x\", \"y\": [7375.61, 3151.25, 2328.25, 2107.13], \"yaxis\": \"y\", \"type\": \"scatter\"}, {\"customdata\": [[\"Sberbank\"], [\"VTB\"]], \"hoverlabel\": {\"namelength\": 0}, \"hovertemplate\": \"country=Russia<br>year=2014<br>rank=%{x}<br>value=%{marker.size}<br>name=%{customdata[0]}\", \"legendgroup\": \"country=Russia\", \"marker\": {\"color\": \"#19d3f3\", \"size\": [10949.86, 3263.53], \"sizemode\": \"area\", \"sizeref\": 199.5566, \"symbol\": \"circle\"}, \"mode\": \"markers\", \"name\": \"country=Russia\", \"showlegend\": true, \"x\": [\"19\", \"71\"], \"xaxis\": \"x\", \"y\": [10949.86, 3263.53], \"yaxis\": \"y\", \"type\": \"scatter\"}, {\"customdata\": [[\"State Bank of India\"]], \"hoverlabel\": {\"namelength\": 0}, \"hovertemplate\": \"country=India<br>year=2014<br>rank=%{x}<br>value=%{marker.size}<br>name=%{customdata[0]}\", \"legendgroup\": \"country=India\", \"marker\": {\"color\": \"#FF6692\", \"size\": [4063.15], \"sizemode\": \"area\", \"sizeref\": 199.5566, \"symbol\": \"circle\"}, \"mode\": \"markers\", \"name\": \"country=India\", \"showlegend\": true, \"x\": [\"57\"], \"xaxis\": \"x\", \"y\": [4063.15], \"yaxis\": \"y\", \"type\": \"scatter\"}, {\"customdata\": [[\"Erste Bank\"]], \"hoverlabel\": {\"namelength\": 0}, \"hovertemplate\": \"country=Austria<br>year=2014<br>rank=%{x}<br>value=%{marker.size}<br>name=%{customdata[0]}\", \"legendgroup\": \"country=Austria\", \"marker\": {\"color\": \"#FECB52\", \"size\": [3382.14], \"sizemode\": \"area\", \"sizeref\": 199.5566, \"symbol\": \"circle\"}, \"mode\": \"markers\", \"name\": \"country=Austria\", \"showlegend\": true, \"x\": [\"67\"], \"xaxis\": \"x\", \"y\": [3382.14], \"yaxis\": \"y\", \"type\": \"scatter\"}, {\"customdata\": [[\"Shinhan Financial Group\"], [\"KB Financial Group\"], [\"KB Kookmin Bank\"], [\"Woori Financial Group\"], [\"Shinhan Card\"], [\"Woori Bank\"]], \"hoverlabel\": {\"namelength\": 0}, \"hovertemplate\": \"country=South Korea<br>year=2014<br>rank=%{x}<br>value=%{marker.size}<br>name=%{customdata[0]}\", \"legendgroup\": \"country=South Korea\", \"marker\": {\"color\": \"#ab63fa\", \"size\": [5416.0, 3464.46, 2656.39, 2445.0, 2392.14, 2064.87], \"sizemode\": \"area\", \"sizeref\": 199.5566, \"symbol\": \"circle\"}, \"mode\": \"markers\", \"name\": \"country=South Korea\", \"showlegend\": true, \"x\": [\"46\", \"65\", \"82\", \"84\", \"85\", \"100\"], \"xaxis\": \"x\", \"y\": [5416.0, 3464.46, 2656.39, 2445.0, 2392.14, 2064.87], \"yaxis\": \"y\", \"type\": \"scatter\"}, {\"customdata\": [[\"Danske Bank\"]], \"hoverlabel\": {\"namelength\": 0}, \"hovertemplate\": \"country=Denmark<br>year=2014<br>rank=%{x}<br>value=%{marker.size}<br>name=%{customdata[0]}\", \"legendgroup\": \"country=Denmark\", \"marker\": {\"color\": \"#19d3f3\", \"size\": [3023.08], \"sizemode\": \"area\", \"sizeref\": 199.5566, \"symbol\": \"circle\"}, \"mode\": \"markers\", \"name\": \"country=Denmark\", \"showlegend\": true, \"x\": [\"79\"], \"xaxis\": \"x\", \"y\": [3023.08], \"yaxis\": \"y\", \"type\": \"scatter\"}, {\"customdata\": [[\"DBS\"], [\"OCBC Bank\"], [\"UOB\"]], \"hoverlabel\": {\"namelength\": 0}, \"hovertemplate\": \"country=Singapore<br>year=2014<br>rank=%{x}<br>value=%{marker.size}<br>name=%{customdata[0]}\", \"legendgroup\": \"country=Singapore\", \"marker\": {\"color\": \"#FF6692\", \"size\": [4011.3, 2333.14, 2184.69], \"sizemode\": \"area\", \"sizeref\": 199.5566, \"symbol\": \"circle\"}, \"mode\": \"markers\", \"name\": \"country=Singapore\", \"showlegend\": true, \"x\": [\"58\", \"88\", \"97\"], \"xaxis\": \"x\", \"y\": [4011.3, 2333.14, 2184.69], \"yaxis\": \"y\", \"type\": \"scatter\"}, {\"customdata\": [[\"DNB\"]], \"hoverlabel\": {\"namelength\": 0}, \"hovertemplate\": \"country=Norway<br>year=2014<br>rank=%{x}<br>value=%{marker.size}<br>name=%{customdata[0]}\", \"legendgroup\": \"country=Norway\", \"marker\": {\"color\": \"#636efa\", \"size\": [3273.51], \"sizemode\": \"area\", \"sizeref\": 199.5566, \"symbol\": \"circle\"}, \"mode\": \"markers\", \"name\": \"country=Norway\", \"showlegend\": true, \"x\": [\"69\"], \"xaxis\": \"x\", \"y\": [3273.51], \"yaxis\": \"y\", \"type\": \"scatter\"}, {\"customdata\": [[\"Antarchile\"]], \"hoverlabel\": {\"namelength\": 0}, \"hovertemplate\": \"country=Chile<br>year=2014<br>rank=%{x}<br>value=%{marker.size}<br>name=%{customdata[0]}\", \"legendgroup\": \"country=Chile\", \"marker\": {\"color\": \"#ab63fa\", \"size\": [4264.84], \"sizemode\": \"area\", \"sizeref\": 199.5566, \"symbol\": \"circle\"}, \"mode\": \"markers\", \"name\": \"country=Chile\", \"showlegend\": true, \"x\": [\"56\"], \"xaxis\": \"x\", \"y\": [4264.84], \"yaxis\": \"y\", \"type\": \"scatter\"}], \"name\": \"2014\"}, {\"data\": [{\"customdata\": [[\"HSBC\"], [\"Barclays\"], [\"Lloyds Bank\"], [\"Standard Chartered\"], [\"Halifax\"], [\"NatWest\"], [\"Royal Bank of Scotland\"], [\"Nationwide Building Society\"]], \"hoverlabel\": {\"namelength\": 0}, \"hovertemplate\": \"country=United Kingdom<br>year=2015<br>rank=%{x}<br>value=%{marker.size}<br>name=%{customdata[0]}\", \"legendgroup\": \"country=United Kingdom\", \"marker\": {\"color\": \"#636efa\", \"size\": [27280.03, 14205.8, 6894.52, 5161.97, 3862.01, 3845.87, 3685.3, 2177.37], \"sizemode\": \"area\", \"sizeref\": 199.5566, \"symbol\": \"circle\"}, \"mode\": \"markers\", \"name\": \"country=United Kingdom\", \"showlegend\": true, \"x\": [\"3\", \"13\", \"35\", \"47\", \"59\", \"60\", \"63\", \"94\"], \"xaxis\": \"x\", \"y\": [27280.03, 14205.8, 6894.52, 5161.97, 3862.01, 3845.87, 3685.3, 2177.37], \"yaxis\": \"y\", \"type\": \"scatter\"}, {\"customdata\": [[\"Wells Fargo\"], [\"Citi\"], [\"Bank of America\"], [\"Chase\"], [\"J.P. Morgan\"], [\"Goldman Sachs\"], [\"Capital One\"], [\"Morgan Stanley\"], [\"U.S. Bank\"], [\"PNC\"], [\"BNY Mellon\"], [\"Bank of America Merrill Lynch\"], [\"State Street\"], [\"BB&T\"], [\"Charles Schwab\"], [\"SunTrust\"]], \"hoverlabel\": {\"namelength\": 0}, \"hovertemplate\": \"country=United States<br>year=2015<br>rank=%{x}<br>value=%{marker.size}<br>name=%{customdata[0]}\", \"legendgroup\": \"country=United States\", \"marker\": {\"color\": \"#EF553B\", \"size\": [34925.23, 26209.96, 25713.29, 23392.0, 11958.17, 9403.0, 9391.66, 8888.4, 5643.57, 4957.75, 4779.56, 3605.78, 3117.24, 2813.56, 2316.08, 2193.42], \"sizemode\": \"area\", \"sizeref\": 199.5566, \"symbol\": \"circle\"}, \"mode\": \"markers\", \"name\": \"country=United States\", \"showlegend\": true, \"x\": [\"1\", \"5\", \"6\", \"7\", \"16\", \"20\", \"21\", \"24\", \"45\", \"50\", \"53\", \"64\", \"68\", \"74\", \"88\", \"93\"], \"xaxis\": \"x\", \"y\": [34925.23, 26209.96, 25713.29, 23392.0, 11958.17, 9403.0, 9391.66, 8888.4, 5643.57, 4957.75, 4779.56, 3605.78, 3117.24, 2813.56, 2316.08, 2193.42], \"yaxis\": \"y\", \"type\": \"scatter\"}, {\"customdata\": [[\"Santander\"], [\"BBVA\"], [\"CaixaBank\"]], \"hoverlabel\": {\"namelength\": 0}, \"hovertemplate\": \"country=Spain<br>year=2015<br>rank=%{x}<br>value=%{marker.size}<br>name=%{customdata[0]}\", \"legendgroup\": \"country=Spain\", \"marker\": {\"color\": \"#00cc96\", \"size\": [18700.48, 8335.01, 3065.87], \"sizemode\": \"area\", \"sizeref\": 199.5566, \"symbol\": \"circle\"}, \"mode\": \"markers\", \"name\": \"country=Spain\", \"showlegend\": true, \"x\": [\"10\", \"28\", \"70\"], \"xaxis\": \"x\", \"y\": [18700.48, 8335.01, 3065.87], \"yaxis\": \"y\", \"type\": \"scatter\"}, {\"customdata\": [[\"BNP Paribas\"], [\"Soci\\u00e9t\\u00e9 G\\u00e9n\\u00e9rale\"], [\"Cr\\u00e9dit Agricole\"], [\"Cr\\u00e9dit Mutuel\"], [\"CIC\"], [\"Natixis\"]], \"hoverlabel\": {\"namelength\": 0}, \"hovertemplate\": \"country=France<br>year=2015<br>rank=%{x}<br>value=%{marker.size}<br>name=%{customdata[0]}\", \"legendgroup\": \"country=France\", \"marker\": {\"color\": \"#ab63fa\", \"size\": [14938.58, 7414.69, 4421.44, 2709.6, 2168.96, 2032.23], \"sizemode\": \"area\", \"sizeref\": 199.5566, \"symbol\": \"circle\"}, \"mode\": \"markers\", \"name\": \"country=France\", \"showlegend\": true, \"x\": [\"11\", \"30\", \"55\", \"78\", \"95\", \"99\"], \"xaxis\": \"x\", \"y\": [14938.58, 7414.69, 4421.44, 2709.6, 2168.96, 2032.23], \"yaxis\": \"y\", \"type\": \"scatter\"}, {\"customdata\": [[\"UBS\"], [\"Credit Suisse\"]], \"hoverlabel\": {\"namelength\": 0}, \"hovertemplate\": \"country=Switzerland<br>year=2015<br>rank=%{x}<br>value=%{marker.size}<br>name=%{customdata[0]}\", \"legendgroup\": \"country=Switzerland\", \"marker\": {\"color\": \"#FFA15A\", \"size\": [11574.14, 9181.48], \"sizemode\": \"area\", \"sizeref\": 199.5566, \"symbol\": \"circle\"}, \"mode\": \"markers\", \"name\": \"country=Switzerland\", \"showlegend\": true, \"x\": [\"17\", \"22\"], \"xaxis\": \"x\", \"y\": [11574.14, 9181.48], \"yaxis\": \"y\", \"type\": \"scatter\"}, {\"customdata\": [[\"ING\"], [\"Rabobank\"], [\"ABN AMRO\"]], \"hoverlabel\": {\"namelength\": 0}, \"hovertemplate\": \"country=Netherlands<br>year=2015<br>rank=%{x}<br>value=%{marker.size}<br>name=%{customdata[0]}\", \"legendgroup\": \"country=Netherlands\", \"marker\": {\"color\": \"#19d3f3\", \"size\": [8876.0, 7015.97, 3354.44], \"sizemode\": \"area\", \"sizeref\": 199.5566, \"symbol\": \"circle\"}, \"mode\": \"markers\", \"name\": \"country=Netherlands\", \"showlegend\": true, \"x\": [\"26\", \"33\", \"65\"], \"xaxis\": \"x\", \"y\": [8876.0, 7015.97, 3354.44], \"yaxis\": \"y\", \"type\": \"scatter\"}, {\"customdata\": [[\"Deutsche Bank\"], [\"DZ Bank\"], [\"Commerzbank\"]], \"hoverlabel\": {\"namelength\": 0}, \"hovertemplate\": \"country=Germany<br>year=2015<br>rank=%{x}<br>value=%{marker.size}<br>name=%{customdata[0]}\", \"legendgroup\": \"country=Germany\", \"marker\": {\"color\": \"#FF6692\", \"size\": [10993.2, 2963.24, 2754.14], \"sizemode\": \"area\", \"sizeref\": 199.5566, \"symbol\": \"circle\"}, \"mode\": \"markers\", \"name\": \"country=Germany\", \"showlegend\": true, \"x\": [\"19\", \"72\", \"76\"], \"xaxis\": \"x\", \"y\": [10993.2, 2963.24, 2754.14], \"yaxis\": \"y\", \"type\": \"scatter\"}, {\"customdata\": [[\"ICBC\"], [\"China Construction Bank\"], [\"Agricultural Bank Of China\"], [\"Bank of China\"], [\"China Merchants Bank\"], [\"Bank of Communications\"], [\"China Minsheng Bank\"], [\"China CITIC Bank\"], [\"Industrial Bank\"], [\"Shanghai Pudong Development Bank\"], [\"Ping An Bank\"], [\"China Everbright Bank\"], [\"Hua Xia Bank\"]], \"hoverlabel\": {\"namelength\": 0}, \"hovertemplate\": \"country=China<br>year=2015<br>rank=%{x}<br>value=%{marker.size}<br>name=%{customdata[0]}\", \"legendgroup\": \"country=China\", \"marker\": {\"color\": \"#B6E880\", \"size\": [27458.93, 26417.24, 22714.05, 20391.69, 8880.28, 7124.39, 5780.67, 4896.88, 4546.19, 4031.73, 3109.64, 2988.88, 2099.56], \"sizemode\": \"area\", \"sizeref\": 199.5566, \"symbol\": \"circle\"}, \"mode\": \"markers\", \"name\": \"country=China\", \"showlegend\": true, \"x\": [\"2\", \"4\", \"8\", \"9\", \"25\", \"31\", \"43\", \"51\", \"54\", \"58\", \"69\", \"71\", \"97\"], \"xaxis\": \"x\", \"y\": [27458.93, 26417.24, 22714.05, 20391.69, 8880.28, 7124.39, 5780.67, 4896.88, 4546.19, 4031.73, 3109.64, 2988.88, 2099.56], \"yaxis\": \"y\", \"type\": \"scatter\"}, {\"customdata\": [[\"UniCredit\"]], \"hoverlabel\": {\"namelength\": 0}, \"hovertemplate\": \"country=Italy<br>year=2015<br>rank=%{x}<br>value=%{marker.size}<br>name=%{customdata[0]}\", \"legendgroup\": \"country=Italy\", \"marker\": {\"color\": \"#FF97FF\", \"size\": [5405.35], \"sizemode\": \"area\", \"sizeref\": 199.5566, \"symbol\": \"circle\"}, \"mode\": \"markers\", \"name\": \"country=Italy\", \"showlegend\": true, \"x\": [\"46\"], \"xaxis\": \"x\", \"y\": [5405.35], \"yaxis\": \"y\", \"type\": \"scatter\"}, {\"customdata\": [[\"Commonwealth Bank of Australia\"], [\"ANZ\"], [\"Westpac\"], [\"nab\"], [\"Macquarie\"], [\"St.George\"]], \"hoverlabel\": {\"namelength\": 0}, \"hovertemplate\": \"country=Australia<br>year=2015<br>rank=%{x}<br>value=%{marker.size}<br>name=%{customdata[0]}\", \"legendgroup\": \"country=Australia\", \"marker\": {\"color\": \"#FECB52\", \"size\": [7520.0, 6664.18, 5672.91, 5138.81, 2509.55, 1997.33], \"sizemode\": \"area\", \"sizeref\": 199.5566, \"symbol\": \"circle\"}, \"mode\": \"markers\", \"name\": \"country=Australia\", \"showlegend\": true, \"x\": [\"29\", \"38\", \"44\", \"48\", \"83\", \"100\"], \"xaxis\": \"x\", \"y\": [7520.0, 6664.18, 5672.91, 5138.81, 2509.55, 1997.33], \"yaxis\": \"y\", \"type\": \"scatter\"}, {\"customdata\": [[\"Royal Bank Of Canada\"], [\"TD Bank\"], [\"Scotiabank\"], [\"Bank of Montreal\"], [\"CIBC\"], [\"National Bank of Canada\"], [\"Desjardins\"]], \"hoverlabel\": {\"namelength\": 0}, \"hovertemplate\": \"country=Canada<br>year=2015<br>rank=%{x}<br>value=%{marker.size}<br>name=%{customdata[0]}\", \"legendgroup\": \"country=Canada\", \"marker\": {\"color\": \"#636efa\", \"size\": [12472.78, 11127.16, 7028.22, 6930.47, 4850.94, 2383.54, 2325.16], \"sizemode\": \"area\", \"sizeref\": 199.5566, \"symbol\": \"circle\"}, \"mode\": \"markers\", \"name\": \"country=Canada\", \"showlegend\": true, \"x\": [\"14\", \"18\", \"32\", \"34\", \"52\", \"86\", \"87\"], \"xaxis\": \"x\", \"y\": [12472.78, 11127.16, 7028.22, 6930.47, 4850.94, 2383.54, 2325.16], \"yaxis\": \"y\", \"type\": \"scatter\"}, {\"customdata\": [[\"KBC\"]], \"hoverlabel\": {\"namelength\": 0}, \"hovertemplate\": \"country=Belgium<br>year=2015<br>rank=%{x}<br>value=%{marker.size}<br>name=%{customdata[0]}\", \"legendgroup\": \"country=Belgium\", \"marker\": {\"color\": \"#EF553B\", \"size\": [3815.75], \"sizemode\": \"area\", \"sizeref\": 199.5566, \"symbol\": \"circle\"}, \"mode\": \"markers\", \"name\": \"country=Belgium\", \"showlegend\": true, \"x\": [\"62\"], \"xaxis\": \"x\", \"y\": [3815.75], \"yaxis\": \"y\", \"type\": \"scatter\"}, {\"customdata\": [[\"MUFG\"], [\"Mizuho\"], [\"SMFG\"], [\"Nomura\"]], \"hoverlabel\": {\"namelength\": 0}, \"hovertemplate\": \"country=Japan<br>year=2015<br>rank=%{x}<br>value=%{marker.size}<br>name=%{customdata[0]}\", \"legendgroup\": \"country=Japan\", \"marker\": {\"color\": \"#00cc96\", \"size\": [14511.33, 6603.42, 6142.1, 3824.14], \"sizemode\": \"area\", \"sizeref\": 199.5566, \"symbol\": \"circle\"}, \"mode\": \"markers\", \"name\": \"country=Japan\", \"showlegend\": true, \"x\": [\"12\", \"39\", \"42\", \"61\"], \"xaxis\": \"x\", \"y\": [14511.33, 6603.42, 6142.1, 3824.14], \"yaxis\": \"y\", \"type\": \"scatter\"}, {\"customdata\": [[\"Bradesco\"], [\"Ita\\u00fa\"], [\"Banco do Brasil\"], [\"Caixa\"]], \"hoverlabel\": {\"namelength\": 0}, \"hovertemplate\": \"country=Brazil<br>year=2015<br>rank=%{x}<br>value=%{marker.size}<br>name=%{customdata[0]}\", \"legendgroup\": \"country=Brazil\", \"marker\": {\"color\": \"#ab63fa\", \"size\": [12384.51, 9020.99, 6549.03, 5122.71], \"sizemode\": \"area\", \"sizeref\": 199.5566, \"symbol\": \"circle\"}, \"mode\": \"markers\", \"name\": \"country=Brazil\", \"showlegend\": true, \"x\": [\"15\", \"23\", \"41\", \"49\"], \"xaxis\": \"x\", \"y\": [12384.51, 9020.99, 6549.03, 5122.71], \"yaxis\": \"y\", \"type\": \"scatter\"}, {\"customdata\": [[\"Nordea\"], [\"Svenska Handelsbanken\"], [\"SEB\"], [\"Swedbank\"]], \"hoverlabel\": {\"namelength\": 0}, \"hovertemplate\": \"country=Sweden<br>year=2015<br>rank=%{x}<br>value=%{marker.size}<br>name=%{customdata[0]}\", \"legendgroup\": \"country=Sweden\", \"marker\": {\"color\": \"#FFA15A\", \"size\": [6691.56, 3210.79, 2720.02, 2250.75], \"sizemode\": \"area\", \"sizeref\": 199.5566, \"symbol\": \"circle\"}, \"mode\": \"markers\", \"name\": \"country=Sweden\", \"showlegend\": true, \"x\": [\"37\", \"67\", \"77\", \"91\"], \"xaxis\": \"x\", \"y\": [6691.56, 3210.79, 2720.02, 2250.75], \"yaxis\": \"y\", \"type\": \"scatter\"}, {\"customdata\": [[\"Sberbank\"], [\"VTB Bank\"]], \"hoverlabel\": {\"namelength\": 0}, \"hovertemplate\": \"country=Russia<br>year=2015<br>rank=%{x}<br>value=%{marker.size}<br>name=%{customdata[0]}\", \"legendgroup\": \"country=Russia\", \"marker\": {\"color\": \"#19d3f3\", \"size\": [8667.57, 2251.43], \"sizemode\": \"area\", \"sizeref\": 199.5566, \"symbol\": \"circle\"}, \"mode\": \"markers\", \"name\": \"country=Russia\", \"showlegend\": true, \"x\": [\"27\", \"90\"], \"xaxis\": \"x\", \"y\": [8667.57, 2251.43], \"yaxis\": \"y\", \"type\": \"scatter\"}, {\"customdata\": [[\"State Bank of India\"], [\"ICICI Bank\"]], \"hoverlabel\": {\"namelength\": 0}, \"hovertemplate\": \"country=India<br>year=2015<br>rank=%{x}<br>value=%{marker.size}<br>name=%{customdata[0]}\", \"legendgroup\": \"country=India\", \"marker\": {\"color\": \"#FF6692\", \"size\": [6562.78, 2527.17], \"sizemode\": \"area\", \"sizeref\": 199.5566, \"symbol\": \"circle\"}, \"mode\": \"markers\", \"name\": \"country=India\", \"showlegend\": true, \"x\": [\"40\", \"81\"], \"xaxis\": \"x\", \"y\": [6562.78, 2527.17], \"yaxis\": \"y\", \"type\": \"scatter\"}, {\"customdata\": [[\"Erste Group\"]], \"hoverlabel\": {\"namelength\": 0}, \"hovertemplate\": \"country=Austria<br>year=2015<br>rank=%{x}<br>value=%{marker.size}<br>name=%{customdata[0]}\", \"legendgroup\": \"country=Austria\", \"marker\": {\"color\": \"#FECB52\", \"size\": [2605.57], \"sizemode\": \"area\", \"sizeref\": 199.5566, \"symbol\": \"circle\"}, \"mode\": \"markers\", \"name\": \"country=Austria\", \"showlegend\": true, \"x\": [\"79\"], \"xaxis\": \"x\", \"y\": [2605.57], \"yaxis\": \"y\", \"type\": \"scatter\"}, {\"customdata\": [[\"Shinhan Financial Group\"], [\"KB Financial Group\"], [\"Woori Bank\"]], \"hoverlabel\": {\"namelength\": 0}, \"hovertemplate\": \"country=South Korea<br>year=2015<br>rank=%{x}<br>value=%{marker.size}<br>name=%{customdata[0]}\", \"legendgroup\": \"country=South Korea\", \"marker\": {\"color\": \"#ab63fa\", \"size\": [6847.8, 4215.75, 2289.87], \"sizemode\": \"area\", \"sizeref\": 199.5566, \"symbol\": \"circle\"}, \"mode\": \"markers\", \"name\": \"country=South Korea\", \"showlegend\": true, \"x\": [\"36\", \"57\", \"89\"], \"xaxis\": \"x\", \"y\": [6847.8, 4215.75, 2289.87], \"yaxis\": \"y\", \"type\": \"scatter\"}, {\"customdata\": [[\"Danske Bank\"]], \"hoverlabel\": {\"namelength\": 0}, \"hovertemplate\": \"country=Denmark<br>year=2015<br>rank=%{x}<br>value=%{marker.size}<br>name=%{customdata[0]}\", \"legendgroup\": \"country=Denmark\", \"marker\": {\"color\": \"#19d3f3\", \"size\": [2861.28], \"sizemode\": \"area\", \"sizeref\": 199.5566, \"symbol\": \"circle\"}, \"mode\": \"markers\", \"name\": \"country=Denmark\", \"showlegend\": true, \"x\": [\"73\"], \"xaxis\": \"x\", \"y\": [2861.28], \"yaxis\": \"y\", \"type\": \"scatter\"}, {\"customdata\": [[\"DBS\"], [\"OCBC Bank\"], [\"UOB\"]], \"hoverlabel\": {\"namelength\": 0}, \"hovertemplate\": \"country=Singapore<br>year=2015<br>rank=%{x}<br>value=%{marker.size}<br>name=%{customdata[0]}\", \"legendgroup\": \"country=Singapore\", \"marker\": {\"color\": \"#FF6692\", \"size\": [4415.74, 2787.35, 2403.73], \"sizemode\": \"area\", \"sizeref\": 199.5566, \"symbol\": \"circle\"}, \"mode\": \"markers\", \"name\": \"country=Singapore\", \"showlegend\": true, \"x\": [\"56\", \"75\", \"85\"], \"xaxis\": \"x\", \"y\": [4415.74, 2787.35, 2403.73], \"yaxis\": \"y\", \"type\": \"scatter\"}, {\"customdata\": [[\"Hang Seng Bank\"]], \"hoverlabel\": {\"namelength\": 0}, \"hovertemplate\": \"country=China (Hong Kong)<br>year=2015<br>rank=%{x}<br>value=%{marker.size}<br>name=%{customdata[0]}\", \"legendgroup\": \"country=China (Hong Kong)\", \"marker\": {\"color\": \"#FF97FF\", \"size\": [2113.07], \"sizemode\": \"area\", \"sizeref\": 199.5566, \"symbol\": \"circle\"}, \"mode\": \"markers\", \"name\": \"country=China (Hong Kong)\", \"showlegend\": true, \"x\": [\"96\"], \"xaxis\": \"x\", \"y\": [2113.07], \"yaxis\": \"y\", \"type\": \"scatter\"}, {\"customdata\": [[\"Akbank\"], [\"Isbank\"]], \"hoverlabel\": {\"namelength\": 0}, \"hovertemplate\": \"country=Turkey<br>year=2015<br>rank=%{x}<br>value=%{marker.size}<br>name=%{customdata[0]}\", \"legendgroup\": \"country=Turkey\", \"marker\": {\"color\": \"#FECB52\", \"size\": [2515.7, 2444.9], \"sizemode\": \"area\", \"sizeref\": 199.5566, \"symbol\": \"circle\"}, \"mode\": \"markers\", \"name\": \"country=Turkey\", \"showlegend\": true, \"x\": [\"82\", \"84\"], \"xaxis\": \"x\", \"y\": [2515.7, 2444.9], \"yaxis\": \"y\", \"type\": \"scatter\"}, {\"customdata\": [[\"DNB\"]], \"hoverlabel\": {\"namelength\": 0}, \"hovertemplate\": \"country=Norway<br>year=2015<br>rank=%{x}<br>value=%{marker.size}<br>name=%{customdata[0]}\", \"legendgroup\": \"country=Norway\", \"marker\": {\"color\": \"#636efa\", \"size\": [3283.79], \"sizemode\": \"area\", \"sizeref\": 199.5566, \"symbol\": \"circle\"}, \"mode\": \"markers\", \"name\": \"country=Norway\", \"showlegend\": true, \"x\": [\"66\"], \"xaxis\": \"x\", \"y\": [3283.79], \"yaxis\": \"y\", \"type\": \"scatter\"}, {\"customdata\": [[\"Maybank\"]], \"hoverlabel\": {\"namelength\": 0}, \"hovertemplate\": \"country=Malaysia<br>year=2015<br>rank=%{x}<br>value=%{marker.size}<br>name=%{customdata[0]}\", \"legendgroup\": \"country=Malaysia\", \"marker\": {\"color\": \"#00cc96\", \"size\": [2242.98], \"sizemode\": \"area\", \"sizeref\": 199.5566, \"symbol\": \"circle\"}, \"mode\": \"markers\", \"name\": \"country=Malaysia\", \"showlegend\": true, \"x\": [\"92\"], \"xaxis\": \"x\", \"y\": [2242.98], \"yaxis\": \"y\", \"type\": \"scatter\"}, {\"customdata\": [[\"QNB\"]], \"hoverlabel\": {\"namelength\": 0}, \"hovertemplate\": \"country=Qatar<br>year=2015<br>rank=%{x}<br>value=%{marker.size}<br>name=%{customdata[0]}\", \"legendgroup\": \"country=Qatar\", \"marker\": {\"color\": \"#FFA15A\", \"size\": [2603.05], \"sizemode\": \"area\", \"sizeref\": 199.5566, \"symbol\": \"circle\"}, \"mode\": \"markers\", \"name\": \"country=Qatar\", \"showlegend\": true, \"x\": [\"80\"], \"xaxis\": \"x\", \"y\": [2603.05], \"yaxis\": \"y\", \"type\": \"scatter\"}, {\"customdata\": [[\"Al Rajhi Bank\"]], \"hoverlabel\": {\"namelength\": 0}, \"hovertemplate\": \"country=Saudi Arabia<br>year=2015<br>rank=%{x}<br>value=%{marker.size}<br>name=%{customdata[0]}\", \"legendgroup\": \"country=Saudi Arabia\", \"marker\": {\"color\": \"#19d3f3\", \"size\": [2064.46], \"sizemode\": \"area\", \"sizeref\": 199.5566, \"symbol\": \"circle\"}, \"mode\": \"markers\", \"name\": \"country=Saudi Arabia\", \"showlegend\": true, \"x\": [\"98\"], \"xaxis\": \"x\", \"y\": [2064.46], \"yaxis\": \"y\", \"type\": \"scatter\"}], \"name\": \"2015\"}, {\"data\": [{\"customdata\": [[\"HSBC\"], [\"Barclays\"], [\"Lloyds Bank\"], [\"Halifax\"], [\"Standard Chartered\"], [\"NatWest\"], [\"RBS\"], [\"Nationwide Building Society\"]], \"hoverlabel\": {\"namelength\": 0}, \"hovertemplate\": \"country=United Kingdom<br>year=2016<br>rank=%{x}<br>value=%{marker.size}<br>name=%{customdata[0]}\", \"legendgroup\": \"country=United Kingdom\", \"marker\": {\"color\": \"#636efa\", \"size\": [24172.28, 16235.86, 8119.62, 4754.26, 4750.47, 3893.67, 3543.1, 3104.97], \"sizemode\": \"area\", \"sizeref\": 199.5566, \"symbol\": \"circle\"}, \"mode\": \"markers\", \"name\": \"country=United Kingdom\", \"showlegend\": true, \"x\": [\"9\", \"10\", \"25\", \"50\", \"51\", \"56\", \"64\", \"72\"], \"xaxis\": \"x\", \"y\": [24172.28, 16235.86, 8119.62, 4754.26, 4750.47, 3893.67, 3543.1, 3104.97], \"yaxis\": \"y\", \"type\": \"scatter\"}, {\"customdata\": [[\"Wells Fargo\"], [\"Chase\"], [\"Bank of America\"], [\"Citi\"], [\"J.P. Morgan\"], [\"Capital One\"], [\"Goldman Sachs\"], [\"Morgan Stanley\"], [\"U.S. Bancorp\"], [\"PNC\"], [\"Merrill Lynch\"], [\"BNY Mellon\"], [\"BB&T\"], [\"State Street\"], [\"Charles Schwab\"], [\"SunTrust Banks\"], [\"Fifth Third Bank\"]], \"hoverlabel\": {\"namelength\": 0}, \"hovertemplate\": \"country=United States<br>year=2016<br>rank=%{x}<br>value=%{marker.size}<br>name=%{customdata[0]}\", \"legendgroup\": \"country=United States\", \"marker\": {\"color\": \"#EF553B\", \"size\": [44169.68, 30602.97, 26927.51, 26031.04, 12948.0, 11658.1, 8209.03, 8105.73, 6293.19, 5513.03, 4012.05, 3964.89, 2912.8, 2671.96, 2583.88, 2495.29, 2056.68], \"sizemode\": \"area\", \"sizeref\": 199.5566, \"symbol\": \"circle\"}, \"mode\": \"markers\", \"name\": \"country=United States\", \"showlegend\": true, \"x\": [\"1\", \"5\", \"7\", \"8\", \"14\", \"16\", \"24\", \"26\", \"38\", \"47\", \"54\", \"55\", \"73\", \"81\", \"86\", \"89\", \"100\"], \"xaxis\": \"x\", \"y\": [44169.68, 30602.97, 26927.51, 26031.04, 12948.0, 11658.1, 8209.03, 8105.73, 6293.19, 5513.03, 4012.05, 3964.89, 2912.8, 2671.96, 2583.88, 2495.29, 2056.68], \"yaxis\": \"y\", \"type\": \"scatter\"}, {\"customdata\": [[\"Santander\"], [\"BBVA\"], [\"CaixaBank\"]], \"hoverlabel\": {\"namelength\": 0}, \"hovertemplate\": \"country=Spain<br>year=2016<br>rank=%{x}<br>value=%{marker.size}<br>name=%{customdata[0]}\", \"legendgroup\": \"country=Spain\", \"marker\": {\"color\": \"#00cc96\", \"size\": [15688.51, 8379.35, 2560.39], \"sizemode\": \"area\", \"sizeref\": 199.5566, \"symbol\": \"circle\"}, \"mode\": \"markers\", \"name\": \"country=Spain\", \"showlegend\": true, \"x\": [\"11\", \"23\", \"87\"], \"xaxis\": \"x\", \"y\": [15688.51, 8379.35, 2560.39], \"yaxis\": \"y\", \"type\": \"scatter\"}, {\"customdata\": [[\"BNP Paribas\"], [\"Soci\\u00e9t\\u00e9 G\\u00e9n\\u00e9rale\"], [\"Cr\\u00e9dit Agricole\"], [\"Cr\\u00e9dit Mutuel\"], [\"Natixis\"], [\"La Banque Postale\"]], \"hoverlabel\": {\"namelength\": 0}, \"hovertemplate\": \"country=France<br>year=2016<br>rank=%{x}<br>value=%{marker.size}<br>name=%{customdata[0]}\", \"legendgroup\": \"country=France\", \"marker\": {\"color\": \"#ab63fa\", \"size\": [15530.86, 7278.23, 3842.0, 3271.05, 2237.03, 2089.01], \"sizemode\": \"area\", \"sizeref\": 199.5566, \"symbol\": \"circle\"}, \"mode\": \"markers\", \"name\": \"country=France\", \"showlegend\": true, \"x\": [\"12\", \"32\", \"58\", \"68\", \"94\", \"98\"], \"xaxis\": \"x\", \"y\": [15530.86, 7278.23, 3842.0, 3271.05, 2237.03, 2089.01], \"yaxis\": \"y\", \"type\": \"scatter\"}, {\"customdata\": [[\"UBS\"], [\"Credit Suisse\"]], \"hoverlabel\": {\"namelength\": 0}, \"hovertemplate\": \"country=Switzerland<br>year=2016<br>rank=%{x}<br>value=%{marker.size}<br>name=%{customdata[0]}\", \"legendgroup\": \"country=Switzerland\", \"marker\": {\"color\": \"#FFA15A\", \"size\": [8930.68, 7313.56], \"sizemode\": \"area\", \"sizeref\": 199.5566, \"symbol\": \"circle\"}, \"mode\": \"markers\", \"name\": \"country=Switzerland\", \"showlegend\": true, \"x\": [\"20\", \"31\"], \"xaxis\": \"x\", \"y\": [8930.68, 7313.56], \"yaxis\": \"y\", \"type\": \"scatter\"}, {\"customdata\": [[\"ING\"], [\"Rabobank\"], [\"ABN AMRO\"]], \"hoverlabel\": {\"namelength\": 0}, \"hovertemplate\": \"country=Netherlands<br>year=2016<br>rank=%{x}<br>value=%{marker.size}<br>name=%{customdata[0]}\", \"legendgroup\": \"country=Netherlands\", \"marker\": {\"color\": \"#19d3f3\", \"size\": [7806.6, 7445.0, 3450.0], \"sizemode\": \"area\", \"sizeref\": 199.5566, \"symbol\": \"circle\"}, \"mode\": \"markers\", \"name\": \"country=Netherlands\", \"showlegend\": true, \"x\": [\"27\", \"29\", \"65\"], \"xaxis\": \"x\", \"y\": [7806.6, 7445.0, 3450.0], \"yaxis\": \"y\", \"type\": \"scatter\"}, {\"customdata\": [[\"Deutsche Bank\"], [\"Commerzbank\"], [\"DZ Bank\"]], \"hoverlabel\": {\"namelength\": 0}, \"hovertemplate\": \"country=Germany<br>year=2016<br>rank=%{x}<br>value=%{marker.size}<br>name=%{customdata[0]}\", \"legendgroup\": \"country=Germany\", \"marker\": {\"color\": \"#FF6692\", \"size\": [8456.09, 2678.45, 2625.04], \"sizemode\": \"area\", \"sizeref\": 199.5566, \"symbol\": \"circle\"}, \"mode\": \"markers\", \"name\": \"country=Germany\", \"showlegend\": true, \"x\": [\"21\", \"80\", \"82\"], \"xaxis\": \"x\", \"y\": [8456.09, 2678.45, 2625.04], \"yaxis\": \"y\", \"type\": \"scatter\"}, {\"customdata\": [[\"ICBC\"], [\"China Construction Bank\"], [\"Agricultural Bank Of China\"], [\"Bank of China\"], [\"China Merchants Bank\"], [\"Bank of Communications\"], [\"China Minsheng Bank\"], [\"China CITIC Bank\"], [\"Industrial Bank Co.\"], [\"Shanghai Pudong Development Bank\"], [\"Ping An Bank\"], [\"China Everbright Bank\"], [\"Hua Xia Bank\"], [\"Hang Seng Bank\"]], \"hoverlabel\": {\"namelength\": 0}, \"hovertemplate\": \"country=China<br>year=2016<br>rank=%{x}<br>value=%{marker.size}<br>name=%{customdata[0]}\", \"legendgroup\": \"country=China\", \"marker\": {\"color\": \"#B6E880\", \"size\": [36334.23, 35394.0, 32261.0, 27735.02, 13238.58, 10486.32, 8399.51, 7102.77, 6454.69, 6392.56, 5296.0, 4311.75, 2825.78, 2422.03], \"sizemode\": \"area\", \"sizeref\": 199.5566, \"symbol\": \"circle\"}, \"mode\": \"markers\", \"name\": \"country=China\", \"showlegend\": true, \"x\": [\"2\", \"3\", \"4\", \"6\", \"13\", \"17\", \"22\", \"34\", \"36\", \"37\", \"49\", \"53\", \"76\", \"92\"], \"xaxis\": \"x\", \"y\": [36334.23, 35394.0, 32261.0, 27735.02, 13238.58, 10486.32, 8399.51, 7102.77, 6454.69, 6392.56, 5296.0, 4311.75, 2825.78, 2422.03], \"yaxis\": \"y\", \"type\": \"scatter\"}, {\"customdata\": [[\"UniCredit\"]], \"hoverlabel\": {\"namelength\": 0}, \"hovertemplate\": \"country=Italy<br>year=2016<br>rank=%{x}<br>value=%{marker.size}<br>name=%{customdata[0]}\", \"legendgroup\": \"country=Italy\", \"marker\": {\"color\": \"#FF97FF\", \"size\": [3811.0], \"sizemode\": \"area\", \"sizeref\": 199.5566, \"symbol\": \"circle\"}, \"mode\": \"markers\", \"name\": \"country=Italy\", \"showlegend\": true, \"x\": [\"59\"], \"xaxis\": \"x\", \"y\": [3811.0], \"yaxis\": \"y\", \"type\": \"scatter\"}, {\"customdata\": [[\"ANZ\"], [\"Commonwealth Bank of Australia\"], [\"Westpac\"], [\"nab\"], [\"Macquarie\"]], \"hoverlabel\": {\"namelength\": 0}, \"hovertemplate\": \"country=Australia<br>year=2016<br>rank=%{x}<br>value=%{marker.size}<br>name=%{customdata[0]}\", \"legendgroup\": \"country=Australia\", \"marker\": {\"color\": \"#FECB52\", \"size\": [7458.3, 7185.5, 5846.09, 5549.56, 2904.74], \"sizemode\": \"area\", \"sizeref\": 199.5566, \"symbol\": \"circle\"}, \"mode\": \"markers\", \"name\": \"country=Australia\", \"showlegend\": true, \"x\": [\"28\", \"33\", \"41\", \"46\", \"74\"], \"xaxis\": \"x\", \"y\": [7458.3, 7185.5, 5846.09, 5549.56, 2904.74], \"yaxis\": \"y\", \"type\": \"scatter\"}, {\"customdata\": [[\"Royal Bank Of Canada\"], [\"TD Bank\"], [\"Scotiabank\"], [\"Bank of Montreal\"], [\"CIBC\"], [\"Desjardins\"]], \"hoverlabel\": {\"namelength\": 0}, \"hovertemplate\": \"country=Canada<br>year=2016<br>rank=%{x}<br>value=%{marker.size}<br>name=%{customdata[0]}\", \"legendgroup\": \"country=Canada\", \"marker\": {\"color\": \"#636efa\", \"size\": [9879.57, 9607.11, 7336.0, 5856.03, 4665.21, 2803.91], \"sizemode\": \"area\", \"sizeref\": 199.5566, \"symbol\": \"circle\"}, \"mode\": \"markers\", \"name\": \"country=Canada\", \"showlegend\": true, \"x\": [\"18\", \"19\", \"30\", \"40\", \"52\", \"77\"], \"xaxis\": \"x\", \"y\": [9879.57, 9607.11, 7336.0, 5856.03, 4665.21, 2803.91], \"yaxis\": \"y\", \"type\": \"scatter\"}, {\"customdata\": [[\"KBC\"]], \"hoverlabel\": {\"namelength\": 0}, \"hovertemplate\": \"country=Belgium<br>year=2016<br>rank=%{x}<br>value=%{marker.size}<br>name=%{customdata[0]}\", \"legendgroup\": \"country=Belgium\", \"marker\": {\"color\": \"#EF553B\", \"size\": [3849.49], \"sizemode\": \"area\", \"sizeref\": 199.5566, \"symbol\": \"circle\"}, \"mode\": \"markers\", \"name\": \"country=Belgium\", \"showlegend\": true, \"x\": [\"57\"], \"xaxis\": \"x\", \"y\": [3849.49], \"yaxis\": \"y\", \"type\": \"scatter\"}, {\"customdata\": [[\"MUFG\"], [\"SMFG\"], [\"Mizuho Financial Group\"], [\"Nomura\"]], \"hoverlabel\": {\"namelength\": 0}, \"hovertemplate\": \"country=Japan<br>year=2016<br>rank=%{x}<br>value=%{marker.size}<br>name=%{customdata[0]}\", \"legendgroup\": \"country=Japan\", \"marker\": {\"color\": \"#00cc96\", \"size\": [12650.84, 5983.23, 5775.61, 3754.64], \"sizemode\": \"area\", \"sizeref\": 199.5566, \"symbol\": \"circle\"}, \"mode\": \"markers\", \"name\": \"country=Japan\", \"showlegend\": true, \"x\": [\"15\", \"39\", \"42\", \"60\"], \"xaxis\": \"x\", \"y\": [12650.84, 5983.23, 5775.61, 3754.64], \"yaxis\": \"y\", \"type\": \"scatter\"}, {\"customdata\": [[\"Ita\\u00fa\"], [\"Banco do Brasil\"], [\"Caixa\"], [\"Bradesco\"]], \"hoverlabel\": {\"namelength\": 0}, \"hovertemplate\": \"country=Brazil<br>year=2016<br>rank=%{x}<br>value=%{marker.size}<br>name=%{customdata[0]}\", \"legendgroup\": \"country=Brazil\", \"marker\": {\"color\": \"#ab63fa\", \"size\": [3712.16, 3579.09, 3167.19, 3162.9], \"sizemode\": \"area\", \"sizeref\": 199.5566, \"symbol\": \"circle\"}, \"mode\": \"markers\", \"name\": \"country=Brazil\", \"showlegend\": true, \"x\": [\"61\", \"63\", \"70\", \"71\"], \"xaxis\": \"x\", \"y\": [3712.16, 3579.09, 3167.19, 3162.9], \"yaxis\": \"y\", \"type\": \"scatter\"}, {\"customdata\": [[\"Nordea\"], [\"Svenska Handelsbanken\"], [\"SEB\"], [\"Swedbank\"]], \"hoverlabel\": {\"namelength\": 0}, \"hovertemplate\": \"country=Sweden<br>year=2016<br>rank=%{x}<br>value=%{marker.size}<br>name=%{customdata[0]}\", \"legendgroup\": \"country=Sweden\", \"marker\": {\"color\": \"#FFA15A\", \"size\": [5571.93, 3210.81, 2767.85, 2439.97], \"sizemode\": \"area\", \"sizeref\": 199.5566, \"symbol\": \"circle\"}, \"mode\": \"markers\", \"name\": \"country=Sweden\", \"showlegend\": true, \"x\": [\"45\", \"69\", \"78\", \"91\"], \"xaxis\": \"x\", \"y\": [5571.93, 3210.81, 2767.85, 2439.97], \"yaxis\": \"y\", \"type\": \"scatter\"}, {\"customdata\": [[\"Sberbank\"], [\"VTB Bank\"]], \"hoverlabel\": {\"namelength\": 0}, \"hovertemplate\": \"country=Russia<br>year=2016<br>rank=%{x}<br>value=%{marker.size}<br>name=%{customdata[0]}\", \"legendgroup\": \"country=Russia\", \"marker\": {\"color\": \"#19d3f3\", \"size\": [6806.51, 2067.67], \"sizemode\": \"area\", \"sizeref\": 199.5566, \"symbol\": \"circle\"}, \"mode\": \"markers\", \"name\": \"country=Russia\", \"showlegend\": true, \"x\": [\"35\", \"99\"], \"xaxis\": \"x\", \"y\": [6806.51, 2067.67], \"yaxis\": \"y\", \"type\": \"scatter\"}, {\"customdata\": [[\"State Bank of India\"], [\"ICICI Bank\"], [\"HDFC Bank\"]], \"hoverlabel\": {\"namelength\": 0}, \"hovertemplate\": \"country=India<br>year=2016<br>rank=%{x}<br>value=%{marker.size}<br>name=%{customdata[0]}\", \"legendgroup\": \"country=India\", \"marker\": {\"color\": \"#FF6692\", \"size\": [5759.59, 2600.21, 2586.05], \"sizemode\": \"area\", \"sizeref\": 199.5566, \"symbol\": \"circle\"}, \"mode\": \"markers\", \"name\": \"country=India\", \"showlegend\": true, \"x\": [\"43\", \"84\", \"85\"], \"xaxis\": \"x\", \"y\": [5759.59, 2600.21, 2586.05], \"yaxis\": \"y\", \"type\": \"scatter\"}, {\"customdata\": [[\"Erste Group\"]], \"hoverlabel\": {\"namelength\": 0}, \"hovertemplate\": \"country=Austria<br>year=2016<br>rank=%{x}<br>value=%{marker.size}<br>name=%{customdata[0]}\", \"legendgroup\": \"country=Austria\", \"marker\": {\"color\": \"#FECB52\", \"size\": [2171.08], \"sizemode\": \"area\", \"sizeref\": 199.5566, \"symbol\": \"circle\"}, \"mode\": \"markers\", \"name\": \"country=Austria\", \"showlegend\": true, \"x\": [\"97\"], \"xaxis\": \"x\", \"y\": [2171.08], \"yaxis\": \"y\", \"type\": \"scatter\"}, {\"customdata\": [[\"Shinhan Financial Group\"], [\"KB Financial Group\"], [\"Hana Financial Group\"]], \"hoverlabel\": {\"namelength\": 0}, \"hovertemplate\": \"country=South Korea<br>year=2016<br>rank=%{x}<br>value=%{marker.size}<br>name=%{customdata[0]}\", \"legendgroup\": \"country=South Korea\", \"marker\": {\"color\": \"#ab63fa\", \"size\": [5715.96, 3622.0, 2521.76], \"sizemode\": \"area\", \"sizeref\": 199.5566, \"symbol\": \"circle\"}, \"mode\": \"markers\", \"name\": \"country=South Korea\", \"showlegend\": true, \"x\": [\"44\", \"62\", \"88\"], \"xaxis\": \"x\", \"y\": [5715.96, 3622.0, 2521.76], \"yaxis\": \"y\", \"type\": \"scatter\"}, {\"customdata\": [[\"CTBC\"]], \"hoverlabel\": {\"namelength\": 0}, \"hovertemplate\": \"country=China (Taiwan)<br>year=2016<br>rank=%{x}<br>value=%{marker.size}<br>name=%{customdata[0]}\", \"legendgroup\": \"country=China (Taiwan)\", \"marker\": {\"color\": \"#FFA15A\", \"size\": [2615.05], \"sizemode\": \"area\", \"sizeref\": 199.5566, \"symbol\": \"circle\"}, \"mode\": \"markers\", \"name\": \"country=China (Taiwan)\", \"showlegend\": true, \"x\": [\"83\"], \"xaxis\": \"x\", \"y\": [2615.05], \"yaxis\": \"y\", \"type\": \"scatter\"}, {\"customdata\": [[\"Danske Bank\"]], \"hoverlabel\": {\"namelength\": 0}, \"hovertemplate\": \"country=Denmark<br>year=2016<br>rank=%{x}<br>value=%{marker.size}<br>name=%{customdata[0]}\", \"legendgroup\": \"country=Denmark\", \"marker\": {\"color\": \"#19d3f3\", \"size\": [2844.15], \"sizemode\": \"area\", \"sizeref\": 199.5566, \"symbol\": \"circle\"}, \"mode\": \"markers\", \"name\": \"country=Denmark\", \"showlegend\": true, \"x\": [\"75\"], \"xaxis\": \"x\", \"y\": [2844.15], \"yaxis\": \"y\", \"type\": \"scatter\"}, {\"customdata\": [[\"DBS\"], [\"OCBC Bank\"], [\"UOB\"]], \"hoverlabel\": {\"namelength\": 0}, \"hovertemplate\": \"country=Singapore<br>year=2016<br>rank=%{x}<br>value=%{marker.size}<br>name=%{customdata[0]}\", \"legendgroup\": \"country=Singapore\", \"marker\": {\"color\": \"#FF6692\", \"size\": [5314.24, 3292.67, 2762.07], \"sizemode\": \"area\", \"sizeref\": 199.5566, \"symbol\": \"circle\"}, \"mode\": \"markers\", \"name\": \"country=Singapore\", \"showlegend\": true, \"x\": [\"48\", \"67\", \"79\"], \"xaxis\": \"x\", \"y\": [5314.24, 3292.67, 2762.07], \"yaxis\": \"y\", \"type\": \"scatter\"}, {\"customdata\": [[\"DNB\"]], \"hoverlabel\": {\"namelength\": 0}, \"hovertemplate\": \"country=Norway<br>year=2016<br>rank=%{x}<br>value=%{marker.size}<br>name=%{customdata[0]}\", \"legendgroup\": \"country=Norway\", \"marker\": {\"color\": \"#636efa\", \"size\": [3386.1], \"sizemode\": \"area\", \"sizeref\": 199.5566, \"symbol\": \"circle\"}, \"mode\": \"markers\", \"name\": \"country=Norway\", \"showlegend\": true, \"x\": [\"66\"], \"xaxis\": \"x\", \"y\": [3386.1], \"yaxis\": \"y\", \"type\": \"scatter\"}, {\"customdata\": [[\"QNB\"]], \"hoverlabel\": {\"namelength\": 0}, \"hovertemplate\": \"country=Qatar<br>year=2016<br>rank=%{x}<br>value=%{marker.size}<br>name=%{customdata[0]}\", \"legendgroup\": \"country=Qatar\", \"marker\": {\"color\": \"#FFA15A\", \"size\": [2453.24], \"sizemode\": \"area\", \"sizeref\": 199.5566, \"symbol\": \"circle\"}, \"mode\": \"markers\", \"name\": \"country=Qatar\", \"showlegend\": true, \"x\": [\"90\"], \"xaxis\": \"x\", \"y\": [2453.24], \"yaxis\": \"y\", \"type\": \"scatter\"}, {\"customdata\": [[\"Al-Rajhi Bank\"], [\"NCB\"]], \"hoverlabel\": {\"namelength\": 0}, \"hovertemplate\": \"country=Saudi Arabia<br>year=2016<br>rank=%{x}<br>value=%{marker.size}<br>name=%{customdata[0]}\", \"legendgroup\": \"country=Saudi Arabia\", \"marker\": {\"color\": \"#19d3f3\", \"size\": [2342.5, 2231.14], \"sizemode\": \"area\", \"sizeref\": 199.5566, \"symbol\": \"circle\"}, \"mode\": \"markers\", \"name\": \"country=Saudi Arabia\", \"showlegend\": true, \"x\": [\"93\", \"95\"], \"xaxis\": \"x\", \"y\": [2342.5, 2231.14], \"yaxis\": \"y\", \"type\": \"scatter\"}, {\"customdata\": [[\"Emirates NBD\"]], \"hoverlabel\": {\"namelength\": 0}, \"hovertemplate\": \"country=UAE<br>year=2016<br>rank=%{x}<br>value=%{marker.size}<br>name=%{customdata[0]}\", \"legendgroup\": \"country=UAE\", \"marker\": {\"color\": \"#FF6692\", \"size\": [2185.74], \"sizemode\": \"area\", \"sizeref\": 199.5566, \"symbol\": \"circle\"}, \"mode\": \"markers\", \"name\": \"country=UAE\", \"showlegend\": true, \"x\": [\"96\"], \"xaxis\": \"x\", \"y\": [2185.74], \"yaxis\": \"y\", \"type\": \"scatter\"}], \"name\": \"2016\"}, {\"data\": [{\"customdata\": [[\"HSBC\"], [\"Barclays\"], [\"Lloyds Bank\"], [\"Standard Chartered\"], [\"Nationwide Building Society\"], [\"Halifax\"], [\"NatWest\"], [\"RBS\"]], \"hoverlabel\": {\"namelength\": 0}, \"hovertemplate\": \"country=United Kingdom<br>year=2017<br>rank=%{x}<br>value=%{marker.size}<br>name=%{customdata[0]}\", \"legendgroup\": \"country=United Kingdom\", \"marker\": {\"color\": \"#636efa\", \"size\": [20687.7, 13006.29, 6398.12, 4748.72, 3574.46, 3448.55, 3249.01, 3247.03], \"sizemode\": \"area\", \"sizeref\": 199.5566, \"symbol\": \"circle\"}, \"mode\": \"markers\", \"name\": \"country=United Kingdom\", \"showlegend\": true, \"x\": [\"9\", \"15\", \"39\", \"55\", \"68\", \"72\", \"78\", \"79\"], \"xaxis\": \"x\", \"y\": [20687.7, 13006.29, 6398.12, 4748.72, 3574.46, 3448.55, 3249.01, 3247.03], \"yaxis\": \"y\", \"type\": \"scatter\"}, {\"customdata\": [[\"Wells Fargo\"], [\"Chase\"], [\"Bank of America\"], [\"Citi\"], [\"J.P. Morgan\"], [\"Capital One\"], [\"Goldman Sachs\"], [\"Morgan Stanley\"], [\"U.S. Bancorp\"], [\"PNC\"], [\"Merrill Lynch\"], [\"BNY Mellon\"], [\"BB&T\"], [\"Charles Schwab\"], [\"SunTrust Banks\"], [\"State Street\"], [\"Fifth Third Bank\"]], \"hoverlabel\": {\"namelength\": 0}, \"hovertemplate\": \"country=United States<br>year=2017<br>rank=%{x}<br>value=%{marker.size}<br>name=%{customdata[0]}\", \"legendgroup\": \"country=United States\", \"marker\": {\"color\": \"#EF553B\", \"size\": [41617.53, 33736.51, 30272.83, 27674.47, 15710.34, 11374.01, 8955.48, 7484.13, 7075.76, 6166.32, 5522.61, 3523.44, 3410.92, 3017.34, 2968.72, 2695.97, 2415.68], \"sizemode\": \"area\", \"sizeref\": 199.5566, \"symbol\": \"circle\"}, \"mode\": \"markers\", \"name\": \"country=United States\", \"showlegend\": true, \"x\": [\"2\", \"4\", \"6\", \"8\", \"11\", \"20\", \"25\", \"33\", \"34\", \"42\", \"50\", \"70\", \"73\", \"81\", \"83\", \"88\", \"99\"], \"xaxis\": \"x\", \"y\": [41617.53, 33736.51, 30272.83, 27674.47, 15710.34, 11374.01, 8955.48, 7484.13, 7075.76, 6166.32, 5522.61, 3523.44, 3410.92, 3017.34, 2968.72, 2695.97, 2415.68], \"yaxis\": \"y\", \"type\": \"scatter\"}, {\"customdata\": [[\"Santander\"], [\"BBVA\"], [\"CaixaBank\"]], \"hoverlabel\": {\"namelength\": 0}, \"hovertemplate\": \"country=Spain<br>year=2017<br>rank=%{x}<br>value=%{marker.size}<br>name=%{customdata[0]}\", \"legendgroup\": \"country=Spain\", \"marker\": {\"color\": \"#00cc96\", \"size\": [15928.85, 8183.25, 2543.61], \"sizemode\": \"area\", \"sizeref\": 199.5566, \"symbol\": \"circle\"}, \"mode\": \"markers\", \"name\": \"country=Spain\", \"showlegend\": true, \"x\": [\"10\", \"30\", \"92\"], \"xaxis\": \"x\", \"y\": [15928.85, 8183.25, 2543.61], \"yaxis\": \"y\", \"type\": \"scatter\"}, {\"customdata\": [[\"BNP Paribas\"], [\"Soci\\u00e9t\\u00e9 G\\u00e9n\\u00e9rale\"], [\"Cr\\u00e9dit Agricole\"], [\"Cr\\u00e9dit Mutuel\"]], \"hoverlabel\": {\"namelength\": 0}, \"hovertemplate\": \"country=France<br>year=2017<br>rank=%{x}<br>value=%{marker.size}<br>name=%{customdata[0]}\", \"legendgroup\": \"country=France\", \"marker\": {\"color\": \"#ab63fa\", \"size\": [13644.22, 6620.4, 4103.71, 3707.93], \"sizemode\": \"area\", \"sizeref\": 199.5566, \"symbol\": \"circle\"}, \"mode\": \"markers\", \"name\": \"country=France\", \"showlegend\": true, \"x\": [\"13\", \"36\", \"57\", \"64\"], \"xaxis\": \"x\", \"y\": [13644.22, 6620.4, 4103.71, 3707.93], \"yaxis\": \"y\", \"type\": \"scatter\"}, {\"customdata\": [[\"UBS\"], [\"Credit Suisse\"]], \"hoverlabel\": {\"namelength\": 0}, \"hovertemplate\": \"country=Switzerland<br>year=2017<br>rank=%{x}<br>value=%{marker.size}<br>name=%{customdata[0]}\", \"legendgroup\": \"country=Switzerland\", \"marker\": {\"color\": \"#FFA15A\", \"size\": [9374.68, 6098.22], \"sizemode\": \"area\", \"sizeref\": 199.5566, \"symbol\": \"circle\"}, \"mode\": \"markers\", \"name\": \"country=Switzerland\", \"showlegend\": true, \"x\": [\"23\", \"43\"], \"xaxis\": \"x\", \"y\": [9374.68, 6098.22], \"yaxis\": \"y\", \"type\": \"scatter\"}, {\"customdata\": [[\"ING\"], [\"Rabobank\"], [\"ABN AMRO\"]], \"hoverlabel\": {\"namelength\": 0}, \"hovertemplate\": \"country=Netherlands<br>year=2017<br>rank=%{x}<br>value=%{marker.size}<br>name=%{customdata[0]}\", \"legendgroup\": \"country=Netherlands\", \"marker\": {\"color\": \"#19d3f3\", \"size\": [8660.4, 6026.15, 3174.46], \"sizemode\": \"area\", \"sizeref\": 199.5566, \"symbol\": \"circle\"}, \"mode\": \"markers\", \"name\": \"country=Netherlands\", \"showlegend\": true, \"x\": [\"27\", \"44\", \"80\"], \"xaxis\": \"x\", \"y\": [8660.4, 6026.15, 3174.46], \"yaxis\": \"y\", \"type\": \"scatter\"}, {\"customdata\": [[\"Deutsche Bank\"], [\"DZ Bank\"]], \"hoverlabel\": {\"namelength\": 0}, \"hovertemplate\": \"country=Germany<br>year=2017<br>rank=%{x}<br>value=%{marker.size}<br>name=%{customdata[0]}\", \"legendgroup\": \"country=Germany\", \"marker\": {\"color\": \"#FF6692\", \"size\": [4947.24, 2416.67], \"sizemode\": \"area\", \"sizeref\": 199.5566, \"symbol\": \"circle\"}, \"mode\": \"markers\", \"name\": \"country=Germany\", \"showlegend\": true, \"x\": [\"54\", \"98\"], \"xaxis\": \"x\", \"y\": [4947.24, 2416.67], \"yaxis\": \"y\", \"type\": \"scatter\"}, {\"customdata\": [[\"ICBC\"], [\"China Construction Bank\"], [\"Bank of China\"], [\"Agricultural Bank Of China\"], [\"China Merchants Bank\"], [\"Shanghai Pudong Development Bank\"], [\"Bank of Communications\"], [\"Industrial Bank Co.\"], [\"China CITIC Bank\"], [\"China Minsheng Bank\"], [\"China Everbright Bank\"], [\"Ping An Bank\"], [\"Bank of Beijing\"], [\"Bank of Shanghai\"], [\"Hua Xia Bank\"]], \"hoverlabel\": {\"namelength\": 0}, \"hovertemplate\": \"country=China<br>year=2017<br>rank=%{x}<br>value=%{marker.size}<br>name=%{customdata[0]}\", \"legendgroup\": \"country=China\", \"marker\": {\"color\": \"#B6E880\", \"size\": [47832.39, 41377.34, 31250.45, 28511.16, 14269.47, 11963.03, 11631.74, 10566.62, 9478.97, 8769.9, 5950.17, 5949.24, 3739.38, 3708.15, 3472.58], \"sizemode\": \"area\", \"sizeref\": 199.5566, \"symbol\": \"circle\"}, \"mode\": \"markers\", \"name\": \"country=China\", \"showlegend\": true, \"x\": [\"1\", \"3\", \"5\", \"7\", \"12\", \"18\", \"19\", \"21\", \"22\", \"26\", \"45\", \"46\", \"62\", \"63\", \"71\"], \"xaxis\": \"x\", \"y\": [47832.39, 41377.34, 31250.45, 28511.16, 14269.47, 11963.03, 11631.74, 10566.62, 9478.97, 8769.9, 5950.17, 5949.24, 3739.38, 3708.15, 3472.58], \"yaxis\": \"y\", \"type\": \"scatter\"}, {\"customdata\": [[\"Intesa Sanpaolo\"], [\"UniCredit\"]], \"hoverlabel\": {\"namelength\": 0}, \"hovertemplate\": \"country=Italy<br>year=2017<br>rank=%{x}<br>value=%{marker.size}<br>name=%{customdata[0]}\", \"legendgroup\": \"country=Italy\", \"marker\": {\"color\": \"#FF97FF\", \"size\": [4582.45, 2607.37], \"sizemode\": \"area\", \"sizeref\": 199.5566, \"symbol\": \"circle\"}, \"mode\": \"markers\", \"name\": \"country=Italy\", \"showlegend\": true, \"x\": [\"56\", \"89\"], \"xaxis\": \"x\", \"y\": [4582.45, 2607.37], \"yaxis\": \"y\", \"type\": \"scatter\"}, {\"customdata\": [[\"Commonwealth Bank of Australia\"], [\"ANZ\"], [\"nab\"], [\"Westpac\"], [\"Macquarie\"]], \"hoverlabel\": {\"namelength\": 0}, \"hovertemplate\": \"country=Australia<br>year=2017<br>rank=%{x}<br>value=%{marker.size}<br>name=%{customdata[0]}\", \"legendgroup\": \"country=Australia\", \"marker\": {\"color\": \"#FECB52\", \"size\": [8207.35, 8124.35, 6472.89, 5829.15, 2493.62], \"sizemode\": \"area\", \"sizeref\": 199.5566, \"symbol\": \"circle\"}, \"mode\": \"markers\", \"name\": \"country=Australia\", \"showlegend\": true, \"x\": [\"29\", \"31\", \"38\", \"47\", \"95\"], \"xaxis\": \"x\", \"y\": [8207.35, 8124.35, 6472.89, 5829.15, 2493.62], \"yaxis\": \"y\", \"type\": \"scatter\"}, {\"customdata\": [[\"Royal Bank Of Canada\"], [\"TD Bank\"], [\"Scotiabank\"], [\"Bank of Montreal\"], [\"CIBC\"], [\"Desjardins\"]], \"hoverlabel\": {\"namelength\": 0}, \"hovertemplate\": \"country=Canada<br>year=2017<br>rank=%{x}<br>value=%{marker.size}<br>name=%{customdata[0]}\", \"legendgroup\": \"country=Canada\", \"marker\": {\"color\": \"#636efa\", \"size\": [12659.03, 12564.81, 8604.64, 7778.26, 6261.78, 3566.13], \"sizemode\": \"area\", \"sizeref\": 199.5566, \"symbol\": \"circle\"}, \"mode\": \"markers\", \"name\": \"country=Canada\", \"showlegend\": true, \"x\": [\"16\", \"17\", \"28\", \"32\", \"41\", \"69\"], \"xaxis\": \"x\", \"y\": [12659.03, 12564.81, 8604.64, 7778.26, 6261.78, 3566.13], \"yaxis\": \"y\", \"type\": \"scatter\"}, {\"customdata\": [[\"KBC\"], [\"Fortis Banque\"]], \"hoverlabel\": {\"namelength\": 0}, \"hovertemplate\": \"country=Belgium<br>year=2017<br>rank=%{x}<br>value=%{marker.size}<br>name=%{customdata[0]}\", \"legendgroup\": \"country=Belgium\", \"marker\": {\"color\": \"#EF553B\", \"size\": [3779.05, 2910.39], \"sizemode\": \"area\", \"sizeref\": 199.5566, \"symbol\": \"circle\"}, \"mode\": \"markers\", \"name\": \"country=Belgium\", \"showlegend\": true, \"x\": [\"61\", \"84\"], \"xaxis\": \"x\", \"y\": [3779.05, 2910.39], \"yaxis\": \"y\", \"type\": \"scatter\"}, {\"customdata\": [[\"MUFG\"], [\"Mizuho Financial Group\"], [\"SMBC\"], [\"Nomura\"]], \"hoverlabel\": {\"namelength\": 0}, \"hovertemplate\": \"country=Japan<br>year=2017<br>rank=%{x}<br>value=%{marker.size}<br>name=%{customdata[0]}\", \"legendgroup\": \"country=Japan\", \"marker\": {\"color\": \"#00cc96\", \"size\": [13214.56, 6527.09, 6264.28, 3380.72], \"sizemode\": \"area\", \"sizeref\": 199.5566, \"symbol\": \"circle\"}, \"mode\": \"markers\", \"name\": \"country=Japan\", \"showlegend\": true, \"x\": [\"14\", \"37\", \"40\", \"76\"], \"xaxis\": \"x\", \"y\": [13214.56, 6527.09, 6264.28, 3380.72], \"yaxis\": \"y\", \"type\": \"scatter\"}, {\"customdata\": [[\"Ita\\u00fa\"], [\"Bradesco\"], [\"Banco do Brasil\"], [\"Caixa\"]], \"hoverlabel\": {\"namelength\": 0}, \"hovertemplate\": \"country=Brazil<br>year=2017<br>rank=%{x}<br>value=%{marker.size}<br>name=%{customdata[0]}\", \"legendgroup\": \"country=Brazil\", \"marker\": {\"color\": \"#ab63fa\", \"size\": [6861.65, 5579.32, 5216.88, 3016.29], \"sizemode\": \"area\", \"sizeref\": 199.5566, \"symbol\": \"circle\"}, \"mode\": \"markers\", \"name\": \"country=Brazil\", \"showlegend\": true, \"x\": [\"35\", \"49\", \"53\", \"82\"], \"xaxis\": \"x\", \"y\": [6861.65, 5579.32, 5216.88, 3016.29], \"yaxis\": \"y\", \"type\": \"scatter\"}, {\"customdata\": [[\"Nordea\"], [\"Swedbank\"], [\"Svenska Handelsbanken\"], [\"SEB\"]], \"hoverlabel\": {\"namelength\": 0}, \"hovertemplate\": \"country=Sweden<br>year=2017<br>rank=%{x}<br>value=%{marker.size}<br>name=%{customdata[0]}\", \"legendgroup\": \"country=Sweden\", \"marker\": {\"color\": \"#FFA15A\", \"size\": [5599.8, 2909.77, 2893.35, 2480.4], \"sizemode\": \"area\", \"sizeref\": 199.5566, \"symbol\": \"circle\"}, \"mode\": \"markers\", \"name\": \"country=Sweden\", \"showlegend\": true, \"x\": [\"48\", \"85\", \"86\", \"96\"], \"xaxis\": \"x\", \"y\": [5599.8, 2909.77, 2893.35, 2480.4], \"yaxis\": \"y\", \"type\": \"scatter\"}, {\"customdata\": [[\"Sberbank\"]], \"hoverlabel\": {\"namelength\": 0}, \"hovertemplate\": \"country=Russia<br>year=2017<br>rank=%{x}<br>value=%{marker.size}<br>name=%{customdata[0]}\", \"legendgroup\": \"country=Russia\", \"marker\": {\"color\": \"#19d3f3\", \"size\": [9074.68], \"sizemode\": \"area\", \"sizeref\": 199.5566, \"symbol\": \"circle\"}, \"mode\": \"markers\", \"name\": \"country=Russia\", \"showlegend\": true, \"x\": [\"24\"], \"xaxis\": \"x\", \"y\": [9074.68], \"yaxis\": \"y\", \"type\": \"scatter\"}, {\"customdata\": [[\"State Bank of India\"], [\"HDFC Bank\"], [\"ICICI Bank\"]], \"hoverlabel\": {\"namelength\": 0}, \"hovertemplate\": \"country=India<br>year=2017<br>rank=%{x}<br>value=%{marker.size}<br>name=%{customdata[0]}\", \"legendgroup\": \"country=India\", \"marker\": {\"color\": \"#FF6692\", \"size\": [5508.85, 3405.89, 2799.53], \"sizemode\": \"area\", \"sizeref\": 199.5566, \"symbol\": \"circle\"}, \"mode\": \"markers\", \"name\": \"country=India\", \"showlegend\": true, \"x\": [\"51\", \"74\", \"87\"], \"xaxis\": \"x\", \"y\": [5508.85, 3405.89, 2799.53], \"yaxis\": \"y\", \"type\": \"scatter\"}, {\"customdata\": [[\"Erste Group\"]], \"hoverlabel\": {\"namelength\": 0}, \"hovertemplate\": \"country=Austria<br>year=2017<br>rank=%{x}<br>value=%{marker.size}<br>name=%{customdata[0]}\", \"legendgroup\": \"country=Austria\", \"marker\": {\"color\": \"#FECB52\", \"size\": [2243.67], \"sizemode\": \"area\", \"sizeref\": 199.5566, \"symbol\": \"circle\"}, \"mode\": \"markers\", \"name\": \"country=Austria\", \"showlegend\": true, \"x\": [\"100\"], \"xaxis\": \"x\", \"y\": [2243.67], \"yaxis\": \"y\", \"type\": \"scatter\"}, {\"customdata\": [[\"Shinhan Financial Group\"], [\"KB Financial Group\"], [\"Hana Financial Group\"]], \"hoverlabel\": {\"namelength\": 0}, \"hovertemplate\": \"country=South Korea<br>year=2017<br>rank=%{x}<br>value=%{marker.size}<br>name=%{customdata[0]}\", \"legendgroup\": \"country=South Korea\", \"marker\": {\"color\": \"#ab63fa\", \"size\": [3991.68, 3899.04, 2462.84], \"sizemode\": \"area\", \"sizeref\": 199.5566, \"symbol\": \"circle\"}, \"mode\": \"markers\", \"name\": \"country=South Korea\", \"showlegend\": true, \"x\": [\"58\", \"59\", \"97\"], \"xaxis\": \"x\", \"y\": [3991.68, 3899.04, 2462.84], \"yaxis\": \"y\", \"type\": \"scatter\"}, {\"customdata\": [[\"Danske Bank\"]], \"hoverlabel\": {\"namelength\": 0}, \"hovertemplate\": \"country=Denmark<br>year=2017<br>rank=%{x}<br>value=%{marker.size}<br>name=%{customdata[0]}\", \"legendgroup\": \"country=Denmark\", \"marker\": {\"color\": \"#19d3f3\", \"size\": [3599.42], \"sizemode\": \"area\", \"sizeref\": 199.5566, \"symbol\": \"circle\"}, \"mode\": \"markers\", \"name\": \"country=Denmark\", \"showlegend\": true, \"x\": [\"67\"], \"xaxis\": \"x\", \"y\": [3599.42], \"yaxis\": \"y\", \"type\": \"scatter\"}, {\"customdata\": [[\"DBS\"], [\"OCBC Bank\"], [\"UOB\"]], \"hoverlabel\": {\"namelength\": 0}, \"hovertemplate\": \"country=Singapore<br>year=2017<br>rank=%{x}<br>value=%{marker.size}<br>name=%{customdata[0]}\", \"legendgroup\": \"country=Singapore\", \"marker\": {\"color\": \"#FF6692\", \"size\": [5403.33, 3643.49, 3619.25], \"sizemode\": \"area\", \"sizeref\": 199.5566, \"symbol\": \"circle\"}, \"mode\": \"markers\", \"name\": \"country=Singapore\", \"showlegend\": true, \"x\": [\"52\", \"65\", \"66\"], \"xaxis\": \"x\", \"y\": [5403.33, 3643.49, 3619.25], \"yaxis\": \"y\", \"type\": \"scatter\"}, {\"customdata\": [[\"Hang Seng Bank\"]], \"hoverlabel\": {\"namelength\": 0}, \"hovertemplate\": \"country=China (Hong Kong)<br>year=2017<br>rank=%{x}<br>value=%{marker.size}<br>name=%{customdata[0]}\", \"legendgroup\": \"country=China (Hong Kong)\", \"marker\": {\"color\": \"#FF97FF\", \"size\": [2516.02], \"sizemode\": \"area\", \"sizeref\": 199.5566, \"symbol\": \"circle\"}, \"mode\": \"markers\", \"name\": \"country=China (Hong Kong)\", \"showlegend\": true, \"x\": [\"93\"], \"xaxis\": \"x\", \"y\": [2516.02], \"yaxis\": \"y\", \"type\": \"scatter\"}, {\"customdata\": [[\"DNB\"]], \"hoverlabel\": {\"namelength\": 0}, \"hovertemplate\": \"country=Norway<br>year=2017<br>rank=%{x}<br>value=%{marker.size}<br>name=%{customdata[0]}\", \"legendgroup\": \"country=Norway\", \"marker\": {\"color\": \"#636efa\", \"size\": [3285.99], \"sizemode\": \"area\", \"sizeref\": 199.5566, \"symbol\": \"circle\"}, \"mode\": \"markers\", \"name\": \"country=Norway\", \"showlegend\": true, \"x\": [\"77\"], \"xaxis\": \"x\", \"y\": [3285.99], \"yaxis\": \"y\", \"type\": \"scatter\"}, {\"customdata\": [[\"Maybank\"]], \"hoverlabel\": {\"namelength\": 0}, \"hovertemplate\": \"country=Malaysia<br>year=2017<br>rank=%{x}<br>value=%{marker.size}<br>name=%{customdata[0]}\", \"legendgroup\": \"country=Malaysia\", \"marker\": {\"color\": \"#00cc96\", \"size\": [2548.14], \"sizemode\": \"area\", \"sizeref\": 199.5566, \"symbol\": \"circle\"}, \"mode\": \"markers\", \"name\": \"country=Malaysia\", \"showlegend\": true, \"x\": [\"91\"], \"xaxis\": \"x\", \"y\": [2548.14], \"yaxis\": \"y\", \"type\": \"scatter\"}, {\"customdata\": [[\"QNB\"]], \"hoverlabel\": {\"namelength\": 0}, \"hovertemplate\": \"country=Qatar<br>year=2017<br>rank=%{x}<br>value=%{marker.size}<br>name=%{customdata[0]}\", \"legendgroup\": \"country=Qatar\", \"marker\": {\"color\": \"#FFA15A\", \"size\": [3825.94], \"sizemode\": \"area\", \"sizeref\": 199.5566, \"symbol\": \"circle\"}, \"mode\": \"markers\", \"name\": \"country=Qatar\", \"showlegend\": true, \"x\": [\"60\"], \"xaxis\": \"x\", \"y\": [3825.94], \"yaxis\": \"y\", \"type\": \"scatter\"}, {\"customdata\": [[\"Emirates NBD\"], [\"National Bank of Abu Dhabi\"]], \"hoverlabel\": {\"namelength\": 0}, \"hovertemplate\": \"country=UAE<br>year=2017<br>rank=%{x}<br>value=%{marker.size}<br>name=%{customdata[0]}\", \"legendgroup\": \"country=UAE\", \"marker\": {\"color\": \"#FF6692\", \"size\": [3405.73, 2496.88], \"sizemode\": \"area\", \"sizeref\": 199.5566, \"symbol\": \"circle\"}, \"mode\": \"markers\", \"name\": \"country=UAE\", \"showlegend\": true, \"x\": [\"75\", \"94\"], \"xaxis\": \"x\", \"y\": [3405.73, 2496.88], \"yaxis\": \"y\", \"type\": \"scatter\"}, {\"customdata\": [[\"BRI\"]], \"hoverlabel\": {\"namelength\": 0}, \"hovertemplate\": \"country=Indonesia<br>year=2017<br>rank=%{x}<br>value=%{marker.size}<br>name=%{customdata[0]}\", \"legendgroup\": \"country=Indonesia\", \"marker\": {\"color\": \"#B6E880\", \"size\": [2556.88], \"sizemode\": \"area\", \"sizeref\": 199.5566, \"symbol\": \"circle\"}, \"mode\": \"markers\", \"name\": \"country=Indonesia\", \"showlegend\": true, \"x\": [\"90\"], \"xaxis\": \"x\", \"y\": [2556.88], \"yaxis\": \"y\", \"type\": \"scatter\"}], \"name\": \"2017\"}, {\"data\": [{\"customdata\": [[\"HSBC\"], [\"Barclays\"], [\"NatWest\"], [\"Lloyds Bank\"], [\"Standard Chartered\"], [\"Nationwide Building Society\"], [\"Halifax\"]], \"hoverlabel\": {\"namelength\": 0}, \"hovertemplate\": \"country=United Kingdom<br>year=2018<br>rank=%{x}<br>value=%{marker.size}<br>name=%{customdata[0]}\", \"legendgroup\": \"country=United Kingdom\", \"marker\": {\"color\": \"#636efa\", \"size\": [18305.44, 13507.89, 6493.15, 6379.19, 5673.22, 4333.65, 3427.6], \"sizemode\": \"area\", \"sizeref\": 199.5566, \"symbol\": \"circle\"}, \"mode\": \"markers\", \"name\": \"country=United Kingdom\", \"showlegend\": true, \"x\": [\"9\", \"18\", \"41\", \"43\", \"54\", \"59\", \"73\"], \"xaxis\": \"x\", \"y\": [18305.44, 13507.89, 6493.15, 6379.19, 5673.22, 4333.65, 3427.6], \"yaxis\": \"y\", \"type\": \"scatter\"}, {\"customdata\": [[\"Wells Fargo\"], [\"Chase\"], [\"Bank of America\"], [\"Citi\"], [\"JP Morgan\"], [\"Capital One\"], [\"Goldman Sachs\"], [\"Morgan Stanley\"], [\"U.S. Bank\"], [\"PNC\"], [\"Merrill Lynch\"], [\"BNY Mellon\"], [\"BB&T\"], [\"Charles Schwab\"], [\"SunTrust Banks\"], [\"State Street\"], [\"Fifth Third Bank\"]], \"hoverlabel\": {\"namelength\": 0}, \"hovertemplate\": \"country=United States<br>year=2018<br>rank=%{x}<br>value=%{marker.size}<br>name=%{customdata[0]}\", \"legendgroup\": \"country=United States\", \"marker\": {\"color\": \"#EF553B\", \"size\": [44098.04, 38842.2, 33289.08, 30783.03, 17651.08, 11289.64, 9179.41, 7802.04, 7674.47, 6362.18, 5928.35, 3481.72, 3333.14, 3324.05, 2848.91, 2450.77, 2383.47], \"sizemode\": \"area\", \"sizeref\": 199.5566, \"symbol\": \"circle\"}, \"mode\": \"markers\", \"name\": \"country=United States\", \"showlegend\": true, \"x\": [\"3\", \"5\", \"7\", \"8\", \"10\", \"23\", \"27\", \"35\", \"36\", \"45\", \"48\", \"72\", \"76\", \"77\", \"87\", \"96\", \"99\"], \"xaxis\": \"x\", \"y\": [44098.04, 38842.2, 33289.08, 30783.03, 17651.08, 11289.64, 9179.41, 7802.04, 7674.47, 6362.18, 5928.35, 3481.72, 3333.14, 3324.05, 2848.91, 2450.77, 2383.47], \"yaxis\": \"y\", \"type\": \"scatter\"}, {\"customdata\": [[\"Santander\"], [\"BBVA\"], [\"CaixaBank\"]], \"hoverlabel\": {\"namelength\": 0}, \"hovertemplate\": \"country=Spain<br>year=2018<br>rank=%{x}<br>value=%{marker.size}<br>name=%{customdata[0]}\", \"legendgroup\": \"country=Spain\", \"marker\": {\"color\": \"#00cc96\", \"size\": [16200.05, 11615.56, 3600.81], \"sizemode\": \"area\", \"sizeref\": 199.5566, \"symbol\": \"circle\"}, \"mode\": \"markers\", \"name\": \"country=Spain\", \"showlegend\": true, \"x\": [\"12\", \"22\", \"70\"], \"xaxis\": \"x\", \"y\": [16200.05, 11615.56, 3600.81], \"yaxis\": \"y\", \"type\": \"scatter\"}, {\"customdata\": [[\"BNP Paribas\"], [\"Soci\\u00e9t\\u00e9 G\\u00e9n\\u00e9rale\"], [\"Cr\\u00e9dit Agricole\"], [\"Cr\\u00e9dit Mutuel\"], [\"La Banque Postale\"], [\"CIC\"]], \"hoverlabel\": {\"namelength\": 0}, \"hovertemplate\": \"country=France<br>year=2018<br>rank=%{x}<br>value=%{marker.size}<br>name=%{customdata[0]}\", \"legendgroup\": \"country=France\", \"marker\": {\"color\": \"#ab63fa\", \"size\": [13713.32, 8154.72, 5774.89, 4304.3, 2486.03, 2385.37], \"sizemode\": \"area\", \"sizeref\": 199.5566, \"symbol\": \"circle\"}, \"mode\": \"markers\", \"name\": \"country=France\", \"showlegend\": true, \"x\": [\"17\", \"33\", \"51\", \"60\", \"95\", \"98\"], \"xaxis\": \"x\", \"y\": [13713.32, 8154.72, 5774.89, 4304.3, 2486.03, 2385.37], \"yaxis\": \"y\", \"type\": \"scatter\"}, {\"customdata\": [[\"UBS\"], [\"Credit Suisse\"]], \"hoverlabel\": {\"namelength\": 0}, \"hovertemplate\": \"country=Switzerland<br>year=2018<br>rank=%{x}<br>value=%{marker.size}<br>name=%{customdata[0]}\", \"legendgroup\": \"country=Switzerland\", \"marker\": {\"color\": \"#FFA15A\", \"size\": [8800.74, 6662.52], \"sizemode\": \"area\", \"sizeref\": 199.5566, \"symbol\": \"circle\"}, \"mode\": \"markers\", \"name\": \"country=Switzerland\", \"showlegend\": true, \"x\": [\"28\", \"38\"], \"xaxis\": \"x\", \"y\": [8800.74, 6662.52], \"yaxis\": \"y\", \"type\": \"scatter\"}, {\"customdata\": [[\"ING\"], [\"Rabobank\"], [\"ABN AMRO\"]], \"hoverlabel\": {\"namelength\": 0}, \"hovertemplate\": \"country=Netherlands<br>year=2018<br>rank=%{x}<br>value=%{marker.size}<br>name=%{customdata[0]}\", \"legendgroup\": \"country=Netherlands\", \"marker\": {\"color\": \"#19d3f3\", \"size\": [9784.81, 5750.96, 3739.3], \"sizemode\": \"area\", \"sizeref\": 199.5566, \"symbol\": \"circle\"}, \"mode\": \"markers\", \"name\": \"country=Netherlands\", \"showlegend\": true, \"x\": [\"26\", \"53\", \"65\"], \"xaxis\": \"x\", \"y\": [9784.81, 5750.96, 3739.3], \"yaxis\": \"y\", \"type\": \"scatter\"}, {\"customdata\": [[\"Deutsche Bank\"], [\"DZ Bank\"]], \"hoverlabel\": {\"namelength\": 0}, \"hovertemplate\": \"country=Germany<br>year=2018<br>rank=%{x}<br>value=%{marker.size}<br>name=%{customdata[0]}\", \"legendgroup\": \"country=Germany\", \"marker\": {\"color\": \"#FF6692\", \"size\": [6126.53, 2779.25], \"sizemode\": \"area\", \"sizeref\": 199.5566, \"symbol\": \"circle\"}, \"mode\": \"markers\", \"name\": \"country=Germany\", \"showlegend\": true, \"x\": [\"47\", \"91\"], \"xaxis\": \"x\", \"y\": [6126.53, 2779.25], \"yaxis\": \"y\", \"type\": \"scatter\"}, {\"customdata\": [[\"ICBC\"], [\"China Construction Bank\"], [\"Bank of China\"], [\"Agricultural Bank Of China\"], [\"China Merchants Bank\"], [\"Shanghai Pudong Development Bank\"], [\"Bank of Communications\"], [\"Industrial Bank\"], [\"China CITIC Bank\"], [\"China Minsheng Bank\"], [\"Ping An Bank\"], [\"China Everbright Bank\"], [\"Hua Xia Bank\"], [\"Bank of Beijing\"], [\"Bank of Shanghai\"]], \"hoverlabel\": {\"namelength\": 0}, \"hovertemplate\": \"country=China<br>year=2018<br>rank=%{x}<br>value=%{marker.size}<br>name=%{customdata[0]}\", \"legendgroup\": \"country=China\", \"marker\": {\"color\": \"#B6E880\", \"size\": [59188.77, 56788.83, 41749.78, 37320.87, 16673.21, 14771.61, 14055.39, 11972.45, 10264.64, 8498.19, 6453.57, 6374.99, 3615.12, 3229.7, 2410.4], \"sizemode\": \"area\", \"sizeref\": 199.5566, \"symbol\": \"circle\"}, \"mode\": \"markers\", \"name\": \"country=China\", \"showlegend\": true, \"x\": [\"1\", \"2\", \"4\", \"6\", \"11\", \"13\", \"15\", \"20\", \"24\", \"29\", \"42\", \"44\", \"69\", \"80\", \"97\"], \"xaxis\": \"x\", \"y\": [59188.77, 56788.83, 41749.78, 37320.87, 16673.21, 14771.61, 14055.39, 11972.45, 10264.64, 8498.19, 6453.57, 6374.99, 3615.12, 3229.7, 2410.4], \"yaxis\": \"y\", \"type\": \"scatter\"}, {\"customdata\": [[\"Intesa Sanpaolo\"]], \"hoverlabel\": {\"namelength\": 0}, \"hovertemplate\": \"country=Italy<br>year=2018<br>rank=%{x}<br>value=%{marker.size}<br>name=%{customdata[0]}\", \"legendgroup\": \"country=Italy\", \"marker\": {\"color\": \"#FF97FF\", \"size\": [5127.03], \"sizemode\": \"area\", \"sizeref\": 199.5566, \"symbol\": \"circle\"}, \"mode\": \"markers\", \"name\": \"country=Italy\", \"showlegend\": true, \"x\": [\"57\"], \"xaxis\": \"x\", \"y\": [5127.03], \"yaxis\": \"y\", \"type\": \"scatter\"}, {\"customdata\": [[\"Commonwealth Bank of Australia\"], [\"ANZ\"], [\"nab\"], [\"Westpac\"], [\"Macquarie\"]], \"hoverlabel\": {\"namelength\": 0}, \"hovertemplate\": \"country=Australia<br>year=2018<br>rank=%{x}<br>value=%{marker.size}<br>name=%{customdata[0]}\", \"legendgroup\": \"country=Australia\", \"marker\": {\"color\": \"#FECB52\", \"size\": [8283.0, 8247.5, 6507.04, 5833.2, 2844.29], \"sizemode\": \"area\", \"sizeref\": 199.5566, \"symbol\": \"circle\"}, \"mode\": \"markers\", \"name\": \"country=Australia\", \"showlegend\": true, \"x\": [\"30\", \"31\", \"39\", \"50\", \"88\"], \"xaxis\": \"x\", \"y\": [8283.0, 8247.5, 6507.04, 5833.2, 2844.29], \"yaxis\": \"y\", \"type\": \"scatter\"}, {\"customdata\": [[\"Royal Bank Of Canada\"], [\"TD\"], [\"Scotiabank\"], [\"BMO\"], [\"CIBC\"], [\"Desjardins\"]], \"hoverlabel\": {\"namelength\": 0}, \"hovertemplate\": \"country=Canada<br>year=2018<br>rank=%{x}<br>value=%{marker.size}<br>name=%{customdata[0]}\", \"legendgroup\": \"country=Canada\", \"marker\": {\"color\": \"#636efa\", \"size\": [13827.04, 12516.71, 10206.87, 8211.7, 7099.87, 2933.56], \"sizemode\": \"area\", \"sizeref\": 199.5566, \"symbol\": \"circle\"}, \"mode\": \"markers\", \"name\": \"country=Canada\", \"showlegend\": true, \"x\": [\"16\", \"19\", \"25\", \"32\", \"37\", \"86\"], \"xaxis\": \"x\", \"y\": [13827.04, 12516.71, 10206.87, 8211.7, 7099.87, 2933.56], \"yaxis\": \"y\", \"type\": \"scatter\"}, {\"customdata\": [[\"KBC\"]], \"hoverlabel\": {\"namelength\": 0}, \"hovertemplate\": \"country=Belgium<br>year=2018<br>rank=%{x}<br>value=%{marker.size}<br>name=%{customdata[0]}\", \"legendgroup\": \"country=Belgium\", \"marker\": {\"color\": \"#EF553B\", \"size\": [4225.45], \"sizemode\": \"area\", \"sizeref\": 199.5566, \"symbol\": \"circle\"}, \"mode\": \"markers\", \"name\": \"country=Belgium\", \"showlegend\": true, \"x\": [\"62\"], \"xaxis\": \"x\", \"y\": [4225.45], \"yaxis\": \"y\", \"type\": \"scatter\"}, {\"customdata\": [[\"MUFG\"], [\"SMBC\"], [\"Mizuho Financial Group\"], [\"Nomura\"]], \"hoverlabel\": {\"namelength\": 0}, \"hovertemplate\": \"country=Japan<br>year=2018<br>rank=%{x}<br>value=%{marker.size}<br>name=%{customdata[0]}\", \"legendgroup\": \"country=Japan\", \"marker\": {\"color\": \"#00cc96\", \"size\": [14506.94, 5917.44, 5760.93, 3285.96], \"sizemode\": \"area\", \"sizeref\": 199.5566, \"symbol\": \"circle\"}, \"mode\": \"markers\", \"name\": \"country=Japan\", \"showlegend\": true, \"x\": [\"14\", \"49\", \"52\", \"79\"], \"xaxis\": \"x\", \"y\": [14506.94, 5917.44, 5760.93, 3285.96], \"yaxis\": \"y\", \"type\": \"scatter\"}, {\"customdata\": [[\"Ita\\u00fa\"], [\"Bradesco\"], [\"Banco do Brasil\"], [\"Caixa\"]], \"hoverlabel\": {\"namelength\": 0}, \"hovertemplate\": \"country=Brazil<br>year=2018<br>rank=%{x}<br>value=%{marker.size}<br>name=%{customdata[0]}\", \"legendgroup\": \"country=Brazil\", \"marker\": {\"color\": \"#ab63fa\", \"size\": [8010.86, 5633.31, 4162.81, 2620.1], \"sizemode\": \"area\", \"sizeref\": 199.5566, \"symbol\": \"circle\"}, \"mode\": \"markers\", \"name\": \"country=Brazil\", \"showlegend\": true, \"x\": [\"34\", \"55\", \"63\", \"92\"], \"xaxis\": \"x\", \"y\": [8010.86, 5633.31, 4162.81, 2620.1], \"yaxis\": \"y\", \"type\": \"scatter\"}, {\"customdata\": [[\"Nordea\"], [\"Swedbank\"], [\"Svenska Handelsbanken\"], [\"SEB\"]], \"hoverlabel\": {\"namelength\": 0}, \"hovertemplate\": \"country=Sweden<br>year=2018<br>rank=%{x}<br>value=%{marker.size}<br>name=%{customdata[0]}\", \"legendgroup\": \"country=Sweden\", \"marker\": {\"color\": \"#FFA15A\", \"size\": [6355.14, 3299.33, 3165.09, 2797.64], \"sizemode\": \"area\", \"sizeref\": 199.5566, \"symbol\": \"circle\"}, \"mode\": \"markers\", \"name\": \"country=Sweden\", \"showlegend\": true, \"x\": [\"46\", \"78\", \"81\", \"89\"], \"xaxis\": \"x\", \"y\": [6355.14, 3299.33, 3165.09, 2797.64], \"yaxis\": \"y\", \"type\": \"scatter\"}, {\"customdata\": [[\"Sberbank\"]], \"hoverlabel\": {\"namelength\": 0}, \"hovertemplate\": \"country=Russia<br>year=2018<br>rank=%{x}<br>value=%{marker.size}<br>name=%{customdata[0]}\", \"legendgroup\": \"country=Russia\", \"marker\": {\"color\": \"#19d3f3\", \"size\": [11624.83], \"sizemode\": \"area\", \"sizeref\": 199.5566, \"symbol\": \"circle\"}, \"mode\": \"markers\", \"name\": \"country=Russia\", \"showlegend\": true, \"x\": [\"21\"], \"xaxis\": \"x\", \"y\": [11624.83], \"yaxis\": \"y\", \"type\": \"scatter\"}, {\"customdata\": [[\"State Bank of India\"], [\"HDFC Bank\"], [\"ICICI Bank\"]], \"hoverlabel\": {\"namelength\": 0}, \"hovertemplate\": \"country=India<br>year=2018<br>rank=%{x}<br>value=%{marker.size}<br>name=%{customdata[0]}\", \"legendgroup\": \"country=India\", \"marker\": {\"color\": \"#FF6692\", \"size\": [5261.37, 3633.13, 3153.11], \"sizemode\": \"area\", \"sizeref\": 199.5566, \"symbol\": \"circle\"}, \"mode\": \"markers\", \"name\": \"country=India\", \"showlegend\": true, \"x\": [\"56\", \"68\", \"84\"], \"xaxis\": \"x\", \"y\": [5261.37, 3633.13, 3153.11], \"yaxis\": \"y\", \"type\": \"scatter\"}, {\"customdata\": [[\"Erste Group\"]], \"hoverlabel\": {\"namelength\": 0}, \"hovertemplate\": \"country=Austria<br>year=2018<br>rank=%{x}<br>value=%{marker.size}<br>name=%{customdata[0]}\", \"legendgroup\": \"country=Austria\", \"marker\": {\"color\": \"#FECB52\", \"size\": [2379.32], \"sizemode\": \"area\", \"sizeref\": 199.5566, \"symbol\": \"circle\"}, \"mode\": \"markers\", \"name\": \"country=Austria\", \"showlegend\": true, \"x\": [\"100\"], \"xaxis\": \"x\", \"y\": [2379.32], \"yaxis\": \"y\", \"type\": \"scatter\"}, {\"customdata\": [[\"KB Financial Group\"], [\"Shinhan Financial Group\"], [\"Hana Financial Group\"]], \"hoverlabel\": {\"namelength\": 0}, \"hovertemplate\": \"country=South Korea<br>year=2018<br>rank=%{x}<br>value=%{marker.size}<br>name=%{customdata[0]}\", \"legendgroup\": \"country=South Korea\", \"marker\": {\"color\": \"#ab63fa\", \"size\": [4603.54, 3669.26, 2527.18], \"sizemode\": \"area\", \"sizeref\": 199.5566, \"symbol\": \"circle\"}, \"mode\": \"markers\", \"name\": \"country=South Korea\", \"showlegend\": true, \"x\": [\"58\", \"67\", \"94\"], \"xaxis\": \"x\", \"y\": [4603.54, 3669.26, 2527.18], \"yaxis\": \"y\", \"type\": \"scatter\"}, {\"customdata\": [[\"Danske Bank\"]], \"hoverlabel\": {\"namelength\": 0}, \"hovertemplate\": \"country=Denmark<br>year=2018<br>rank=%{x}<br>value=%{marker.size}<br>name=%{customdata[0]}\", \"legendgroup\": \"country=Denmark\", \"marker\": {\"color\": \"#19d3f3\", \"size\": [3408.81], \"sizemode\": \"area\", \"sizeref\": 199.5566, \"symbol\": \"circle\"}, \"mode\": \"markers\", \"name\": \"country=Denmark\", \"showlegend\": true, \"x\": [\"74\"], \"xaxis\": \"x\", \"y\": [3408.81], \"yaxis\": \"y\", \"type\": \"scatter\"}, {\"customdata\": [[\"DBS\"], [\"OCBC Bank\"], [\"UOB\"]], \"hoverlabel\": {\"namelength\": 0}, \"hovertemplate\": \"country=Singapore<br>year=2018<br>rank=%{x}<br>value=%{marker.size}<br>name=%{customdata[0]}\", \"legendgroup\": \"country=Singapore\", \"marker\": {\"color\": \"#FF6692\", \"size\": [6498.38, 4022.82, 3739.0], \"sizemode\": \"area\", \"sizeref\": 199.5566, \"symbol\": \"circle\"}, \"mode\": \"markers\", \"name\": \"country=Singapore\", \"showlegend\": true, \"x\": [\"40\", \"64\", \"66\"], \"xaxis\": \"x\", \"y\": [6498.38, 4022.82, 3739.0], \"yaxis\": \"y\", \"type\": \"scatter\"}, {\"customdata\": [[\"Hang Seng Bank\"]], \"hoverlabel\": {\"namelength\": 0}, \"hovertemplate\": \"country=China (Hong Kong)<br>year=2018<br>rank=%{x}<br>value=%{marker.size}<br>name=%{customdata[0]}\", \"legendgroup\": \"country=China (Hong Kong)\", \"marker\": {\"color\": \"#FF97FF\", \"size\": [2791.71], \"sizemode\": \"area\", \"sizeref\": 199.5566, \"symbol\": \"circle\"}, \"mode\": \"markers\", \"name\": \"country=China (Hong Kong)\", \"showlegend\": true, \"x\": [\"90\"], \"xaxis\": \"x\", \"y\": [2791.71], \"yaxis\": \"y\", \"type\": \"scatter\"}, {\"customdata\": [[\"DNB\"]], \"hoverlabel\": {\"namelength\": 0}, \"hovertemplate\": \"country=Norway<br>year=2018<br>rank=%{x}<br>value=%{marker.size}<br>name=%{customdata[0]}\", \"legendgroup\": \"country=Norway\", \"marker\": {\"color\": \"#636efa\", \"size\": [3386.53], \"sizemode\": \"area\", \"sizeref\": 199.5566, \"symbol\": \"circle\"}, \"mode\": \"markers\", \"name\": \"country=Norway\", \"showlegend\": true, \"x\": [\"75\"], \"xaxis\": \"x\", \"y\": [3386.53], \"yaxis\": \"y\", \"type\": \"scatter\"}, {\"customdata\": [[\"Maybank\"]], \"hoverlabel\": {\"namelength\": 0}, \"hovertemplate\": \"country=Malaysia<br>year=2018<br>rank=%{x}<br>value=%{marker.size}<br>name=%{customdata[0]}\", \"legendgroup\": \"country=Malaysia\", \"marker\": {\"color\": \"#00cc96\", \"size\": [3159.56], \"sizemode\": \"area\", \"sizeref\": 199.5566, \"symbol\": \"circle\"}, \"mode\": \"markers\", \"name\": \"country=Malaysia\", \"showlegend\": true, \"x\": [\"83\"], \"xaxis\": \"x\", \"y\": [3159.56], \"yaxis\": \"y\", \"type\": \"scatter\"}, {\"customdata\": [[\"QNB\"]], \"hoverlabel\": {\"namelength\": 0}, \"hovertemplate\": \"country=Qatar<br>year=2018<br>rank=%{x}<br>value=%{marker.size}<br>name=%{customdata[0]}\", \"legendgroup\": \"country=Qatar\", \"marker\": {\"color\": \"#FFA15A\", \"size\": [4232.21], \"sizemode\": \"area\", \"sizeref\": 199.5566, \"symbol\": \"circle\"}, \"mode\": \"markers\", \"name\": \"country=Qatar\", \"showlegend\": true, \"x\": [\"61\"], \"xaxis\": \"x\", \"y\": [4232.21], \"yaxis\": \"y\", \"type\": \"scatter\"}, {\"customdata\": [[\"Al-Rajhi Bank\"]], \"hoverlabel\": {\"namelength\": 0}, \"hovertemplate\": \"country=Saudi Arabia<br>year=2018<br>rank=%{x}<br>value=%{marker.size}<br>name=%{customdata[0]}\", \"legendgroup\": \"country=Saudi Arabia\", \"marker\": {\"color\": \"#19d3f3\", \"size\": [2597.26], \"sizemode\": \"area\", \"sizeref\": 199.5566, \"symbol\": \"circle\"}, \"mode\": \"markers\", \"name\": \"country=Saudi Arabia\", \"showlegend\": true, \"x\": [\"93\"], \"xaxis\": \"x\", \"y\": [2597.26], \"yaxis\": \"y\", \"type\": \"scatter\"}, {\"customdata\": [[\"Emirates NBD\"], [\"First Abu Dhabi Bank\"]], \"hoverlabel\": {\"namelength\": 0}, \"hovertemplate\": \"country=UAE<br>year=2018<br>rank=%{x}<br>value=%{marker.size}<br>name=%{customdata[0]}\", \"legendgroup\": \"country=UAE\", \"marker\": {\"color\": \"#FF6692\", \"size\": [3533.59, 3105.85], \"sizemode\": \"area\", \"sizeref\": 199.5566, \"symbol\": \"circle\"}, \"mode\": \"markers\", \"name\": \"country=UAE\", \"showlegend\": true, \"x\": [\"71\", \"85\"], \"xaxis\": \"x\", \"y\": [3533.59, 3105.85], \"yaxis\": \"y\", \"type\": \"scatter\"}, {\"customdata\": [[\"BRI\"]], \"hoverlabel\": {\"namelength\": 0}, \"hovertemplate\": \"country=Indonesia<br>year=2018<br>rank=%{x}<br>value=%{marker.size}<br>name=%{customdata[0]}\", \"legendgroup\": \"country=Indonesia\", \"marker\": {\"color\": \"#B6E880\", \"size\": [3163.69], \"sizemode\": \"area\", \"sizeref\": 199.5566, \"symbol\": \"circle\"}, \"mode\": \"markers\", \"name\": \"country=Indonesia\", \"showlegend\": true, \"x\": [\"82\"], \"xaxis\": \"x\", \"y\": [3163.69], \"yaxis\": \"y\", \"type\": \"scatter\"}], \"name\": \"2018\"}, {\"data\": [{\"customdata\": [[\"HSBC\"], [\"Barclays\"], [\"NatWest\"], [\"Lloyds Bank\"], [\"Halifax\"], [\"Nationwide Building Society\"]], \"hoverlabel\": {\"namelength\": 0}, \"hovertemplate\": \"country=United Kingdom<br>year=2019<br>rank=%{x}<br>value=%{marker.size}<br>name=%{customdata[0]}\", \"legendgroup\": \"country=United Kingdom\", \"marker\": {\"color\": \"#636efa\", \"size\": [20188.77, 11581.63, 7722.82, 6781.8, 3714.37, 3600.14], \"sizemode\": \"area\", \"sizeref\": 199.5566, \"symbol\": \"circle\"}, \"mode\": \"markers\", \"name\": \"country=United Kingdom\", \"showlegend\": true, \"x\": [\"10\", \"22\", \"39\", \"46\", \"83\", \"85\"], \"xaxis\": \"x\", \"y\": [20188.77, 11581.63, 7722.82, 6781.8, 3714.37, 3600.14], \"yaxis\": \"y\", \"type\": \"scatter\"}, {\"customdata\": [[\"Wells Fargo\"], [\"Bank of America\"], [\"Citi\"], [\"Chase\"], [\"JP Morgan\"], [\"Capital One\"], [\"Goldman Sachs\"], [\"U.S. Bank\"], [\"Morgan Stanley\"], [\"PNC\"], [\"Merrill Lynch\"], [\"Discover\"], [\"BB&T\"], [\"Charles Schwab\"], [\"BNY Mellon\"], [\"SunTrust Bank\"], [\"Fifth Third Bank\"], [\"State Street\"]], \"hoverlabel\": {\"namelength\": 0}, \"hovertemplate\": \"country=United States<br>year=2019<br>rank=%{x}<br>value=%{marker.size}<br>name=%{customdata[0]}\", \"legendgroup\": \"country=United States\", \"marker\": {\"color\": \"#EF553B\", \"size\": [39947.58, 36686.75, 36407.0, 36265.44, 19796.85, 14458.55, 10579.54, 9764.67, 9052.39, 8461.08, 6372.23, 6188.43, 4331.04, 4063.95, 3994.11, 3519.22, 3458.08, 3344.86], \"sizemode\": \"area\", \"sizeref\": 199.5566, \"symbol\": \"circle\"}, \"mode\": \"markers\", \"name\": \"country=United States\", \"showlegend\": true, \"x\": [\"5\", \"6\", \"7\", \"8\", \"11\", \"16\", \"29\", \"31\", \"33\", \"36\", \"48\", \"50\", \"68\", \"75\", \"78\", \"86\", \"88\", \"90\"], \"xaxis\": \"x\", \"y\": [39947.58, 36686.75, 36407.0, 36265.44, 19796.85, 14458.55, 10579.54, 9764.67, 9052.39, 8461.08, 6372.23, 6188.43, 4331.04, 4063.95, 3994.11, 3519.22, 3458.08, 3344.86], \"yaxis\": \"y\", \"type\": \"scatter\"}, {\"customdata\": [[\"Santander\"], [\"BBVA\"], [\"CaixaBank\"]], \"hoverlabel\": {\"namelength\": 0}, \"hovertemplate\": \"country=Spain<br>year=2019<br>rank=%{x}<br>value=%{marker.size}<br>name=%{customdata[0]}\", \"legendgroup\": \"country=Spain\", \"marker\": {\"color\": \"#00cc96\", \"size\": [17449.02, 10736.43, 4343.4], \"sizemode\": \"area\", \"sizeref\": 199.5566, \"symbol\": \"circle\"}, \"mode\": \"markers\", \"name\": \"country=Spain\", \"showlegend\": true, \"x\": [\"12\", \"27\", \"66\"], \"xaxis\": \"x\", \"y\": [17449.02, 10736.43, 4343.4], \"yaxis\": \"y\", \"type\": \"scatter\"}, {\"customdata\": [[\"BNP Paribas\"], [\"Soci\\u00e9t\\u00e9 G\\u00e9n\\u00e9rale\"], [\"Cr\\u00e9dit Agricole\"], [\"Cr\\u00e9dit Mutuel\"]], \"hoverlabel\": {\"namelength\": 0}, \"hovertemplate\": \"country=France<br>year=2019<br>rank=%{x}<br>value=%{marker.size}<br>name=%{customdata[0]}\", \"legendgroup\": \"country=France\", \"marker\": {\"color\": \"#ab63fa\", \"size\": [14715.74, 7324.77, 5896.59, 4616.56], \"sizemode\": \"area\", \"sizeref\": 199.5566, \"symbol\": \"circle\"}, \"mode\": \"markers\", \"name\": \"country=France\", \"showlegend\": true, \"x\": [\"14\", \"43\", \"54\", \"63\"], \"xaxis\": \"x\", \"y\": [14715.74, 7324.77, 5896.59, 4616.56], \"yaxis\": \"y\", \"type\": \"scatter\"}, {\"customdata\": [[\"UBS\"], [\"Credit Suisse\"]], \"hoverlabel\": {\"namelength\": 0}, \"hovertemplate\": \"country=Switzerland<br>year=2019<br>rank=%{x}<br>value=%{marker.size}<br>name=%{customdata[0]}\", \"legendgroup\": \"country=Switzerland\", \"marker\": {\"color\": \"#FFA15A\", \"size\": [10606.19, 7493.36], \"sizemode\": \"area\", \"sizeref\": 199.5566, \"symbol\": \"circle\"}, \"mode\": \"markers\", \"name\": \"country=Switzerland\", \"showlegend\": true, \"x\": [\"28\", \"42\"], \"xaxis\": \"x\", \"y\": [10606.19, 7493.36], \"yaxis\": \"y\", \"type\": \"scatter\"}, {\"customdata\": [[\"ING\"], [\"Rabobank\"], [\"ABN AMRO\"]], \"hoverlabel\": {\"namelength\": 0}, \"hovertemplate\": \"country=Netherlands<br>year=2019<br>rank=%{x}<br>value=%{marker.size}<br>name=%{customdata[0]}\", \"legendgroup\": \"country=Netherlands\", \"marker\": {\"color\": \"#19d3f3\", \"size\": [11364.14, 8269.54, 4594.09], \"sizemode\": \"area\", \"sizeref\": 199.5566, \"symbol\": \"circle\"}, \"mode\": \"markers\", \"name\": \"country=Netherlands\", \"showlegend\": true, \"x\": [\"23\", \"37\", \"64\"], \"xaxis\": \"x\", \"y\": [11364.14, 8269.54, 4594.09], \"yaxis\": \"y\", \"type\": \"scatter\"}, {\"customdata\": [[\"Deutsche Bank\"]], \"hoverlabel\": {\"namelength\": 0}, \"hovertemplate\": \"country=Germany<br>year=2019<br>rank=%{x}<br>value=%{marker.size}<br>name=%{customdata[0]}\", \"legendgroup\": \"country=Germany\", \"marker\": {\"color\": \"#FF6692\", \"size\": [4302.27], \"sizemode\": \"area\", \"sizeref\": 199.5566, \"symbol\": \"circle\"}, \"mode\": \"markers\", \"name\": \"country=Germany\", \"showlegend\": true, \"x\": [\"70\"], \"xaxis\": \"x\", \"y\": [4302.27], \"yaxis\": \"y\", \"type\": \"scatter\"}, {\"customdata\": [[\"ICBC\"], [\"China Construction Bank\"], [\"Agricultural Bank Of China\"], [\"Bank of China\"], [\"China Merchants Bank\"], [\"Bank of Communications\"], [\"Shanghai Pudong Development Bank\"], [\"China CITIC Bank\"], [\"Industrial Bank\"], [\"Postal Savings Bank\"], [\"China Minsheng Bank\"], [\"China Everbright Bank\"], [\"Ping An Bank\"], [\"Standard Chartered\"], [\"Bank of Beijing\"], [\"Hua Xia Bank\"], [\"Bank of Shanghai\"]], \"hoverlabel\": {\"namelength\": 0}, \"hovertemplate\": \"country=China<br>year=2019<br>rank=%{x}<br>value=%{marker.size}<br>name=%{customdata[0]}\", \"legendgroup\": \"country=China\", \"marker\": {\"color\": \"#B6E880\", \"size\": [79822.64, 69741.75, 55040.17, 50990.26, 22480.13, 14507.23, 13252.32, 12856.33, 11689.42, 11031.24, 9400.67, 7655.4, 7160.72, 5538.17, 4174.34, 4000.68, 2890.95], \"sizemode\": \"area\", \"sizeref\": 199.5566, \"symbol\": \"circle\"}, \"mode\": \"markers\", \"name\": \"country=China\", \"showlegend\": true, \"x\": [\"1\", \"2\", \"3\", \"4\", \"9\", \"15\", \"18\", \"19\", \"21\", \"26\", \"32\", \"40\", \"44\", \"58\", \"74\", \"77\", \"96\"], \"xaxis\": \"x\", \"y\": [79822.64, 69741.75, 55040.17, 50990.26, 22480.13, 14507.23, 13252.32, 12856.33, 11689.42, 11031.24, 9400.67, 7655.4, 7160.72, 5538.17, 4174.34, 4000.68, 2890.95], \"yaxis\": \"y\", \"type\": \"scatter\"}, {\"customdata\": [[\"Intesa Sanpaolo\"]], \"hoverlabel\": {\"namelength\": 0}, \"hovertemplate\": \"country=Italy<br>year=2019<br>rank=%{x}<br>value=%{marker.size}<br>name=%{customdata[0]}\", \"legendgroup\": \"country=Italy\", \"marker\": {\"color\": \"#FF97FF\", \"size\": [5466.15], \"sizemode\": \"area\", \"sizeref\": 199.5566, \"symbol\": \"circle\"}, \"mode\": \"markers\", \"name\": \"country=Italy\", \"showlegend\": true, \"x\": [\"59\"], \"xaxis\": \"x\", \"y\": [5466.15], \"yaxis\": \"y\", \"type\": \"scatter\"}, {\"customdata\": [[\"Commonwealth Bank\"], [\"ANZ\"], [\"nab\"], [\"Westpac\"], [\"Macquarie\"]], \"hoverlabel\": {\"namelength\": 0}, \"hovertemplate\": \"country=Australia<br>year=2019<br>rank=%{x}<br>value=%{marker.size}<br>name=%{customdata[0]}\", \"legendgroup\": \"country=Australia\", \"marker\": {\"color\": \"#FECB52\", \"size\": [7625.04, 6577.89, 6214.91, 5242.93, 2735.3], \"sizemode\": \"area\", \"sizeref\": 199.5566, \"symbol\": \"circle\"}, \"mode\": \"markers\", \"name\": \"country=Australia\", \"showlegend\": true, \"x\": [\"41\", \"47\", \"49\", \"60\", \"98\"], \"xaxis\": \"x\", \"y\": [7625.04, 6577.89, 6214.91, 5242.93, 2735.3], \"yaxis\": \"y\", \"type\": \"scatter\"}, {\"customdata\": [[\"RBC\"], [\"TD\"], [\"Scotiabank\"], [\"BMO\"], [\"CIBC\"], [\"Desjardins\"]], \"hoverlabel\": {\"namelength\": 0}, \"hovertemplate\": \"country=Canada<br>year=2019<br>rank=%{x}<br>value=%{marker.size}<br>name=%{customdata[0]}\", \"legendgroup\": \"country=Canada\", \"marker\": {\"color\": \"#636efa\", \"size\": [17398.95, 13987.61, 11263.7, 10132.13, 7933.95, 3771.49], \"sizemode\": \"area\", \"sizeref\": 199.5566, \"symbol\": \"circle\"}, \"mode\": \"markers\", \"name\": \"country=Canada\", \"showlegend\": true, \"x\": [\"13\", \"17\", \"25\", \"30\", \"38\", \"81\"], \"xaxis\": \"x\", \"y\": [17398.95, 13987.61, 11263.7, 10132.13, 7933.95, 3771.49], \"yaxis\": \"y\", \"type\": \"scatter\"}, {\"customdata\": [[\"KBC\"]], \"hoverlabel\": {\"namelength\": 0}, \"hovertemplate\": \"country=Belgium<br>year=2019<br>rank=%{x}<br>value=%{marker.size}<br>name=%{customdata[0]}\", \"legendgroup\": \"country=Belgium\", \"marker\": {\"color\": \"#EF553B\", \"size\": [4450.78], \"sizemode\": \"area\", \"sizeref\": 199.5566, \"symbol\": \"circle\"}, \"mode\": \"markers\", \"name\": \"country=Belgium\", \"showlegend\": true, \"x\": [\"65\"], \"xaxis\": \"x\", \"y\": [4450.78], \"yaxis\": \"y\", \"type\": \"scatter\"}, {\"customdata\": [[\"MUFG\"], [\"SMBC\"], [\"Mizuho Financial Group\"], [\"JP Bank\"]], \"hoverlabel\": {\"namelength\": 0}, \"hovertemplate\": \"country=Japan<br>year=2019<br>rank=%{x}<br>value=%{marker.size}<br>name=%{customdata[0]}\", \"legendgroup\": \"country=Japan\", \"marker\": {\"color\": \"#00cc96\", \"size\": [11320.46, 8782.09, 6101.79, 3684.26], \"sizemode\": \"area\", \"sizeref\": 199.5566, \"symbol\": \"circle\"}, \"mode\": \"markers\", \"name\": \"country=Japan\", \"showlegend\": true, \"x\": [\"24\", \"35\", \"51\", \"84\"], \"xaxis\": \"x\", \"y\": [11320.46, 8782.09, 6101.79, 3684.26], \"yaxis\": \"y\", \"type\": \"scatter\"}, {\"customdata\": [[\"Ita\\u00fa\"], [\"Bradesco\"], [\"Banco do Brasil\"], [\"Caixa\"]], \"hoverlabel\": {\"namelength\": 0}, \"hovertemplate\": \"country=Brazil<br>year=2019<br>rank=%{x}<br>value=%{marker.size}<br>name=%{customdata[0]}\", \"legendgroup\": \"country=Brazil\", \"marker\": {\"color\": \"#ab63fa\", \"size\": [6808.95, 6075.73, 4321.8, 4233.27], \"sizemode\": \"area\", \"sizeref\": 199.5566, \"symbol\": \"circle\"}, \"mode\": \"markers\", \"name\": \"country=Brazil\", \"showlegend\": true, \"x\": [\"45\", \"52\", \"69\", \"71\"], \"xaxis\": \"x\", \"y\": [6808.95, 6075.73, 4321.8, 4233.27], \"yaxis\": \"y\", \"type\": \"scatter\"}, {\"customdata\": [[\"Swedbank\"], [\"Svenska Handelsbanken\"]], \"hoverlabel\": {\"namelength\": 0}, \"hovertemplate\": \"country=Sweden<br>year=2019<br>rank=%{x}<br>value=%{marker.size}<br>name=%{customdata[0]}\", \"legendgroup\": \"country=Sweden\", \"marker\": {\"color\": \"#FFA15A\", \"size\": [3512.7, 3360.11], \"sizemode\": \"area\", \"sizeref\": 199.5566, \"symbol\": \"circle\"}, \"mode\": \"markers\", \"name\": \"country=Sweden\", \"showlegend\": true, \"x\": [\"87\", \"89\"], \"xaxis\": \"x\", \"y\": [3512.7, 3360.11], \"yaxis\": \"y\", \"type\": \"scatter\"}, {\"customdata\": [[\"Sberbank\"]], \"hoverlabel\": {\"namelength\": 0}, \"hovertemplate\": \"country=Russia<br>year=2019<br>rank=%{x}<br>value=%{marker.size}<br>name=%{customdata[0]}\", \"legendgroup\": \"country=Russia\", \"marker\": {\"color\": \"#19d3f3\", \"size\": [12362.9], \"sizemode\": \"area\", \"sizeref\": 199.5566, \"symbol\": \"circle\"}, \"mode\": \"markers\", \"name\": \"country=Russia\", \"showlegend\": true, \"x\": [\"20\"], \"xaxis\": \"x\", \"y\": [12362.9], \"yaxis\": \"y\", \"type\": \"scatter\"}, {\"customdata\": [[\"State Bank of India\"], [\"HDFC Bank\"], [\"ICICI Bank\"]], \"hoverlabel\": {\"namelength\": 0}, \"hovertemplate\": \"country=India<br>year=2019<br>rank=%{x}<br>value=%{marker.size}<br>name=%{customdata[0]}\", \"legendgroup\": \"country=India\", \"marker\": {\"color\": \"#FF6692\", \"size\": [5972.9, 4843.93, 3856.3], \"sizemode\": \"area\", \"sizeref\": 199.5566, \"symbol\": \"circle\"}, \"mode\": \"markers\", \"name\": \"country=India\", \"showlegend\": true, \"x\": [\"53\", \"62\", \"80\"], \"xaxis\": \"x\", \"y\": [5972.9, 4843.93, 3856.3], \"yaxis\": \"y\", \"type\": \"scatter\"}, {\"customdata\": [[\"Allied Irish Banks (AIB)\"]], \"hoverlabel\": {\"namelength\": 0}, \"hovertemplate\": \"country=Ireland<br>year=2019<br>rank=%{x}<br>value=%{marker.size}<br>name=%{customdata[0]}\", \"legendgroup\": \"country=Ireland\", \"marker\": {\"color\": \"#B6E880\", \"size\": [2693.34], \"sizemode\": \"area\", \"sizeref\": 199.5566, \"symbol\": \"circle\"}, \"mode\": \"markers\", \"name\": \"country=Ireland\", \"showlegend\": true, \"x\": [\"99\"], \"xaxis\": \"x\", \"y\": [2693.34], \"yaxis\": \"y\", \"type\": \"scatter\"}, {\"customdata\": [[\"Erste Group\"]], \"hoverlabel\": {\"namelength\": 0}, \"hovertemplate\": \"country=Austria<br>year=2019<br>rank=%{x}<br>value=%{marker.size}<br>name=%{customdata[0]}\", \"legendgroup\": \"country=Austria\", \"marker\": {\"color\": \"#FECB52\", \"size\": [2794.19], \"sizemode\": \"area\", \"sizeref\": 199.5566, \"symbol\": \"circle\"}, \"mode\": \"markers\", \"name\": \"country=Austria\", \"showlegend\": true, \"x\": [\"97\"], \"xaxis\": \"x\", \"y\": [2794.19], \"yaxis\": \"y\", \"type\": \"scatter\"}, {\"customdata\": [[\"Shinhan Financial Group\"], [\"KB Financial Group\"], [\"Hana Financial Group\"]], \"hoverlabel\": {\"namelength\": 0}, \"hovertemplate\": \"country=South Korea<br>year=2019<br>rank=%{x}<br>value=%{marker.size}<br>name=%{customdata[0]}\", \"legendgroup\": \"country=South Korea\", \"marker\": {\"color\": \"#ab63fa\", \"size\": [4333.2, 4189.21, 2956.4], \"sizemode\": \"area\", \"sizeref\": 199.5566, \"symbol\": \"circle\"}, \"mode\": \"markers\", \"name\": \"country=South Korea\", \"showlegend\": true, \"x\": [\"67\", \"73\", \"93\"], \"xaxis\": \"x\", \"y\": [4333.2, 4189.21, 2956.4], \"yaxis\": \"y\", \"type\": \"scatter\"}, {\"customdata\": [[\"Nordea\"], [\"Danske Bank\"]], \"hoverlabel\": {\"namelength\": 0}, \"hovertemplate\": \"country=Denmark<br>year=2019<br>rank=%{x}<br>value=%{marker.size}<br>name=%{customdata[0]}\", \"legendgroup\": \"country=Denmark\", \"marker\": {\"color\": \"#19d3f3\", \"size\": [5638.1, 2951.94], \"sizemode\": \"area\", \"sizeref\": 199.5566, \"symbol\": \"circle\"}, \"mode\": \"markers\", \"name\": \"country=Denmark\", \"showlegend\": true, \"x\": [\"57\", \"94\"], \"xaxis\": \"x\", \"y\": [5638.1, 2951.94], \"yaxis\": \"y\", \"type\": \"scatter\"}, {\"customdata\": [[\"DBS\"], [\"UOB\"], [\"OCBC Bank\"]], \"hoverlabel\": {\"namelength\": 0}, \"hovertemplate\": \"country=Singapore<br>year=2019<br>rank=%{x}<br>value=%{marker.size}<br>name=%{customdata[0]}\", \"legendgroup\": \"country=Singapore\", \"marker\": {\"color\": \"#FF6692\", \"size\": [9026.61, 5662.12, 5653.42], \"sizemode\": \"area\", \"sizeref\": 199.5566, \"symbol\": \"circle\"}, \"mode\": \"markers\", \"name\": \"country=Singapore\", \"showlegend\": true, \"x\": [\"34\", \"55\", \"56\"], \"xaxis\": \"x\", \"y\": [9026.61, 5662.12, 5653.42], \"yaxis\": \"y\", \"type\": \"scatter\"}, {\"customdata\": [[\"Hang Seng Bank\"]], \"hoverlabel\": {\"namelength\": 0}, \"hovertemplate\": \"country=China (Hong Kong)<br>year=2019<br>rank=%{x}<br>value=%{marker.size}<br>name=%{customdata[0]}\", \"legendgroup\": \"country=China (Hong Kong)\", \"marker\": {\"color\": \"#FF97FF\", \"size\": [3722.61], \"sizemode\": \"area\", \"sizeref\": 199.5566, \"symbol\": \"circle\"}, \"mode\": \"markers\", \"name\": \"country=China (Hong Kong)\", \"showlegend\": true, \"x\": [\"82\"], \"xaxis\": \"x\", \"y\": [3722.61], \"yaxis\": \"y\", \"type\": \"scatter\"}, {\"customdata\": [[\"DNB\"]], \"hoverlabel\": {\"namelength\": 0}, \"hovertemplate\": \"country=Norway<br>year=2019<br>rank=%{x}<br>value=%{marker.size}<br>name=%{customdata[0]}\", \"legendgroup\": \"country=Norway\", \"marker\": {\"color\": \"#636efa\", \"size\": [3280.71], \"sizemode\": \"area\", \"sizeref\": 199.5566, \"symbol\": \"circle\"}, \"mode\": \"markers\", \"name\": \"country=Norway\", \"showlegend\": true, \"x\": [\"91\"], \"xaxis\": \"x\", \"y\": [3280.71], \"yaxis\": \"y\", \"type\": \"scatter\"}, {\"customdata\": [[\"Maybank\"]], \"hoverlabel\": {\"namelength\": 0}, \"hovertemplate\": \"country=Malaysia<br>year=2019<br>rank=%{x}<br>value=%{marker.size}<br>name=%{customdata[0]}\", \"legendgroup\": \"country=Malaysia\", \"marker\": {\"color\": \"#00cc96\", \"size\": [4208.6], \"sizemode\": \"area\", \"sizeref\": 199.5566, \"symbol\": \"circle\"}, \"mode\": \"markers\", \"name\": \"country=Malaysia\", \"showlegend\": true, \"x\": [\"72\"], \"xaxis\": \"x\", \"y\": [4208.6], \"yaxis\": \"y\", \"type\": \"scatter\"}, {\"customdata\": [[\"QNB\"]], \"hoverlabel\": {\"namelength\": 0}, \"hovertemplate\": \"country=Qatar<br>year=2019<br>rank=%{x}<br>value=%{marker.size}<br>name=%{customdata[0]}\", \"legendgroup\": \"country=Qatar\", \"marker\": {\"color\": \"#FFA15A\", \"size\": [5042.02], \"sizemode\": \"area\", \"sizeref\": 199.5566, \"symbol\": \"circle\"}, \"mode\": \"markers\", \"name\": \"country=Qatar\", \"showlegend\": true, \"x\": [\"61\"], \"xaxis\": \"x\", \"y\": [5042.02], \"yaxis\": \"y\", \"type\": \"scatter\"}, {\"customdata\": [[\"Al-Rajhi Bank\"]], \"hoverlabel\": {\"namelength\": 0}, \"hovertemplate\": \"country=Saudi Arabia<br>year=2019<br>rank=%{x}<br>value=%{marker.size}<br>name=%{customdata[0]}\", \"legendgroup\": \"country=Saudi Arabia\", \"marker\": {\"color\": \"#19d3f3\", \"size\": [2918.47], \"sizemode\": \"area\", \"sizeref\": 199.5566, \"symbol\": \"circle\"}, \"mode\": \"markers\", \"name\": \"country=Saudi Arabia\", \"showlegend\": true, \"x\": [\"95\"], \"xaxis\": \"x\", \"y\": [2918.47], \"yaxis\": \"y\", \"type\": \"scatter\"}, {\"customdata\": [[\"Emirates NBD\"], [\"First Abu Dhabi Bank\"]], \"hoverlabel\": {\"namelength\": 0}, \"hovertemplate\": \"country=UAE<br>year=2019<br>rank=%{x}<br>value=%{marker.size}<br>name=%{customdata[0]}\", \"legendgroup\": \"country=UAE\", \"marker\": {\"color\": \"#FF6692\", \"size\": [4040.09, 3889.67], \"sizemode\": \"area\", \"sizeref\": 199.5566, \"symbol\": \"circle\"}, \"mode\": \"markers\", \"name\": \"country=UAE\", \"showlegend\": true, \"x\": [\"76\", \"79\"], \"xaxis\": \"x\", \"y\": [4040.09, 3889.67], \"yaxis\": \"y\", \"type\": \"scatter\"}, {\"customdata\": [[\"BRI\"], [\"BCA\"]], \"hoverlabel\": {\"namelength\": 0}, \"hovertemplate\": \"country=Indonesia<br>year=2019<br>rank=%{x}<br>value=%{marker.size}<br>name=%{customdata[0]}\", \"legendgroup\": \"country=Indonesia\", \"marker\": {\"color\": \"#B6E880\", \"size\": [3268.24, 2644.13], \"sizemode\": \"area\", \"sizeref\": 199.5566, \"symbol\": \"circle\"}, \"mode\": \"markers\", \"name\": \"country=Indonesia\", \"showlegend\": true, \"x\": [\"92\", \"100\"], \"xaxis\": \"x\", \"y\": [3268.24, 2644.13], \"yaxis\": \"y\", \"type\": \"scatter\"}], \"name\": \"2019\"}]);\n",
       "                        }).then(function(){\n",
       "                            \n",
       "var gd = document.getElementById('122b1b04-a471-493c-84df-7e5bdce804c9');\n",
       "var x = new MutationObserver(function (mutations, observer) {{\n",
       "        var display = window.getComputedStyle(gd).display;\n",
       "        if (!display || display === 'none') {{\n",
       "            console.log([gd, 'removed!']);\n",
       "            Plotly.purge(gd);\n",
       "            observer.disconnect();\n",
       "        }}\n",
       "}});\n",
       "\n",
       "// Listen for the removal of the full notebook cells\n",
       "var notebookContainer = gd.closest('#notebook-container');\n",
       "if (notebookContainer) {{\n",
       "    x.observe(notebookContainer, {childList: true});\n",
       "}}\n",
       "\n",
       "// Listen for the clearing of the current output cell\n",
       "var outputEl = gd.closest('.output');\n",
       "if (outputEl) {{\n",
       "    x.observe(outputEl, {childList: true});\n",
       "}}\n",
       "\n",
       "                        })\n",
       "                };\n",
       "                });\n",
       "            </script>\n",
       "        </div>"
      ]
     },
     "metadata": {},
     "output_type": "display_data"
    }
   ],
   "source": [
    "import plotly.express as px\n",
    "\n",
    "fig = px.scatter(df, x=\"rank\", y=\"value\", color='country', animation_frame=\"year\", \n",
    "                 range_y=[1111, 84444], size='value', hover_data=['name'],\n",
    "                 title='Top 100 Banks 2008 - 2019, [Values are in Millions, Size=value]')\n",
    "fig.show()"
   ]
  },
  {
   "cell_type": "code",
   "execution_count": null,
   "metadata": {},
   "outputs": [],
   "source": []
  }
 ],
 "metadata": {
  "kernelspec": {
   "display_name": "Python 3",
   "language": "python",
   "name": "python3"
  },
  "language_info": {
   "codemirror_mode": {
    "name": "ipython",
    "version": 3
   },
   "file_extension": ".py",
   "mimetype": "text/x-python",
   "name": "python",
   "nbconvert_exporter": "python",
   "pygments_lexer": "ipython3",
   "version": "3.7.5"
  }
 },
 "nbformat": 4,
 "nbformat_minor": 2
}
